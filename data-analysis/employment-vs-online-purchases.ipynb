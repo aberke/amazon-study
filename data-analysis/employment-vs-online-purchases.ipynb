{
 "cells": [
  {
   "cell_type": "markdown",
   "id": "439e8617",
   "metadata": {},
   "source": [
    "# Employment by category vs online purchases\n",
    "\n",
    "Looking at changes in local stores (establishments) vs online purchases, comparing business category (by NAICS code) and product category by states.\n",
    "\n",
    "\n",
    "Hypothesis: \n",
    "There is a negative correlation between change in online purchases for category X and change in employment at establishments of NAICS/category X.\n",
    "\n",
    "\n",
    "#### Categories of interest to study:\n",
    "Criteria for choosing:\n",
    "- Clear dilineation of categories with alignment between NAICS categories and Amazon categories\n",
    "- Reason to believe online and offline retail are substitutes\n",
    "\n",
    "Categories:\n",
    "\n",
    "- Books stores\n",
    "    - For 2018-2018: hypothesis validated (p<0.05)\n",
    "- Shoes stores\n",
    "    - For 2018-2018: hypothesis validated (p<0.05)\n",
    "\n",
    "No stat. significant result:\n",
    "- Pet supplies\n",
    "    - there is an overall increase in employment and we expect online and offline retail are complementary\n",
    "    \n",
    "- years 2019-2020 and 2020-2021\n",
    "    \n",
    "Not studying\n",
    "- Paint and wallpaper \n",
    "    - not enough online purchases (most paint purchases in our Amazon data for arts and crafts)\n",
    "- Electronics\n",
    "    - ideas for why this didn't work:\n",
    "    - no clear delineation of category -- included tens of subcategories\n",
    "    - overlaps with other NAICS codes -- office supplies, used electronics, toys and games (video game is a big category)\n",
    "    - while book stores and shoes stores clearly have products that people previously needed to buy in stores and can now buy online, there are more and more NEW types of electronics to buy and therefore there is not as clearly a transfer of where specific items are being purchased."
   ]
  },
  {
   "cell_type": "code",
   "execution_count": 1,
   "id": "fae18411",
   "metadata": {},
   "outputs": [],
   "source": [
    "from datetime import date, datetime\n",
    "import os\n",
    "\n",
    "from IPython.display import display\n",
    "import matplotlib.pyplot as plt\n",
    "import numpy as np\n",
    "import pandas as pd\n",
    "from scipy.stats import pearsonr, spearmanr\n",
    "\n",
    "# For Amazon data, make easier to access col names by defining here\n",
    "RESPONSE_ID = 'Survey ResponseID'\n",
    "DATE = 'Order Date'\n",
    "UNIT_PRICE = 'Purchase Price Per Unit'\n",
    "QUANTITY = 'Quantity'\n",
    "STATE = 'Shipping Address State'\n",
    "TITLE = 'Title'\n",
    "PRODUCT_CODE = 'ASIN/ISBN (Product Code)'\n",
    "CATEGORY = 'Category'\n",
    "\n",
    "# Additional / added columns\n",
    "YEAR = 'year'\n",
    "\n",
    "census_data_dir = '../data/census/'"
   ]
  },
  {
   "cell_type": "markdown",
   "id": "f1ae2cca",
   "metadata": {},
   "source": [
    "## Load in the states data\n",
    "For matching to Census data."
   ]
  },
  {
   "cell_type": "code",
   "execution_count": 2,
   "id": "6f54b2ff",
   "metadata": {},
   "outputs": [
    {
     "data": {
      "text/html": [
       "<div>\n",
       "<style scoped>\n",
       "    .dataframe tbody tr th:only-of-type {\n",
       "        vertical-align: middle;\n",
       "    }\n",
       "\n",
       "    .dataframe tbody tr th {\n",
       "        vertical-align: top;\n",
       "    }\n",
       "\n",
       "    .dataframe thead th {\n",
       "        text-align: right;\n",
       "    }\n",
       "</style>\n",
       "<table border=\"1\" class=\"dataframe\">\n",
       "  <thead>\n",
       "    <tr style=\"text-align: right;\">\n",
       "      <th></th>\n",
       "      <th>state</th>\n",
       "      <th>abbrev</th>\n",
       "      <th>code</th>\n",
       "    </tr>\n",
       "  </thead>\n",
       "  <tbody>\n",
       "    <tr>\n",
       "      <th>0</th>\n",
       "      <td>Alabama</td>\n",
       "      <td>Ala.</td>\n",
       "      <td>AL</td>\n",
       "    </tr>\n",
       "    <tr>\n",
       "      <th>1</th>\n",
       "      <td>Alaska</td>\n",
       "      <td>Alaska</td>\n",
       "      <td>AK</td>\n",
       "    </tr>\n",
       "    <tr>\n",
       "      <th>2</th>\n",
       "      <td>Arizona</td>\n",
       "      <td>Ariz.</td>\n",
       "      <td>AZ</td>\n",
       "    </tr>\n",
       "  </tbody>\n",
       "</table>\n",
       "</div>"
      ],
      "text/plain": [
       "     state  abbrev code\n",
       "0  Alabama    Ala.   AL\n",
       "1   Alaska  Alaska   AK\n",
       "2  Arizona   Ariz.   AZ"
      ]
     },
     "execution_count": 2,
     "metadata": {},
     "output_type": "execute_result"
    }
   ],
   "source": [
    "states_df = pd.read_csv(census_data_dir + 'state-abbreviations.csv')\n",
    "states_df.head(3)"
   ]
  },
  {
   "cell_type": "markdown",
   "id": "7498d243",
   "metadata": {},
   "source": [
    "## Census data\n",
    "\n",
    "Census data are from \n",
    "Statistics of U.S. Businesses (SUSB)\n",
    "https://www.census.gov/programs-surveys/susb/technical-documentation/methodology.html\n",
    "\n",
    "Data are downloaded from https://www.census.gov/programs-surveys/susb/data/tables.html\n",
    "\n",
    "I compiled data for each year, pulling out NAICS codes of interest, in spreadsheets: [link](https://drive.google.com/drive/folders/1GHoqLHU_E15pYApe1G4JAKNXd58J_0PJ?usp=sharing).\n",
    "\n",
    "I normalized employment changes by population changes by first pulling population data for each year from NST-EST2020 and EST2022. [Population data are here](https://docs.google.com/spreadsheets/d/1_YEiBzyt8BtOl8oPYZ51cZN3SpmBk9QIcerPq6OM0PY/edit?usp=sharing).\n",
    "I calculated employment/population for each year and then calculated percent change in employment.\n",
    "\n",
    "i.e. metric of interest is percent change in employment from 2018 to 2019:\n",
    "\n",
    "```\n",
    "= [(employment2019/population2019) - (employment2018/population2018)]/(employment2018/population2018)\n",
    "```\n"
   ]
  },
  {
   "cell_type": "code",
   "execution_count": 3,
   "id": "eeea769e",
   "metadata": {},
   "outputs": [],
   "source": [
    "def read_susb_data(fname):\n",
    "    df = pd.read_csv(census_data_dir + 'SUSB/' + fname)\n",
    "    # Drop United States total\n",
    "    df = df.drop(0)\n",
    "    df['state code'] = df['State Name'].map(states_df.set_index('state')['code'])\n",
    "    # Index and order by state code to match purchases data\n",
    "    df = df.set_index('state code').sort_index()\n",
    "    return df"
   ]
  },
  {
   "cell_type": "markdown",
   "id": "0cc048e3",
   "metadata": {},
   "source": [
    "#### Read in books census data"
   ]
  },
  {
   "cell_type": "code",
   "execution_count": 4,
   "id": "9cb36be4",
   "metadata": {},
   "outputs": [
    {
     "data": {
      "text/html": [
       "<div>\n",
       "<style scoped>\n",
       "    .dataframe tbody tr th:only-of-type {\n",
       "        vertical-align: middle;\n",
       "    }\n",
       "\n",
       "    .dataframe tbody tr th {\n",
       "        vertical-align: top;\n",
       "    }\n",
       "\n",
       "    .dataframe thead th {\n",
       "        text-align: right;\n",
       "    }\n",
       "</style>\n",
       "<table border=\"1\" class=\"dataframe\">\n",
       "  <thead>\n",
       "    <tr style=\"text-align: right;\">\n",
       "      <th></th>\n",
       "      <th>2018-2019 employment/population percent change</th>\n",
       "      <th>2019-2020 employment/population percent change</th>\n",
       "      <th>2020-2021 employment/population percent change</th>\n",
       "      <th>2018-2021 establishments percent change</th>\n",
       "      <th>2019-2021 establishments percent change</th>\n",
       "      <th>2018-2019 Establishments percent change</th>\n",
       "      <th>2019-2020 Establishments percent change</th>\n",
       "      <th>2018-2019 Employment percent change</th>\n",
       "      <th>2019-2020 Employment percent change</th>\n",
       "      <th>Enterprise size &lt;500 employees: 2018-2019 employment/population percent change</th>\n",
       "      <th>Enterprise size &lt;20 employees: 2018-2019 employment/population percent change</th>\n",
       "    </tr>\n",
       "    <tr>\n",
       "      <th>state code</th>\n",
       "      <th></th>\n",
       "      <th></th>\n",
       "      <th></th>\n",
       "      <th></th>\n",
       "      <th></th>\n",
       "      <th></th>\n",
       "      <th></th>\n",
       "      <th></th>\n",
       "      <th></th>\n",
       "      <th></th>\n",
       "      <th></th>\n",
       "    </tr>\n",
       "  </thead>\n",
       "  <tbody>\n",
       "    <tr>\n",
       "      <th>AK</th>\n",
       "      <td>-0.202443</td>\n",
       "      <td>0.154928</td>\n",
       "      <td>-0.201372</td>\n",
       "      <td>-0.111111</td>\n",
       "      <td>0.043478</td>\n",
       "      <td>-0.148148</td>\n",
       "      <td>0.173913</td>\n",
       "      <td>-0.258993</td>\n",
       "      <td>0.131250</td>\n",
       "      <td>-0.277525</td>\n",
       "      <td>-0.359442</td>\n",
       "    </tr>\n",
       "    <tr>\n",
       "      <th>AL</th>\n",
       "      <td>-0.146290</td>\n",
       "      <td>-0.005125</td>\n",
       "      <td>-0.168531</td>\n",
       "      <td>-0.196262</td>\n",
       "      <td>-0.188679</td>\n",
       "      <td>-0.009346</td>\n",
       "      <td>-0.113208</td>\n",
       "      <td>-0.167458</td>\n",
       "      <td>-0.002381</td>\n",
       "      <td>-0.135834</td>\n",
       "      <td>-0.187112</td>\n",
       "    </tr>\n",
       "    <tr>\n",
       "      <th>AR</th>\n",
       "      <td>-0.008676</td>\n",
       "      <td>-0.108764</td>\n",
       "      <td>-0.175886</td>\n",
       "      <td>-0.157303</td>\n",
       "      <td>-0.127907</td>\n",
       "      <td>-0.033708</td>\n",
       "      <td>-0.116279</td>\n",
       "      <td>-0.005806</td>\n",
       "      <td>-0.118506</td>\n",
       "      <td>0.015208</td>\n",
       "      <td>0.095383</td>\n",
       "    </tr>\n",
       "  </tbody>\n",
       "</table>\n",
       "</div>"
      ],
      "text/plain": [
       "            2018-2019 employment/population percent change   \n",
       "state code                                                   \n",
       "AK                                               -0.202443  \\\n",
       "AL                                               -0.146290   \n",
       "AR                                               -0.008676   \n",
       "\n",
       "            2019-2020 employment/population percent change   \n",
       "state code                                                   \n",
       "AK                                                0.154928  \\\n",
       "AL                                               -0.005125   \n",
       "AR                                               -0.108764   \n",
       "\n",
       "            2020-2021 employment/population percent change   \n",
       "state code                                                   \n",
       "AK                                               -0.201372  \\\n",
       "AL                                               -0.168531   \n",
       "AR                                               -0.175886   \n",
       "\n",
       "            2018-2021 establishments percent change   \n",
       "state code                                            \n",
       "AK                                        -0.111111  \\\n",
       "AL                                        -0.196262   \n",
       "AR                                        -0.157303   \n",
       "\n",
       "            2019-2021 establishments percent change   \n",
       "state code                                            \n",
       "AK                                         0.043478  \\\n",
       "AL                                        -0.188679   \n",
       "AR                                        -0.127907   \n",
       "\n",
       "            2018-2019 Establishments percent change   \n",
       "state code                                            \n",
       "AK                                        -0.148148  \\\n",
       "AL                                        -0.009346   \n",
       "AR                                        -0.033708   \n",
       "\n",
       "            2019-2020 Establishments percent change   \n",
       "state code                                            \n",
       "AK                                         0.173913  \\\n",
       "AL                                        -0.113208   \n",
       "AR                                        -0.116279   \n",
       "\n",
       "            2018-2019 Employment percent change   \n",
       "state code                                        \n",
       "AK                                    -0.258993  \\\n",
       "AL                                    -0.167458   \n",
       "AR                                    -0.005806   \n",
       "\n",
       "            2019-2020 Employment percent change   \n",
       "state code                                        \n",
       "AK                                     0.131250  \\\n",
       "AL                                    -0.002381   \n",
       "AR                                    -0.118506   \n",
       "\n",
       "            Enterprise size <500 employees: 2018-2019 employment/population percent change   \n",
       "state code                                                                                   \n",
       "AK                                                  -0.277525                               \\\n",
       "AL                                                  -0.135834                                \n",
       "AR                                                   0.015208                                \n",
       "\n",
       "            Enterprise size <20 employees: 2018-2019 employment/population percent change  \n",
       "state code                                                                                 \n",
       "AK                                                  -0.359442                              \n",
       "AL                                                  -0.187112                              \n",
       "AR                                                   0.095383                              "
      ]
     },
     "execution_count": 4,
     "metadata": {},
     "output_type": "execute_result"
    }
   ],
   "source": [
    "census_books_stores = read_susb_data('books-stores-aggregated.csv')[[\n",
    "    '2018-2019 employment/population percent change',\n",
    "    '2019-2020 employment/population percent change',\n",
    "    '2020-2021 employment/population percent change',\n",
    "    \n",
    "    '2018-2021 establishments percent change',\n",
    "    '2019-2021 establishments percent change',\n",
    "    \n",
    "    '2018-2019 Establishments percent change',\n",
    "    '2019-2020 Establishments percent change',\n",
    "    '2018-2019 Employment percent change',\n",
    "    '2019-2020 Employment percent change',\n",
    "    # Also have data specific to enterprise size\n",
    "    'Enterprise size <500 employees: 2018-2019 employment/population percent change',\n",
    "    'Enterprise size <20 employees: 2018-2019 employment/population percent change',\n",
    "]]\n",
    "census_books_stores.head(3)"
   ]
  },
  {
   "cell_type": "markdown",
   "id": "7f67a088",
   "metadata": {},
   "source": [
    "Pull out columns of interest and compare\n",
    "\n",
    "BEWARE the metrics you use!\n",
    "\n",
    "- metrics have low correlation if any\n",
    "- year to year changes negatively correlated\n",
    "- change in employment low positive correlation with change in establishments"
   ]
  },
  {
   "cell_type": "code",
   "execution_count": 5,
   "id": "398ca58b",
   "metadata": {},
   "outputs": [
    {
     "data": {
      "text/html": [
       "<div>\n",
       "<style scoped>\n",
       "    .dataframe tbody tr th:only-of-type {\n",
       "        vertical-align: middle;\n",
       "    }\n",
       "\n",
       "    .dataframe tbody tr th {\n",
       "        vertical-align: top;\n",
       "    }\n",
       "\n",
       "    .dataframe thead th {\n",
       "        text-align: right;\n",
       "    }\n",
       "</style>\n",
       "<table border=\"1\" class=\"dataframe\">\n",
       "  <thead>\n",
       "    <tr style=\"text-align: right;\">\n",
       "      <th></th>\n",
       "      <th>2018-2019 employment/population percent change</th>\n",
       "      <th>2019-2020 employment/population percent change</th>\n",
       "      <th>2020-2021 employment/population percent change</th>\n",
       "      <th>2018-2021 establishments percent change</th>\n",
       "      <th>2019-2021 establishments percent change</th>\n",
       "      <th>2018-2019 Establishments percent change</th>\n",
       "      <th>2019-2020 Establishments percent change</th>\n",
       "      <th>2018-2019 Employment percent change</th>\n",
       "      <th>2019-2020 Employment percent change</th>\n",
       "      <th>Enterprise size &lt;500 employees: 2018-2019 employment/population percent change</th>\n",
       "      <th>Enterprise size &lt;20 employees: 2018-2019 employment/population percent change</th>\n",
       "    </tr>\n",
       "  </thead>\n",
       "  <tbody>\n",
       "    <tr>\n",
       "      <th>2018-2019 employment/population percent change</th>\n",
       "      <td>1.000000</td>\n",
       "      <td>-0.041061</td>\n",
       "      <td>-0.000899</td>\n",
       "      <td>0.177990</td>\n",
       "      <td>0.066940</td>\n",
       "      <td>0.216737</td>\n",
       "      <td>-0.073798</td>\n",
       "      <td>0.992434</td>\n",
       "      <td>-0.057756</td>\n",
       "      <td>0.635306</td>\n",
       "      <td>0.334797</td>\n",
       "    </tr>\n",
       "    <tr>\n",
       "      <th>2019-2020 employment/population percent change</th>\n",
       "      <td>-0.041061</td>\n",
       "      <td>1.000000</td>\n",
       "      <td>-0.273885</td>\n",
       "      <td>0.139491</td>\n",
       "      <td>0.196106</td>\n",
       "      <td>-0.079443</td>\n",
       "      <td>0.225837</td>\n",
       "      <td>-0.077472</td>\n",
       "      <td>0.973918</td>\n",
       "      <td>-0.179528</td>\n",
       "      <td>-0.145611</td>\n",
       "    </tr>\n",
       "    <tr>\n",
       "      <th>2020-2021 employment/population percent change</th>\n",
       "      <td>-0.000899</td>\n",
       "      <td>-0.273885</td>\n",
       "      <td>1.000000</td>\n",
       "      <td>0.005089</td>\n",
       "      <td>0.105421</td>\n",
       "      <td>-0.184748</td>\n",
       "      <td>-0.099431</td>\n",
       "      <td>-0.003227</td>\n",
       "      <td>-0.281944</td>\n",
       "      <td>0.006714</td>\n",
       "      <td>0.154618</td>\n",
       "    </tr>\n",
       "    <tr>\n",
       "      <th>2018-2021 establishments percent change</th>\n",
       "      <td>0.177990</td>\n",
       "      <td>0.139491</td>\n",
       "      <td>0.005089</td>\n",
       "      <td>1.000000</td>\n",
       "      <td>0.861762</td>\n",
       "      <td>0.360912</td>\n",
       "      <td>0.552475</td>\n",
       "      <td>0.173148</td>\n",
       "      <td>0.145363</td>\n",
       "      <td>0.268970</td>\n",
       "      <td>0.052238</td>\n",
       "    </tr>\n",
       "    <tr>\n",
       "      <th>2019-2021 establishments percent change</th>\n",
       "      <td>0.066940</td>\n",
       "      <td>0.196106</td>\n",
       "      <td>0.105421</td>\n",
       "      <td>0.861762</td>\n",
       "      <td>1.000000</td>\n",
       "      <td>-0.159276</td>\n",
       "      <td>0.765012</td>\n",
       "      <td>0.038105</td>\n",
       "      <td>0.222741</td>\n",
       "      <td>0.044300</td>\n",
       "      <td>-0.139635</td>\n",
       "    </tr>\n",
       "    <tr>\n",
       "      <th>2018-2019 Establishments percent change</th>\n",
       "      <td>0.216737</td>\n",
       "      <td>-0.079443</td>\n",
       "      <td>-0.184748</td>\n",
       "      <td>0.360912</td>\n",
       "      <td>-0.159276</td>\n",
       "      <td>1.000000</td>\n",
       "      <td>-0.319861</td>\n",
       "      <td>0.260161</td>\n",
       "      <td>-0.117258</td>\n",
       "      <td>0.437304</td>\n",
       "      <td>0.348661</td>\n",
       "    </tr>\n",
       "    <tr>\n",
       "      <th>2019-2020 Establishments percent change</th>\n",
       "      <td>-0.073798</td>\n",
       "      <td>0.225837</td>\n",
       "      <td>-0.099431</td>\n",
       "      <td>0.552475</td>\n",
       "      <td>0.765012</td>\n",
       "      <td>-0.319861</td>\n",
       "      <td>1.000000</td>\n",
       "      <td>-0.123347</td>\n",
       "      <td>0.250796</td>\n",
       "      <td>-0.103250</td>\n",
       "      <td>-0.300708</td>\n",
       "    </tr>\n",
       "    <tr>\n",
       "      <th>2018-2019 Employment percent change</th>\n",
       "      <td>0.992434</td>\n",
       "      <td>-0.077472</td>\n",
       "      <td>-0.003227</td>\n",
       "      <td>0.173148</td>\n",
       "      <td>0.038105</td>\n",
       "      <td>0.260161</td>\n",
       "      <td>-0.123347</td>\n",
       "      <td>1.000000</td>\n",
       "      <td>-0.092615</td>\n",
       "      <td>0.661600</td>\n",
       "      <td>0.352816</td>\n",
       "    </tr>\n",
       "    <tr>\n",
       "      <th>2019-2020 Employment percent change</th>\n",
       "      <td>-0.057756</td>\n",
       "      <td>0.973918</td>\n",
       "      <td>-0.281944</td>\n",
       "      <td>0.145363</td>\n",
       "      <td>0.222741</td>\n",
       "      <td>-0.117258</td>\n",
       "      <td>0.250796</td>\n",
       "      <td>-0.092615</td>\n",
       "      <td>1.000000</td>\n",
       "      <td>-0.201326</td>\n",
       "      <td>-0.177107</td>\n",
       "    </tr>\n",
       "    <tr>\n",
       "      <th>Enterprise size &lt;500 employees: 2018-2019 employment/population percent change</th>\n",
       "      <td>0.635306</td>\n",
       "      <td>-0.179528</td>\n",
       "      <td>0.006714</td>\n",
       "      <td>0.268970</td>\n",
       "      <td>0.044300</td>\n",
       "      <td>0.437304</td>\n",
       "      <td>-0.103250</td>\n",
       "      <td>0.661600</td>\n",
       "      <td>-0.201326</td>\n",
       "      <td>1.000000</td>\n",
       "      <td>0.443595</td>\n",
       "    </tr>\n",
       "    <tr>\n",
       "      <th>Enterprise size &lt;20 employees: 2018-2019 employment/population percent change</th>\n",
       "      <td>0.334797</td>\n",
       "      <td>-0.145611</td>\n",
       "      <td>0.154618</td>\n",
       "      <td>0.052238</td>\n",
       "      <td>-0.139635</td>\n",
       "      <td>0.348661</td>\n",
       "      <td>-0.300708</td>\n",
       "      <td>0.352816</td>\n",
       "      <td>-0.177107</td>\n",
       "      <td>0.443595</td>\n",
       "      <td>1.000000</td>\n",
       "    </tr>\n",
       "  </tbody>\n",
       "</table>\n",
       "</div>"
      ],
      "text/plain": [
       "                                                    2018-2019 employment/population percent change   \n",
       "2018-2019 employment/population percent change                                            1.000000  \\\n",
       "2019-2020 employment/population percent change                                           -0.041061   \n",
       "2020-2021 employment/population percent change                                           -0.000899   \n",
       "2018-2021 establishments percent change                                                   0.177990   \n",
       "2019-2021 establishments percent change                                                   0.066940   \n",
       "2018-2019 Establishments percent change                                                   0.216737   \n",
       "2019-2020 Establishments percent change                                                  -0.073798   \n",
       "2018-2019 Employment percent change                                                       0.992434   \n",
       "2019-2020 Employment percent change                                                      -0.057756   \n",
       "Enterprise size <500 employees: 2018-2019 emplo...                                        0.635306   \n",
       "Enterprise size <20 employees: 2018-2019 employ...                                        0.334797   \n",
       "\n",
       "                                                    2019-2020 employment/population percent change   \n",
       "2018-2019 employment/population percent change                                           -0.041061  \\\n",
       "2019-2020 employment/population percent change                                            1.000000   \n",
       "2020-2021 employment/population percent change                                           -0.273885   \n",
       "2018-2021 establishments percent change                                                   0.139491   \n",
       "2019-2021 establishments percent change                                                   0.196106   \n",
       "2018-2019 Establishments percent change                                                  -0.079443   \n",
       "2019-2020 Establishments percent change                                                   0.225837   \n",
       "2018-2019 Employment percent change                                                      -0.077472   \n",
       "2019-2020 Employment percent change                                                       0.973918   \n",
       "Enterprise size <500 employees: 2018-2019 emplo...                                       -0.179528   \n",
       "Enterprise size <20 employees: 2018-2019 employ...                                       -0.145611   \n",
       "\n",
       "                                                    2020-2021 employment/population percent change   \n",
       "2018-2019 employment/population percent change                                           -0.000899  \\\n",
       "2019-2020 employment/population percent change                                           -0.273885   \n",
       "2020-2021 employment/population percent change                                            1.000000   \n",
       "2018-2021 establishments percent change                                                   0.005089   \n",
       "2019-2021 establishments percent change                                                   0.105421   \n",
       "2018-2019 Establishments percent change                                                  -0.184748   \n",
       "2019-2020 Establishments percent change                                                  -0.099431   \n",
       "2018-2019 Employment percent change                                                      -0.003227   \n",
       "2019-2020 Employment percent change                                                      -0.281944   \n",
       "Enterprise size <500 employees: 2018-2019 emplo...                                        0.006714   \n",
       "Enterprise size <20 employees: 2018-2019 employ...                                        0.154618   \n",
       "\n",
       "                                                    2018-2021 establishments percent change   \n",
       "2018-2019 employment/population percent change                                     0.177990  \\\n",
       "2019-2020 employment/population percent change                                     0.139491   \n",
       "2020-2021 employment/population percent change                                     0.005089   \n",
       "2018-2021 establishments percent change                                            1.000000   \n",
       "2019-2021 establishments percent change                                            0.861762   \n",
       "2018-2019 Establishments percent change                                            0.360912   \n",
       "2019-2020 Establishments percent change                                            0.552475   \n",
       "2018-2019 Employment percent change                                                0.173148   \n",
       "2019-2020 Employment percent change                                                0.145363   \n",
       "Enterprise size <500 employees: 2018-2019 emplo...                                 0.268970   \n",
       "Enterprise size <20 employees: 2018-2019 employ...                                 0.052238   \n",
       "\n",
       "                                                    2019-2021 establishments percent change   \n",
       "2018-2019 employment/population percent change                                     0.066940  \\\n",
       "2019-2020 employment/population percent change                                     0.196106   \n",
       "2020-2021 employment/population percent change                                     0.105421   \n",
       "2018-2021 establishments percent change                                            0.861762   \n",
       "2019-2021 establishments percent change                                            1.000000   \n",
       "2018-2019 Establishments percent change                                           -0.159276   \n",
       "2019-2020 Establishments percent change                                            0.765012   \n",
       "2018-2019 Employment percent change                                                0.038105   \n",
       "2019-2020 Employment percent change                                                0.222741   \n",
       "Enterprise size <500 employees: 2018-2019 emplo...                                 0.044300   \n",
       "Enterprise size <20 employees: 2018-2019 employ...                                -0.139635   \n",
       "\n",
       "                                                    2018-2019 Establishments percent change   \n",
       "2018-2019 employment/population percent change                                     0.216737  \\\n",
       "2019-2020 employment/population percent change                                    -0.079443   \n",
       "2020-2021 employment/population percent change                                    -0.184748   \n",
       "2018-2021 establishments percent change                                            0.360912   \n",
       "2019-2021 establishments percent change                                           -0.159276   \n",
       "2018-2019 Establishments percent change                                            1.000000   \n",
       "2019-2020 Establishments percent change                                           -0.319861   \n",
       "2018-2019 Employment percent change                                                0.260161   \n",
       "2019-2020 Employment percent change                                               -0.117258   \n",
       "Enterprise size <500 employees: 2018-2019 emplo...                                 0.437304   \n",
       "Enterprise size <20 employees: 2018-2019 employ...                                 0.348661   \n",
       "\n",
       "                                                    2019-2020 Establishments percent change   \n",
       "2018-2019 employment/population percent change                                    -0.073798  \\\n",
       "2019-2020 employment/population percent change                                     0.225837   \n",
       "2020-2021 employment/population percent change                                    -0.099431   \n",
       "2018-2021 establishments percent change                                            0.552475   \n",
       "2019-2021 establishments percent change                                            0.765012   \n",
       "2018-2019 Establishments percent change                                           -0.319861   \n",
       "2019-2020 Establishments percent change                                            1.000000   \n",
       "2018-2019 Employment percent change                                               -0.123347   \n",
       "2019-2020 Employment percent change                                                0.250796   \n",
       "Enterprise size <500 employees: 2018-2019 emplo...                                -0.103250   \n",
       "Enterprise size <20 employees: 2018-2019 employ...                                -0.300708   \n",
       "\n",
       "                                                    2018-2019 Employment percent change   \n",
       "2018-2019 employment/population percent change                                 0.992434  \\\n",
       "2019-2020 employment/population percent change                                -0.077472   \n",
       "2020-2021 employment/population percent change                                -0.003227   \n",
       "2018-2021 establishments percent change                                        0.173148   \n",
       "2019-2021 establishments percent change                                        0.038105   \n",
       "2018-2019 Establishments percent change                                        0.260161   \n",
       "2019-2020 Establishments percent change                                       -0.123347   \n",
       "2018-2019 Employment percent change                                            1.000000   \n",
       "2019-2020 Employment percent change                                           -0.092615   \n",
       "Enterprise size <500 employees: 2018-2019 emplo...                             0.661600   \n",
       "Enterprise size <20 employees: 2018-2019 employ...                             0.352816   \n",
       "\n",
       "                                                    2019-2020 Employment percent change   \n",
       "2018-2019 employment/population percent change                                -0.057756  \\\n",
       "2019-2020 employment/population percent change                                 0.973918   \n",
       "2020-2021 employment/population percent change                                -0.281944   \n",
       "2018-2021 establishments percent change                                        0.145363   \n",
       "2019-2021 establishments percent change                                        0.222741   \n",
       "2018-2019 Establishments percent change                                       -0.117258   \n",
       "2019-2020 Establishments percent change                                        0.250796   \n",
       "2018-2019 Employment percent change                                           -0.092615   \n",
       "2019-2020 Employment percent change                                            1.000000   \n",
       "Enterprise size <500 employees: 2018-2019 emplo...                            -0.201326   \n",
       "Enterprise size <20 employees: 2018-2019 employ...                            -0.177107   \n",
       "\n",
       "                                                    Enterprise size <500 employees: 2018-2019 employment/population percent change   \n",
       "2018-2019 employment/population percent change                                               0.635306                               \\\n",
       "2019-2020 employment/population percent change                                              -0.179528                                \n",
       "2020-2021 employment/population percent change                                               0.006714                                \n",
       "2018-2021 establishments percent change                                                      0.268970                                \n",
       "2019-2021 establishments percent change                                                      0.044300                                \n",
       "2018-2019 Establishments percent change                                                      0.437304                                \n",
       "2019-2020 Establishments percent change                                                     -0.103250                                \n",
       "2018-2019 Employment percent change                                                          0.661600                                \n",
       "2019-2020 Employment percent change                                                         -0.201326                                \n",
       "Enterprise size <500 employees: 2018-2019 emplo...                                           1.000000                                \n",
       "Enterprise size <20 employees: 2018-2019 employ...                                           0.443595                                \n",
       "\n",
       "                                                    Enterprise size <20 employees: 2018-2019 employment/population percent change  \n",
       "2018-2019 employment/population percent change                                               0.334797                              \n",
       "2019-2020 employment/population percent change                                              -0.145611                              \n",
       "2020-2021 employment/population percent change                                               0.154618                              \n",
       "2018-2021 establishments percent change                                                      0.052238                              \n",
       "2019-2021 establishments percent change                                                     -0.139635                              \n",
       "2018-2019 Establishments percent change                                                      0.348661                              \n",
       "2019-2020 Establishments percent change                                                     -0.300708                              \n",
       "2018-2019 Employment percent change                                                          0.352816                              \n",
       "2019-2020 Employment percent change                                                         -0.177107                              \n",
       "Enterprise size <500 employees: 2018-2019 emplo...                                           0.443595                              \n",
       "Enterprise size <20 employees: 2018-2019 employ...                                           1.000000                              "
      ]
     },
     "execution_count": 5,
     "metadata": {},
     "output_type": "execute_result"
    }
   ],
   "source": [
    "census_books_stores.corr()"
   ]
  },
  {
   "cell_type": "code",
   "execution_count": 6,
   "id": "8e0093ad",
   "metadata": {},
   "outputs": [
    {
     "data": {
      "text/plain": [
       "state code\n",
       "AK   -0.148148\n",
       "AL   -0.009346\n",
       "AR   -0.033708\n",
       "AZ   -0.008065\n",
       "CA    0.000000\n",
       "Name: 2018-2019 Establishments percent change, dtype: float64"
      ]
     },
     "execution_count": 6,
     "metadata": {},
     "output_type": "execute_result"
    }
   ],
   "source": [
    "# Pull out columns of interest -- maybe don't need this?\n",
    "# only used in experiment at the end of notebook\n",
    "census_books_est_pct_change_20182019 = census_books_stores['2018-2019 Establishments percent change']\n",
    "census_books_est_pct_change_20192020 = census_books_stores['2019-2020 Establishments percent change']\n",
    "census_books_emp_pct_change_20182019 = census_books_stores['2018-2019 employment/population percent change']\n",
    "census_books_emp_pct_change_20192020 = census_books_stores['2019-2020 employment/population percent change']\n",
    "census_books_emp_pct_change_20202021 = census_books_stores['2020-2021 employment/population percent change']\n",
    "\n",
    "census_books_lt_500_emp_pct_change_20182019 = census_books_stores['Enterprise size <500 employees: 2018-2019 employment/population percent change']\n",
    "census_books_lt_20_emp_pct_change_20182019 = census_books_stores['Enterprise size <20 employees: 2018-2019 employment/population percent change']\n",
    "\n",
    "census_books_est_pct_change_20182019.head()"
   ]
  },
  {
   "cell_type": "markdown",
   "id": "03d7a4a1",
   "metadata": {},
   "source": [
    "#### Read in shoe stores census data\n",
    "\n",
    "For shoe stores, employment and establishments data more correlated than for book stores.\n",
    "\n",
    "Negative correlations across years."
   ]
  },
  {
   "cell_type": "code",
   "execution_count": 7,
   "id": "ba14ce4d",
   "metadata": {},
   "outputs": [
    {
     "data": {
      "text/html": [
       "<div>\n",
       "<style scoped>\n",
       "    .dataframe tbody tr th:only-of-type {\n",
       "        vertical-align: middle;\n",
       "    }\n",
       "\n",
       "    .dataframe tbody tr th {\n",
       "        vertical-align: top;\n",
       "    }\n",
       "\n",
       "    .dataframe thead th {\n",
       "        text-align: right;\n",
       "    }\n",
       "</style>\n",
       "<table border=\"1\" class=\"dataframe\">\n",
       "  <thead>\n",
       "    <tr style=\"text-align: right;\">\n",
       "      <th></th>\n",
       "      <th>2018-2019 employment/population percent change</th>\n",
       "      <th>2019-2020 employment/population percent change</th>\n",
       "      <th>2020-2021 employment/population percent change</th>\n",
       "      <th>2018-2021 establishments percent change</th>\n",
       "      <th>2019-2021 establishments percent change</th>\n",
       "      <th>2018-2019 Establishments percent change</th>\n",
       "      <th>2019-2020 Establishments percent change</th>\n",
       "      <th>2018-2019 Employment percent change</th>\n",
       "      <th>2019-2020 Employment percent change</th>\n",
       "      <th>Enterprise size &lt;500 employees: 2018-2019 employment/population percent change</th>\n",
       "      <th>Enterprise size &lt;20 employees: 2018-2019 employment/population percent change</th>\n",
       "    </tr>\n",
       "    <tr>\n",
       "      <th>state code</th>\n",
       "      <th></th>\n",
       "      <th></th>\n",
       "      <th></th>\n",
       "      <th></th>\n",
       "      <th></th>\n",
       "      <th></th>\n",
       "      <th></th>\n",
       "      <th></th>\n",
       "      <th></th>\n",
       "      <th></th>\n",
       "      <th></th>\n",
       "    </tr>\n",
       "  </thead>\n",
       "  <tbody>\n",
       "    <tr>\n",
       "      <th>AK</th>\n",
       "      <td>0.057181</td>\n",
       "      <td>-0.128369</td>\n",
       "      <td>-0.130383</td>\n",
       "      <td>-0.228571</td>\n",
       "      <td>-0.250000</td>\n",
       "      <td>0.028571</td>\n",
       "      <td>-0.027778</td>\n",
       "      <td>0.050193</td>\n",
       "      <td>-0.151111</td>\n",
       "      <td>0.123875</td>\n",
       "      <td>0.127431</td>\n",
       "    </tr>\n",
       "    <tr>\n",
       "      <th>AL</th>\n",
       "      <td>0.054312</td>\n",
       "      <td>-0.109779</td>\n",
       "      <td>0.059620</td>\n",
       "      <td>-0.105405</td>\n",
       "      <td>-0.080556</td>\n",
       "      <td>-0.027027</td>\n",
       "      <td>-0.013889</td>\n",
       "      <td>0.054672</td>\n",
       "      <td>-0.120220</td>\n",
       "      <td>-0.062692</td>\n",
       "      <td>-0.089002</td>\n",
       "    </tr>\n",
       "    <tr>\n",
       "      <th>AR</th>\n",
       "      <td>0.060846</td>\n",
       "      <td>-0.111487</td>\n",
       "      <td>0.011674</td>\n",
       "      <td>-0.190955</td>\n",
       "      <td>-0.190955</td>\n",
       "      <td>0.000000</td>\n",
       "      <td>-0.025126</td>\n",
       "      <td>0.060109</td>\n",
       "      <td>-0.121935</td>\n",
       "      <td>-0.021734</td>\n",
       "      <td>-0.099859</td>\n",
       "    </tr>\n",
       "  </tbody>\n",
       "</table>\n",
       "</div>"
      ],
      "text/plain": [
       "            2018-2019 employment/population percent change   \n",
       "state code                                                   \n",
       "AK                                                0.057181  \\\n",
       "AL                                                0.054312   \n",
       "AR                                                0.060846   \n",
       "\n",
       "            2019-2020 employment/population percent change   \n",
       "state code                                                   \n",
       "AK                                               -0.128369  \\\n",
       "AL                                               -0.109779   \n",
       "AR                                               -0.111487   \n",
       "\n",
       "            2020-2021 employment/population percent change   \n",
       "state code                                                   \n",
       "AK                                               -0.130383  \\\n",
       "AL                                                0.059620   \n",
       "AR                                                0.011674   \n",
       "\n",
       "            2018-2021 establishments percent change   \n",
       "state code                                            \n",
       "AK                                        -0.228571  \\\n",
       "AL                                        -0.105405   \n",
       "AR                                        -0.190955   \n",
       "\n",
       "            2019-2021 establishments percent change   \n",
       "state code                                            \n",
       "AK                                        -0.250000  \\\n",
       "AL                                        -0.080556   \n",
       "AR                                        -0.190955   \n",
       "\n",
       "            2018-2019 Establishments percent change   \n",
       "state code                                            \n",
       "AK                                         0.028571  \\\n",
       "AL                                        -0.027027   \n",
       "AR                                         0.000000   \n",
       "\n",
       "            2019-2020 Establishments percent change   \n",
       "state code                                            \n",
       "AK                                        -0.027778  \\\n",
       "AL                                        -0.013889   \n",
       "AR                                        -0.025126   \n",
       "\n",
       "            2018-2019 Employment percent change   \n",
       "state code                                        \n",
       "AK                                     0.050193  \\\n",
       "AL                                     0.054672   \n",
       "AR                                     0.060109   \n",
       "\n",
       "            2019-2020 Employment percent change   \n",
       "state code                                        \n",
       "AK                                    -0.151111  \\\n",
       "AL                                    -0.120220   \n",
       "AR                                    -0.121935   \n",
       "\n",
       "            Enterprise size <500 employees: 2018-2019 employment/population percent change   \n",
       "state code                                                                                   \n",
       "AK                                                   0.123875                               \\\n",
       "AL                                                  -0.062692                                \n",
       "AR                                                  -0.021734                                \n",
       "\n",
       "            Enterprise size <20 employees: 2018-2019 employment/population percent change  \n",
       "state code                                                                                 \n",
       "AK                                                   0.127431                              \n",
       "AL                                                  -0.089002                              \n",
       "AR                                                  -0.099859                              "
      ]
     },
     "execution_count": 7,
     "metadata": {},
     "output_type": "execute_result"
    }
   ],
   "source": [
    "census_shoe_stores = read_susb_data('shoe-stores-aggregated.csv')[[\n",
    "    '2018-2019 employment/population percent change',\n",
    "    '2019-2020 employment/population percent change',\n",
    "    '2020-2021 employment/population percent change',\n",
    "    \n",
    "    '2018-2021 establishments percent change',\n",
    "    '2019-2021 establishments percent change',\n",
    "    \n",
    "    '2018-2019 Establishments percent change',\n",
    "    '2019-2020 Establishments percent change',\n",
    "    '2018-2019 Employment percent change',\n",
    "    '2019-2020 Employment percent change',\n",
    "    # Also have data specific to enterprise size\n",
    "    'Enterprise size <500 employees: 2018-2019 employment/population percent change',\n",
    "    'Enterprise size <20 employees: 2018-2019 employment/population percent change',\n",
    "]]\n",
    "census_shoe_stores.head(3)"
   ]
  },
  {
   "cell_type": "code",
   "execution_count": 8,
   "id": "1712a229",
   "metadata": {},
   "outputs": [
    {
     "data": {
      "text/html": [
       "<div>\n",
       "<style scoped>\n",
       "    .dataframe tbody tr th:only-of-type {\n",
       "        vertical-align: middle;\n",
       "    }\n",
       "\n",
       "    .dataframe tbody tr th {\n",
       "        vertical-align: top;\n",
       "    }\n",
       "\n",
       "    .dataframe thead th {\n",
       "        text-align: right;\n",
       "    }\n",
       "</style>\n",
       "<table border=\"1\" class=\"dataframe\">\n",
       "  <thead>\n",
       "    <tr style=\"text-align: right;\">\n",
       "      <th></th>\n",
       "      <th>2018-2019 employment/population percent change</th>\n",
       "      <th>2019-2020 employment/population percent change</th>\n",
       "      <th>2020-2021 employment/population percent change</th>\n",
       "      <th>2018-2021 establishments percent change</th>\n",
       "      <th>2019-2021 establishments percent change</th>\n",
       "      <th>2018-2019 Establishments percent change</th>\n",
       "      <th>2019-2020 Establishments percent change</th>\n",
       "      <th>2018-2019 Employment percent change</th>\n",
       "      <th>2019-2020 Employment percent change</th>\n",
       "      <th>Enterprise size &lt;500 employees: 2018-2019 employment/population percent change</th>\n",
       "      <th>Enterprise size &lt;20 employees: 2018-2019 employment/population percent change</th>\n",
       "    </tr>\n",
       "  </thead>\n",
       "  <tbody>\n",
       "    <tr>\n",
       "      <th>2018-2019 employment/population percent change</th>\n",
       "      <td>1.000000</td>\n",
       "      <td>-0.293430</td>\n",
       "      <td>0.160168</td>\n",
       "      <td>0.550531</td>\n",
       "      <td>0.252217</td>\n",
       "      <td>0.546644</td>\n",
       "      <td>-0.067856</td>\n",
       "      <td>0.987648</td>\n",
       "      <td>-0.337143</td>\n",
       "      <td>0.183909</td>\n",
       "      <td>0.147873</td>\n",
       "    </tr>\n",
       "    <tr>\n",
       "      <th>2019-2020 employment/population percent change</th>\n",
       "      <td>-0.293430</td>\n",
       "      <td>1.000000</td>\n",
       "      <td>-0.139665</td>\n",
       "      <td>0.297528</td>\n",
       "      <td>0.497071</td>\n",
       "      <td>-0.269233</td>\n",
       "      <td>0.286381</td>\n",
       "      <td>-0.270753</td>\n",
       "      <td>0.992687</td>\n",
       "      <td>0.027734</td>\n",
       "      <td>0.299174</td>\n",
       "    </tr>\n",
       "    <tr>\n",
       "      <th>2020-2021 employment/population percent change</th>\n",
       "      <td>0.160168</td>\n",
       "      <td>-0.139665</td>\n",
       "      <td>1.000000</td>\n",
       "      <td>0.327389</td>\n",
       "      <td>0.419842</td>\n",
       "      <td>-0.085007</td>\n",
       "      <td>0.001290</td>\n",
       "      <td>0.175978</td>\n",
       "      <td>-0.122611</td>\n",
       "      <td>-0.196071</td>\n",
       "      <td>-0.239499</td>\n",
       "    </tr>\n",
       "    <tr>\n",
       "      <th>2018-2021 establishments percent change</th>\n",
       "      <td>0.550531</td>\n",
       "      <td>0.297528</td>\n",
       "      <td>0.327389</td>\n",
       "      <td>1.000000</td>\n",
       "      <td>0.812580</td>\n",
       "      <td>0.433675</td>\n",
       "      <td>-0.125875</td>\n",
       "      <td>0.544929</td>\n",
       "      <td>0.283635</td>\n",
       "      <td>-0.051952</td>\n",
       "      <td>0.000213</td>\n",
       "    </tr>\n",
       "    <tr>\n",
       "      <th>2019-2021 establishments percent change</th>\n",
       "      <td>0.252217</td>\n",
       "      <td>0.497071</td>\n",
       "      <td>0.419842</td>\n",
       "      <td>0.812580</td>\n",
       "      <td>1.000000</td>\n",
       "      <td>-0.172179</td>\n",
       "      <td>0.169030</td>\n",
       "      <td>0.245703</td>\n",
       "      <td>0.488014</td>\n",
       "      <td>-0.082427</td>\n",
       "      <td>-0.012516</td>\n",
       "    </tr>\n",
       "    <tr>\n",
       "      <th>2018-2019 Establishments percent change</th>\n",
       "      <td>0.546644</td>\n",
       "      <td>-0.269233</td>\n",
       "      <td>-0.085007</td>\n",
       "      <td>0.433675</td>\n",
       "      <td>-0.172179</td>\n",
       "      <td>1.000000</td>\n",
       "      <td>-0.466332</td>\n",
       "      <td>0.548621</td>\n",
       "      <td>-0.279487</td>\n",
       "      <td>0.036012</td>\n",
       "      <td>0.025754</td>\n",
       "    </tr>\n",
       "    <tr>\n",
       "      <th>2019-2020 Establishments percent change</th>\n",
       "      <td>-0.067856</td>\n",
       "      <td>0.286381</td>\n",
       "      <td>0.001290</td>\n",
       "      <td>-0.125875</td>\n",
       "      <td>0.169030</td>\n",
       "      <td>-0.466332</td>\n",
       "      <td>1.000000</td>\n",
       "      <td>-0.041917</td>\n",
       "      <td>0.274604</td>\n",
       "      <td>0.042038</td>\n",
       "      <td>-0.024941</td>\n",
       "    </tr>\n",
       "    <tr>\n",
       "      <th>2018-2019 Employment percent change</th>\n",
       "      <td>0.987648</td>\n",
       "      <td>-0.270753</td>\n",
       "      <td>0.175978</td>\n",
       "      <td>0.544929</td>\n",
       "      <td>0.245703</td>\n",
       "      <td>0.548621</td>\n",
       "      <td>-0.041917</td>\n",
       "      <td>1.000000</td>\n",
       "      <td>-0.308751</td>\n",
       "      <td>0.140001</td>\n",
       "      <td>0.154044</td>\n",
       "    </tr>\n",
       "    <tr>\n",
       "      <th>2019-2020 Employment percent change</th>\n",
       "      <td>-0.337143</td>\n",
       "      <td>0.992687</td>\n",
       "      <td>-0.122611</td>\n",
       "      <td>0.283635</td>\n",
       "      <td>0.488014</td>\n",
       "      <td>-0.279487</td>\n",
       "      <td>0.274604</td>\n",
       "      <td>-0.308751</td>\n",
       "      <td>1.000000</td>\n",
       "      <td>0.006106</td>\n",
       "      <td>0.280784</td>\n",
       "    </tr>\n",
       "    <tr>\n",
       "      <th>Enterprise size &lt;500 employees: 2018-2019 employment/population percent change</th>\n",
       "      <td>0.183909</td>\n",
       "      <td>0.027734</td>\n",
       "      <td>-0.196071</td>\n",
       "      <td>-0.051952</td>\n",
       "      <td>-0.082427</td>\n",
       "      <td>0.036012</td>\n",
       "      <td>0.042038</td>\n",
       "      <td>0.140001</td>\n",
       "      <td>0.006106</td>\n",
       "      <td>1.000000</td>\n",
       "      <td>0.431340</td>\n",
       "    </tr>\n",
       "    <tr>\n",
       "      <th>Enterprise size &lt;20 employees: 2018-2019 employment/population percent change</th>\n",
       "      <td>0.147873</td>\n",
       "      <td>0.299174</td>\n",
       "      <td>-0.239499</td>\n",
       "      <td>0.000213</td>\n",
       "      <td>-0.012516</td>\n",
       "      <td>0.025754</td>\n",
       "      <td>-0.024941</td>\n",
       "      <td>0.154044</td>\n",
       "      <td>0.280784</td>\n",
       "      <td>0.431340</td>\n",
       "      <td>1.000000</td>\n",
       "    </tr>\n",
       "  </tbody>\n",
       "</table>\n",
       "</div>"
      ],
      "text/plain": [
       "                                                    2018-2019 employment/population percent change   \n",
       "2018-2019 employment/population percent change                                            1.000000  \\\n",
       "2019-2020 employment/population percent change                                           -0.293430   \n",
       "2020-2021 employment/population percent change                                            0.160168   \n",
       "2018-2021 establishments percent change                                                   0.550531   \n",
       "2019-2021 establishments percent change                                                   0.252217   \n",
       "2018-2019 Establishments percent change                                                   0.546644   \n",
       "2019-2020 Establishments percent change                                                  -0.067856   \n",
       "2018-2019 Employment percent change                                                       0.987648   \n",
       "2019-2020 Employment percent change                                                      -0.337143   \n",
       "Enterprise size <500 employees: 2018-2019 emplo...                                        0.183909   \n",
       "Enterprise size <20 employees: 2018-2019 employ...                                        0.147873   \n",
       "\n",
       "                                                    2019-2020 employment/population percent change   \n",
       "2018-2019 employment/population percent change                                           -0.293430  \\\n",
       "2019-2020 employment/population percent change                                            1.000000   \n",
       "2020-2021 employment/population percent change                                           -0.139665   \n",
       "2018-2021 establishments percent change                                                   0.297528   \n",
       "2019-2021 establishments percent change                                                   0.497071   \n",
       "2018-2019 Establishments percent change                                                  -0.269233   \n",
       "2019-2020 Establishments percent change                                                   0.286381   \n",
       "2018-2019 Employment percent change                                                      -0.270753   \n",
       "2019-2020 Employment percent change                                                       0.992687   \n",
       "Enterprise size <500 employees: 2018-2019 emplo...                                        0.027734   \n",
       "Enterprise size <20 employees: 2018-2019 employ...                                        0.299174   \n",
       "\n",
       "                                                    2020-2021 employment/population percent change   \n",
       "2018-2019 employment/population percent change                                            0.160168  \\\n",
       "2019-2020 employment/population percent change                                           -0.139665   \n",
       "2020-2021 employment/population percent change                                            1.000000   \n",
       "2018-2021 establishments percent change                                                   0.327389   \n",
       "2019-2021 establishments percent change                                                   0.419842   \n",
       "2018-2019 Establishments percent change                                                  -0.085007   \n",
       "2019-2020 Establishments percent change                                                   0.001290   \n",
       "2018-2019 Employment percent change                                                       0.175978   \n",
       "2019-2020 Employment percent change                                                      -0.122611   \n",
       "Enterprise size <500 employees: 2018-2019 emplo...                                       -0.196071   \n",
       "Enterprise size <20 employees: 2018-2019 employ...                                       -0.239499   \n",
       "\n",
       "                                                    2018-2021 establishments percent change   \n",
       "2018-2019 employment/population percent change                                     0.550531  \\\n",
       "2019-2020 employment/population percent change                                     0.297528   \n",
       "2020-2021 employment/population percent change                                     0.327389   \n",
       "2018-2021 establishments percent change                                            1.000000   \n",
       "2019-2021 establishments percent change                                            0.812580   \n",
       "2018-2019 Establishments percent change                                            0.433675   \n",
       "2019-2020 Establishments percent change                                           -0.125875   \n",
       "2018-2019 Employment percent change                                                0.544929   \n",
       "2019-2020 Employment percent change                                                0.283635   \n",
       "Enterprise size <500 employees: 2018-2019 emplo...                                -0.051952   \n",
       "Enterprise size <20 employees: 2018-2019 employ...                                 0.000213   \n",
       "\n",
       "                                                    2019-2021 establishments percent change   \n",
       "2018-2019 employment/population percent change                                     0.252217  \\\n",
       "2019-2020 employment/population percent change                                     0.497071   \n",
       "2020-2021 employment/population percent change                                     0.419842   \n",
       "2018-2021 establishments percent change                                            0.812580   \n",
       "2019-2021 establishments percent change                                            1.000000   \n",
       "2018-2019 Establishments percent change                                           -0.172179   \n",
       "2019-2020 Establishments percent change                                            0.169030   \n",
       "2018-2019 Employment percent change                                                0.245703   \n",
       "2019-2020 Employment percent change                                                0.488014   \n",
       "Enterprise size <500 employees: 2018-2019 emplo...                                -0.082427   \n",
       "Enterprise size <20 employees: 2018-2019 employ...                                -0.012516   \n",
       "\n",
       "                                                    2018-2019 Establishments percent change   \n",
       "2018-2019 employment/population percent change                                     0.546644  \\\n",
       "2019-2020 employment/population percent change                                    -0.269233   \n",
       "2020-2021 employment/population percent change                                    -0.085007   \n",
       "2018-2021 establishments percent change                                            0.433675   \n",
       "2019-2021 establishments percent change                                           -0.172179   \n",
       "2018-2019 Establishments percent change                                            1.000000   \n",
       "2019-2020 Establishments percent change                                           -0.466332   \n",
       "2018-2019 Employment percent change                                                0.548621   \n",
       "2019-2020 Employment percent change                                               -0.279487   \n",
       "Enterprise size <500 employees: 2018-2019 emplo...                                 0.036012   \n",
       "Enterprise size <20 employees: 2018-2019 employ...                                 0.025754   \n",
       "\n",
       "                                                    2019-2020 Establishments percent change   \n",
       "2018-2019 employment/population percent change                                    -0.067856  \\\n",
       "2019-2020 employment/population percent change                                     0.286381   \n",
       "2020-2021 employment/population percent change                                     0.001290   \n",
       "2018-2021 establishments percent change                                           -0.125875   \n",
       "2019-2021 establishments percent change                                            0.169030   \n",
       "2018-2019 Establishments percent change                                           -0.466332   \n",
       "2019-2020 Establishments percent change                                            1.000000   \n",
       "2018-2019 Employment percent change                                               -0.041917   \n",
       "2019-2020 Employment percent change                                                0.274604   \n",
       "Enterprise size <500 employees: 2018-2019 emplo...                                 0.042038   \n",
       "Enterprise size <20 employees: 2018-2019 employ...                                -0.024941   \n",
       "\n",
       "                                                    2018-2019 Employment percent change   \n",
       "2018-2019 employment/population percent change                                 0.987648  \\\n",
       "2019-2020 employment/population percent change                                -0.270753   \n",
       "2020-2021 employment/population percent change                                 0.175978   \n",
       "2018-2021 establishments percent change                                        0.544929   \n",
       "2019-2021 establishments percent change                                        0.245703   \n",
       "2018-2019 Establishments percent change                                        0.548621   \n",
       "2019-2020 Establishments percent change                                       -0.041917   \n",
       "2018-2019 Employment percent change                                            1.000000   \n",
       "2019-2020 Employment percent change                                           -0.308751   \n",
       "Enterprise size <500 employees: 2018-2019 emplo...                             0.140001   \n",
       "Enterprise size <20 employees: 2018-2019 employ...                             0.154044   \n",
       "\n",
       "                                                    2019-2020 Employment percent change   \n",
       "2018-2019 employment/population percent change                                -0.337143  \\\n",
       "2019-2020 employment/population percent change                                 0.992687   \n",
       "2020-2021 employment/population percent change                                -0.122611   \n",
       "2018-2021 establishments percent change                                        0.283635   \n",
       "2019-2021 establishments percent change                                        0.488014   \n",
       "2018-2019 Establishments percent change                                       -0.279487   \n",
       "2019-2020 Establishments percent change                                        0.274604   \n",
       "2018-2019 Employment percent change                                           -0.308751   \n",
       "2019-2020 Employment percent change                                            1.000000   \n",
       "Enterprise size <500 employees: 2018-2019 emplo...                             0.006106   \n",
       "Enterprise size <20 employees: 2018-2019 employ...                             0.280784   \n",
       "\n",
       "                                                    Enterprise size <500 employees: 2018-2019 employment/population percent change   \n",
       "2018-2019 employment/population percent change                                               0.183909                               \\\n",
       "2019-2020 employment/population percent change                                               0.027734                                \n",
       "2020-2021 employment/population percent change                                              -0.196071                                \n",
       "2018-2021 establishments percent change                                                     -0.051952                                \n",
       "2019-2021 establishments percent change                                                     -0.082427                                \n",
       "2018-2019 Establishments percent change                                                      0.036012                                \n",
       "2019-2020 Establishments percent change                                                      0.042038                                \n",
       "2018-2019 Employment percent change                                                          0.140001                                \n",
       "2019-2020 Employment percent change                                                          0.006106                                \n",
       "Enterprise size <500 employees: 2018-2019 emplo...                                           1.000000                                \n",
       "Enterprise size <20 employees: 2018-2019 employ...                                           0.431340                                \n",
       "\n",
       "                                                    Enterprise size <20 employees: 2018-2019 employment/population percent change  \n",
       "2018-2019 employment/population percent change                                               0.147873                              \n",
       "2019-2020 employment/population percent change                                               0.299174                              \n",
       "2020-2021 employment/population percent change                                              -0.239499                              \n",
       "2018-2021 establishments percent change                                                      0.000213                              \n",
       "2019-2021 establishments percent change                                                     -0.012516                              \n",
       "2018-2019 Establishments percent change                                                      0.025754                              \n",
       "2019-2020 Establishments percent change                                                     -0.024941                              \n",
       "2018-2019 Employment percent change                                                          0.154044                              \n",
       "2019-2020 Employment percent change                                                          0.280784                              \n",
       "Enterprise size <500 employees: 2018-2019 emplo...                                           0.431340                              \n",
       "Enterprise size <20 employees: 2018-2019 employ...                                           1.000000                              "
      ]
     },
     "execution_count": 8,
     "metadata": {},
     "output_type": "execute_result"
    }
   ],
   "source": [
    "census_shoe_stores.corr()"
   ]
  },
  {
   "cell_type": "code",
   "execution_count": 9,
   "id": "c3f3d866",
   "metadata": {},
   "outputs": [
    {
     "data": {
      "text/plain": [
       "state code\n",
       "AK    0.057181\n",
       "AL    0.054312\n",
       "AR    0.060846\n",
       "AZ   -0.159494\n",
       "CA   -0.092635\n",
       "Name: 2018-2019 employment/population percent change, dtype: float64"
      ]
     },
     "execution_count": 9,
     "metadata": {},
     "output_type": "execute_result"
    }
   ],
   "source": [
    "# Pull out columns of interest\n",
    "census_shoes_est_pct_change_20182019 = census_shoe_stores['2018-2019 Establishments percent change']\n",
    "census_shoes_est_pct_change_20192020 = census_shoe_stores['2019-2020 Establishments percent change']\n",
    "# census_shoes_emp_pct_change_20182019 = census_shoe_stores['2018-2019 Employment percent change']\n",
    "# census_shoes_emp_pct_change_20192020 = census_shoe_stores['2019-2020 Employment percent change']\n",
    "census_shoes_emp_pct_change_20182019 = census_shoe_stores['2018-2019 employment/population percent change']\n",
    "census_shoes_emp_pct_change_20192020 = census_shoe_stores['2019-2020 employment/population percent change']\n",
    "census_shoes_emp_pct_change_20202021 = census_shoe_stores['2019-2020 employment/population percent change']\n",
    "\n",
    "census_shoes_lt_500_emp_pct_change_20182019 = census_shoe_stores['Enterprise size <500 employees: 2018-2019 employment/population percent change']\n",
    "census_shoes_lt_20_emp_pct_change_20182019 = census_shoe_stores['Enterprise size <20 employees: 2018-2019 employment/population percent change']\n",
    "\n",
    "census_shoes_emp_pct_change_20182019.head()"
   ]
  },
  {
   "cell_type": "markdown",
   "id": "5ddcd9cb",
   "metadata": {},
   "source": [
    "#### Read in supermarkets and grocery stores census data\n"
   ]
  },
  {
   "cell_type": "code",
   "execution_count": 10,
   "id": "c1e29f32",
   "metadata": {},
   "outputs": [
    {
     "data": {
      "text/html": [
       "<div>\n",
       "<style scoped>\n",
       "    .dataframe tbody tr th:only-of-type {\n",
       "        vertical-align: middle;\n",
       "    }\n",
       "\n",
       "    .dataframe tbody tr th {\n",
       "        vertical-align: top;\n",
       "    }\n",
       "\n",
       "    .dataframe thead th {\n",
       "        text-align: right;\n",
       "    }\n",
       "</style>\n",
       "<table border=\"1\" class=\"dataframe\">\n",
       "  <thead>\n",
       "    <tr style=\"text-align: right;\">\n",
       "      <th></th>\n",
       "      <th>2018-2019 employment/population percent change</th>\n",
       "      <th>2018-2021 establishments percent change</th>\n",
       "      <th>2019-2021 establishments percent change</th>\n",
       "    </tr>\n",
       "    <tr>\n",
       "      <th>state code</th>\n",
       "      <th></th>\n",
       "      <th></th>\n",
       "      <th></th>\n",
       "    </tr>\n",
       "  </thead>\n",
       "  <tbody>\n",
       "    <tr>\n",
       "      <th>AK</th>\n",
       "      <td>-0.052587</td>\n",
       "      <td>-0.009346</td>\n",
       "      <td>-0.031963</td>\n",
       "    </tr>\n",
       "    <tr>\n",
       "      <th>AL</th>\n",
       "      <td>-0.007684</td>\n",
       "      <td>-0.002649</td>\n",
       "      <td>0.023098</td>\n",
       "    </tr>\n",
       "    <tr>\n",
       "      <th>AR</th>\n",
       "      <td>-0.023738</td>\n",
       "      <td>-0.034836</td>\n",
       "      <td>-0.012579</td>\n",
       "    </tr>\n",
       "  </tbody>\n",
       "</table>\n",
       "</div>"
      ],
      "text/plain": [
       "            2018-2019 employment/population percent change   \n",
       "state code                                                   \n",
       "AK                                               -0.052587  \\\n",
       "AL                                               -0.007684   \n",
       "AR                                               -0.023738   \n",
       "\n",
       "            2018-2021 establishments percent change   \n",
       "state code                                            \n",
       "AK                                        -0.009346  \\\n",
       "AL                                        -0.002649   \n",
       "AR                                        -0.034836   \n",
       "\n",
       "            2019-2021 establishments percent change  \n",
       "state code                                           \n",
       "AK                                        -0.031963  \n",
       "AL                                         0.023098  \n",
       "AR                                        -0.012579  "
      ]
     },
     "execution_count": 10,
     "metadata": {},
     "output_type": "execute_result"
    }
   ],
   "source": [
    "census_grocery_stores = read_susb_data('grocery-stores-aggregated.csv')[[\n",
    "    '2018-2019 employment/population percent change',\n",
    "    \n",
    "    '2018-2021 establishments percent change',\n",
    "    '2019-2021 establishments percent change',\n",
    "]]\n",
    "census_grocery_stores.head(3)"
   ]
  },
  {
   "cell_type": "code",
   "execution_count": 11,
   "id": "73719b28",
   "metadata": {},
   "outputs": [
    {
     "data": {
      "text/html": [
       "<div>\n",
       "<style scoped>\n",
       "    .dataframe tbody tr th:only-of-type {\n",
       "        vertical-align: middle;\n",
       "    }\n",
       "\n",
       "    .dataframe tbody tr th {\n",
       "        vertical-align: top;\n",
       "    }\n",
       "\n",
       "    .dataframe thead th {\n",
       "        text-align: right;\n",
       "    }\n",
       "</style>\n",
       "<table border=\"1\" class=\"dataframe\">\n",
       "  <thead>\n",
       "    <tr style=\"text-align: right;\">\n",
       "      <th></th>\n",
       "      <th>2018-2019 employment/population percent change</th>\n",
       "      <th>2018-2021 establishments percent change</th>\n",
       "      <th>2019-2021 establishments percent change</th>\n",
       "    </tr>\n",
       "  </thead>\n",
       "  <tbody>\n",
       "    <tr>\n",
       "      <th>2018-2019 employment/population percent change</th>\n",
       "      <td>1.000000</td>\n",
       "      <td>0.072037</td>\n",
       "      <td>-0.211996</td>\n",
       "    </tr>\n",
       "    <tr>\n",
       "      <th>2018-2021 establishments percent change</th>\n",
       "      <td>0.072037</td>\n",
       "      <td>1.000000</td>\n",
       "      <td>0.735599</td>\n",
       "    </tr>\n",
       "    <tr>\n",
       "      <th>2019-2021 establishments percent change</th>\n",
       "      <td>-0.211996</td>\n",
       "      <td>0.735599</td>\n",
       "      <td>1.000000</td>\n",
       "    </tr>\n",
       "  </tbody>\n",
       "</table>\n",
       "</div>"
      ],
      "text/plain": [
       "                                                2018-2019 employment/population percent change   \n",
       "2018-2019 employment/population percent change                                        1.000000  \\\n",
       "2018-2021 establishments percent change                                               0.072037   \n",
       "2019-2021 establishments percent change                                              -0.211996   \n",
       "\n",
       "                                                2018-2021 establishments percent change   \n",
       "2018-2019 employment/population percent change                                 0.072037  \\\n",
       "2018-2021 establishments percent change                                        1.000000   \n",
       "2019-2021 establishments percent change                                        0.735599   \n",
       "\n",
       "                                                2019-2021 establishments percent change  \n",
       "2018-2019 employment/population percent change                                -0.211996  \n",
       "2018-2021 establishments percent change                                        0.735599  \n",
       "2019-2021 establishments percent change                                        1.000000  "
      ]
     },
     "execution_count": 11,
     "metadata": {},
     "output_type": "execute_result"
    }
   ],
   "source": [
    "census_grocery_stores.corr()"
   ]
  },
  {
   "cell_type": "markdown",
   "id": "8811220f",
   "metadata": {},
   "source": [
    "#### Read in pharmacy and drug stores census data\n"
   ]
  },
  {
   "cell_type": "code",
   "execution_count": 12,
   "id": "0c315b87",
   "metadata": {},
   "outputs": [
    {
     "data": {
      "text/html": [
       "<div>\n",
       "<style scoped>\n",
       "    .dataframe tbody tr th:only-of-type {\n",
       "        vertical-align: middle;\n",
       "    }\n",
       "\n",
       "    .dataframe tbody tr th {\n",
       "        vertical-align: top;\n",
       "    }\n",
       "\n",
       "    .dataframe thead th {\n",
       "        text-align: right;\n",
       "    }\n",
       "</style>\n",
       "<table border=\"1\" class=\"dataframe\">\n",
       "  <thead>\n",
       "    <tr style=\"text-align: right;\">\n",
       "      <th></th>\n",
       "      <th>2018-2019 employment/population percent change</th>\n",
       "      <th>2018-2021 establishments percent change</th>\n",
       "      <th>2019-2021 establishments percent change</th>\n",
       "    </tr>\n",
       "    <tr>\n",
       "      <th>state code</th>\n",
       "      <th></th>\n",
       "      <th></th>\n",
       "      <th></th>\n",
       "    </tr>\n",
       "  </thead>\n",
       "  <tbody>\n",
       "    <tr>\n",
       "      <th>AK</th>\n",
       "      <td>-0.189933</td>\n",
       "      <td>-0.025000</td>\n",
       "      <td>-0.048780</td>\n",
       "    </tr>\n",
       "    <tr>\n",
       "      <th>AL</th>\n",
       "      <td>0.011334</td>\n",
       "      <td>-0.037261</td>\n",
       "      <td>-0.048756</td>\n",
       "    </tr>\n",
       "    <tr>\n",
       "      <th>AR</th>\n",
       "      <td>0.000399</td>\n",
       "      <td>-0.073077</td>\n",
       "      <td>-0.109057</td>\n",
       "    </tr>\n",
       "  </tbody>\n",
       "</table>\n",
       "</div>"
      ],
      "text/plain": [
       "            2018-2019 employment/population percent change   \n",
       "state code                                                   \n",
       "AK                                               -0.189933  \\\n",
       "AL                                                0.011334   \n",
       "AR                                                0.000399   \n",
       "\n",
       "            2018-2021 establishments percent change   \n",
       "state code                                            \n",
       "AK                                        -0.025000  \\\n",
       "AL                                        -0.037261   \n",
       "AR                                        -0.073077   \n",
       "\n",
       "            2019-2021 establishments percent change  \n",
       "state code                                           \n",
       "AK                                        -0.048780  \n",
       "AL                                        -0.048756  \n",
       "AR                                        -0.109057  "
      ]
     },
     "execution_count": 12,
     "metadata": {},
     "output_type": "execute_result"
    }
   ],
   "source": [
    "census_pharmacies = read_susb_data('pharmacies-aggregated.csv')[[\n",
    "    '2018-2019 employment/population percent change',\n",
    "    \n",
    "    '2018-2021 establishments percent change',\n",
    "    '2019-2021 establishments percent change',\n",
    "]]\n",
    "census_pharmacies.head(3)"
   ]
  },
  {
   "cell_type": "code",
   "execution_count": 13,
   "id": "ecc29ec1",
   "metadata": {},
   "outputs": [
    {
     "data": {
      "text/html": [
       "<div>\n",
       "<style scoped>\n",
       "    .dataframe tbody tr th:only-of-type {\n",
       "        vertical-align: middle;\n",
       "    }\n",
       "\n",
       "    .dataframe tbody tr th {\n",
       "        vertical-align: top;\n",
       "    }\n",
       "\n",
       "    .dataframe thead th {\n",
       "        text-align: right;\n",
       "    }\n",
       "</style>\n",
       "<table border=\"1\" class=\"dataframe\">\n",
       "  <thead>\n",
       "    <tr style=\"text-align: right;\">\n",
       "      <th></th>\n",
       "      <th>2018-2019 employment/population percent change</th>\n",
       "      <th>2018-2021 establishments percent change</th>\n",
       "      <th>2019-2021 establishments percent change</th>\n",
       "    </tr>\n",
       "  </thead>\n",
       "  <tbody>\n",
       "    <tr>\n",
       "      <th>2018-2019 employment/population percent change</th>\n",
       "      <td>1.000000</td>\n",
       "      <td>0.22946</td>\n",
       "      <td>0.033002</td>\n",
       "    </tr>\n",
       "    <tr>\n",
       "      <th>2018-2021 establishments percent change</th>\n",
       "      <td>0.229460</td>\n",
       "      <td>1.00000</td>\n",
       "      <td>0.868000</td>\n",
       "    </tr>\n",
       "    <tr>\n",
       "      <th>2019-2021 establishments percent change</th>\n",
       "      <td>0.033002</td>\n",
       "      <td>0.86800</td>\n",
       "      <td>1.000000</td>\n",
       "    </tr>\n",
       "  </tbody>\n",
       "</table>\n",
       "</div>"
      ],
      "text/plain": [
       "                                                2018-2019 employment/population percent change   \n",
       "2018-2019 employment/population percent change                                        1.000000  \\\n",
       "2018-2021 establishments percent change                                               0.229460   \n",
       "2019-2021 establishments percent change                                               0.033002   \n",
       "\n",
       "                                                2018-2021 establishments percent change   \n",
       "2018-2019 employment/population percent change                                  0.22946  \\\n",
       "2018-2021 establishments percent change                                         1.00000   \n",
       "2019-2021 establishments percent change                                         0.86800   \n",
       "\n",
       "                                                2019-2021 establishments percent change  \n",
       "2018-2019 employment/population percent change                                 0.033002  \n",
       "2018-2021 establishments percent change                                        0.868000  \n",
       "2019-2021 establishments percent change                                        1.000000  "
      ]
     },
     "execution_count": 13,
     "metadata": {},
     "output_type": "execute_result"
    }
   ],
   "source": [
    "census_pharmacies.corr()"
   ]
  },
  {
   "cell_type": "markdown",
   "id": "19a56e17",
   "metadata": {},
   "source": [
    "#### Read in pet and pet supplies stores census data\n"
   ]
  },
  {
   "cell_type": "code",
   "execution_count": 14,
   "id": "a5d71309",
   "metadata": {},
   "outputs": [
    {
     "data": {
      "text/html": [
       "<div>\n",
       "<style scoped>\n",
       "    .dataframe tbody tr th:only-of-type {\n",
       "        vertical-align: middle;\n",
       "    }\n",
       "\n",
       "    .dataframe tbody tr th {\n",
       "        vertical-align: top;\n",
       "    }\n",
       "\n",
       "    .dataframe thead th {\n",
       "        text-align: right;\n",
       "    }\n",
       "</style>\n",
       "<table border=\"1\" class=\"dataframe\">\n",
       "  <thead>\n",
       "    <tr style=\"text-align: right;\">\n",
       "      <th></th>\n",
       "      <th>2018-2019 employment/population percent change</th>\n",
       "      <th>2019-2020 employment/population percent change</th>\n",
       "      <th>2020-2021 employment/population percent change</th>\n",
       "    </tr>\n",
       "    <tr>\n",
       "      <th>state code</th>\n",
       "      <th></th>\n",
       "      <th></th>\n",
       "      <th></th>\n",
       "    </tr>\n",
       "  </thead>\n",
       "  <tbody>\n",
       "    <tr>\n",
       "      <th>AK</th>\n",
       "      <td>0.055611</td>\n",
       "      <td>0.013832</td>\n",
       "      <td>0.005170</td>\n",
       "    </tr>\n",
       "    <tr>\n",
       "      <th>AL</th>\n",
       "      <td>0.003745</td>\n",
       "      <td>0.049565</td>\n",
       "      <td>-0.105963</td>\n",
       "    </tr>\n",
       "    <tr>\n",
       "      <th>AR</th>\n",
       "      <td>0.040602</td>\n",
       "      <td>0.154151</td>\n",
       "      <td>-0.038923</td>\n",
       "    </tr>\n",
       "  </tbody>\n",
       "</table>\n",
       "</div>"
      ],
      "text/plain": [
       "            2018-2019 employment/population percent change   \n",
       "state code                                                   \n",
       "AK                                                0.055611  \\\n",
       "AL                                                0.003745   \n",
       "AR                                                0.040602   \n",
       "\n",
       "            2019-2020 employment/population percent change   \n",
       "state code                                                   \n",
       "AK                                                0.013832  \\\n",
       "AL                                                0.049565   \n",
       "AR                                                0.154151   \n",
       "\n",
       "            2020-2021 employment/population percent change  \n",
       "state code                                                  \n",
       "AK                                                0.005170  \n",
       "AL                                               -0.105963  \n",
       "AR                                               -0.038923  "
      ]
     },
     "execution_count": 14,
     "metadata": {},
     "output_type": "execute_result"
    }
   ],
   "source": [
    "census_pet_stores = read_susb_data('pet-stores-aggregated.csv')[[\n",
    "    '2018-2019 employment/population percent change',\n",
    "    '2019-2020 employment/population percent change',\n",
    "    '2020-2021 employment/population percent change',\n",
    "]]\n",
    "census_pet_stores.head(3)"
   ]
  },
  {
   "cell_type": "code",
   "execution_count": 15,
   "id": "69fdc2d6",
   "metadata": {},
   "outputs": [
    {
     "data": {
      "text/html": [
       "<div>\n",
       "<style scoped>\n",
       "    .dataframe tbody tr th:only-of-type {\n",
       "        vertical-align: middle;\n",
       "    }\n",
       "\n",
       "    .dataframe tbody tr th {\n",
       "        vertical-align: top;\n",
       "    }\n",
       "\n",
       "    .dataframe thead th {\n",
       "        text-align: right;\n",
       "    }\n",
       "</style>\n",
       "<table border=\"1\" class=\"dataframe\">\n",
       "  <thead>\n",
       "    <tr style=\"text-align: right;\">\n",
       "      <th></th>\n",
       "      <th>2018-2019 employment/population percent change</th>\n",
       "      <th>2019-2020 employment/population percent change</th>\n",
       "      <th>2020-2021 employment/population percent change</th>\n",
       "    </tr>\n",
       "  </thead>\n",
       "  <tbody>\n",
       "    <tr>\n",
       "      <th>2018-2019 employment/population percent change</th>\n",
       "      <td>1.000000</td>\n",
       "      <td>-0.048058</td>\n",
       "      <td>-0.020889</td>\n",
       "    </tr>\n",
       "    <tr>\n",
       "      <th>2019-2020 employment/population percent change</th>\n",
       "      <td>-0.048058</td>\n",
       "      <td>1.000000</td>\n",
       "      <td>0.158536</td>\n",
       "    </tr>\n",
       "    <tr>\n",
       "      <th>2020-2021 employment/population percent change</th>\n",
       "      <td>-0.020889</td>\n",
       "      <td>0.158536</td>\n",
       "      <td>1.000000</td>\n",
       "    </tr>\n",
       "  </tbody>\n",
       "</table>\n",
       "</div>"
      ],
      "text/plain": [
       "                                                2018-2019 employment/population percent change   \n",
       "2018-2019 employment/population percent change                                        1.000000  \\\n",
       "2019-2020 employment/population percent change                                       -0.048058   \n",
       "2020-2021 employment/population percent change                                       -0.020889   \n",
       "\n",
       "                                                2019-2020 employment/population percent change   \n",
       "2018-2019 employment/population percent change                                       -0.048058  \\\n",
       "2019-2020 employment/population percent change                                        1.000000   \n",
       "2020-2021 employment/population percent change                                        0.158536   \n",
       "\n",
       "                                                2020-2021 employment/population percent change  \n",
       "2018-2019 employment/population percent change                                       -0.020889  \n",
       "2019-2020 employment/population percent change                                        0.158536  \n",
       "2020-2021 employment/population percent change                                        1.000000  "
      ]
     },
     "execution_count": 15,
     "metadata": {},
     "output_type": "execute_result"
    }
   ],
   "source": [
    "census_pet_stores.corr()"
   ]
  },
  {
   "cell_type": "code",
   "execution_count": 16,
   "id": "b8794592",
   "metadata": {},
   "outputs": [
    {
     "data": {
      "text/plain": [
       "state code\n",
       "AK    0.055611\n",
       "AL    0.003745\n",
       "AR    0.040602\n",
       "AZ    0.008307\n",
       "CA    0.000853\n",
       "Name: 2018-2019 employment/population percent change, dtype: float64"
      ]
     },
     "execution_count": 16,
     "metadata": {},
     "output_type": "execute_result"
    }
   ],
   "source": [
    "# Pull out columns of interest\n",
    "census_pet_emp_pct_change_20182019 = census_pet_stores['2018-2019 employment/population percent change']\n",
    "census_pet_emp_pct_change_20192020 = census_pet_stores['2019-2020 employment/population percent change']\n",
    "census_pet_emp_pct_change_20202021 = census_pet_stores['2019-2020 employment/population percent change']\n",
    "\n",
    "census_pet_emp_pct_change_20182019.head()"
   ]
  },
  {
   "cell_type": "markdown",
   "id": "2db14a2a",
   "metadata": {},
   "source": [
    "#### Read in electronics stores census data\n",
    "\n",
    "For electronics stores, employment and establishments data less correlated than for shoe stores.\n",
    "\n",
    "Negative correlations across years."
   ]
  },
  {
   "cell_type": "code",
   "execution_count": 17,
   "id": "3a35ffe5",
   "metadata": {},
   "outputs": [
    {
     "data": {
      "text/html": [
       "<div>\n",
       "<style scoped>\n",
       "    .dataframe tbody tr th:only-of-type {\n",
       "        vertical-align: middle;\n",
       "    }\n",
       "\n",
       "    .dataframe tbody tr th {\n",
       "        vertical-align: top;\n",
       "    }\n",
       "\n",
       "    .dataframe thead th {\n",
       "        text-align: right;\n",
       "    }\n",
       "</style>\n",
       "<table border=\"1\" class=\"dataframe\">\n",
       "  <thead>\n",
       "    <tr style=\"text-align: right;\">\n",
       "      <th></th>\n",
       "      <th>2018-2019 Establishments percent change</th>\n",
       "      <th>2019-2020 Establishments percent change</th>\n",
       "      <th>2018-2019 Employment percent change</th>\n",
       "      <th>2019-2020 Employment percent change</th>\n",
       "      <th>2018-2019 employment/population percent change</th>\n",
       "      <th>2019-2020 employment/population percent change</th>\n",
       "    </tr>\n",
       "    <tr>\n",
       "      <th>state code</th>\n",
       "      <th></th>\n",
       "      <th></th>\n",
       "      <th></th>\n",
       "      <th></th>\n",
       "      <th></th>\n",
       "      <th></th>\n",
       "    </tr>\n",
       "  </thead>\n",
       "  <tbody>\n",
       "    <tr>\n",
       "      <th>AK</th>\n",
       "      <td>-0.085106</td>\n",
       "      <td>-0.139535</td>\n",
       "      <td>-0.045455</td>\n",
       "      <td>-0.097113</td>\n",
       "      <td>-0.039539</td>\n",
       "      <td>-0.085469</td>\n",
       "    </tr>\n",
       "    <tr>\n",
       "      <th>AL</th>\n",
       "      <td>-0.095455</td>\n",
       "      <td>-0.065327</td>\n",
       "      <td>-0.007194</td>\n",
       "      <td>-0.299780</td>\n",
       "      <td>-0.010448</td>\n",
       "      <td>-0.232760</td>\n",
       "    </tr>\n",
       "    <tr>\n",
       "      <th>AR</th>\n",
       "      <td>-0.041916</td>\n",
       "      <td>-0.043750</td>\n",
       "      <td>0.011223</td>\n",
       "      <td>-0.095084</td>\n",
       "      <td>0.008396</td>\n",
       "      <td>-0.089702</td>\n",
       "    </tr>\n",
       "  </tbody>\n",
       "</table>\n",
       "</div>"
      ],
      "text/plain": [
       "            2018-2019 Establishments percent change   \n",
       "state code                                            \n",
       "AK                                        -0.085106  \\\n",
       "AL                                        -0.095455   \n",
       "AR                                        -0.041916   \n",
       "\n",
       "            2019-2020 Establishments percent change   \n",
       "state code                                            \n",
       "AK                                        -0.139535  \\\n",
       "AL                                        -0.065327   \n",
       "AR                                        -0.043750   \n",
       "\n",
       "            2018-2019 Employment percent change   \n",
       "state code                                        \n",
       "AK                                    -0.045455  \\\n",
       "AL                                    -0.007194   \n",
       "AR                                     0.011223   \n",
       "\n",
       "            2019-2020 Employment percent change   \n",
       "state code                                        \n",
       "AK                                    -0.097113  \\\n",
       "AL                                    -0.299780   \n",
       "AR                                    -0.095084   \n",
       "\n",
       "            2018-2019 employment/population percent change   \n",
       "state code                                                   \n",
       "AK                                               -0.039539  \\\n",
       "AL                                               -0.010448   \n",
       "AR                                                0.008396   \n",
       "\n",
       "            2019-2020 employment/population percent change  \n",
       "state code                                                  \n",
       "AK                                               -0.085469  \n",
       "AL                                               -0.232760  \n",
       "AR                                               -0.089702  "
      ]
     },
     "execution_count": 17,
     "metadata": {},
     "output_type": "execute_result"
    }
   ],
   "source": [
    "census_electronics_stores = read_susb_data('electronics-stores-aggregated.csv')[[\n",
    "    '2018-2019 Establishments percent change',\n",
    "    '2019-2020 Establishments percent change',\n",
    "    '2018-2019 Employment percent change',\n",
    "    '2019-2020 Employment percent change',\n",
    "    '2018-2019 employment/population percent change',\n",
    "    '2019-2020 employment/population percent change',\n",
    "]]\n",
    "census_electronics_stores.head(3)"
   ]
  },
  {
   "cell_type": "code",
   "execution_count": 18,
   "id": "1cbcbcd4",
   "metadata": {},
   "outputs": [
    {
     "data": {
      "text/html": [
       "<div>\n",
       "<style scoped>\n",
       "    .dataframe tbody tr th:only-of-type {\n",
       "        vertical-align: middle;\n",
       "    }\n",
       "\n",
       "    .dataframe tbody tr th {\n",
       "        vertical-align: top;\n",
       "    }\n",
       "\n",
       "    .dataframe thead th {\n",
       "        text-align: right;\n",
       "    }\n",
       "</style>\n",
       "<table border=\"1\" class=\"dataframe\">\n",
       "  <thead>\n",
       "    <tr style=\"text-align: right;\">\n",
       "      <th></th>\n",
       "      <th>2018-2019 Establishments percent change</th>\n",
       "      <th>2019-2020 Establishments percent change</th>\n",
       "      <th>2018-2019 Employment percent change</th>\n",
       "      <th>2019-2020 Employment percent change</th>\n",
       "      <th>2018-2019 employment/population percent change</th>\n",
       "      <th>2019-2020 employment/population percent change</th>\n",
       "    </tr>\n",
       "  </thead>\n",
       "  <tbody>\n",
       "    <tr>\n",
       "      <th>2018-2019 Establishments percent change</th>\n",
       "      <td>1.000000</td>\n",
       "      <td>-0.088687</td>\n",
       "      <td>0.357728</td>\n",
       "      <td>0.066169</td>\n",
       "      <td>0.380209</td>\n",
       "      <td>0.091871</td>\n",
       "    </tr>\n",
       "    <tr>\n",
       "      <th>2019-2020 Establishments percent change</th>\n",
       "      <td>-0.088687</td>\n",
       "      <td>1.000000</td>\n",
       "      <td>-0.366091</td>\n",
       "      <td>0.400313</td>\n",
       "      <td>-0.378562</td>\n",
       "      <td>0.399242</td>\n",
       "    </tr>\n",
       "    <tr>\n",
       "      <th>2018-2019 Employment percent change</th>\n",
       "      <td>0.357728</td>\n",
       "      <td>-0.366091</td>\n",
       "      <td>1.000000</td>\n",
       "      <td>-0.498358</td>\n",
       "      <td>0.987918</td>\n",
       "      <td>-0.550651</td>\n",
       "    </tr>\n",
       "    <tr>\n",
       "      <th>2019-2020 Employment percent change</th>\n",
       "      <td>0.066169</td>\n",
       "      <td>0.400313</td>\n",
       "      <td>-0.498358</td>\n",
       "      <td>1.000000</td>\n",
       "      <td>-0.455147</td>\n",
       "      <td>0.973058</td>\n",
       "    </tr>\n",
       "    <tr>\n",
       "      <th>2018-2019 employment/population percent change</th>\n",
       "      <td>0.380209</td>\n",
       "      <td>-0.378562</td>\n",
       "      <td>0.987918</td>\n",
       "      <td>-0.455147</td>\n",
       "      <td>1.000000</td>\n",
       "      <td>-0.495460</td>\n",
       "    </tr>\n",
       "    <tr>\n",
       "      <th>2019-2020 employment/population percent change</th>\n",
       "      <td>0.091871</td>\n",
       "      <td>0.399242</td>\n",
       "      <td>-0.550651</td>\n",
       "      <td>0.973058</td>\n",
       "      <td>-0.495460</td>\n",
       "      <td>1.000000</td>\n",
       "    </tr>\n",
       "  </tbody>\n",
       "</table>\n",
       "</div>"
      ],
      "text/plain": [
       "                                                2018-2019 Establishments percent change   \n",
       "2018-2019 Establishments percent change                                        1.000000  \\\n",
       "2019-2020 Establishments percent change                                       -0.088687   \n",
       "2018-2019 Employment percent change                                            0.357728   \n",
       "2019-2020 Employment percent change                                            0.066169   \n",
       "2018-2019 employment/population percent change                                 0.380209   \n",
       "2019-2020 employment/population percent change                                 0.091871   \n",
       "\n",
       "                                                2019-2020 Establishments percent change   \n",
       "2018-2019 Establishments percent change                                       -0.088687  \\\n",
       "2019-2020 Establishments percent change                                        1.000000   \n",
       "2018-2019 Employment percent change                                           -0.366091   \n",
       "2019-2020 Employment percent change                                            0.400313   \n",
       "2018-2019 employment/population percent change                                -0.378562   \n",
       "2019-2020 employment/population percent change                                 0.399242   \n",
       "\n",
       "                                                2018-2019 Employment percent change   \n",
       "2018-2019 Establishments percent change                                    0.357728  \\\n",
       "2019-2020 Establishments percent change                                   -0.366091   \n",
       "2018-2019 Employment percent change                                        1.000000   \n",
       "2019-2020 Employment percent change                                       -0.498358   \n",
       "2018-2019 employment/population percent change                             0.987918   \n",
       "2019-2020 employment/population percent change                            -0.550651   \n",
       "\n",
       "                                                2019-2020 Employment percent change   \n",
       "2018-2019 Establishments percent change                                    0.066169  \\\n",
       "2019-2020 Establishments percent change                                    0.400313   \n",
       "2018-2019 Employment percent change                                       -0.498358   \n",
       "2019-2020 Employment percent change                                        1.000000   \n",
       "2018-2019 employment/population percent change                            -0.455147   \n",
       "2019-2020 employment/population percent change                             0.973058   \n",
       "\n",
       "                                                2018-2019 employment/population percent change   \n",
       "2018-2019 Establishments percent change                                               0.380209  \\\n",
       "2019-2020 Establishments percent change                                              -0.378562   \n",
       "2018-2019 Employment percent change                                                   0.987918   \n",
       "2019-2020 Employment percent change                                                  -0.455147   \n",
       "2018-2019 employment/population percent change                                        1.000000   \n",
       "2019-2020 employment/population percent change                                       -0.495460   \n",
       "\n",
       "                                                2019-2020 employment/population percent change  \n",
       "2018-2019 Establishments percent change                                               0.091871  \n",
       "2019-2020 Establishments percent change                                               0.399242  \n",
       "2018-2019 Employment percent change                                                  -0.550651  \n",
       "2019-2020 Employment percent change                                                   0.973058  \n",
       "2018-2019 employment/population percent change                                       -0.495460  \n",
       "2019-2020 employment/population percent change                                        1.000000  "
      ]
     },
     "execution_count": 18,
     "metadata": {},
     "output_type": "execute_result"
    }
   ],
   "source": [
    "census_electronics_stores.corr()"
   ]
  },
  {
   "cell_type": "code",
   "execution_count": 19,
   "id": "e8afa32c",
   "metadata": {},
   "outputs": [
    {
     "data": {
      "text/plain": [
       "state code\n",
       "AK   -0.039539\n",
       "AL   -0.010448\n",
       "AR    0.008396\n",
       "AZ   -0.081680\n",
       "CA   -0.076248\n",
       "Name: 2018-2019 employment/population percent change, dtype: float64"
      ]
     },
     "execution_count": 19,
     "metadata": {},
     "output_type": "execute_result"
    }
   ],
   "source": [
    "# Pull out columns of interest\n",
    "census_electronics_est_pct_change_20182019 = census_electronics_stores['2018-2019 Establishments percent change']\n",
    "census_electronics_est_pct_change_20192020 = census_electronics_stores['2019-2020 Establishments percent change']\n",
    "census_electronics_emp_pct_change_20182019 = census_electronics_stores['2018-2019 employment/population percent change']\n",
    "census_electronics_emp_pct_change_20192020 = census_electronics_stores['2019-2020 employment/population percent change']\n",
    "census_electronics_emp_pct_change_20182019.head()"
   ]
  },
  {
   "cell_type": "markdown",
   "id": "0a3394df",
   "metadata": {},
   "source": [
    "## Amazon purchases\n",
    "\n",
    "Restrict data to response ids that had purchases in 2018"
   ]
  },
  {
   "cell_type": "code",
   "execution_count": 20,
   "id": "f4508e66",
   "metadata": {},
   "outputs": [
    {
     "data": {
      "text/html": [
       "<div>\n",
       "<style scoped>\n",
       "    .dataframe tbody tr th:only-of-type {\n",
       "        vertical-align: middle;\n",
       "    }\n",
       "\n",
       "    .dataframe tbody tr th {\n",
       "        vertical-align: top;\n",
       "    }\n",
       "\n",
       "    .dataframe thead th {\n",
       "        text-align: right;\n",
       "    }\n",
       "</style>\n",
       "<table border=\"1\" class=\"dataframe\">\n",
       "  <thead>\n",
       "    <tr style=\"text-align: right;\">\n",
       "      <th></th>\n",
       "      <th>Order Date</th>\n",
       "      <th>Purchase Price Per Unit</th>\n",
       "      <th>Quantity</th>\n",
       "      <th>Shipping Address State</th>\n",
       "      <th>Title</th>\n",
       "      <th>ASIN/ISBN (Product Code)</th>\n",
       "      <th>Category</th>\n",
       "      <th>Survey ResponseID</th>\n",
       "      <th>year</th>\n",
       "    </tr>\n",
       "  </thead>\n",
       "  <tbody>\n",
       "    <tr>\n",
       "      <th>0</th>\n",
       "      <td>2018-12-04</td>\n",
       "      <td>7.98</td>\n",
       "      <td>1.0</td>\n",
       "      <td>NJ</td>\n",
       "      <td>SanDisk Ultra 16GB Class 10 SDHC UHS-I Memory ...</td>\n",
       "      <td>B0143RTB1E</td>\n",
       "      <td>FLASH_MEMORY</td>\n",
       "      <td>R_01vNIayewjIIKMF</td>\n",
       "      <td>2018</td>\n",
       "    </tr>\n",
       "    <tr>\n",
       "      <th>1</th>\n",
       "      <td>2018-12-22</td>\n",
       "      <td>13.99</td>\n",
       "      <td>1.0</td>\n",
       "      <td>NJ</td>\n",
       "      <td>Betron BS10 Earphones Wired Headphones in Ear ...</td>\n",
       "      <td>B01MA1MJ6H</td>\n",
       "      <td>HEADPHONES</td>\n",
       "      <td>R_01vNIayewjIIKMF</td>\n",
       "      <td>2018</td>\n",
       "    </tr>\n",
       "    <tr>\n",
       "      <th>2</th>\n",
       "      <td>2018-12-24</td>\n",
       "      <td>8.99</td>\n",
       "      <td>1.0</td>\n",
       "      <td>NJ</td>\n",
       "      <td>NaN</td>\n",
       "      <td>B078JZTFN3</td>\n",
       "      <td>NaN</td>\n",
       "      <td>R_01vNIayewjIIKMF</td>\n",
       "      <td>2018</td>\n",
       "    </tr>\n",
       "  </tbody>\n",
       "</table>\n",
       "</div>"
      ],
      "text/plain": [
       "   Order Date  Purchase Price Per Unit  Quantity Shipping Address State   \n",
       "0  2018-12-04                     7.98       1.0                     NJ  \\\n",
       "1  2018-12-22                    13.99       1.0                     NJ   \n",
       "2  2018-12-24                     8.99       1.0                     NJ   \n",
       "\n",
       "                                               Title ASIN/ISBN (Product Code)   \n",
       "0  SanDisk Ultra 16GB Class 10 SDHC UHS-I Memory ...               B0143RTB1E  \\\n",
       "1  Betron BS10 Earphones Wired Headphones in Ear ...               B01MA1MJ6H   \n",
       "2                                                NaN               B078JZTFN3   \n",
       "\n",
       "       Category  Survey ResponseID  year  \n",
       "0  FLASH_MEMORY  R_01vNIayewjIIKMF  2018  \n",
       "1    HEADPHONES  R_01vNIayewjIIKMF  2018  \n",
       "2           NaN  R_01vNIayewjIIKMF  2018  "
      ]
     },
     "execution_count": 20,
     "metadata": {},
     "output_type": "execute_result"
    }
   ],
   "source": [
    "amzn_data_fpath = '../data/amazon-data/amazon-data-cleaned.csv'\n",
    "amzn_data = pd.read_csv(amzn_data_fpath)\n",
    "# add year to data for convenience\n",
    "amzn_data[YEAR] = pd.to_datetime(amzn_data[DATE]).apply(lambda d: d.year)\n",
    "# peek at it:\n",
    "amzn_data.head(3)"
   ]
  },
  {
   "cell_type": "markdown",
   "id": "9cb2d4e6",
   "metadata": {},
   "source": [
    "## Sampling set up\n",
    "\n",
    "Set up for repeated random sampling.\n",
    "\n",
    "Since analysis is done comparing states, limit data to states with a sufficient number of response ids to sample from.\n"
   ]
  },
  {
   "cell_type": "code",
   "execution_count": 21,
   "id": "9ae8d6c7",
   "metadata": {},
   "outputs": [
    {
     "name": "stdout",
     "output_type": "stream",
     "text": [
      "Before dropping any data:\n",
      "N=5027 unique purchasers\n",
      "1850717 total purchases\n",
      "Dropping data for response ids do that do not have purchases in 2018\n",
      "N=4281 unique purchasers\n",
      "1745772 total purchases\n"
     ]
    }
   ],
   "source": [
    "# Restrict data to responseIds with purchases in 2018.\n",
    "print('Before dropping any data:')\n",
    "print('N=%s unique purchasers' % amzn_data[RESPONSE_ID].nunique())\n",
    "print('%s total purchases' % len(amzn_data))\n",
    "print('Dropping data for response ids do that do not have purchases in 2018')\n",
    "responseids_2018 = amzn_data[amzn_data[YEAR]==2018][RESPONSE_ID].unique()\n",
    "amzn_data_sample = amzn_data[amzn_data[RESPONSE_ID].isin(responseids_2018)]\n",
    "print('N=%s unique purchasers' % amzn_data_sample[RESPONSE_ID].nunique())\n",
    "print('%s total purchases' % len(amzn_data_sample))"
   ]
  },
  {
   "cell_type": "code",
   "execution_count": 22,
   "id": "4429b5af",
   "metadata": {},
   "outputs": [
    {
     "name": "stdout",
     "output_type": "stream",
     "text": [
      "Bottom number of response ids by state\n",
      "Shipping Address State\n",
      "PR    10\n",
      "ND    16\n",
      "WY    21\n",
      "AK    28\n",
      "MT    29\n",
      "SD    29\n",
      "VT    45\n",
      "DE    51\n",
      "Name: Survey ResponseID, dtype: int64\n",
      "\n",
      "Distribution of response ids by state\n",
      "count     52.000000\n",
      "mean     215.634615\n",
      "std      203.585799\n",
      "min       10.000000\n",
      "25%       67.750000\n",
      "50%      144.000000\n",
      "75%      281.000000\n",
      "max      920.000000\n",
      "Name: Survey ResponseID, dtype: float64\n"
     ]
    }
   ],
   "source": [
    "responseids_by_state = amzn_data.groupby(STATE)[RESPONSE_ID].nunique()\n",
    "print('Bottom number of response ids by state')\n",
    "print(responseids_by_state.sort_values().head(8))\n",
    "print('\\nDistribution of response ids by state')\n",
    "print(responseids_by_state.describe())"
   ]
  },
  {
   "cell_type": "code",
   "execution_count": 23,
   "id": "58cc1847",
   "metadata": {},
   "outputs": [
    {
     "name": "stdout",
     "output_type": "stream",
     "text": [
      "using n=50 as minimum number of response ids for each state\n",
      "45 states meet threshold of 50 response ids\n",
      "dropping 92969 purchases for the states that do not meet the threshold\n"
     ]
    }
   ],
   "source": [
    "state_min_n = 50\n",
    "print('using n=%s as minimum number of response ids for each state' % state_min_n)\n",
    "sample_states = responseids_by_state[responseids_by_state >= state_min_n].index\n",
    "print('%s states meet threshold of %s response ids' % (len(sample_states), state_min_n))\n",
    "print('dropping %s purchases for the states that do not meet the threshold' % (\n",
    "    len(amzn_data_sample) - len(amzn_data_sample[amzn_data_sample[STATE].isin(sample_states)])))"
   ]
  },
  {
   "cell_type": "code",
   "execution_count": 24,
   "id": "d8a5d50a",
   "metadata": {},
   "outputs": [
    {
     "name": "stdout",
     "output_type": "stream",
     "text": [
      "N=4211 unique purchasers\n",
      "1652803 total purchases\n"
     ]
    }
   ],
   "source": [
    "amzn_data_sample = amzn_data_sample[amzn_data_sample[STATE].isin(sample_states)]\n",
    "print('N=%s unique purchasers' % amzn_data_sample[RESPONSE_ID].nunique())\n",
    "print('%s total purchases' % len(amzn_data_sample))"
   ]
  },
  {
   "cell_type": "code",
   "execution_count": 25,
   "id": "0ff21d71",
   "metadata": {},
   "outputs": [
    {
     "name": "stdout",
     "output_type": "stream",
     "text": [
      "Distribution of purchases per response id\n"
     ]
    },
    {
     "data": {
      "text/html": [
       "<div>\n",
       "<style scoped>\n",
       "    .dataframe tbody tr th:only-of-type {\n",
       "        vertical-align: middle;\n",
       "    }\n",
       "\n",
       "    .dataframe tbody tr th {\n",
       "        vertical-align: top;\n",
       "    }\n",
       "\n",
       "    .dataframe thead th {\n",
       "        text-align: right;\n",
       "    }\n",
       "</style>\n",
       "<table border=\"1\" class=\"dataframe\">\n",
       "  <thead>\n",
       "    <tr style=\"text-align: right;\">\n",
       "      <th></th>\n",
       "      <th>sum</th>\n",
       "      <th>count</th>\n",
       "    </tr>\n",
       "  </thead>\n",
       "  <tbody>\n",
       "    <tr>\n",
       "      <th>count</th>\n",
       "      <td>4211.000000</td>\n",
       "      <td>4211.000000</td>\n",
       "    </tr>\n",
       "    <tr>\n",
       "      <th>mean</th>\n",
       "      <td>427.691285</td>\n",
       "      <td>392.496557</td>\n",
       "    </tr>\n",
       "    <tr>\n",
       "      <th>std</th>\n",
       "      <td>485.553254</td>\n",
       "      <td>435.463559</td>\n",
       "    </tr>\n",
       "    <tr>\n",
       "      <th>min</th>\n",
       "      <td>1.000000</td>\n",
       "      <td>1.000000</td>\n",
       "    </tr>\n",
       "    <tr>\n",
       "      <th>25%</th>\n",
       "      <td>114.500000</td>\n",
       "      <td>108.000000</td>\n",
       "    </tr>\n",
       "    <tr>\n",
       "      <th>50%</th>\n",
       "      <td>276.000000</td>\n",
       "      <td>256.000000</td>\n",
       "    </tr>\n",
       "    <tr>\n",
       "      <th>75%</th>\n",
       "      <td>562.500000</td>\n",
       "      <td>517.500000</td>\n",
       "    </tr>\n",
       "    <tr>\n",
       "      <th>max</th>\n",
       "      <td>5839.000000</td>\n",
       "      <td>5413.000000</td>\n",
       "    </tr>\n",
       "  </tbody>\n",
       "</table>\n",
       "</div>"
      ],
      "text/plain": [
       "               sum        count\n",
       "count  4211.000000  4211.000000\n",
       "mean    427.691285   392.496557\n",
       "std     485.553254   435.463559\n",
       "min       1.000000     1.000000\n",
       "25%     114.500000   108.000000\n",
       "50%     276.000000   256.000000\n",
       "75%     562.500000   517.500000\n",
       "max    5839.000000  5413.000000"
      ]
     },
     "execution_count": 25,
     "metadata": {},
     "output_type": "execute_result"
    }
   ],
   "source": [
    "purchases_by_responseid = amzn_data_sample.groupby([RESPONSE_ID])[QUANTITY].agg(['sum','count'])\n",
    "print('Distribution of purchases per response id')\n",
    "purchases_by_responseid.describe()"
   ]
  },
  {
   "cell_type": "markdown",
   "id": "5e347998",
   "metadata": {},
   "source": [
    "### Robust sample\n",
    "\n",
    "As a robustness check?\n",
    "\n",
    "Further limit sample to participants who have consistent shipping address states in 2018 and 2019."
   ]
  },
  {
   "cell_type": "code",
   "execution_count": 26,
   "id": "fff1b66c",
   "metadata": {},
   "outputs": [
    {
     "name": "stdout",
     "output_type": "stream",
     "text": [
      "1162 respondents have multiple shipping address states in 2018\n"
     ]
    }
   ],
   "source": [
    "# how many people had multiple shipping address states in 2018?\n",
    "r_states2018 = amzn_data_sample[\n",
    "    amzn_data_sample[YEAR]==2018\n",
    "].groupby(RESPONSE_ID)[STATE].nunique().sort_values(ascending=False)\n",
    "print('%s respondents have multiple shipping address states in 2018'%len(r_states2018[r_states2018>1]))"
   ]
  },
  {
   "cell_type": "code",
   "execution_count": 27,
   "id": "911b1762",
   "metadata": {},
   "outputs": [
    {
     "data": {
      "text/html": [
       "<div>\n",
       "<style scoped>\n",
       "    .dataframe tbody tr th:only-of-type {\n",
       "        vertical-align: middle;\n",
       "    }\n",
       "\n",
       "    .dataframe tbody tr th {\n",
       "        vertical-align: top;\n",
       "    }\n",
       "\n",
       "    .dataframe thead th {\n",
       "        text-align: right;\n",
       "    }\n",
       "</style>\n",
       "<table border=\"1\" class=\"dataframe\">\n",
       "  <thead>\n",
       "    <tr style=\"text-align: right;\">\n",
       "      <th></th>\n",
       "      <th>2018</th>\n",
       "      <th>2019</th>\n",
       "      <th>2020</th>\n",
       "      <th>2021</th>\n",
       "    </tr>\n",
       "    <tr>\n",
       "      <th>Survey ResponseID</th>\n",
       "      <th></th>\n",
       "      <th></th>\n",
       "      <th></th>\n",
       "      <th></th>\n",
       "    </tr>\n",
       "  </thead>\n",
       "  <tbody>\n",
       "    <tr>\n",
       "      <th>R_01vNIayewjIIKMF</th>\n",
       "      <td>NJ</td>\n",
       "      <td>NJ</td>\n",
       "      <td>NJ</td>\n",
       "      <td>NJ</td>\n",
       "    </tr>\n",
       "    <tr>\n",
       "      <th>R_037XK72IZBJyF69</th>\n",
       "      <td>PA</td>\n",
       "      <td>PA</td>\n",
       "      <td>PA</td>\n",
       "      <td>PA</td>\n",
       "    </tr>\n",
       "    <tr>\n",
       "      <th>R_038ZU6kfQ5f89fH</th>\n",
       "      <td>NaN</td>\n",
       "      <td>CA</td>\n",
       "      <td>CA</td>\n",
       "      <td>CA</td>\n",
       "    </tr>\n",
       "    <tr>\n",
       "      <th>R_03aEbghUILs9NxD</th>\n",
       "      <td>VA</td>\n",
       "      <td>VA</td>\n",
       "      <td>VA</td>\n",
       "      <td>VA</td>\n",
       "    </tr>\n",
       "    <tr>\n",
       "      <th>R_06RZP9pS7kONINr</th>\n",
       "      <td>NaN</td>\n",
       "      <td>MN</td>\n",
       "      <td>MN</td>\n",
       "      <td>NE</td>\n",
       "    </tr>\n",
       "  </tbody>\n",
       "</table>\n",
       "</div>"
      ],
      "text/plain": [
       "                  2018 2019 2020 2021\n",
       "Survey ResponseID                    \n",
       "R_01vNIayewjIIKMF   NJ   NJ   NJ   NJ\n",
       "R_037XK72IZBJyF69   PA   PA   PA   PA\n",
       "R_038ZU6kfQ5f89fH  NaN   CA   CA   CA\n",
       "R_03aEbghUILs9NxD   VA   VA   VA   VA\n",
       "R_06RZP9pS7kONINr  NaN   MN   MN   NE"
      ]
     },
     "execution_count": 27,
     "metadata": {},
     "output_type": "execute_result"
    }
   ],
   "source": [
    "# find people who have different primary shipping addresses for 2018 vs 2019\n",
    "# make a series for each participant\n",
    "# find where there is a difference\n",
    "\n",
    "def get_most_frequent_state(df, year):\n",
    "    return (df[df[YEAR]==year]\n",
    "            .groupby(RESPONSE_ID)[STATE]\n",
    "            .apply(list).apply(lambda states: pd.Series(states).mode())[0])\n",
    "\n",
    "r_state = pd.DataFrame(\n",
    "    {yr: get_most_frequent_state(amzn_data_sample, yr) for yr in [2018,2019,2020,2021]}\n",
    ")\n",
    "r_state.head()"
   ]
  },
  {
   "cell_type": "code",
   "execution_count": 28,
   "id": "078357d4",
   "metadata": {},
   "outputs": [
    {
     "name": "stdout",
     "output_type": "stream",
     "text": [
      "457 respondents change primary states 2018 to 2019\n",
      "3751 respondents do not change primary states 2018 to 2019\n"
     ]
    }
   ],
   "source": [
    "# How many people have states change 2018 to 2019?\n",
    "print('%s respondents change primary states 2018 to 2019' %\n",
    "      len(r_state[r_state[2018]!=r_state[2019]]))\n",
    "\n",
    "# get the rids that don't change states\n",
    "robust_rids_20182019 = r_state[r_state[2018]==r_state[2019]].index.tolist()\n",
    "print('%s respondents do not change primary states 2018 to 2019' % len(robust_rids_20182019))\n",
    "# robust_rids_20182019"
   ]
  },
  {
   "cell_type": "code",
   "execution_count": 29,
   "id": "2ab2aba4",
   "metadata": {},
   "outputs": [
    {
     "name": "stdout",
     "output_type": "stream",
     "text": [
      "3751 respondents in robust (2018-2019 states) data sample\n"
     ]
    }
   ],
   "source": [
    "robust20182019_sample = amzn_data[amzn_data[RESPONSE_ID].isin(robust_rids_20182019)]\n",
    "print('%s respondents in robust (2018-2019 states) data sample' % robust20182019_sample[RESPONSE_ID].nunique())"
   ]
  },
  {
   "cell_type": "code",
   "execution_count": 30,
   "id": "7a9d7562",
   "metadata": {},
   "outputs": [
    {
     "data": {
      "text/html": [
       "<div>\n",
       "<style scoped>\n",
       "    .dataframe tbody tr th:only-of-type {\n",
       "        vertical-align: middle;\n",
       "    }\n",
       "\n",
       "    .dataframe tbody tr th {\n",
       "        vertical-align: top;\n",
       "    }\n",
       "\n",
       "    .dataframe thead th {\n",
       "        text-align: right;\n",
       "    }\n",
       "</style>\n",
       "<table border=\"1\" class=\"dataframe\">\n",
       "  <thead>\n",
       "    <tr style=\"text-align: right;\">\n",
       "      <th></th>\n",
       "      <th>Order Date</th>\n",
       "      <th>Purchase Price Per Unit</th>\n",
       "      <th>Quantity</th>\n",
       "      <th>Shipping Address State</th>\n",
       "      <th>Title</th>\n",
       "      <th>ASIN/ISBN (Product Code)</th>\n",
       "      <th>Category</th>\n",
       "      <th>Survey ResponseID</th>\n",
       "      <th>year</th>\n",
       "    </tr>\n",
       "  </thead>\n",
       "  <tbody>\n",
       "    <tr>\n",
       "      <th>0</th>\n",
       "      <td>2018-12-04</td>\n",
       "      <td>7.98</td>\n",
       "      <td>1.0</td>\n",
       "      <td>NJ</td>\n",
       "      <td>SanDisk Ultra 16GB Class 10 SDHC UHS-I Memory ...</td>\n",
       "      <td>B0143RTB1E</td>\n",
       "      <td>FLASH_MEMORY</td>\n",
       "      <td>R_01vNIayewjIIKMF</td>\n",
       "      <td>2018</td>\n",
       "    </tr>\n",
       "    <tr>\n",
       "      <th>1</th>\n",
       "      <td>2018-12-22</td>\n",
       "      <td>13.99</td>\n",
       "      <td>1.0</td>\n",
       "      <td>NJ</td>\n",
       "      <td>Betron BS10 Earphones Wired Headphones in Ear ...</td>\n",
       "      <td>B01MA1MJ6H</td>\n",
       "      <td>HEADPHONES</td>\n",
       "      <td>R_01vNIayewjIIKMF</td>\n",
       "      <td>2018</td>\n",
       "    </tr>\n",
       "    <tr>\n",
       "      <th>2</th>\n",
       "      <td>2018-12-24</td>\n",
       "      <td>8.99</td>\n",
       "      <td>1.0</td>\n",
       "      <td>NJ</td>\n",
       "      <td>NaN</td>\n",
       "      <td>B078JZTFN3</td>\n",
       "      <td>NaN</td>\n",
       "      <td>R_01vNIayewjIIKMF</td>\n",
       "      <td>2018</td>\n",
       "    </tr>\n",
       "  </tbody>\n",
       "</table>\n",
       "</div>"
      ],
      "text/plain": [
       "   Order Date  Purchase Price Per Unit  Quantity Shipping Address State   \n",
       "0  2018-12-04                     7.98       1.0                     NJ  \\\n",
       "1  2018-12-22                    13.99       1.0                     NJ   \n",
       "2  2018-12-24                     8.99       1.0                     NJ   \n",
       "\n",
       "                                               Title ASIN/ISBN (Product Code)   \n",
       "0  SanDisk Ultra 16GB Class 10 SDHC UHS-I Memory ...               B0143RTB1E  \\\n",
       "1  Betron BS10 Earphones Wired Headphones in Ear ...               B01MA1MJ6H   \n",
       "2                                                NaN               B078JZTFN3   \n",
       "\n",
       "       Category  Survey ResponseID  year  \n",
       "0  FLASH_MEMORY  R_01vNIayewjIIKMF  2018  \n",
       "1    HEADPHONES  R_01vNIayewjIIKMF  2018  \n",
       "2           NaN  R_01vNIayewjIIKMF  2018  "
      ]
     },
     "execution_count": 30,
     "metadata": {},
     "output_type": "execute_result"
    }
   ],
   "source": [
    "robust20182019_sample.head(3)"
   ]
  },
  {
   "cell_type": "markdown",
   "id": "a01ffb75",
   "metadata": {},
   "source": [
    "### Random sampling pipeline\n",
    "\n",
    "- before: make sampling frame -- first restrict data as needed by category\n",
    "- randomly sample with replacement n responseids \n",
    "    - not stratified: n total\n",
    "    - stratified: n for each state in threshold states"
   ]
  },
  {
   "cell_type": "code",
   "execution_count": 31,
   "id": "66e59a73",
   "metadata": {},
   "outputs": [],
   "source": [
    "def get_random_sample(frame=amzn_data_sample, N=2500, sample_states=sample_states):\n",
    "    # limit the sampling frame to the states (if not already)\n",
    "    sample_responseids = np.random.choice(\n",
    "        frame[frame[STATE].isin(sample_states)][RESPONSE_ID].unique(), \n",
    "        size=N, replace=True\n",
    "    )\n",
    "    return frame[frame[RESPONSE_ID].isin(sample_responseids)]\n",
    "\n",
    "\n",
    "def get_random_stratified_sample(frame=amzn_data_sample, state_n=state_min_n, sample_states=sample_states):\n",
    "    stratified_sample_df = pd.DataFrame(columns=frame.columns)\n",
    "    for s in sample_states:\n",
    "        sample_responseids = np.random.choice(\n",
    "            frame[frame[STATE]==s][RESPONSE_ID].unique(),\n",
    "            size=state_n, replace=True,\n",
    "        )\n",
    "        sampled_df = frame[frame[RESPONSE_ID].isin(sample_responseids)]\n",
    "        stratified_sample_df = pd.concat([stratified_sample_df, sampled_df])\n",
    "    return stratified_sample_df"
   ]
  },
  {
   "cell_type": "markdown",
   "id": "efa88018",
   "metadata": {},
   "source": [
    "## Books\n",
    "\n",
    "Look at them.\n",
    "\n",
    "FYI they are the TOP most purchased category."
   ]
  },
  {
   "cell_type": "code",
   "execution_count": 32,
   "id": "89515bda",
   "metadata": {},
   "outputs": [
    {
     "data": {
      "text/plain": [
       "Category\n",
       "ABIS_BOOK                 80764\n",
       "PET_FOOD                  35748\n",
       "NUTRITIONAL_SUPPLEMENT    24995\n",
       "SHIRT                     24876\n",
       "ELECTRONIC_CABLE          16618\n",
       "Name: count, dtype: int64"
      ]
     },
     "execution_count": 32,
     "metadata": {},
     "output_type": "execute_result"
    }
   ],
   "source": [
    "# Using sample vs all data excludes people who bought hundreds of gift cards\n",
    "amzn_data_sample[CATEGORY].value_counts().head(5)"
   ]
  },
  {
   "cell_type": "markdown",
   "id": "1efddd8b",
   "metadata": {},
   "source": [
    "Check: Are there other book categories?"
   ]
  },
  {
   "cell_type": "code",
   "execution_count": 33,
   "id": "949b2ec5",
   "metadata": {},
   "outputs": [
    {
     "data": {
      "text/plain": [
       "Category\n",
       "ABIS_BOOK                        87619\n",
       "BLANK_BOOK                        3422\n",
       "NOTEBOOK_COMPUTER                 1040\n",
       "AMAZON_BOOK_READER                 505\n",
       "BOOKMARK                           322\n",
       "BOOK_DOCUMENT_STAND                226\n",
       "AMAZON_BOOK_READER_ACCESSORY       208\n",
       "BOOKEND                            186\n",
       "BOOK_COVER                         114\n",
       "BOOK                                37\n",
       "BOOKS_1973_AND_LATER                34\n",
       "ELECTRONIC_BOOK_READER              14\n",
       "ABIS_EBOOKS                         14\n",
       "BOOKSHELF_OR_MICRO_STEREO_SYS        1\n",
       "Name: count, dtype: int64"
      ]
     },
     "execution_count": 33,
     "metadata": {},
     "output_type": "execute_result"
    }
   ],
   "source": [
    "categories = amzn_data[CATEGORY].unique()\n",
    "bookish_categories = [c for c in categories if 'book' in str(c).lower()]\n",
    "amzn_data[amzn_data[CATEGORY].isin(bookish_categories)][CATEGORY].value_counts()"
   ]
  },
  {
   "cell_type": "code",
   "execution_count": 34,
   "id": "077d9ebf",
   "metadata": {},
   "outputs": [
    {
     "name": "stdout",
     "output_type": "stream",
     "text": [
      "What are these?\n"
     ]
    },
    {
     "data": {
      "text/html": [
       "<div>\n",
       "<style scoped>\n",
       "    .dataframe tbody tr th:only-of-type {\n",
       "        vertical-align: middle;\n",
       "    }\n",
       "\n",
       "    .dataframe tbody tr th {\n",
       "        vertical-align: top;\n",
       "    }\n",
       "\n",
       "    .dataframe thead th {\n",
       "        text-align: right;\n",
       "    }\n",
       "</style>\n",
       "<table border=\"1\" class=\"dataframe\">\n",
       "  <thead>\n",
       "    <tr style=\"text-align: right;\">\n",
       "      <th></th>\n",
       "      <th>Category</th>\n",
       "      <th>Title</th>\n",
       "      <th>Purchase Price Per Unit</th>\n",
       "      <th>Quantity</th>\n",
       "      <th>Shipping Address State</th>\n",
       "    </tr>\n",
       "  </thead>\n",
       "  <tbody>\n",
       "    <tr>\n",
       "      <th>58401</th>\n",
       "      <td>BOOK</td>\n",
       "      <td>Sesame Street Ultimate Board Books Set for Kid...</td>\n",
       "      <td>16.95</td>\n",
       "      <td>1.0</td>\n",
       "      <td>OR</td>\n",
       "    </tr>\n",
       "    <tr>\n",
       "      <th>77790</th>\n",
       "      <td>BOOK</td>\n",
       "      <td>Brief History of Time: From the Big Bang to Bl...</td>\n",
       "      <td>13.06</td>\n",
       "      <td>1.0</td>\n",
       "      <td>IL</td>\n",
       "    </tr>\n",
       "    <tr>\n",
       "      <th>83640</th>\n",
       "      <td>BOOK</td>\n",
       "      <td>The 4-Hour Work Week: Escape the 9-5, Live Any...</td>\n",
       "      <td>14.63</td>\n",
       "      <td>1.0</td>\n",
       "      <td>CA</td>\n",
       "    </tr>\n",
       "    <tr>\n",
       "      <th>228085</th>\n",
       "      <td>BOOK</td>\n",
       "      <td>Sword Song. Bernard Cornwell</td>\n",
       "      <td>7.99</td>\n",
       "      <td>1.0</td>\n",
       "      <td>GA</td>\n",
       "    </tr>\n",
       "    <tr>\n",
       "      <th>271726</th>\n",
       "      <td>BOOK</td>\n",
       "      <td>We Are the Gardeners</td>\n",
       "      <td>11.95</td>\n",
       "      <td>1.0</td>\n",
       "      <td>PA</td>\n",
       "    </tr>\n",
       "  </tbody>\n",
       "</table>\n",
       "</div>"
      ],
      "text/plain": [
       "       Category                                              Title   \n",
       "58401      BOOK  Sesame Street Ultimate Board Books Set for Kid...  \\\n",
       "77790      BOOK  Brief History of Time: From the Big Bang to Bl...   \n",
       "83640      BOOK  The 4-Hour Work Week: Escape the 9-5, Live Any...   \n",
       "228085     BOOK                       Sword Song. Bernard Cornwell   \n",
       "271726     BOOK                               We Are the Gardeners   \n",
       "\n",
       "        Purchase Price Per Unit  Quantity Shipping Address State  \n",
       "58401                     16.95       1.0                     OR  \n",
       "77790                     13.06       1.0                     IL  \n",
       "83640                     14.63       1.0                     CA  \n",
       "228085                     7.99       1.0                     GA  \n",
       "271726                    11.95       1.0                     PA  "
      ]
     },
     "metadata": {},
     "output_type": "display_data"
    },
    {
     "name": "stdout",
     "output_type": "stream",
     "text": [
      "Viewing top purchases for category: BOOK\n"
     ]
    },
    {
     "data": {
      "text/html": [
       "<div>\n",
       "<style scoped>\n",
       "    .dataframe tbody tr th:only-of-type {\n",
       "        vertical-align: middle;\n",
       "    }\n",
       "\n",
       "    .dataframe tbody tr th {\n",
       "        vertical-align: top;\n",
       "    }\n",
       "\n",
       "    .dataframe thead th {\n",
       "        text-align: right;\n",
       "    }\n",
       "</style>\n",
       "<table border=\"1\" class=\"dataframe\">\n",
       "  <thead>\n",
       "    <tr style=\"text-align: right;\">\n",
       "      <th></th>\n",
       "      <th>count</th>\n",
       "    </tr>\n",
       "    <tr>\n",
       "      <th>Title</th>\n",
       "      <th></th>\n",
       "    </tr>\n",
       "  </thead>\n",
       "  <tbody>\n",
       "    <tr>\n",
       "      <th>Extraordinary Things to Cut Out and Collage</th>\n",
       "      <td>5</td>\n",
       "    </tr>\n",
       "    <tr>\n",
       "      <th>We Are the Gardeners</th>\n",
       "      <td>3</td>\n",
       "    </tr>\n",
       "    <tr>\n",
       "      <th>Girl, Stop Apologizing: A Shame-Free Plan for Embracing and Achieving Your Goals</th>\n",
       "      <td>3</td>\n",
       "    </tr>\n",
       "    <tr>\n",
       "      <th>Don't Shoot the Dog! : The New Art of Teaching and Training</th>\n",
       "      <td>2</td>\n",
       "    </tr>\n",
       "    <tr>\n",
       "      <th>Super Kid! - Personalized Children's Story (Hardcover) - I See Me!</th>\n",
       "      <td>2</td>\n",
       "    </tr>\n",
       "  </tbody>\n",
       "</table>\n",
       "</div>"
      ],
      "text/plain": [
       "                                                    count\n",
       "Title                                                    \n",
       "Extraordinary Things to Cut Out and Collage             5\n",
       "We Are the Gardeners                                    3\n",
       "Girl, Stop Apologizing: A Shame-Free Plan for E...      3\n",
       "Don't Shoot the Dog! : The New Art of Teaching ...      2\n",
       "Super Kid! - Personalized Children's Story (Har...      2"
      ]
     },
     "metadata": {},
     "output_type": "display_data"
    }
   ],
   "source": [
    "def inspect_category(cat, num=5):\n",
    "    df = amzn_data[amzn_data[CATEGORY]==cat][['Category','Title','Purchase Price Per Unit','Quantity','Shipping Address State']]\n",
    "    display(df.head(num))\n",
    "    \n",
    "def view_category_top_purchases(cat, num=5):\n",
    "    print('Viewing top purchases for category: %s' % cat)\n",
    "    df = amzn_data[amzn_data[CATEGORY]==cat].groupby(\n",
    "        [TITLE]\n",
    "    )[DATE].count().sort_values(ascending=False).rename('count').to_frame()\n",
    "    display(df.head(num))\n",
    "\n",
    "print('What are these?')\n",
    "\n",
    "cat = 'BOOK'\n",
    "inspect_category(cat)\n",
    "_ = view_category_top_purchases(cat, num=5)"
   ]
  },
  {
   "cell_type": "code",
   "execution_count": 35,
   "id": "33342200",
   "metadata": {},
   "outputs": [
    {
     "data": {
      "text/html": [
       "<div>\n",
       "<style scoped>\n",
       "    .dataframe tbody tr th:only-of-type {\n",
       "        vertical-align: middle;\n",
       "    }\n",
       "\n",
       "    .dataframe tbody tr th {\n",
       "        vertical-align: top;\n",
       "    }\n",
       "\n",
       "    .dataframe thead th {\n",
       "        text-align: right;\n",
       "    }\n",
       "</style>\n",
       "<table border=\"1\" class=\"dataframe\">\n",
       "  <thead>\n",
       "    <tr style=\"text-align: right;\">\n",
       "      <th></th>\n",
       "      <th>Category</th>\n",
       "      <th>Title</th>\n",
       "      <th>Purchase Price Per Unit</th>\n",
       "      <th>Quantity</th>\n",
       "      <th>Shipping Address State</th>\n",
       "    </tr>\n",
       "  </thead>\n",
       "  <tbody>\n",
       "    <tr>\n",
       "      <th>32114</th>\n",
       "      <td>BOOKS_1973_AND_LATER</td>\n",
       "      <td>National Park Journal: Yellowstone</td>\n",
       "      <td>7.99</td>\n",
       "      <td>1.0</td>\n",
       "      <td>AR</td>\n",
       "    </tr>\n",
       "    <tr>\n",
       "      <th>158179</th>\n",
       "      <td>BOOKS_1973_AND_LATER</td>\n",
       "      <td>Games People Play: The Psychology of Human Rel...</td>\n",
       "      <td>15.50</td>\n",
       "      <td>1.0</td>\n",
       "      <td>IN</td>\n",
       "    </tr>\n",
       "    <tr>\n",
       "      <th>188202</th>\n",
       "      <td>BOOKS_1973_AND_LATER</td>\n",
       "      <td>The ABCs of Gaming - An Alphabet Book for Litt...</td>\n",
       "      <td>14.99</td>\n",
       "      <td>1.0</td>\n",
       "      <td>WV</td>\n",
       "    </tr>\n",
       "    <tr>\n",
       "      <th>193992</th>\n",
       "      <td>BOOKS_1973_AND_LATER</td>\n",
       "      <td>Simply Keto: A Practical Approach to Health &amp; ...</td>\n",
       "      <td>24.99</td>\n",
       "      <td>1.0</td>\n",
       "      <td>OH</td>\n",
       "    </tr>\n",
       "    <tr>\n",
       "      <th>220858</th>\n",
       "      <td>BOOKS_1973_AND_LATER</td>\n",
       "      <td>Gentle Babies: Essential Oils and Natural Reme...</td>\n",
       "      <td>17.50</td>\n",
       "      <td>1.0</td>\n",
       "      <td>TX</td>\n",
       "    </tr>\n",
       "  </tbody>\n",
       "</table>\n",
       "</div>"
      ],
      "text/plain": [
       "                    Category   \n",
       "32114   BOOKS_1973_AND_LATER  \\\n",
       "158179  BOOKS_1973_AND_LATER   \n",
       "188202  BOOKS_1973_AND_LATER   \n",
       "193992  BOOKS_1973_AND_LATER   \n",
       "220858  BOOKS_1973_AND_LATER   \n",
       "\n",
       "                                                    Title   \n",
       "32114                  National Park Journal: Yellowstone  \\\n",
       "158179  Games People Play: The Psychology of Human Rel...   \n",
       "188202  The ABCs of Gaming - An Alphabet Book for Litt...   \n",
       "193992  Simply Keto: A Practical Approach to Health & ...   \n",
       "220858  Gentle Babies: Essential Oils and Natural Reme...   \n",
       "\n",
       "        Purchase Price Per Unit  Quantity Shipping Address State  \n",
       "32114                      7.99       1.0                     AR  \n",
       "158179                    15.50       1.0                     IN  \n",
       "188202                    14.99       1.0                     WV  \n",
       "193992                    24.99       1.0                     OH  \n",
       "220858                    17.50       1.0                     TX  "
      ]
     },
     "metadata": {},
     "output_type": "display_data"
    }
   ],
   "source": [
    "inspect_category('BOOKS_1973_AND_LATER')"
   ]
  },
  {
   "cell_type": "code",
   "execution_count": 36,
   "id": "c655ed4d",
   "metadata": {},
   "outputs": [
    {
     "data": {
      "text/html": [
       "<div>\n",
       "<style scoped>\n",
       "    .dataframe tbody tr th:only-of-type {\n",
       "        vertical-align: middle;\n",
       "    }\n",
       "\n",
       "    .dataframe tbody tr th {\n",
       "        vertical-align: top;\n",
       "    }\n",
       "\n",
       "    .dataframe thead th {\n",
       "        text-align: right;\n",
       "    }\n",
       "</style>\n",
       "<table border=\"1\" class=\"dataframe\">\n",
       "  <thead>\n",
       "    <tr style=\"text-align: right;\">\n",
       "      <th></th>\n",
       "      <th>Category</th>\n",
       "      <th>Title</th>\n",
       "      <th>Purchase Price Per Unit</th>\n",
       "      <th>Quantity</th>\n",
       "      <th>Shipping Address State</th>\n",
       "    </tr>\n",
       "  </thead>\n",
       "  <tbody>\n",
       "    <tr>\n",
       "      <th>2188</th>\n",
       "      <td>AMAZON_BOOK_READER</td>\n",
       "      <td>Kindle Paperwhite – (previous generation - 201...</td>\n",
       "      <td>94.99</td>\n",
       "      <td>1.0</td>\n",
       "      <td>OH</td>\n",
       "    </tr>\n",
       "    <tr>\n",
       "      <th>2200</th>\n",
       "      <td>AMAZON_BOOK_READER</td>\n",
       "      <td>Kindle Paperwhite (8 GB) – Now with a 6.8\" dis...</td>\n",
       "      <td>139.99</td>\n",
       "      <td>1.0</td>\n",
       "      <td>OH</td>\n",
       "    </tr>\n",
       "    <tr>\n",
       "      <th>4498</th>\n",
       "      <td>AMAZON_BOOK_READER</td>\n",
       "      <td>Kindle Paperwhite – (previous generation - 201...</td>\n",
       "      <td>84.99</td>\n",
       "      <td>1.0</td>\n",
       "      <td>TN</td>\n",
       "    </tr>\n",
       "    <tr>\n",
       "      <th>6954</th>\n",
       "      <td>AMAZON_BOOK_READER</td>\n",
       "      <td>Kindle Oasis E-reader (Previous Generation - 9...</td>\n",
       "      <td>279.99</td>\n",
       "      <td>1.0</td>\n",
       "      <td>MI</td>\n",
       "    </tr>\n",
       "    <tr>\n",
       "      <th>16397</th>\n",
       "      <td>AMAZON_BOOK_READER</td>\n",
       "      <td>Kindle Paperwhite – (previous generation - 201...</td>\n",
       "      <td>89.99</td>\n",
       "      <td>1.0</td>\n",
       "      <td>CO</td>\n",
       "    </tr>\n",
       "  </tbody>\n",
       "</table>\n",
       "</div>"
      ],
      "text/plain": [
       "                 Category                                              Title   \n",
       "2188   AMAZON_BOOK_READER  Kindle Paperwhite – (previous generation - 201...  \\\n",
       "2200   AMAZON_BOOK_READER  Kindle Paperwhite (8 GB) – Now with a 6.8\" dis...   \n",
       "4498   AMAZON_BOOK_READER  Kindle Paperwhite – (previous generation - 201...   \n",
       "6954   AMAZON_BOOK_READER  Kindle Oasis E-reader (Previous Generation - 9...   \n",
       "16397  AMAZON_BOOK_READER  Kindle Paperwhite – (previous generation - 201...   \n",
       "\n",
       "       Purchase Price Per Unit  Quantity Shipping Address State  \n",
       "2188                     94.99       1.0                     OH  \n",
       "2200                    139.99       1.0                     OH  \n",
       "4498                     84.99       1.0                     TN  \n",
       "6954                    279.99       1.0                     MI  \n",
       "16397                    89.99       1.0                     CO  "
      ]
     },
     "metadata": {},
     "output_type": "display_data"
    }
   ],
   "source": [
    "inspect_category('AMAZON_BOOK_READER')"
   ]
  },
  {
   "cell_type": "code",
   "execution_count": 37,
   "id": "b9c09096",
   "metadata": {},
   "outputs": [
    {
     "name": "stdout",
     "output_type": "stream",
     "text": [
      "80832 total book purchases in sample\n",
      "75490 total book purchases in robust (2018-2019) sample\n"
     ]
    },
    {
     "data": {
      "text/html": [
       "<div>\n",
       "<style scoped>\n",
       "    .dataframe tbody tr th:only-of-type {\n",
       "        vertical-align: middle;\n",
       "    }\n",
       "\n",
       "    .dataframe tbody tr th {\n",
       "        vertical-align: top;\n",
       "    }\n",
       "\n",
       "    .dataframe thead th {\n",
       "        text-align: right;\n",
       "    }\n",
       "</style>\n",
       "<table border=\"1\" class=\"dataframe\">\n",
       "  <thead>\n",
       "    <tr style=\"text-align: right;\">\n",
       "      <th></th>\n",
       "      <th>Order Date</th>\n",
       "      <th>Purchase Price Per Unit</th>\n",
       "      <th>Quantity</th>\n",
       "      <th>Shipping Address State</th>\n",
       "      <th>Title</th>\n",
       "      <th>ASIN/ISBN (Product Code)</th>\n",
       "      <th>Category</th>\n",
       "      <th>Survey ResponseID</th>\n",
       "      <th>year</th>\n",
       "    </tr>\n",
       "  </thead>\n",
       "  <tbody>\n",
       "    <tr>\n",
       "      <th>163</th>\n",
       "      <td>2018-02-11</td>\n",
       "      <td>14.02</td>\n",
       "      <td>1.0</td>\n",
       "      <td>PA</td>\n",
       "      <td>TASC Strategies, Practice &amp; Review 2017-2018 w...</td>\n",
       "      <td>1625233000</td>\n",
       "      <td>ABIS_BOOK</td>\n",
       "      <td>R_037XK72IZBJyF69</td>\n",
       "      <td>2018</td>\n",
       "    </tr>\n",
       "    <tr>\n",
       "      <th>164</th>\n",
       "      <td>2018-02-14</td>\n",
       "      <td>19.36</td>\n",
       "      <td>1.0</td>\n",
       "      <td>PA</td>\n",
       "      <td>GED Test Prep Plus 2018: 2 Practice Tests + Pr...</td>\n",
       "      <td>1506223605</td>\n",
       "      <td>ABIS_BOOK</td>\n",
       "      <td>R_037XK72IZBJyF69</td>\n",
       "      <td>2018</td>\n",
       "    </tr>\n",
       "    <tr>\n",
       "      <th>185</th>\n",
       "      <td>2018-04-19</td>\n",
       "      <td>7.95</td>\n",
       "      <td>1.0</td>\n",
       "      <td>PA</td>\n",
       "      <td>Awakening at Midlife: A Guide to Reviving Your...</td>\n",
       "      <td>1573226327</td>\n",
       "      <td>ABIS_BOOK</td>\n",
       "      <td>R_037XK72IZBJyF69</td>\n",
       "      <td>2018</td>\n",
       "    </tr>\n",
       "  </tbody>\n",
       "</table>\n",
       "</div>"
      ],
      "text/plain": [
       "     Order Date  Purchase Price Per Unit  Quantity Shipping Address State   \n",
       "163  2018-02-11                    14.02       1.0                     PA  \\\n",
       "164  2018-02-14                    19.36       1.0                     PA   \n",
       "185  2018-04-19                     7.95       1.0                     PA   \n",
       "\n",
       "                                                 Title   \n",
       "163  TASC Strategies, Practice & Review 2017-2018 w...  \\\n",
       "164  GED Test Prep Plus 2018: 2 Practice Tests + Pr...   \n",
       "185  Awakening at Midlife: A Guide to Reviving Your...   \n",
       "\n",
       "    ASIN/ISBN (Product Code)   Category  Survey ResponseID  year  \n",
       "163               1625233000  ABIS_BOOK  R_037XK72IZBJyF69  2018  \n",
       "164               1506223605  ABIS_BOOK  R_037XK72IZBJyF69  2018  \n",
       "185               1573226327  ABIS_BOOK  R_037XK72IZBJyF69  2018  "
      ]
     },
     "execution_count": 37,
     "metadata": {},
     "output_type": "execute_result"
    }
   ],
   "source": [
    "# collect the real book categories\n",
    "book_categories = ['ABIS_BOOK', 'BOOK', 'BOOKS_1973_AND_LATER']\n",
    "book_purchases = amzn_data_sample[amzn_data_sample[CATEGORY].isin(book_categories)]\n",
    "book_purchases_robust20182019 = book_purchases[book_purchases[RESPONSE_ID].isin(robust_rids_20182019)]\n",
    "print('%s total book purchases in sample' % len(book_purchases))\n",
    "print('%s total book purchases in robust (2018-2019) sample' % len(book_purchases_robust20182019))\n",
    "book_purchases.head(3)"
   ]
  },
  {
   "cell_type": "markdown",
   "id": "146372d0",
   "metadata": {},
   "source": [
    "### Book purchases analysis"
   ]
  },
  {
   "cell_type": "markdown",
   "id": "ca1a31f5",
   "metadata": {},
   "source": [
    "Data checks"
   ]
  },
  {
   "cell_type": "code",
   "execution_count": 39,
   "id": "584c918f",
   "metadata": {},
   "outputs": [
    {
     "name": "stdout",
     "output_type": "stream",
     "text": [
      "There are some outlier purchasers making lots of purchases!\n",
      "Book purchases per person per year\n"
     ]
    },
    {
     "data": {
      "text/html": [
       "<div>\n",
       "<style scoped>\n",
       "    .dataframe tbody tr th:only-of-type {\n",
       "        vertical-align: middle;\n",
       "    }\n",
       "\n",
       "    .dataframe tbody tr th {\n",
       "        vertical-align: top;\n",
       "    }\n",
       "\n",
       "    .dataframe thead th {\n",
       "        text-align: right;\n",
       "    }\n",
       "</style>\n",
       "<table border=\"1\" class=\"dataframe\">\n",
       "  <thead>\n",
       "    <tr style=\"text-align: right;\">\n",
       "      <th></th>\n",
       "      <th>sum</th>\n",
       "      <th>count</th>\n",
       "    </tr>\n",
       "  </thead>\n",
       "  <tbody>\n",
       "    <tr>\n",
       "      <th>count</th>\n",
       "      <td>12778.000000</td>\n",
       "      <td>12778.000000</td>\n",
       "    </tr>\n",
       "    <tr>\n",
       "      <th>mean</th>\n",
       "      <td>6.562373</td>\n",
       "      <td>6.325873</td>\n",
       "    </tr>\n",
       "    <tr>\n",
       "      <th>std</th>\n",
       "      <td>9.818797</td>\n",
       "      <td>8.990717</td>\n",
       "    </tr>\n",
       "    <tr>\n",
       "      <th>min</th>\n",
       "      <td>1.000000</td>\n",
       "      <td>1.000000</td>\n",
       "    </tr>\n",
       "    <tr>\n",
       "      <th>25%</th>\n",
       "      <td>2.000000</td>\n",
       "      <td>2.000000</td>\n",
       "    </tr>\n",
       "    <tr>\n",
       "      <th>50%</th>\n",
       "      <td>3.000000</td>\n",
       "      <td>3.000000</td>\n",
       "    </tr>\n",
       "    <tr>\n",
       "      <th>75%</th>\n",
       "      <td>8.000000</td>\n",
       "      <td>7.000000</td>\n",
       "    </tr>\n",
       "    <tr>\n",
       "      <th>max</th>\n",
       "      <td>209.000000</td>\n",
       "      <td>179.000000</td>\n",
       "    </tr>\n",
       "  </tbody>\n",
       "</table>\n",
       "</div>"
      ],
      "text/plain": [
       "                sum         count\n",
       "count  12778.000000  12778.000000\n",
       "mean       6.562373      6.325873\n",
       "std        9.818797      8.990717\n",
       "min        1.000000      1.000000\n",
       "25%        2.000000      2.000000\n",
       "50%        3.000000      3.000000\n",
       "75%        8.000000      7.000000\n",
       "max      209.000000    179.000000"
      ]
     },
     "execution_count": 39,
     "metadata": {},
     "output_type": "execute_result"
    }
   ],
   "source": [
    "# Sum is sum over quanity. Count is unique purchases per person per year\n",
    "print('There are some outlier purchasers making lots of purchases!')\n",
    "print('Book purchases per person per year')\n",
    "book_purchases_per_person = book_purchases.groupby([YEAR,RESPONSE_ID])[QUANTITY].agg(['sum','count'])\n",
    "book_purchases_per_person.describe()"
   ]
  },
  {
   "cell_type": "code",
   "execution_count": 40,
   "id": "2df5a2e0",
   "metadata": {},
   "outputs": [
    {
     "name": "stdout",
     "output_type": "stream",
     "text": [
      "90th percentile :  15.0\n",
      "95th percentile :  23.0\n",
      "99th percentile :  47.0\n"
     ]
    }
   ],
   "source": [
    "# What is the 90th percentile?\n",
    "# Actually the 99th percentile is a reasonable amount of books to buy so let's use that as the cut off.\n",
    "print('90th percentile : ', book_purchases_per_person['sum'].quantile(0.90))\n",
    "print('95th percentile : ', book_purchases_per_person['sum'].quantile(0.95))\n",
    "print('99th percentile : ', book_purchases_per_person['sum'].quantile(0.99))\n",
    "max_purchases = book_purchases_per_person['sum'].quantile(0.99)"
   ]
  },
  {
   "cell_type": "code",
   "execution_count": 41,
   "id": "4a0c544f",
   "metadata": {},
   "outputs": [],
   "source": [
    "# too_many_books_responseids = book_purchases_per_person[\n",
    "#     (book_purchases_per_person['sum'] > max_purchases)\n",
    "# ].reset_index()['Survey ResponseID'].unique()\n",
    "# print('Dropping %s response IDs for people who bought more than %s books' % (len(too_many_books_responseids), max_purchases))"
   ]
  },
  {
   "cell_type": "markdown",
   "id": "19a45f50",
   "metadata": {},
   "source": [
    "Given our focus on number of buyers rather than purchases: \n",
    "What if we didn't remove the top 99th percentile?\n",
    "\n",
    "Test shows correlation higher without removal (larger N). "
   ]
  },
  {
   "cell_type": "code",
   "execution_count": 42,
   "id": "94ea7978",
   "metadata": {},
   "outputs": [
    {
     "name": "stdout",
     "output_type": "stream",
     "text": [
      "15812 book purchases from N=2435 purchasers in 2018 dataset\n",
      "14746 book purchases from N=2402 purchasers in 2019 dataset\n"
     ]
    }
   ],
   "source": [
    "book_purchases2018 = book_purchases[book_purchases['year']==2018]\n",
    "book_purchases2019 = book_purchases[book_purchases['year']==2019]\n",
    "print('%s book purchases from N=%s purchasers in 2018 dataset' % (len(book_purchases2018), book_purchases2018['Survey ResponseID'].nunique()))\n",
    "print('%s book purchases from N=%s purchasers in 2019 dataset' % (len(book_purchases2019), book_purchases2019['Survey ResponseID'].nunique()))"
   ]
  },
  {
   "cell_type": "code",
   "execution_count": 43,
   "id": "810cbc7e",
   "metadata": {},
   "outputs": [],
   "source": [
    "# Metric: Portion of purchasers increasing number of purchases\n",
    "\n",
    "def get_portion_increases_by_purchaser(purchases, yr1=2018, yr2=2019):\n",
    "    # List with a number (float) for each state\n",
    "    portion_purchaser_increases = []\n",
    "    for s in sample_states:\n",
    "        s_purchases = book_purchases[book_purchases[STATE]==s]\n",
    "        # Make series mapping response ID to total book purchases (summed quantity)\n",
    "        # Create dataframe with both seris \n",
    "        # fill na with 0 where ResponseIDs are missing in 1 yr\n",
    "        # quantify portion of response IDs that increased purchases\n",
    "        s_purchases_yr1 = s_purchases[s_purchases[YEAR]==yr1].groupby(\n",
    "            RESPONSE_ID\n",
    "        )[QUANTITY].sum().rename(yr1).to_frame()\n",
    "        s_purchases_yr2 = s_purchases[s_purchases[YEAR]==yr2].groupby(\n",
    "            RESPONSE_ID\n",
    "        )[QUANTITY].sum().rename(yr2).to_frame()\n",
    "        s_purchases_yr1_yr2 = pd.merge(\n",
    "            s_purchases_yr1, s_purchases_yr2, how='outer', left_index=True, right_index=True\n",
    "        ).fillna(0)\n",
    "        s_purchases_yr1_yr2['increased'] = s_purchases_yr1_yr2[yr2] > s_purchases_yr1_yr2[yr1]\n",
    "        portion_increased = s_purchases_yr1_yr2['increased'].sum()/len(s_purchases_yr1_yr2)\n",
    "        portion_purchaser_increases += [portion_increased]\n",
    "    return pd.Series(portion_purchaser_increases, index=sample_states)"
   ]
  },
  {
   "cell_type": "code",
   "execution_count": 44,
   "id": "8d4eef36",
   "metadata": {},
   "outputs": [
    {
     "data": {
      "text/plain": [
       "Shipping Address State\n",
       "AL    0.519231\n",
       "AR    0.571429\n",
       "AZ    0.432836\n",
       "CA    0.416894\n",
       "CO    0.465116\n",
       "dtype: float64"
      ]
     },
     "execution_count": 44,
     "metadata": {},
     "output_type": "execute_result"
    }
   ],
   "source": [
    "book_portion_increases_by_purchaser = get_portion_increases_by_purchaser(book_purchases)\n",
    "book_portion_increases_by_purchaser.head()"
   ]
  },
  {
   "cell_type": "code",
   "execution_count": 45,
   "id": "78e0fbe9",
   "metadata": {},
   "outputs": [
    {
     "name": "stdout",
     "output_type": "stream",
     "text": [
      "15812 purchases from N=2435 purchasers in 2018 dataset\n",
      "14746 purchases from N=2402 purchasers in 2019 dataset\n"
     ]
    }
   ],
   "source": [
    "def get_pct_change_buyers(purchases, yr1=2018, yr2=2019, verbose=False, index=sample_states):\n",
    "    purchases_yr1 = purchases[purchases[YEAR]==yr1]\n",
    "    purchases_yr2 = purchases[purchases[YEAR]==yr2]\n",
    "    buyers_by_state_yr1 = purchases_yr1.groupby([STATE])[RESPONSE_ID].nunique().reindex(index).fillna(0)\n",
    "    buyers_by_state_yr2 = purchases_yr2.groupby([STATE])[RESPONSE_ID].nunique().reindex(index).fillna(0)\n",
    "    pct_change = (buyers_by_state_yr2 - buyers_by_state_yr1)/buyers_by_state_yr1\n",
    "    if verbose:\n",
    "        print('%s purchases from N=%s purchasers in %s dataset' % (len(purchases_yr1), purchases_yr1[RESPONSE_ID].nunique(), yr1))\n",
    "        print('%s purchases from N=%s purchasers in %s dataset' % (len(purchases_yr2), purchases_yr2[RESPONSE_ID].nunique(), yr2))\n",
    "    # Remove states where there was 0 in yr1, >0 in yr 2, resulting in inf values\n",
    "    return pct_change.replace([np.inf], np.nan).dropna()\n",
    "    \n",
    "book_buyers_pct_change = get_pct_change_buyers(book_purchases, verbose=True)"
   ]
  },
  {
   "cell_type": "code",
   "execution_count": 46,
   "id": "26f88368",
   "metadata": {},
   "outputs": [
    {
     "name": "stdout",
     "output_type": "stream",
     "text": [
      "15812 purchases from N=2435 purchasers in 2018 dataset\n",
      "14746 purchases from N=2402 purchasers in 2019 dataset\n"
     ]
    }
   ],
   "source": [
    "def get_pct_change_purchases(purchases, yr1=2018, yr2=2019, verbose=False):\n",
    "    purchases_yr1 = purchases[purchases[YEAR]==yr1]\n",
    "    purchases_yr2 = purchases[purchases[YEAR]==yr2]\n",
    "    purchases_by_state_yr1 = purchases_yr1.groupby([STATE])[QUANTITY].sum()\n",
    "    purchases_by_state_yr2 = purchases_yr2.groupby([STATE])[QUANTITY].sum()\n",
    "    pct_change = (purchases_by_state_yr2 - purchases_by_state_yr1)/purchases_by_state_yr1\n",
    "    if verbose:\n",
    "        print('%s purchases from N=%s purchasers in %s dataset' % (len(purchases_yr1), purchases_yr1[RESPONSE_ID].nunique(), yr1))\n",
    "        print('%s purchases from N=%s purchasers in %s dataset' % (len(purchases_yr2), purchases_yr2[RESPONSE_ID].nunique(), yr2))\n",
    "    return pct_change\n",
    "    \n",
    "book_purchases_pct_change = get_pct_change_purchases(book_purchases, verbose=True)"
   ]
  },
  {
   "cell_type": "markdown",
   "id": "467d4df2",
   "metadata": {},
   "source": [
    "Quantifying change in distinct purchasers by state and total purchases by state\n",
    "- these metrics are correlated but not highly correlated (p<0.05)"
   ]
  },
  {
   "cell_type": "code",
   "execution_count": 47,
   "id": "2d346a12",
   "metadata": {},
   "outputs": [
    {
     "name": "stdout",
     "output_type": "stream",
     "text": [
      "correlation between percent change in buyers vs total purchases (books)\n",
      "Pearson r=0.3528 (p-value=0.0175)\n",
      "Spearman r=0.3360 (p-value=0.0240)\n"
     ]
    }
   ],
   "source": [
    "print('correlation between percent change in buyers vs total purchases (books)')\n",
    "r, pvalue = pearsonr(book_purchases_pct_change, book_buyers_pct_change)\n",
    "print('Pearson r=%0.4f (p-value=%0.4f)' % (r, pvalue))\n",
    "r, pvalue = spearmanr(book_purchases_pct_change, book_buyers_pct_change)\n",
    "print('Spearman r=%0.4f (p-value=%0.4f)' % (r, pvalue))"
   ]
  },
  {
   "cell_type": "markdown",
   "id": "833114f7",
   "metadata": {},
   "source": [
    "#### Compare census data to purchases data\n",
    "\n",
    "Using random sampling\n",
    "\n",
    "for N subsamples:\n",
    "- get random subsample from books purchases\n",
    "- get pct changes\n",
    "- get mean pct changes\n",
    "- compare mean pct changes to census data (correlation)"
   ]
  },
  {
   "cell_type": "code",
   "execution_count": 48,
   "id": "82e8fcec",
   "metadata": {},
   "outputs": [],
   "source": [
    "def get_pct_change_buyers_via_random_sampling(purchases, yr1, yr2, repeats=1000):\n",
    "    state_pct_changes = [] # compute the mean over repeats\n",
    "    for i in range(repeats):\n",
    "        v = (i%500==0)\n",
    "        if v:\n",
    "            print('%s-%s: %s/%s' % (yr1,yr2, i+1, repeats))\n",
    "        sampled_purchases = get_random_sample(frame=purchases[purchases[YEAR].isin([yr1, yr2])])\n",
    "        state_pct_changes += [get_pct_change_buyers(sampled_purchases, yr1=yr1, yr2=yr2, verbose=v)]\n",
    "    return pd.DataFrame(state_pct_changes).mean()    "
   ]
  },
  {
   "cell_type": "code",
   "execution_count": 49,
   "id": "0dde04d3",
   "metadata": {},
   "outputs": [
    {
     "name": "stdout",
     "output_type": "stream",
     "text": [
      "2018-2019: 1/1000\n",
      "8783 purchases from N=1349 purchasers in 2018 dataset\n",
      "8284 purchases from N=1330 purchasers in 2019 dataset\n",
      "2018-2019: 501/1000\n",
      "8754 purchases from N=1367 purchasers in 2018 dataset\n",
      "8361 purchases from N=1357 purchasers in 2019 dataset\n"
     ]
    }
   ],
   "source": [
    "pct_changes = get_pct_change_buyers_via_random_sampling(book_purchases, 2018, 2019)"
   ]
  },
  {
   "cell_type": "code",
   "execution_count": 52,
   "id": "b213d661",
   "metadata": {},
   "outputs": [
    {
     "name": "stdout",
     "output_type": "stream",
     "text": [
      "2019-2020: 1/1000\n",
      "8203 purchases from N=1347 purchasers in 2019 dataset\n",
      "9502 purchases from N=1415 purchasers in 2020 dataset\n",
      "2019-2020: 501/1000\n",
      "8392 purchases from N=1353 purchasers in 2019 dataset\n",
      "10327 purchases from N=1416 purchasers in 2020 dataset\n",
      "2020-2021: 1/1000\n",
      "10002 purchases from N=1403 purchasers in 2020 dataset\n",
      "9772 purchases from N=1418 purchasers in 2021 dataset\n",
      "2020-2021: 501/1000\n",
      "9822 purchases from N=1410 purchasers in 2020 dataset\n",
      "9620 purchases from N=1395 purchasers in 2021 dataset\n"
     ]
    },
    {
     "data": {
      "text/html": [
       "<div>\n",
       "<style scoped>\n",
       "    .dataframe tbody tr th:only-of-type {\n",
       "        vertical-align: middle;\n",
       "    }\n",
       "\n",
       "    .dataframe tbody tr th {\n",
       "        vertical-align: top;\n",
       "    }\n",
       "\n",
       "    .dataframe thead th {\n",
       "        text-align: right;\n",
       "    }\n",
       "</style>\n",
       "<table border=\"1\" class=\"dataframe\">\n",
       "  <thead>\n",
       "    <tr style=\"text-align: right;\">\n",
       "      <th></th>\n",
       "      <th>2018-2019 pct change</th>\n",
       "      <th>2019-2020 pct change</th>\n",
       "      <th>2020-2021 pct change</th>\n",
       "    </tr>\n",
       "    <tr>\n",
       "      <th>Shipping Address State</th>\n",
       "      <th></th>\n",
       "      <th></th>\n",
       "      <th></th>\n",
       "    </tr>\n",
       "  </thead>\n",
       "  <tbody>\n",
       "    <tr>\n",
       "      <th>AL</th>\n",
       "      <td>0.006337</td>\n",
       "      <td>0.135587</td>\n",
       "      <td>0.031461</td>\n",
       "    </tr>\n",
       "    <tr>\n",
       "      <th>AR</th>\n",
       "      <td>-0.029943</td>\n",
       "      <td>0.174309</td>\n",
       "      <td>0.145084</td>\n",
       "    </tr>\n",
       "    <tr>\n",
       "      <th>AZ</th>\n",
       "      <td>0.007031</td>\n",
       "      <td>0.007990</td>\n",
       "      <td>0.210881</td>\n",
       "    </tr>\n",
       "    <tr>\n",
       "      <th>CA</th>\n",
       "      <td>-0.098571</td>\n",
       "      <td>0.089127</td>\n",
       "      <td>-0.042965</td>\n",
       "    </tr>\n",
       "    <tr>\n",
       "      <th>CO</th>\n",
       "      <td>0.197162</td>\n",
       "      <td>0.019970</td>\n",
       "      <td>-0.213402</td>\n",
       "    </tr>\n",
       "  </tbody>\n",
       "</table>\n",
       "</div>"
      ],
      "text/plain": [
       "                        2018-2019 pct change  2019-2020 pct change   \n",
       "Shipping Address State                                               \n",
       "AL                                  0.006337              0.135587  \\\n",
       "AR                                 -0.029943              0.174309   \n",
       "AZ                                  0.007031              0.007990   \n",
       "CA                                 -0.098571              0.089127   \n",
       "CO                                  0.197162              0.019970   \n",
       "\n",
       "                        2020-2021 pct change  \n",
       "Shipping Address State                        \n",
       "AL                                  0.031461  \n",
       "AR                                  0.145084  \n",
       "AZ                                  0.210881  \n",
       "CA                                 -0.042965  \n",
       "CO                                 -0.213402  "
      ]
     },
     "execution_count": 52,
     "metadata": {},
     "output_type": "execute_result"
    }
   ],
   "source": [
    "book_buyers_pct_changes = pct_changes.rename('2018-2019 pct change').to_frame()\n",
    "pct_changes = get_pct_change_buyers_via_random_sampling(book_purchases, 2019, 2020)\n",
    "book_buyers_pct_changes['2019-2020 pct change'] = book_buyers_pct_changes.index.map(pct_changes)\n",
    "pct_changes = get_pct_change_buyers_via_random_sampling(book_purchases, 2020, 2021)\n",
    "book_buyers_pct_changes['2020-2021 pct change'] = book_buyers_pct_changes.index.map(pct_changes)\n",
    "\n",
    "book_buyers_pct_changes.head()"
   ]
  },
  {
   "cell_type": "code",
   "execution_count": 53,
   "id": "d6c887de",
   "metadata": {},
   "outputs": [
    {
     "name": "stdout",
     "output_type": "stream",
     "text": [
      "Comparing to 2018-2019 census data: Employment\n",
      "Pearson r=-0.3441 (p-value=0.0206)\n"
     ]
    }
   ],
   "source": [
    "print('Comparing to 2018-2019 census data: Employment')\n",
    "r, pvalue = pearsonr(\n",
    "    book_buyers_pct_changes['2018-2019 pct change'].loc[sample_states], \n",
    "    census_books_stores['2018-2019 employment/population percent change'].loc[sample_states]\n",
    ")\n",
    "print('Pearson r=%0.4f (p-value=%0.4f)' % (r, pvalue))"
   ]
  },
  {
   "cell_type": "code",
   "execution_count": 54,
   "id": "84c354cb",
   "metadata": {},
   "outputs": [
    {
     "name": "stdout",
     "output_type": "stream",
     "text": [
      "Comparing to 2019-2020 census data: Employment\n",
      "Pearson r=-0.0016 (p-value=0.9919)\n"
     ]
    }
   ],
   "source": [
    "print('Comparing to 2019-2020 census data: Employment')\n",
    "r, pvalue = pearsonr(\n",
    "    book_buyers_pct_changes['2019-2020 pct change'].loc[sample_states], \n",
    "    census_books_stores['2019-2020 employment/population percent change'].loc[sample_states]\n",
    ")\n",
    "print('Pearson r=%0.4f (p-value=%0.4f)' % (r, pvalue))"
   ]
  },
  {
   "cell_type": "code",
   "execution_count": 55,
   "id": "978f719b",
   "metadata": {},
   "outputs": [
    {
     "name": "stdout",
     "output_type": "stream",
     "text": [
      "Comparing to 2020-2021 census data: Employment\n",
      "Pearson r=0.1545 (p-value=0.3110)\n"
     ]
    }
   ],
   "source": [
    "print('Comparing to 2020-2021 census data: Employment')\n",
    "r, pvalue = pearsonr(\n",
    "    book_buyers_pct_changes['2020-2021 pct change'].loc[sample_states], \n",
    "    census_books_stores['2020-2021 employment/population percent change'].loc[sample_states]\n",
    ")\n",
    "print('Pearson r=%0.4f (p-value=%0.4f)' % (r, pvalue))"
   ]
  },
  {
   "cell_type": "markdown",
   "id": "f3afa14b",
   "metadata": {},
   "source": [
    "Plot it"
   ]
  },
  {
   "cell_type": "code",
   "execution_count": 56,
   "id": "b7d86658",
   "metadata": {},
   "outputs": [
    {
     "data": {
      "image/png": "[encoded data removed]",
      "text/plain": [
       "<Figure size 400x400 with 1 Axes>"
      ]
     },
     "metadata": {},
     "output_type": "display_data"
    }
   ],
   "source": [
    "import matplotlib.ticker as mtick\n",
    "\n",
    "fig, ax = plt.subplots(1,1,figsize=(4,4))\n",
    "ax.scatter(\n",
    "    100*book_buyers_pct_changes['2018-2019 pct change'].loc[sample_states], \n",
    "    100*census_books_stores['2018-2019 employment/population percent change'].loc[sample_states]\n",
    ")\n",
    "ax.set_title('State comparisons')\n",
    "ax.xaxis.set_major_formatter(mtick.PercentFormatter(decimals=0))\n",
    "ax.yaxis.set_major_formatter(mtick.PercentFormatter(decimals=0))\n",
    "ax.set_xlabel('2018-2019 change in online book purchasers')\n",
    "_ = ax.set_ylabel('2018-2019 change in book store employment')"
   ]
  },
  {
   "cell_type": "code",
   "execution_count": 57,
   "id": "ea8f3a00",
   "metadata": {},
   "outputs": [
    {
     "data": {
      "text/plain": [
       "Text(0, 0.5, '2019-2020 change in book store employment')"
      ]
     },
     "execution_count": 57,
     "metadata": {},
     "output_type": "execute_result"
    },
    {
     "data": {
      "image/png": "[encoded data removed]",
      "text/plain": [
       "<Figure size 400x400 with 1 Axes>"
      ]
     },
     "metadata": {},
     "output_type": "display_data"
    }
   ],
   "source": [
    "import matplotlib.ticker as mtick\n",
    "\n",
    "fig, ax = plt.subplots(1,1,figsize=(4,4))\n",
    "ax.scatter(\n",
    "    100*book_buyers_pct_changes['2019-2020 pct change'].loc[sample_states], \n",
    "    100*census_books_stores['2019-2020 employment/population percent change'].loc[sample_states]\n",
    ")\n",
    "ax.xaxis.set_major_formatter(mtick.PercentFormatter(decimals=0))\n",
    "ax.yaxis.set_major_formatter(mtick.PercentFormatter(decimals=0))\n",
    "ax.set_xlabel('2019-2020 change in online book purchasers')\n",
    "ax.set_ylabel('2019-2020 change in book store employment')"
   ]
  },
  {
   "cell_type": "markdown",
   "id": "826a002e",
   "metadata": {},
   "source": [
    "#### Check with robust 2018-2019 data\n"
   ]
  },
  {
   "cell_type": "code",
   "execution_count": 53,
   "id": "fdca4d1c",
   "metadata": {},
   "outputs": [
    {
     "name": "stdout",
     "output_type": "stream",
     "text": [
      "2018-2019: 1/1000\n",
      "8806 purchases from N=1340 purchasers in 2018 dataset\n",
      "8041 purchases from N=1300 purchasers in 2019 dataset\n",
      "2018-2019: 501/1000\n",
      "8967 purchases from N=1322 purchasers in 2018 dataset\n",
      "8353 purchases from N=1336 purchasers in 2019 dataset\n"
     ]
    }
   ],
   "source": [
    "book_buyers_pct_changes_r20182019 = get_pct_change_buyers_via_random_sampling(book_purchases_robust20182019, 2018, 2019)"
   ]
  },
  {
   "cell_type": "code",
   "execution_count": 54,
   "id": "aa6c96d1",
   "metadata": {},
   "outputs": [
    {
     "name": "stdout",
     "output_type": "stream",
     "text": [
      "Comparing to 2018-2019 census data: Employment\n",
      "Pearson r=-0.3903 (p-value=0.0080)\n"
     ]
    }
   ],
   "source": [
    "print('Comparing to 2018-2019 census data: Employment')\n",
    "r, pvalue = pearsonr(\n",
    "    book_buyers_pct_changes_r20182019.loc[sample_states], \n",
    "    census_books_stores['2018-2019 employment/population percent change'].loc[sample_states]\n",
    ")\n",
    "print('Pearson r=%0.4f (p-value=%0.4f)' % (r, pvalue))"
   ]
  },
  {
   "cell_type": "code",
   "execution_count": 55,
   "id": "55cf96a6",
   "metadata": {},
   "outputs": [
    {
     "data": {
      "image/png": "[encoded data removed]",
      "text/plain": [
       "<Figure size 400x400 with 1 Axes>"
      ]
     },
     "metadata": {},
     "output_type": "display_data"
    }
   ],
   "source": [
    "import matplotlib.ticker as mtick\n",
    "\n",
    "fig, ax = plt.subplots(1,1,figsize=(4,4))\n",
    "ax.scatter(\n",
    "    100*book_buyers_pct_changes_r20182019.loc[sample_states], \n",
    "    100*census_books_stores['2018-2019 employment/population percent change'].loc[sample_states]\n",
    ")\n",
    "ax.set_title('State comparisons')\n",
    "ax.xaxis.set_major_formatter(mtick.PercentFormatter(decimals=0))\n",
    "ax.yaxis.set_major_formatter(mtick.PercentFormatter(decimals=0))\n",
    "ax.set_xlabel('2018-2019 change in online book purchasers')\n",
    "_ = ax.set_ylabel('2018-2019 change in book store employment')"
   ]
  },
  {
   "cell_type": "markdown",
   "id": "010ed97c",
   "metadata": {},
   "source": [
    "We find the expected negative correlation (p<0.05) comparing:\n",
    "- 2018-2019 change in number of book buyers per state\n",
    "- 2018-2019 change in employment per state\n",
    "\n",
    "Correlation stronger when limiting to partipants who had consistent primary shipping address states 2018-2019\n",
    "\n",
    "(change found for random sample without stratifying, N=2500)\n",
    "\n",
    "Not found for:\n",
    "- total number of purchases per state\n",
    "- employment in following year (2019-2020 has opposite direction)\n",
    "- number establishments\n",
    "\n",
    "\n",
    "Questions:\n",
    "\n",
    "How does this change by sampling strategy?\n",
    "- random sample vs stratified random sample \n",
    "- smaller N for simple random sample\n",
    "    - N=2000 --> weaker correlation\n",
    "    \n",
    "Notes: \n",
    "- Correlation is about the same (slightly weaker) when using portion increases by purchaser\n",
    "- normalizing employment by population works slightly better than not normalizing by population\n",
    "- correlation weaker when limiting to enterprises <500 employees or <20 employees"
   ]
  },
  {
   "cell_type": "code",
   "execution_count": 56,
   "id": "bd718b39",
   "metadata": {},
   "outputs": [
    {
     "name": "stdout",
     "output_type": "stream",
     "text": [
      "Correlations between metrics (2018-2019):\n"
     ]
    },
    {
     "data": {
      "text/html": [
       "<div>\n",
       "<style scoped>\n",
       "    .dataframe tbody tr th:only-of-type {\n",
       "        vertical-align: middle;\n",
       "    }\n",
       "\n",
       "    .dataframe tbody tr th {\n",
       "        vertical-align: top;\n",
       "    }\n",
       "\n",
       "    .dataframe thead th {\n",
       "        text-align: right;\n",
       "    }\n",
       "</style>\n",
       "<table border=\"1\" class=\"dataframe\">\n",
       "  <thead>\n",
       "    <tr style=\"text-align: right;\">\n",
       "      <th></th>\n",
       "      <th>book buyers pct changes</th>\n",
       "      <th>book purchases pct changes</th>\n",
       "      <th>book portion increases by purchaser</th>\n",
       "    </tr>\n",
       "  </thead>\n",
       "  <tbody>\n",
       "    <tr>\n",
       "      <th>book buyers pct changes</th>\n",
       "      <td>1.000000</td>\n",
       "      <td>0.356328</td>\n",
       "      <td>0.703202</td>\n",
       "    </tr>\n",
       "    <tr>\n",
       "      <th>book purchases pct changes</th>\n",
       "      <td>0.356328</td>\n",
       "      <td>1.000000</td>\n",
       "      <td>0.611868</td>\n",
       "    </tr>\n",
       "    <tr>\n",
       "      <th>book portion increases by purchaser</th>\n",
       "      <td>0.703202</td>\n",
       "      <td>0.611868</td>\n",
       "      <td>1.000000</td>\n",
       "    </tr>\n",
       "  </tbody>\n",
       "</table>\n",
       "</div>"
      ],
      "text/plain": [
       "                                     book buyers pct changes   \n",
       "book buyers pct changes                             1.000000  \\\n",
       "book purchases pct changes                          0.356328   \n",
       "book portion increases by purchaser                 0.703202   \n",
       "\n",
       "                                     book purchases pct changes   \n",
       "book buyers pct changes                                0.356328  \\\n",
       "book purchases pct changes                             1.000000   \n",
       "book portion increases by purchaser                    0.611868   \n",
       "\n",
       "                                     book portion increases by purchaser  \n",
       "book buyers pct changes                                         0.703202  \n",
       "book purchases pct changes                                      0.611868  \n",
       "book portion increases by purchaser                             1.000000  "
      ]
     },
     "metadata": {},
     "output_type": "display_data"
    },
    {
     "data": {
      "text/html": [
       "<div>\n",
       "<style scoped>\n",
       "    .dataframe tbody tr th:only-of-type {\n",
       "        vertical-align: middle;\n",
       "    }\n",
       "\n",
       "    .dataframe tbody tr th {\n",
       "        vertical-align: top;\n",
       "    }\n",
       "\n",
       "    .dataframe thead th {\n",
       "        text-align: right;\n",
       "    }\n",
       "</style>\n",
       "<table border=\"1\" class=\"dataframe\">\n",
       "  <thead>\n",
       "    <tr style=\"text-align: right;\">\n",
       "      <th></th>\n",
       "      <th>book buyers pct changes</th>\n",
       "      <th>book purchases pct changes</th>\n",
       "      <th>book portion increases by purchaser</th>\n",
       "    </tr>\n",
       "    <tr>\n",
       "      <th>Shipping Address State</th>\n",
       "      <th></th>\n",
       "      <th></th>\n",
       "      <th></th>\n",
       "    </tr>\n",
       "  </thead>\n",
       "  <tbody>\n",
       "    <tr>\n",
       "      <th>AL</th>\n",
       "      <td>0.008494</td>\n",
       "      <td>0.147436</td>\n",
       "      <td>0.519231</td>\n",
       "    </tr>\n",
       "    <tr>\n",
       "      <th>AR</th>\n",
       "      <td>-0.039110</td>\n",
       "      <td>0.351648</td>\n",
       "      <td>0.571429</td>\n",
       "    </tr>\n",
       "    <tr>\n",
       "      <th>AZ</th>\n",
       "      <td>0.003349</td>\n",
       "      <td>0.424710</td>\n",
       "      <td>0.432836</td>\n",
       "    </tr>\n",
       "    <tr>\n",
       "      <th>CA</th>\n",
       "      <td>-0.094119</td>\n",
       "      <td>-0.024564</td>\n",
       "      <td>0.416894</td>\n",
       "    </tr>\n",
       "    <tr>\n",
       "      <th>CO</th>\n",
       "      <td>0.198282</td>\n",
       "      <td>-0.284375</td>\n",
       "      <td>0.465116</td>\n",
       "    </tr>\n",
       "  </tbody>\n",
       "</table>\n",
       "</div>"
      ],
      "text/plain": [
       "                        book buyers pct changes  book purchases pct changes   \n",
       "Shipping Address State                                                        \n",
       "AL                                     0.008494                    0.147436  \\\n",
       "AR                                    -0.039110                    0.351648   \n",
       "AZ                                     0.003349                    0.424710   \n",
       "CA                                    -0.094119                   -0.024564   \n",
       "CO                                     0.198282                   -0.284375   \n",
       "\n",
       "                        book portion increases by purchaser  \n",
       "Shipping Address State                                       \n",
       "AL                                                 0.519231  \n",
       "AR                                                 0.571429  \n",
       "AZ                                                 0.432836  \n",
       "CA                                                 0.416894  \n",
       "CO                                                 0.465116  "
      ]
     },
     "execution_count": 56,
     "metadata": {},
     "output_type": "execute_result"
    }
   ],
   "source": [
    "# Look at the data\n",
    "books_metrics = pd.DataFrame({\n",
    "    'book buyers pct changes': book_buyers_pct_changes['2018-2019 pct change'],\n",
    "    'book purchases pct changes': book_purchases_pct_change,\n",
    "    'book portion increases by purchaser': book_portion_increases_by_purchaser\n",
    "})\n",
    "print('Correlations between metrics (2018-2019):')\n",
    "display(books_metrics.corr())\n",
    "books_metrics.head()"
   ]
  },
  {
   "cell_type": "markdown",
   "id": "9417e368",
   "metadata": {},
   "source": [
    "#### Compare changes in purchases and number of establishments\n",
    "\n",
    "Compare: percent change in purchases to percent change in number of establishments\n",
    "\n",
    "For\n",
    "- 2018 - 2021\n",
    "- 2019 - 2021 (COVID effects isolated)"
   ]
  },
  {
   "cell_type": "code",
   "execution_count": 149,
   "id": "46bc4638",
   "metadata": {},
   "outputs": [
    {
     "name": "stdout",
     "output_type": "stream",
     "text": [
      "2018-2021: 1/1000\n",
      "8917 purchases from N=1338 purchasers in 2018 dataset\n",
      "9694 purchases from N=1380 purchasers in 2021 dataset\n",
      "2018-2021: 501/1000\n",
      "8493 purchases from N=1303 purchasers in 2018 dataset\n",
      "9216 purchases from N=1380 purchasers in 2021 dataset\n",
      "2019-2021: 1/1000\n",
      "7852 purchases from N=1319 purchasers in 2019 dataset\n",
      "9437 purchases from N=1414 purchasers in 2021 dataset\n",
      "2019-2021: 501/1000\n",
      "7972 purchases from N=1336 purchasers in 2019 dataset\n",
      "9262 purchases from N=1432 purchasers in 2021 dataset\n"
     ]
    }
   ],
   "source": [
    "pct_changes = get_pct_change_buyers_via_random_sampling(book_purchases, 2018, 2021)\n",
    "book_buyers_pct_changes['2018-2021 pct change'] = book_buyers_pct_changes.index.map(pct_changes)\n",
    "pct_changes = get_pct_change_buyers_via_random_sampling(book_purchases, 2019, 2021)\n",
    "book_buyers_pct_changes['2019-2021 pct change'] = book_buyers_pct_changes.index.map(pct_changes)"
   ]
  },
  {
   "cell_type": "code",
   "execution_count": 151,
   "id": "af047e2a",
   "metadata": {},
   "outputs": [
    {
     "name": "stdout",
     "output_type": "stream",
     "text": [
      "Comparing 2018-2021 changes in purchases to changes in census data: establishments\n",
      "Pearson r=-0.2029 (p-value=0.1812)\n"
     ]
    }
   ],
   "source": [
    "print('Comparing 2018-2021 changes in purchases to changes in census data: establishments')\n",
    "r, pvalue = pearsonr(\n",
    "    book_buyers_pct_changes['2018-2021 pct change'].loc[sample_states], \n",
    "    census_books_stores['2018-2021 establishments percent change'].loc[sample_states]\n",
    ")\n",
    "print('Pearson r=%0.4f (p-value=%0.4f)' % (r, pvalue))"
   ]
  },
  {
   "cell_type": "code",
   "execution_count": 152,
   "id": "90e9a70f",
   "metadata": {},
   "outputs": [
    {
     "name": "stdout",
     "output_type": "stream",
     "text": [
      "Comparing 2019-2021 changes in purchases to changes in census data: establishments\n",
      "Pearson r=-0.1704 (p-value=0.2630)\n"
     ]
    }
   ],
   "source": [
    "print('Comparing 2019-2021 changes in purchases to changes in census data: establishments')\n",
    "r, pvalue = pearsonr(\n",
    "    book_buyers_pct_changes['2019-2021 pct change'].loc[sample_states], \n",
    "    census_books_stores['2019-2021 establishments percent change'].loc[sample_states]\n",
    ")\n",
    "print('Pearson r=%0.4f (p-value=%0.4f)' % (r, pvalue))"
   ]
  },
  {
   "cell_type": "markdown",
   "id": "287f1899",
   "metadata": {},
   "source": [
    "## Shoes\n",
    "\n",
    "https://www.naics.com/naics-code-description/?code=448210\n",
    "\n",
    "Look at them"
   ]
  },
  {
   "cell_type": "code",
   "execution_count": 58,
   "id": "c11cb950",
   "metadata": {},
   "outputs": [
    {
     "data": {
      "text/plain": [
       "Category\n",
       "SHOES                   12758\n",
       "SHOE_INSERT              1804\n",
       "SHOELACE                  892\n",
       "SHOE_ACCESSORY            248\n",
       "SHOE_TREE                 148\n",
       "TECHNICAL_SPORT_SHOE      123\n",
       "SHOE_BAG                   37\n",
       "SNOWSHOE                   27\n",
       "SHOE_POLISH                18\n",
       "GUILD_SHOES                 1\n",
       "Name: count, dtype: int64"
      ]
     },
     "execution_count": 58,
     "metadata": {},
     "output_type": "execute_result"
    }
   ],
   "source": [
    "shoesy_categories = [c for c in categories if 'shoe' in str(c).lower()]\n",
    "amzn_data[amzn_data[CATEGORY].isin(shoesy_categories)][CATEGORY].value_counts()"
   ]
  },
  {
   "cell_type": "markdown",
   "id": "012de723",
   "metadata": {},
   "source": [
    "FYI the 'Guild shoes' are beautifully crafted crochet sneakers made by an artist. Not to be included in shoes analysis. https://www.amazon.com/Sneakers-Slippers-Crochet-Comfortable-Basketball/dp/B09X5RGJKG"
   ]
  },
  {
   "cell_type": "code",
   "execution_count": 59,
   "id": "5847cae8",
   "metadata": {},
   "outputs": [
    {
     "data": {
      "text/html": [
       "<div>\n",
       "<style scoped>\n",
       "    .dataframe tbody tr th:only-of-type {\n",
       "        vertical-align: middle;\n",
       "    }\n",
       "\n",
       "    .dataframe tbody tr th {\n",
       "        vertical-align: top;\n",
       "    }\n",
       "\n",
       "    .dataframe thead th {\n",
       "        text-align: right;\n",
       "    }\n",
       "</style>\n",
       "<table border=\"1\" class=\"dataframe\">\n",
       "  <thead>\n",
       "    <tr style=\"text-align: right;\">\n",
       "      <th></th>\n",
       "      <th>Category</th>\n",
       "      <th>Title</th>\n",
       "      <th>Purchase Price Per Unit</th>\n",
       "      <th>Quantity</th>\n",
       "      <th>Shipping Address State</th>\n",
       "    </tr>\n",
       "  </thead>\n",
       "  <tbody>\n",
       "    <tr>\n",
       "      <th>48994</th>\n",
       "      <td>TECHNICAL_SPORT_SHOE</td>\n",
       "      <td>JOINFREE Womens Durable Work Shoes Anti-Skid W...</td>\n",
       "      <td>25.99</td>\n",
       "      <td>1.0</td>\n",
       "      <td>IN</td>\n",
       "    </tr>\n",
       "    <tr>\n",
       "      <th>50437</th>\n",
       "      <td>TECHNICAL_SPORT_SHOE</td>\n",
       "      <td>New Balance Women's Fresh Foam 1165 V1 Walking...</td>\n",
       "      <td>21.54</td>\n",
       "      <td>1.0</td>\n",
       "      <td>FL</td>\n",
       "    </tr>\n",
       "    <tr>\n",
       "      <th>51438</th>\n",
       "      <td>TECHNICAL_SPORT_SHOE</td>\n",
       "      <td>New Balance Men's FuelCell Echo V1 Running Shoe</td>\n",
       "      <td>61.75</td>\n",
       "      <td>1.0</td>\n",
       "      <td>KY</td>\n",
       "    </tr>\n",
       "    <tr>\n",
       "      <th>59956</th>\n",
       "      <td>TECHNICAL_SPORT_SHOE</td>\n",
       "      <td>adidas Men's Lite Racer Adapt 4.0 Running Shoe</td>\n",
       "      <td>47.97</td>\n",
       "      <td>1.0</td>\n",
       "      <td>CA</td>\n",
       "    </tr>\n",
       "    <tr>\n",
       "      <th>113188</th>\n",
       "      <td>TECHNICAL_SPORT_SHOE</td>\n",
       "      <td>adidas Women's Qt Racer 2.0 Running Shoe</td>\n",
       "      <td>41.99</td>\n",
       "      <td>1.0</td>\n",
       "      <td>CA</td>\n",
       "    </tr>\n",
       "  </tbody>\n",
       "</table>\n",
       "</div>"
      ],
      "text/plain": [
       "                    Category   \n",
       "48994   TECHNICAL_SPORT_SHOE  \\\n",
       "50437   TECHNICAL_SPORT_SHOE   \n",
       "51438   TECHNICAL_SPORT_SHOE   \n",
       "59956   TECHNICAL_SPORT_SHOE   \n",
       "113188  TECHNICAL_SPORT_SHOE   \n",
       "\n",
       "                                                    Title   \n",
       "48994   JOINFREE Womens Durable Work Shoes Anti-Skid W...  \\\n",
       "50437   New Balance Women's Fresh Foam 1165 V1 Walking...   \n",
       "51438     New Balance Men's FuelCell Echo V1 Running Shoe   \n",
       "59956      adidas Men's Lite Racer Adapt 4.0 Running Shoe   \n",
       "113188           adidas Women's Qt Racer 2.0 Running Shoe   \n",
       "\n",
       "        Purchase Price Per Unit  Quantity Shipping Address State  \n",
       "48994                     25.99       1.0                     IN  \n",
       "50437                     21.54       1.0                     FL  \n",
       "51438                     61.75       1.0                     KY  \n",
       "59956                     47.97       1.0                     CA  \n",
       "113188                    41.99       1.0                     CA  "
      ]
     },
     "metadata": {},
     "output_type": "display_data"
    },
    {
     "name": "stdout",
     "output_type": "stream",
     "text": [
      "Viewing top purchases for category: TECHNICAL_SPORT_SHOE\n"
     ]
    },
    {
     "data": {
      "text/html": [
       "<div>\n",
       "<style scoped>\n",
       "    .dataframe tbody tr th:only-of-type {\n",
       "        vertical-align: middle;\n",
       "    }\n",
       "\n",
       "    .dataframe tbody tr th {\n",
       "        vertical-align: top;\n",
       "    }\n",
       "\n",
       "    .dataframe thead th {\n",
       "        text-align: right;\n",
       "    }\n",
       "</style>\n",
       "<table border=\"1\" class=\"dataframe\">\n",
       "  <thead>\n",
       "    <tr style=\"text-align: right;\">\n",
       "      <th></th>\n",
       "      <th>count</th>\n",
       "    </tr>\n",
       "    <tr>\n",
       "      <th>Title</th>\n",
       "      <th></th>\n",
       "    </tr>\n",
       "  </thead>\n",
       "  <tbody>\n",
       "    <tr>\n",
       "      <th>New Balance Men's 608 V5 Casual Comfort Cross Trainer</th>\n",
       "      <td>7</td>\n",
       "    </tr>\n",
       "    <tr>\n",
       "      <th>adidas Women's Puremotion-Adapt Running Shoe</th>\n",
       "      <td>4</td>\n",
       "    </tr>\n",
       "    <tr>\n",
       "      <th>New Balance Men's 410 V5 Cushioning Trail Running Shoe</th>\n",
       "      <td>3</td>\n",
       "    </tr>\n",
       "    <tr>\n",
       "      <th>Bigib Toddler Kids Swim Water Shoes Quick Dry Non-Slip Water Skin Barefoot Sports Shoes Aqua Socks for Boys Girls Toddler</th>\n",
       "      <td>3</td>\n",
       "    </tr>\n",
       "    <tr>\n",
       "      <th>New Balance Men's 510 V4 Trail Running Shoe</th>\n",
       "      <td>3</td>\n",
       "    </tr>\n",
       "  </tbody>\n",
       "</table>\n",
       "</div>"
      ],
      "text/plain": [
       "                                                    count\n",
       "Title                                                    \n",
       "New Balance Men's 608 V5 Casual Comfort Cross T...      7\n",
       "adidas Women's Puremotion-Adapt Running Shoe            4\n",
       "New Balance Men's 410 V5 Cushioning Trail Runni...      3\n",
       "Bigib Toddler Kids Swim Water Shoes Quick Dry N...      3\n",
       "New Balance Men's 510 V4 Trail Running Shoe             3"
      ]
     },
     "metadata": {},
     "output_type": "display_data"
    }
   ],
   "source": [
    "inspect_category('TECHNICAL_SPORT_SHOE')\n",
    "view_category_top_purchases('TECHNICAL_SPORT_SHOE')"
   ]
  },
  {
   "cell_type": "markdown",
   "id": "26b18755",
   "metadata": {},
   "source": [
    "Are there other shoesy categories?"
   ]
  },
  {
   "cell_type": "code",
   "execution_count": 60,
   "id": "840d3667",
   "metadata": {},
   "outputs": [
    {
     "name": "stdout",
     "output_type": "stream",
     "text": [
      "Category\n",
      "SLIPPER    2711\n",
      "Name: count, dtype: int64\n",
      "Category\n",
      "SANDAL    3641\n",
      "Name: count, dtype: int64\n",
      "Category\n",
      "BOOT              3167\n",
      "SNOWBOARD_BOOT       7\n",
      "Name: count, dtype: int64\n"
     ]
    }
   ],
   "source": [
    "slippers_categories = [c for c in categories if 'slipper' in str(c).lower()]\n",
    "print(amzn_data[amzn_data['Category'].isin(slippers_categories)]['Category'].value_counts())\n",
    "\n",
    "sandals_categories = [c for c in categories if 'sandal' in str(c).lower()]\n",
    "print(amzn_data[amzn_data['Category'].isin(sandals_categories)]['Category'].value_counts())\n",
    "\n",
    "boot_categories = [c for c in categories if 'boot' in str(c).lower()]\n",
    "print(amzn_data[amzn_data['Category'].isin(boot_categories)]['Category'].value_counts())"
   ]
  },
  {
   "cell_type": "code",
   "execution_count": 61,
   "id": "97763bc9",
   "metadata": {},
   "outputs": [
    {
     "name": "stdout",
     "output_type": "stream",
     "text": [
      "Viewing top purchases for category: SLIPPER\n"
     ]
    },
    {
     "data": {
      "text/html": [
       "<div>\n",
       "<style scoped>\n",
       "    .dataframe tbody tr th:only-of-type {\n",
       "        vertical-align: middle;\n",
       "    }\n",
       "\n",
       "    .dataframe tbody tr th {\n",
       "        vertical-align: top;\n",
       "    }\n",
       "\n",
       "    .dataframe thead th {\n",
       "        text-align: right;\n",
       "    }\n",
       "</style>\n",
       "<table border=\"1\" class=\"dataframe\">\n",
       "  <thead>\n",
       "    <tr style=\"text-align: right;\">\n",
       "      <th></th>\n",
       "      <th>count</th>\n",
       "    </tr>\n",
       "    <tr>\n",
       "      <th>Title</th>\n",
       "      <th></th>\n",
       "    </tr>\n",
       "  </thead>\n",
       "  <tbody>\n",
       "    <tr>\n",
       "      <th>RockDove Men's Original Two-Tone Memory Foam Slipper</th>\n",
       "      <td>67</td>\n",
       "    </tr>\n",
       "    <tr>\n",
       "      <th>ULTRAIDEAS Women's Fuzzy Wool-Like House Shoes with Memory Foam, Gift for Women, Ladies Slippers with Indoor &amp;Outdoor Anti-Skid Rubber Sole</th>\n",
       "      <td>51</td>\n",
       "    </tr>\n",
       "    <tr>\n",
       "      <th>Jessica Simpson Women's Comfy Faux Fur House Slipper Scuff Memory Foam Slip on Anti-Skid Sole</th>\n",
       "      <td>23</td>\n",
       "    </tr>\n",
       "    <tr>\n",
       "      <th>Dearfoams Women's Rebecca Lightweight Cozy Memory Foam Closed Back Slipper with Wide Widths</th>\n",
       "      <td>22</td>\n",
       "    </tr>\n",
       "    <tr>\n",
       "      <th>landeer Women's and Men's Memory Foam Slippers Casual House Shoes</th>\n",
       "      <td>18</td>\n",
       "    </tr>\n",
       "  </tbody>\n",
       "</table>\n",
       "</div>"
      ],
      "text/plain": [
       "                                                    count\n",
       "Title                                                    \n",
       "RockDove Men's Original Two-Tone Memory Foam Sl...     67\n",
       "ULTRAIDEAS Women's Fuzzy Wool-Like House Shoes ...     51\n",
       "Jessica Simpson Women's Comfy Faux Fur House Sl...     23\n",
       "Dearfoams Women's Rebecca Lightweight Cozy Memo...     22\n",
       "landeer Women's and Men's Memory Foam Slippers ...     18"
      ]
     },
     "metadata": {},
     "output_type": "display_data"
    }
   ],
   "source": [
    "view_category_top_purchases('SLIPPER')"
   ]
  },
  {
   "cell_type": "code",
   "execution_count": 62,
   "id": "8faedee5",
   "metadata": {},
   "outputs": [
    {
     "name": "stdout",
     "output_type": "stream",
     "text": [
      "Viewing top purchases for category: BOOT\n"
     ]
    },
    {
     "data": {
      "text/html": [
       "<div>\n",
       "<style scoped>\n",
       "    .dataframe tbody tr th:only-of-type {\n",
       "        vertical-align: middle;\n",
       "    }\n",
       "\n",
       "    .dataframe tbody tr th {\n",
       "        vertical-align: top;\n",
       "    }\n",
       "\n",
       "    .dataframe thead th {\n",
       "        text-align: right;\n",
       "    }\n",
       "</style>\n",
       "<table border=\"1\" class=\"dataframe\">\n",
       "  <thead>\n",
       "    <tr style=\"text-align: right;\">\n",
       "      <th></th>\n",
       "      <th>count</th>\n",
       "    </tr>\n",
       "    <tr>\n",
       "      <th>Title</th>\n",
       "      <th></th>\n",
       "    </tr>\n",
       "  </thead>\n",
       "  <tbody>\n",
       "    <tr>\n",
       "      <th>Lone Cone Rain Boots with Easy-On Handles in Fun Patterns for Toddlers and Kids</th>\n",
       "      <td>34</td>\n",
       "    </tr>\n",
       "    <tr>\n",
       "      <th>Hudson Baby Unisex-Baby Cozy Fleece Booties</th>\n",
       "      <td>30</td>\n",
       "    </tr>\n",
       "    <tr>\n",
       "      <th>Asgard Women's Ankle Rain Boots Waterproof Chelsea Boots</th>\n",
       "      <td>24</td>\n",
       "    </tr>\n",
       "    <tr>\n",
       "      <th>Clarks Men's Bushacre 2 Chukka Boot</th>\n",
       "      <td>21</td>\n",
       "    </tr>\n",
       "    <tr>\n",
       "      <th>Columbia Men's Newton Ridge Plus Ii Waterproof Hiking Boot Shoe</th>\n",
       "      <td>18</td>\n",
       "    </tr>\n",
       "  </tbody>\n",
       "</table>\n",
       "</div>"
      ],
      "text/plain": [
       "                                                    count\n",
       "Title                                                    \n",
       "Lone Cone Rain Boots with Easy-On Handles in Fu...     34\n",
       "Hudson Baby Unisex-Baby Cozy Fleece Booties            30\n",
       "Asgard Women's Ankle Rain Boots Waterproof Chel...     24\n",
       "Clarks Men's Bushacre 2 Chukka Boot                    21\n",
       "Columbia Men's Newton Ridge Plus Ii Waterproof ...     18"
      ]
     },
     "metadata": {},
     "output_type": "display_data"
    }
   ],
   "source": [
    "view_category_top_purchases('BOOT')"
   ]
  },
  {
   "cell_type": "code",
   "execution_count": 63,
   "id": "ed905d68",
   "metadata": {},
   "outputs": [
    {
     "name": "stdout",
     "output_type": "stream",
     "text": [
      "20482 total shoe purchases in dataset\n"
     ]
    }
   ],
   "source": [
    "shoe_categories = ['SHOES', 'TECHNICAL_SPORT_SHOE', 'BOOT', 'SANDAL', 'SLIPPER']\n",
    "shoe_purchases = amzn_data_sample[amzn_data_sample['Category'].isin(shoe_categories)]\n",
    "shoe_purchases_robust20182019 = shoe_purchases[shoe_purchases[RESPONSE_ID].isin(robust_rids_20182019)]\n",
    "\n",
    "print('%s total shoe purchases in dataset' % len(shoe_purchases))"
   ]
  },
  {
   "cell_type": "markdown",
   "id": "bbed88f2",
   "metadata": {},
   "source": [
    "### Shoe purchases analysis\n"
   ]
  },
  {
   "cell_type": "markdown",
   "id": "fcb739bc",
   "metadata": {},
   "source": [
    "Data checks"
   ]
  },
  {
   "cell_type": "code",
   "execution_count": 64,
   "id": "46854cd6",
   "metadata": {},
   "outputs": [
    {
     "name": "stdout",
     "output_type": "stream",
     "text": [
      "There are some outlier purchasers making lots of purchases!\n",
      "Shoe purchases per person per year\n"
     ]
    },
    {
     "data": {
      "text/html": [
       "<div>\n",
       "<style scoped>\n",
       "    .dataframe tbody tr th:only-of-type {\n",
       "        vertical-align: middle;\n",
       "    }\n",
       "\n",
       "    .dataframe tbody tr th {\n",
       "        vertical-align: top;\n",
       "    }\n",
       "\n",
       "    .dataframe thead th {\n",
       "        text-align: right;\n",
       "    }\n",
       "</style>\n",
       "<table border=\"1\" class=\"dataframe\">\n",
       "  <thead>\n",
       "    <tr style=\"text-align: right;\">\n",
       "      <th></th>\n",
       "      <th>sum</th>\n",
       "      <th>count</th>\n",
       "    </tr>\n",
       "  </thead>\n",
       "  <tbody>\n",
       "    <tr>\n",
       "      <th>count</th>\n",
       "      <td>7782.000000</td>\n",
       "      <td>7782.000000</td>\n",
       "    </tr>\n",
       "    <tr>\n",
       "      <th>mean</th>\n",
       "      <td>2.648419</td>\n",
       "      <td>2.631971</td>\n",
       "    </tr>\n",
       "    <tr>\n",
       "      <th>std</th>\n",
       "      <td>3.356282</td>\n",
       "      <td>3.338619</td>\n",
       "    </tr>\n",
       "    <tr>\n",
       "      <th>min</th>\n",
       "      <td>1.000000</td>\n",
       "      <td>1.000000</td>\n",
       "    </tr>\n",
       "    <tr>\n",
       "      <th>25%</th>\n",
       "      <td>1.000000</td>\n",
       "      <td>1.000000</td>\n",
       "    </tr>\n",
       "    <tr>\n",
       "      <th>50%</th>\n",
       "      <td>2.000000</td>\n",
       "      <td>2.000000</td>\n",
       "    </tr>\n",
       "    <tr>\n",
       "      <th>75%</th>\n",
       "      <td>3.000000</td>\n",
       "      <td>3.000000</td>\n",
       "    </tr>\n",
       "    <tr>\n",
       "      <th>max</th>\n",
       "      <td>83.000000</td>\n",
       "      <td>83.000000</td>\n",
       "    </tr>\n",
       "  </tbody>\n",
       "</table>\n",
       "</div>"
      ],
      "text/plain": [
       "               sum        count\n",
       "count  7782.000000  7782.000000\n",
       "mean      2.648419     2.631971\n",
       "std       3.356282     3.338619\n",
       "min       1.000000     1.000000\n",
       "25%       1.000000     1.000000\n",
       "50%       2.000000     2.000000\n",
       "75%       3.000000     3.000000\n",
       "max      83.000000    83.000000"
      ]
     },
     "execution_count": 64,
     "metadata": {},
     "output_type": "execute_result"
    }
   ],
   "source": [
    "# Sum is sum over quanity. Count is unique purchases per person per year\n",
    "print('There are some outlier purchasers making lots of purchases!')\n",
    "print('Shoe purchases per person per year')\n",
    "shoe_purchases_per_person = shoe_purchases.groupby([YEAR,RESPONSE_ID])['Quantity'].agg(['sum','count'])\n",
    "shoe_purchases_per_person.describe()"
   ]
  },
  {
   "cell_type": "code",
   "execution_count": 65,
   "id": "db24ae9b",
   "metadata": {},
   "outputs": [
    {
     "name": "stdout",
     "output_type": "stream",
     "text": [
      "90th percentile :  5.0\n",
      "95th percentile :  8.0\n",
      "99th percentile :  15.0\n"
     ]
    }
   ],
   "source": [
    "# What is the 90th percentile?\n",
    "# Actually the 99th percentile is a reasonable amount of shoes to buy (imagine they have a family)\n",
    "print('90th percentile : ', shoe_purchases_per_person['sum'].quantile(0.90))\n",
    "print('95th percentile : ', shoe_purchases_per_person['sum'].quantile(0.95))\n",
    "print('99th percentile : ', shoe_purchases_per_person['sum'].quantile(0.99))"
   ]
  },
  {
   "cell_type": "code",
   "execution_count": 66,
   "id": "83e27bf0",
   "metadata": {},
   "outputs": [
    {
     "name": "stdout",
     "output_type": "stream",
     "text": [
      "2746 purchases from N=1178 purchasers in 2018 dataset\n",
      "3500 purchases from N=1388 purchasers in 2019 dataset\n"
     ]
    },
    {
     "data": {
      "text/plain": [
       "Shipping Address State\n",
       "AL    0.096774\n",
       "AR   -0.212121\n",
       "AZ    0.447368\n",
       "CA    0.178808\n",
       "CO   -0.136364\n",
       "Name: Quantity, dtype: float64"
      ]
     },
     "execution_count": 66,
     "metadata": {},
     "output_type": "execute_result"
    }
   ],
   "source": [
    "shoe_purchases_pct_change20182019 = get_pct_change_purchases(shoe_purchases, verbose=True)\n",
    "shoe_purchases_pct_change20182019.head()"
   ]
  },
  {
   "cell_type": "code",
   "execution_count": 67,
   "id": "dfa5e85a",
   "metadata": {},
   "outputs": [
    {
     "name": "stdout",
     "output_type": "stream",
     "text": [
      "2746 purchases from N=1178 purchasers in 2018 dataset\n",
      "3500 purchases from N=1388 purchasers in 2019 dataset\n"
     ]
    },
    {
     "data": {
      "text/plain": [
       "Shipping Address State\n",
       "AL    0.062500\n",
       "AR    0.300000\n",
       "AZ    0.578947\n",
       "CA    0.222222\n",
       "CO    0.380952\n",
       "Name: Survey ResponseID, dtype: float64"
      ]
     },
     "execution_count": 67,
     "metadata": {},
     "output_type": "execute_result"
    }
   ],
   "source": [
    "shoe_buyers_pct_change20182019 = get_pct_change_buyers(shoe_purchases, verbose=True)\n",
    "shoe_buyers_pct_change20182019.head()"
   ]
  },
  {
   "cell_type": "code",
   "execution_count": 68,
   "id": "96d78de7",
   "metadata": {},
   "outputs": [
    {
     "name": "stdout",
     "output_type": "stream",
     "text": [
      "correlation between percent change in buyers vs total purchases (shoes)\n",
      "Pearson r=0.8501 (p-value=0.0000)\n",
      "Spearman r=0.6214 (p-value=0.0000)\n"
     ]
    }
   ],
   "source": [
    "print('correlation between percent change in buyers vs total purchases (shoes)')\n",
    "r, pvalue = pearsonr(shoe_purchases_pct_change20182019, shoe_buyers_pct_change20182019)\n",
    "print('Pearson r=%0.4f (p-value=%0.4f)' % (r, pvalue))\n",
    "r, pvalue = spearmanr(shoe_purchases_pct_change20182019, shoe_buyers_pct_change20182019)\n",
    "print('Spearman r=%0.4f (p-value=%0.4f)' % (r, pvalue))"
   ]
  },
  {
   "cell_type": "markdown",
   "id": "19b2c19b",
   "metadata": {},
   "source": [
    "#### Compare census data to purchases data\n",
    "\n",
    "Using random sampling\n"
   ]
  },
  {
   "cell_type": "code",
   "execution_count": 69,
   "id": "314726a6",
   "metadata": {},
   "outputs": [
    {
     "name": "stdout",
     "output_type": "stream",
     "text": [
      "2018-2019: 1/1000\n",
      "2027 purchases from N=865 purchasers in 2018 dataset\n",
      "2663 purchases from N=1020 purchasers in 2019 dataset\n",
      "2018-2019: 501/1000\n",
      "1980 purchases from N=867 purchasers in 2018 dataset\n",
      "2522 purchases from N=1032 purchasers in 2019 dataset\n",
      "2019-2020: 1/1000\n",
      "2477 purchases from N=963 purchasers in 2019 dataset\n",
      "2737 purchases from N=1080 purchasers in 2020 dataset\n",
      "2019-2020: 501/1000\n",
      "2551 purchases from N=980 purchasers in 2019 dataset\n",
      "2701 purchases from N=1067 purchasers in 2020 dataset\n",
      "2020-2021: 1/1000\n",
      "2421 purchases from N=1003 purchasers in 2020 dataset\n",
      "3105 purchases from N=1138 purchasers in 2021 dataset\n",
      "2020-2021: 501/1000\n",
      "2617 purchases from N=1038 purchasers in 2020 dataset\n",
      "3171 purchases from N=1149 purchasers in 2021 dataset\n"
     ]
    },
    {
     "data": {
      "text/html": [
       "<div>\n",
       "<style scoped>\n",
       "    .dataframe tbody tr th:only-of-type {\n",
       "        vertical-align: middle;\n",
       "    }\n",
       "\n",
       "    .dataframe tbody tr th {\n",
       "        vertical-align: top;\n",
       "    }\n",
       "\n",
       "    .dataframe thead th {\n",
       "        text-align: right;\n",
       "    }\n",
       "</style>\n",
       "<table border=\"1\" class=\"dataframe\">\n",
       "  <thead>\n",
       "    <tr style=\"text-align: right;\">\n",
       "      <th></th>\n",
       "      <th>2018-2019 pct change</th>\n",
       "      <th>2019-2020 pct change</th>\n",
       "      <th>2020-2021 pct change</th>\n",
       "    </tr>\n",
       "    <tr>\n",
       "      <th>Shipping Address State</th>\n",
       "      <th></th>\n",
       "      <th></th>\n",
       "      <th></th>\n",
       "    </tr>\n",
       "  </thead>\n",
       "  <tbody>\n",
       "    <tr>\n",
       "      <th>AL</th>\n",
       "      <td>0.078612</td>\n",
       "      <td>0.020043</td>\n",
       "      <td>0.558751</td>\n",
       "    </tr>\n",
       "    <tr>\n",
       "      <th>AR</th>\n",
       "      <td>0.342762</td>\n",
       "      <td>0.087643</td>\n",
       "      <td>-0.053131</td>\n",
       "    </tr>\n",
       "    <tr>\n",
       "      <th>AZ</th>\n",
       "      <td>0.603896</td>\n",
       "      <td>0.072308</td>\n",
       "      <td>-0.066221</td>\n",
       "    </tr>\n",
       "    <tr>\n",
       "      <th>CA</th>\n",
       "      <td>0.222621</td>\n",
       "      <td>-0.096807</td>\n",
       "      <td>0.139166</td>\n",
       "    </tr>\n",
       "    <tr>\n",
       "      <th>CO</th>\n",
       "      <td>0.397106</td>\n",
       "      <td>0.107226</td>\n",
       "      <td>-0.063314</td>\n",
       "    </tr>\n",
       "  </tbody>\n",
       "</table>\n",
       "</div>"
      ],
      "text/plain": [
       "                        2018-2019 pct change  2019-2020 pct change   \n",
       "Shipping Address State                                               \n",
       "AL                                  0.078612              0.020043  \\\n",
       "AR                                  0.342762              0.087643   \n",
       "AZ                                  0.603896              0.072308   \n",
       "CA                                  0.222621             -0.096807   \n",
       "CO                                  0.397106              0.107226   \n",
       "\n",
       "                        2020-2021 pct change  \n",
       "Shipping Address State                        \n",
       "AL                                  0.558751  \n",
       "AR                                 -0.053131  \n",
       "AZ                                 -0.066221  \n",
       "CA                                  0.139166  \n",
       "CO                                 -0.063314  "
      ]
     },
     "execution_count": 69,
     "metadata": {},
     "output_type": "execute_result"
    }
   ],
   "source": [
    "pct_changes = get_pct_change_buyers_via_random_sampling(shoe_purchases, 2018, 2019)\n",
    "shoe_buyers_pct_changes = pct_changes.rename('2018-2019 pct change').to_frame()\n",
    "pct_changes = get_pct_change_buyers_via_random_sampling(shoe_purchases, 2019, 2020)\n",
    "shoe_buyers_pct_changes['2019-2020 pct change'] = shoe_buyers_pct_changes.index.map(pct_changes)\n",
    "pct_changes = get_pct_change_buyers_via_random_sampling(shoe_purchases, 2020, 2021)\n",
    "shoe_buyers_pct_changes['2020-2021 pct change'] = shoe_buyers_pct_changes.index.map(pct_changes)\n",
    "shoe_buyers_pct_changes.head()"
   ]
  },
  {
   "cell_type": "code",
   "execution_count": 70,
   "id": "88e5f77c",
   "metadata": {},
   "outputs": [
    {
     "name": "stdout",
     "output_type": "stream",
     "text": [
      "Comparing to 2018-2019 census data: Employment\n",
      "Pearson r=-0.3149 (p-value=0.0351)\n"
     ]
    }
   ],
   "source": [
    "print('Comparing to 2018-2019 census data: Employment')\n",
    "r, pvalue = pearsonr(\n",
    "    shoe_buyers_pct_changes['2018-2019 pct change'].loc[sample_states], \n",
    "    census_shoe_stores['2018-2019 employment/population percent change'].loc[sample_states]\n",
    ")\n",
    "print('Pearson r=%0.4f (p-value=%0.4f)' % (r, pvalue))"
   ]
  },
  {
   "cell_type": "code",
   "execution_count": 71,
   "id": "8180a5e7",
   "metadata": {},
   "outputs": [
    {
     "name": "stdout",
     "output_type": "stream",
     "text": [
      "Comparing to 2019-2020 census data: Employment\n",
      "Pearson r=-0.0016 (p-value=0.9917)\n"
     ]
    }
   ],
   "source": [
    "print('Comparing to 2019-2020 census data: Employment')\n",
    "r, pvalue = pearsonr(\n",
    "    shoe_buyers_pct_changes['2019-2020 pct change'].loc[sample_states], \n",
    "    census_shoe_stores['2019-2020 employment/population percent change'].loc[sample_states]\n",
    ")\n",
    "print('Pearson r=%0.4f (p-value=%0.4f)' % (r, pvalue))"
   ]
  },
  {
   "cell_type": "code",
   "execution_count": 72,
   "id": "962edc87",
   "metadata": {},
   "outputs": [
    {
     "name": "stdout",
     "output_type": "stream",
     "text": [
      "Comparing to 2020-2021 census data: Employment\n",
      "Pearson r=-0.1514 (p-value=0.3209)\n"
     ]
    }
   ],
   "source": [
    "print('Comparing to 2020-2021 census data: Employment')\n",
    "r, pvalue = pearsonr(\n",
    "    shoe_buyers_pct_changes['2020-2021 pct change'].loc[sample_states], \n",
    "    census_shoe_stores['2020-2021 employment/population percent change'].loc[sample_states]\n",
    ")\n",
    "print('Pearson r=%0.4f (p-value=%0.4f)' % (r, pvalue))"
   ]
  },
  {
   "cell_type": "code",
   "execution_count": 73,
   "id": "8d6a4d72",
   "metadata": {
    "scrolled": true
   },
   "outputs": [
    {
     "data": {
      "image/png": "[encoded data removed]",
      "text/plain": [
       "<Figure size 400x400 with 1 Axes>"
      ]
     },
     "metadata": {},
     "output_type": "display_data"
    }
   ],
   "source": [
    "fig, ax = plt.subplots(1,1,figsize=(4,4))\n",
    "ax.scatter(\n",
    "    100*shoe_buyers_pct_changes['2018-2019 pct change'].loc[sample_states], \n",
    "    100*census_shoe_stores['2018-2019 employment/population percent change'].loc[sample_states]\n",
    ")\n",
    "ax.set_title('State comparisons')\n",
    "# ax.set_xlim(-10,110)\n",
    "ax.xaxis.set_major_formatter(mtick.PercentFormatter(decimals=0))\n",
    "ax.yaxis.set_major_formatter(mtick.PercentFormatter(decimals=0))\n",
    "ax.set_xlabel('2018-2019 change in online shoe purchasers')\n",
    "_ = ax.set_ylabel('2018-2019 change in shoe store employment')"
   ]
  },
  {
   "cell_type": "markdown",
   "id": "1e92aae4",
   "metadata": {},
   "source": [
    "### Robust check\n",
    "\n",
    "Repeat the analysis for 2018-2019 using the robust sample\n"
   ]
  },
  {
   "cell_type": "code",
   "execution_count": 73,
   "id": "f0c52f0f",
   "metadata": {},
   "outputs": [
    {
     "name": "stdout",
     "output_type": "stream",
     "text": [
      "2018-2019: 1/1000\n",
      "1934 purchases from N=822 purchasers in 2018 dataset\n",
      "2511 purchases from N=1000 purchasers in 2019 dataset\n",
      "2018-2019: 501/1000\n",
      "1974 purchases from N=847 purchasers in 2018 dataset\n",
      "2403 purchases from N=979 purchasers in 2019 dataset\n"
     ]
    }
   ],
   "source": [
    "shoe_buyers_pct_changes_r20182019 = get_pct_change_buyers_via_random_sampling(shoe_purchases_robust20182019, 2018, 2019)"
   ]
  },
  {
   "cell_type": "code",
   "execution_count": 74,
   "id": "a3d25519",
   "metadata": {},
   "outputs": [
    {
     "name": "stdout",
     "output_type": "stream",
     "text": [
      "Comparing to 2018-2019 census data: Employment\n",
      "Pearson r=-0.2986 (p-value=0.0463)\n"
     ]
    }
   ],
   "source": [
    "print('Comparing to 2018-2019 census data: Employment')\n",
    "r, pvalue = pearsonr(\n",
    "    shoe_buyers_pct_changes_r20182019.loc[sample_states], \n",
    "    census_shoe_stores['2018-2019 employment/population percent change'].loc[sample_states]\n",
    ")\n",
    "print('Pearson r=%0.4f (p-value=%0.4f)' % (r, pvalue))"
   ]
  },
  {
   "cell_type": "code",
   "execution_count": 75,
   "id": "3b651451",
   "metadata": {},
   "outputs": [
    {
     "data": {
      "image/png": "[encoded data removed]",
      "text/plain": [
       "<Figure size 400x400 with 1 Axes>"
      ]
     },
     "metadata": {},
     "output_type": "display_data"
    }
   ],
   "source": [
    "fig, ax = plt.subplots(1,1,figsize=(4,4))\n",
    "ax.scatter(\n",
    "    100*shoe_buyers_pct_changes_r20182019.loc[sample_states],\n",
    "    100*census_shoe_stores['2018-2019 employment/population percent change'].loc[sample_states]\n",
    ")\n",
    "ax.set_title('State comparisons')\n",
    "# ax.set_xlim(-10,110)\n",
    "ax.xaxis.set_major_formatter(mtick.PercentFormatter(decimals=0))\n",
    "ax.yaxis.set_major_formatter(mtick.PercentFormatter(decimals=0))\n",
    "ax.set_xlabel('2018-2019 change in online shoe purchasers')\n",
    "_ = ax.set_ylabel('2018-2019 change in shoe store employment')"
   ]
  },
  {
   "cell_type": "markdown",
   "id": "5905625b",
   "metadata": {},
   "source": [
    "Notes from experiments\n",
    "\n",
    "- using a smaller random sample (given fewer ppl buy shoes than books) reduces correlation\n",
    "- No significant correlation with # Establishments\n",
    "- Stratifying by state: No improvement\n",
    "- Slightly stronger negative correlation when comparing total purchases to employment\n",
    "- Doesn't work: comparing portion of purchasers increasing purchases\n",
    "- Doesn't work/correlation too weak: Limiting to establishments of smaller size\n",
    "\n",
    "- normalizing employment by population works slightly better than not normalizing by population\n"
   ]
  },
  {
   "cell_type": "markdown",
   "id": "a43d77a4",
   "metadata": {},
   "source": [
    "#### Compare changes in purchases and number of establishments\n",
    "\n",
    "Compare: percent change in purchases to percent change in number of establishments\n",
    "\n",
    "For\n",
    "- 2018 - 2021\n",
    "- 2019 - 2021 (COVID effects isolated)"
   ]
  },
  {
   "cell_type": "code",
   "execution_count": 153,
   "id": "cece5faf",
   "metadata": {},
   "outputs": [
    {
     "name": "stdout",
     "output_type": "stream",
     "text": [
      "2018-2021: 1/1000\n",
      "1890 purchases from N=826 purchasers in 2018 dataset\n",
      "3146 purchases from N=1168 purchasers in 2021 dataset\n",
      "2018-2021: 501/1000\n",
      "1868 purchases from N=813 purchasers in 2018 dataset\n",
      "3353 purchases from N=1166 purchasers in 2021 dataset\n",
      "2019-2021: 1/1000\n",
      "2292 purchases from N=942 purchasers in 2019 dataset\n",
      "3154 purchases from N=1147 purchasers in 2021 dataset\n",
      "2019-2021: 501/1000\n",
      "2332 purchases from N=929 purchasers in 2019 dataset\n",
      "3232 purchases from N=1157 purchasers in 2021 dataset\n"
     ]
    }
   ],
   "source": [
    "pct_changes = get_pct_change_buyers_via_random_sampling(shoe_purchases, 2018, 2021)\n",
    "shoe_buyers_pct_changes['2018-2021 pct change'] = shoe_buyers_pct_changes.index.map(pct_changes)\n",
    "pct_changes = get_pct_change_buyers_via_random_sampling(shoe_purchases, 2019, 2021)\n",
    "shoe_buyers_pct_changes['2019-2021 pct change'] = shoe_buyers_pct_changes.index.map(pct_changes)"
   ]
  },
  {
   "cell_type": "code",
   "execution_count": 155,
   "id": "81fe9bcf",
   "metadata": {},
   "outputs": [
    {
     "name": "stdout",
     "output_type": "stream",
     "text": [
      "Comparing 2018-2021 changes in purchases to changes in census data: establishments\n",
      "Pearson r=-0.0584 (p-value=0.7031)\n"
     ]
    }
   ],
   "source": [
    "print('Comparing 2018-2021 changes in purchases to changes in census data: establishments')\n",
    "r, pvalue = pearsonr(\n",
    "    shoe_buyers_pct_changes['2018-2021 pct change'].loc[sample_states], \n",
    "    census_shoe_stores['2018-2021 establishments percent change'].loc[sample_states]\n",
    ")\n",
    "print('Pearson r=%0.4f (p-value=%0.4f)' % (r, pvalue))"
   ]
  },
  {
   "cell_type": "code",
   "execution_count": 157,
   "id": "bae5f31a",
   "metadata": {},
   "outputs": [
    {
     "name": "stdout",
     "output_type": "stream",
     "text": [
      "Comparing 2019-2021 changes in purchases to changes in census data: establishments\n",
      "Pearson r=0.3760 (p-value=0.0109)\n"
     ]
    }
   ],
   "source": [
    "print('Comparing 2019-2021 changes in purchases to changes in census data: establishments')\n",
    "r, pvalue = pearsonr(\n",
    "    shoe_buyers_pct_changes['2019-2021 pct change'].loc[sample_states], \n",
    "    census_shoe_stores['2019-2021 establishments percent change'].loc[sample_states]\n",
    ")\n",
    "print('Pearson r=%0.4f (p-value=%0.4f)' % (r, pvalue))"
   ]
  },
  {
   "cell_type": "markdown",
   "id": "e7e6081d",
   "metadata": {},
   "source": [
    "### Pharmacies and drug stores\n",
    "\n",
    "https://www.census.gov/naics/?input=drug+stores&year=2022&details=456110"
   ]
  },
  {
   "cell_type": "code",
   "execution_count": 51,
   "id": "51c48182",
   "metadata": {},
   "outputs": [
    {
     "name": "stdout",
     "output_type": "stream",
     "text": [
      "7 pharmacy categories\n",
      "79959 total pharmacy related purchases in sample\n"
     ]
    },
    {
     "data": {
      "text/plain": [
       "Category\n",
       "HEALTH_PERSONAL_CARE    15292\n",
       "MEDICATION              15195\n",
       "SKIN_MOISTURIZER        12514\n",
       "SKIN_CLEANING_AGENT     10494\n",
       "VITAMIN                 10196\n",
       "HERBAL_SUPPLEMENT        8192\n",
       "BEAUTY                   8076\n",
       "Name: count, dtype: int64"
      ]
     },
     "execution_count": 51,
     "metadata": {},
     "output_type": "execute_result"
    }
   ],
   "source": [
    "# Use the same pharmacy categories as other analyses\n",
    "pharmacy_cats = [\n",
    "    'HEALTH_PERSONAL_CARE',\n",
    "    'MEDICATION',\n",
    "    'VITAMIN',\n",
    "    'HERBAL_SUPPLEMENT',\n",
    "    'SKIN_MOISTURIZER',\n",
    "    'SKIN_CLEANING_AGENT',\n",
    "    'BEAUTY',\n",
    "]\n",
    "\n",
    "print('%s pharmacy categories' % len(pharmacy_cats))\n",
    "# print(pharmacy_cats)\n",
    "pharm_purchases = amzn_data_sample[amzn_data_sample['Category'].isin(pharmacy_cats)]\n",
    "print('%s total pharmacy related purchases in sample' % len(pharm_purchases))\n",
    "pharm_purchases[CATEGORY].value_counts()"
   ]
  },
  {
   "cell_type": "code",
   "execution_count": 53,
   "id": "e7de6ab7",
   "metadata": {},
   "outputs": [
    {
     "name": "stdout",
     "output_type": "stream",
     "text": [
      "Pharmacy purchases per person per year\n"
     ]
    },
    {
     "data": {
      "text/html": [
       "<div>\n",
       "<style scoped>\n",
       "    .dataframe tbody tr th:only-of-type {\n",
       "        vertical-align: middle;\n",
       "    }\n",
       "\n",
       "    .dataframe tbody tr th {\n",
       "        vertical-align: top;\n",
       "    }\n",
       "\n",
       "    .dataframe thead th {\n",
       "        text-align: right;\n",
       "    }\n",
       "</style>\n",
       "<table border=\"1\" class=\"dataframe\">\n",
       "  <thead>\n",
       "    <tr style=\"text-align: right;\">\n",
       "      <th></th>\n",
       "      <th>sum</th>\n",
       "      <th>count</th>\n",
       "    </tr>\n",
       "  </thead>\n",
       "  <tbody>\n",
       "    <tr>\n",
       "      <th>count</th>\n",
       "      <td>13158.000000</td>\n",
       "      <td>13158.000000</td>\n",
       "    </tr>\n",
       "    <tr>\n",
       "      <th>mean</th>\n",
       "      <td>6.619851</td>\n",
       "      <td>6.076835</td>\n",
       "    </tr>\n",
       "    <tr>\n",
       "      <th>std</th>\n",
       "      <td>10.027781</td>\n",
       "      <td>8.438076</td>\n",
       "    </tr>\n",
       "    <tr>\n",
       "      <th>min</th>\n",
       "      <td>1.000000</td>\n",
       "      <td>1.000000</td>\n",
       "    </tr>\n",
       "    <tr>\n",
       "      <th>25%</th>\n",
       "      <td>1.000000</td>\n",
       "      <td>1.000000</td>\n",
       "    </tr>\n",
       "    <tr>\n",
       "      <th>50%</th>\n",
       "      <td>3.000000</td>\n",
       "      <td>3.000000</td>\n",
       "    </tr>\n",
       "    <tr>\n",
       "      <th>75%</th>\n",
       "      <td>8.000000</td>\n",
       "      <td>7.000000</td>\n",
       "    </tr>\n",
       "    <tr>\n",
       "      <th>max</th>\n",
       "      <td>334.000000</td>\n",
       "      <td>165.000000</td>\n",
       "    </tr>\n",
       "  </tbody>\n",
       "</table>\n",
       "</div>"
      ],
      "text/plain": [
       "                sum         count\n",
       "count  13158.000000  13158.000000\n",
       "mean       6.619851      6.076835\n",
       "std       10.027781      8.438076\n",
       "min        1.000000      1.000000\n",
       "25%        1.000000      1.000000\n",
       "50%        3.000000      3.000000\n",
       "75%        8.000000      7.000000\n",
       "max      334.000000    165.000000"
      ]
     },
     "execution_count": 53,
     "metadata": {},
     "output_type": "execute_result"
    }
   ],
   "source": [
    "# Sum is sum over quanity. Count is unique purchases per person per year\n",
    "print('Pharmacy purchases per person per year')\n",
    "pharm_purchases_per_person = pharm_purchases.groupby([YEAR,RESPONSE_ID])['Quantity'].agg(['sum','count'])\n",
    "pharm_purchases_per_person.describe()"
   ]
  },
  {
   "cell_type": "markdown",
   "id": "bd156488",
   "metadata": {},
   "source": [
    "#### Compare census data to purchases data\n",
    "\n",
    "Using random sampling\n"
   ]
  },
  {
   "cell_type": "code",
   "execution_count": 54,
   "id": "1f1f7c59",
   "metadata": {},
   "outputs": [
    {
     "name": "stdout",
     "output_type": "stream",
     "text": [
      "Pharmacy purchases\n",
      "2018-2019: 1/1000\n",
      "5823 purchases from N=1238 purchasers in 2018 dataset\n",
      "7071 purchases from N=1364 purchasers in 2019 dataset\n",
      "2018-2019: 501/1000\n",
      "5710 purchases from N=1226 purchasers in 2018 dataset\n",
      "6942 purchases from N=1352 purchasers in 2019 dataset\n"
     ]
    },
    {
     "data": {
      "text/html": [
       "<div>\n",
       "<style scoped>\n",
       "    .dataframe tbody tr th:only-of-type {\n",
       "        vertical-align: middle;\n",
       "    }\n",
       "\n",
       "    .dataframe tbody tr th {\n",
       "        vertical-align: top;\n",
       "    }\n",
       "\n",
       "    .dataframe thead th {\n",
       "        text-align: right;\n",
       "    }\n",
       "</style>\n",
       "<table border=\"1\" class=\"dataframe\">\n",
       "  <thead>\n",
       "    <tr style=\"text-align: right;\">\n",
       "      <th></th>\n",
       "      <th>2018-2019 pct change</th>\n",
       "    </tr>\n",
       "    <tr>\n",
       "      <th>Shipping Address State</th>\n",
       "      <th></th>\n",
       "    </tr>\n",
       "  </thead>\n",
       "  <tbody>\n",
       "    <tr>\n",
       "      <th>AL</th>\n",
       "      <td>-0.117021</td>\n",
       "    </tr>\n",
       "    <tr>\n",
       "      <th>AR</th>\n",
       "      <td>0.536284</td>\n",
       "    </tr>\n",
       "    <tr>\n",
       "      <th>AZ</th>\n",
       "      <td>0.235348</td>\n",
       "    </tr>\n",
       "    <tr>\n",
       "      <th>CA</th>\n",
       "      <td>0.118573</td>\n",
       "    </tr>\n",
       "    <tr>\n",
       "      <th>CO</th>\n",
       "      <td>0.072159</td>\n",
       "    </tr>\n",
       "  </tbody>\n",
       "</table>\n",
       "</div>"
      ],
      "text/plain": [
       "                        2018-2019 pct change\n",
       "Shipping Address State                      \n",
       "AL                                 -0.117021\n",
       "AR                                  0.536284\n",
       "AZ                                  0.235348\n",
       "CA                                  0.118573\n",
       "CO                                  0.072159"
      ]
     },
     "execution_count": 54,
     "metadata": {},
     "output_type": "execute_result"
    }
   ],
   "source": [
    "print('Pharmacy purchases')\n",
    "pct_changes = get_pct_change_buyers_via_random_sampling(pharm_purchases, 2018, 2019)\n",
    "pharm_buyers_pct_changes = pct_changes.rename('2018-2019 pct change').to_frame()\n",
    "pharm_buyers_pct_changes.head()"
   ]
  },
  {
   "cell_type": "code",
   "execution_count": 56,
   "id": "52e7f1c2",
   "metadata": {},
   "outputs": [
    {
     "name": "stdout",
     "output_type": "stream",
     "text": [
      "Comparing pharmacy purchases to 2018-2019 census data: Employment\n",
      "Pearson r=0.2187 (p-value=0.1489)\n"
     ]
    }
   ],
   "source": [
    "print('Comparing pharmacy purchases to 2018-2019 census data: Employment')\n",
    "r, pvalue = pearsonr(\n",
    "    pharm_buyers_pct_changes['2018-2019 pct change'].loc[sample_states], \n",
    "    census_pharmacies['2018-2019 employment/population percent change'].loc[sample_states]\n",
    ")\n",
    "print('Pearson r=%0.4f (p-value=%0.4f)' % (r, pvalue))"
   ]
  },
  {
   "cell_type": "markdown",
   "id": "b1499ac3",
   "metadata": {},
   "source": [
    "#### Compare changes in purchases and number of establishments\n",
    "\n",
    "Compare: percent change in purchases to percent change in number of establishments\n",
    "\n",
    "For\n",
    "- 2018 - 2021\n",
    "- 2019 - 2021 (COVID effects isolated)"
   ]
  },
  {
   "cell_type": "code",
   "execution_count": 57,
   "id": "905ef9fa",
   "metadata": {},
   "outputs": [
    {
     "name": "stdout",
     "output_type": "stream",
     "text": [
      "2018-2021: 1/1000\n",
      "4694 purchases from N=1066 purchasers in 2018 dataset\n",
      "10289 purchases from N=1526 purchasers in 2021 dataset\n",
      "2018-2021: 501/1000\n",
      "4981 purchases from N=1084 purchasers in 2018 dataset\n",
      "10396 purchases from N=1523 purchasers in 2021 dataset\n",
      "2019-2021: 1/1000\n",
      "6282 purchases from N=1216 purchasers in 2019 dataset\n",
      "10810 purchases from N=1530 purchasers in 2021 dataset\n",
      "2019-2021: 501/1000\n",
      "5731 purchases from N=1199 purchasers in 2019 dataset\n",
      "10292 purchases from N=1546 purchasers in 2021 dataset\n"
     ]
    }
   ],
   "source": [
    "pharm_buyers_pct_changes20182021 = get_pct_change_buyers_via_random_sampling(pharm_purchases, 2018, 2021).dropna()\n",
    "pharm_buyers_pct_changes20192021 = get_pct_change_buyers_via_random_sampling(pharm_purchases, 2019, 2021).dropna()"
   ]
  },
  {
   "cell_type": "code",
   "execution_count": 69,
   "id": "64b330e2",
   "metadata": {},
   "outputs": [
    {
     "name": "stdout",
     "output_type": "stream",
     "text": [
      "Comparing 2018-2021 changes in purchases to changes in census data: establishments\n",
      "Pearson r=-0.0394 (p-value=0.7970)\n"
     ]
    }
   ],
   "source": [
    "print('Comparing 2018-2021 changes in purchases to changes in census data: establishments')\n",
    "r, pvalue = pearsonr(\n",
    "    pharm_buyers_pct_changes20182021, \n",
    "    census_pharmacies['2018-2021 establishments percent change'].loc[pharm_buyers_pct_changes20182021.index]\n",
    ")\n",
    "print('Pearson r=%0.4f (p-value=%0.4f)' % (r, pvalue))"
   ]
  },
  {
   "cell_type": "code",
   "execution_count": 70,
   "id": "955ca890",
   "metadata": {},
   "outputs": [
    {
     "name": "stdout",
     "output_type": "stream",
     "text": [
      "Comparing 2019-2021 changes in purchases to changes in census data: establishments\n",
      "Pearson r=0.0365 (p-value=0.8120)\n"
     ]
    }
   ],
   "source": [
    "print('Comparing 2019-2021 changes in purchases to changes in census data: establishments')\n",
    "r, pvalue = pearsonr(\n",
    "    pharm_buyers_pct_changes20192021, \n",
    "    census_pharmacies['2019-2021 establishments percent change'].loc[pharm_buyers_pct_changes20192021.index]\n",
    ")\n",
    "print('Pearson r=%0.4f (p-value=%0.4f)' % (r, pvalue))"
   ]
  },
  {
   "cell_type": "markdown",
   "id": "1d22c740",
   "metadata": {},
   "source": [
    "### Supermarkets and grocery stores\n",
    "\n",
    "https://www.census.gov/naics/?input=grocery&year=2022&details=445110"
   ]
  },
  {
   "cell_type": "code",
   "execution_count": 58,
   "id": "33d2af35",
   "metadata": {},
   "outputs": [
    {
     "name": "stdout",
     "output_type": "stream",
     "text": [
      "56 grocery categories\n",
      "210371 total grocery purchases in sample\n"
     ]
    },
    {
     "data": {
      "text/plain": [
       "Category\n",
       "NUTRITIONAL_SUPPLEMENT    24995\n",
       "FOOD                      10795\n",
       "GROCERY                   10753\n",
       "VEGETABLE                 10463\n",
       "COFFEE                    10080\n",
       "DRINK_FLAVORED             8732\n",
       "HERBAL_SUPPLEMENT          8192\n",
       "FRUIT                      7372\n",
       "SNACK_FOOD_BAR             6955\n",
       "TEA                        6012\n",
       "SUGAR_CANDY                5397\n",
       "SNACK_CHIP_AND_CRISP       5232\n",
       "DAIRY_BASED_CHEESE         4744\n",
       "SAUCE                      4603\n",
       "COOKIE                     4486\n",
       "NUT_AND_SEED               4401\n",
       "BREAKFAST_CEREAL           4349\n",
       "MEAT                       4330\n",
       "WATER                      4307\n",
       "BREAD                      3754\n",
       "PACKAGED_SOUP_AND_STEW     3579\n",
       "CHOCOLATE_CANDY            3565\n",
       "HERB                       3470\n",
       "NOODLE                     3346\n",
       "POULTRY                    3219\n",
       "FRUIT_SNACK                2894\n",
       "JUICE_AND_JUICE_DRINK      2877\n",
       "CRACKER                    2677\n",
       "LEGUME                     2046\n",
       "EDIBLE_OIL_VEGETABLE       1954\n",
       "DAIRY_BASED_DRINK          1883\n",
       "DAIRY_BASED_YOGURT         1729\n",
       "SEASONING                  1721\n",
       "FISH                       1702\n",
       "SYRUP                      1666\n",
       "CHEWING_GUM                1656\n",
       "NUT_BUTTER                 1416\n",
       "BAKING_MIX                 1379\n",
       "CONDIMENT                  1364\n",
       "MILK_SUBSTITUTE            1351\n",
       "DAIRY_BASED_ICE_CREAM      1302\n",
       "SNACK_MIX                  1273\n",
       "POPCORN                    1257\n",
       "DAIRY_BASED_CREAM          1091\n",
       "CEREAL                     1068\n",
       "CAKE                       1041\n",
       "PASTRY                     1012\n",
       "PUFFED_SNACK                969\n",
       "THICKENING_AGENT            903\n",
       "LEAVENING_AGENT             895\n",
       "SALAD_DRESSING              853\n",
       "CULINARY_SALT               840\n",
       "RICE_MIX                    665\n",
       "DAIRY_BASED_BUTTER          651\n",
       "SUGAR                       621\n",
       "Grocery                     484\n",
       "Name: count, dtype: int64"
      ]
     },
     "execution_count": 58,
     "metadata": {},
     "output_type": "execute_result"
    }
   ],
   "source": [
    "# Use the same grocery categories as other analyses\n",
    "groc_categories = ['GROCERY', 'FOOD', 'VEGETABLE', 'FRUIT', 'DAIRY_BASED_CHEESE', 'BREAD', 'POULTRY', 'DRINK_FLAVORED', 'SNACK_CHIP_AND_CRISP', 'HERB', 'MEAT', 'FRUIT_SNACK', 'SAUCE', 'NUT_AND_SEED', 'SNACK_MIX', 'WATER', 'DAIRY_BASED_CREAM', 'NOODLE', 'PUFFED_SNACK', 'PACKAGED_SOUP_AND_STEW', 'MILK_SUBSTITUTE', 'CRACKER', 'COOKIE', 'SUGAR_CANDY', 'SYRUP', 'DAIRY_BASED_BUTTER', 'BREAKFAST_CEREAL', 'COFFEE', 'TEA', 'SNACK_FOOD_BAR', 'POPCORN', 'LEAVENING_AGENT', 'Grocery', 'DAIRY_BASED_YOGURT', 'CHOCOLATE_CANDY', 'EDIBLE_OIL_VEGETABLE', 'JUICE_AND_JUICE_DRINK', 'SEASONING', 'CAKE', 'DAIRY_BASED_ICE_CREAM', 'DAIRY_BASED_DRINK', 'CONDIMENT', 'LEGUME', 'RICE_MIX', 'CHEWING_GUM', 'FISH', 'CULINARY_SALT', 'SUGAR', 'NUTRITIONAL_SUPPLEMENT', 'NUT_BUTTER', 'PASTRY', 'THICKENING_AGENT', 'CEREAL', 'BAKING_MIX', 'SALAD_DRESSING', 'HERBAL_SUPPLEMENT']\n",
    "print('%s grocery categories' % len(groc_categories))\n",
    "# print(groc_categories)\n",
    "groc_purchases = amzn_data_sample[amzn_data_sample['Category'].isin(groc_categories)]\n",
    "print('%s total grocery purchases in sample' % len(groc_purchases))\n",
    "groc_purchases[CATEGORY].value_counts()"
   ]
  },
  {
   "cell_type": "code",
   "execution_count": 59,
   "id": "373a60c2",
   "metadata": {},
   "outputs": [
    {
     "name": "stdout",
     "output_type": "stream",
     "text": [
      "5 *fresh* grocery categories\n",
      "27500 total grocery purchases in sample by 1100 users\n"
     ]
    },
    {
     "data": {
      "text/plain": [
       "Category\n",
       "VEGETABLE             10463\n",
       "FRUIT                  7372\n",
       "DAIRY_BASED_CHEESE     4744\n",
       "POULTRY                3219\n",
       "FISH                   1702\n",
       "Name: count, dtype: int64"
      ]
     },
     "execution_count": 59,
     "metadata": {},
     "output_type": "execute_result"
    }
   ],
   "source": [
    "fresh_groc_cats = [\n",
    "    'VEGETABLE', 'FRUIT', 'DAIRY_BASED_CHEESE', 'POULTRY', 'FISH',\n",
    "]\n",
    "print('%s *fresh* grocery categories' % len(fresh_groc_cats))\n",
    "# print(groc_categories)\n",
    "fresh_groc_purchases = amzn_data_sample[amzn_data_sample['Category'].isin(fresh_groc_cats)]\n",
    "print('%s total grocery purchases in sample by %s users' % (len(fresh_groc_purchases), fresh_groc_purchases[RESPONSE_ID].nunique()))\n",
    "fresh_groc_purchases[CATEGORY].value_counts()"
   ]
  },
  {
   "cell_type": "markdown",
   "id": "081e8df5",
   "metadata": {},
   "source": [
    "Data checks"
   ]
  },
  {
   "cell_type": "code",
   "execution_count": 60,
   "id": "56dd1719",
   "metadata": {},
   "outputs": [
    {
     "name": "stdout",
     "output_type": "stream",
     "text": [
      "There is huge variation in the number of per person purchases per year\n",
      "Grocery purchases per person per year\n"
     ]
    },
    {
     "data": {
      "text/html": [
       "<div>\n",
       "<style scoped>\n",
       "    .dataframe tbody tr th:only-of-type {\n",
       "        vertical-align: middle;\n",
       "    }\n",
       "\n",
       "    .dataframe tbody tr th {\n",
       "        vertical-align: top;\n",
       "    }\n",
       "\n",
       "    .dataframe thead th {\n",
       "        text-align: right;\n",
       "    }\n",
       "</style>\n",
       "<table border=\"1\" class=\"dataframe\">\n",
       "  <thead>\n",
       "    <tr style=\"text-align: right;\">\n",
       "      <th></th>\n",
       "      <th>sum</th>\n",
       "      <th>count</th>\n",
       "    </tr>\n",
       "  </thead>\n",
       "  <tbody>\n",
       "    <tr>\n",
       "      <th>count</th>\n",
       "      <td>13373.000000</td>\n",
       "      <td>13373.000000</td>\n",
       "    </tr>\n",
       "    <tr>\n",
       "      <th>mean</th>\n",
       "      <td>19.157108</td>\n",
       "      <td>15.731025</td>\n",
       "    </tr>\n",
       "    <tr>\n",
       "      <th>std</th>\n",
       "      <td>54.620761</td>\n",
       "      <td>41.827044</td>\n",
       "    </tr>\n",
       "    <tr>\n",
       "      <th>min</th>\n",
       "      <td>1.000000</td>\n",
       "      <td>1.000000</td>\n",
       "    </tr>\n",
       "    <tr>\n",
       "      <th>25%</th>\n",
       "      <td>2.000000</td>\n",
       "      <td>2.000000</td>\n",
       "    </tr>\n",
       "    <tr>\n",
       "      <th>50%</th>\n",
       "      <td>5.000000</td>\n",
       "      <td>5.000000</td>\n",
       "    </tr>\n",
       "    <tr>\n",
       "      <th>75%</th>\n",
       "      <td>14.000000</td>\n",
       "      <td>13.000000</td>\n",
       "    </tr>\n",
       "    <tr>\n",
       "      <th>max</th>\n",
       "      <td>1326.000000</td>\n",
       "      <td>997.000000</td>\n",
       "    </tr>\n",
       "  </tbody>\n",
       "</table>\n",
       "</div>"
      ],
      "text/plain": [
       "                sum         count\n",
       "count  13373.000000  13373.000000\n",
       "mean      19.157108     15.731025\n",
       "std       54.620761     41.827044\n",
       "min        1.000000      1.000000\n",
       "25%        2.000000      2.000000\n",
       "50%        5.000000      5.000000\n",
       "75%       14.000000     13.000000\n",
       "max     1326.000000    997.000000"
      ]
     },
     "execution_count": 60,
     "metadata": {},
     "output_type": "execute_result"
    }
   ],
   "source": [
    "# Sum is sum over quanity. Count is unique purchases per person per year\n",
    "print('There is huge variation in the number of per person purchases per year')\n",
    "print('Grocery purchases per person per year')\n",
    "groc_purchases_per_person = groc_purchases.groupby([YEAR,RESPONSE_ID])['Quantity'].agg(['sum','count'])\n",
    "groc_purchases_per_person.describe()"
   ]
  },
  {
   "cell_type": "code",
   "execution_count": 61,
   "id": "75617269",
   "metadata": {},
   "outputs": [
    {
     "name": "stdout",
     "output_type": "stream",
     "text": [
      "There is huge variation in the number of per person purchases per year\n",
      "Fresh grocery purchases per person per year\n"
     ]
    },
    {
     "data": {
      "text/html": [
       "<div>\n",
       "<style scoped>\n",
       "    .dataframe tbody tr th:only-of-type {\n",
       "        vertical-align: middle;\n",
       "    }\n",
       "\n",
       "    .dataframe tbody tr th {\n",
       "        vertical-align: top;\n",
       "    }\n",
       "\n",
       "    .dataframe thead th {\n",
       "        text-align: right;\n",
       "    }\n",
       "</style>\n",
       "<table border=\"1\" class=\"dataframe\">\n",
       "  <thead>\n",
       "    <tr style=\"text-align: right;\">\n",
       "      <th></th>\n",
       "      <th>sum</th>\n",
       "      <th>count</th>\n",
       "    </tr>\n",
       "  </thead>\n",
       "  <tbody>\n",
       "    <tr>\n",
       "      <th>count</th>\n",
       "      <td>1998.000000</td>\n",
       "      <td>1998.000000</td>\n",
       "    </tr>\n",
       "    <tr>\n",
       "      <th>mean</th>\n",
       "      <td>17.467467</td>\n",
       "      <td>13.763764</td>\n",
       "    </tr>\n",
       "    <tr>\n",
       "      <th>std</th>\n",
       "      <td>40.061654</td>\n",
       "      <td>31.272195</td>\n",
       "    </tr>\n",
       "    <tr>\n",
       "      <th>min</th>\n",
       "      <td>1.000000</td>\n",
       "      <td>1.000000</td>\n",
       "    </tr>\n",
       "    <tr>\n",
       "      <th>25%</th>\n",
       "      <td>1.000000</td>\n",
       "      <td>1.000000</td>\n",
       "    </tr>\n",
       "    <tr>\n",
       "      <th>50%</th>\n",
       "      <td>3.000000</td>\n",
       "      <td>3.000000</td>\n",
       "    </tr>\n",
       "    <tr>\n",
       "      <th>75%</th>\n",
       "      <td>14.000000</td>\n",
       "      <td>11.000000</td>\n",
       "    </tr>\n",
       "    <tr>\n",
       "      <th>max</th>\n",
       "      <td>546.000000</td>\n",
       "      <td>478.000000</td>\n",
       "    </tr>\n",
       "  </tbody>\n",
       "</table>\n",
       "</div>"
      ],
      "text/plain": [
       "               sum        count\n",
       "count  1998.000000  1998.000000\n",
       "mean     17.467467    13.763764\n",
       "std      40.061654    31.272195\n",
       "min       1.000000     1.000000\n",
       "25%       1.000000     1.000000\n",
       "50%       3.000000     3.000000\n",
       "75%      14.000000    11.000000\n",
       "max     546.000000   478.000000"
      ]
     },
     "execution_count": 61,
     "metadata": {},
     "output_type": "execute_result"
    }
   ],
   "source": [
    "# Sum is sum over quanity. Count is unique purchases per person per year\n",
    "print('There is huge variation in the number of per person purchases per year')\n",
    "print('Fresh grocery purchases per person per year')\n",
    "fresh_groc_purchases_per_person = fresh_groc_purchases.groupby([YEAR,RESPONSE_ID])['Quantity'].agg(['sum','count'])\n",
    "fresh_groc_purchases_per_person.describe()"
   ]
  },
  {
   "cell_type": "markdown",
   "id": "249e8778",
   "metadata": {},
   "source": [
    "#### Compare census data to purchases data\n",
    "\n",
    "Using random sampling\n"
   ]
  },
  {
   "cell_type": "code",
   "execution_count": 62,
   "id": "5927d1ca",
   "metadata": {},
   "outputs": [
    {
     "name": "stdout",
     "output_type": "stream",
     "text": [
      "Grocery purchases\n",
      "2018-2019: 1/1000\n",
      "9958 purchases from N=1204 purchasers in 2018 dataset\n",
      "13854 purchases from N=1343 purchasers in 2019 dataset\n",
      "2018-2019: 501/1000\n",
      "9391 purchases from N=1189 purchasers in 2018 dataset\n",
      "13407 purchases from N=1359 purchasers in 2019 dataset\n"
     ]
    },
    {
     "data": {
      "text/html": [
       "<div>\n",
       "<style scoped>\n",
       "    .dataframe tbody tr th:only-of-type {\n",
       "        vertical-align: middle;\n",
       "    }\n",
       "\n",
       "    .dataframe tbody tr th {\n",
       "        vertical-align: top;\n",
       "    }\n",
       "\n",
       "    .dataframe thead th {\n",
       "        text-align: right;\n",
       "    }\n",
       "</style>\n",
       "<table border=\"1\" class=\"dataframe\">\n",
       "  <thead>\n",
       "    <tr style=\"text-align: right;\">\n",
       "      <th></th>\n",
       "      <th>2018-2019 pct change</th>\n",
       "    </tr>\n",
       "    <tr>\n",
       "      <th>Shipping Address State</th>\n",
       "      <th></th>\n",
       "    </tr>\n",
       "  </thead>\n",
       "  <tbody>\n",
       "    <tr>\n",
       "      <th>AL</th>\n",
       "      <td>0.058839</td>\n",
       "    </tr>\n",
       "    <tr>\n",
       "      <th>AR</th>\n",
       "      <td>0.471951</td>\n",
       "    </tr>\n",
       "    <tr>\n",
       "      <th>AZ</th>\n",
       "      <td>0.470215</td>\n",
       "    </tr>\n",
       "    <tr>\n",
       "      <th>CA</th>\n",
       "      <td>0.146040</td>\n",
       "    </tr>\n",
       "    <tr>\n",
       "      <th>CO</th>\n",
       "      <td>0.130662</td>\n",
       "    </tr>\n",
       "  </tbody>\n",
       "</table>\n",
       "</div>"
      ],
      "text/plain": [
       "                        2018-2019 pct change\n",
       "Shipping Address State                      \n",
       "AL                                  0.058839\n",
       "AR                                  0.471951\n",
       "AZ                                  0.470215\n",
       "CA                                  0.146040\n",
       "CO                                  0.130662"
      ]
     },
     "execution_count": 62,
     "metadata": {},
     "output_type": "execute_result"
    }
   ],
   "source": [
    "print('Grocery purchases')\n",
    "pct_changes = get_pct_change_buyers_via_random_sampling(groc_purchases, 2018, 2019)\n",
    "groc_buyers_pct_changes = pct_changes.rename('2018-2019 pct change').to_frame()\n",
    "groc_buyers_pct_changes.head()"
   ]
  },
  {
   "cell_type": "code",
   "execution_count": 63,
   "id": "35b6591d",
   "metadata": {},
   "outputs": [
    {
     "name": "stdout",
     "output_type": "stream",
     "text": [
      "Fresh grocery purchases\n",
      "2018-2019: 1/1000\n",
      "446 purchases from N=153 purchasers in 2018 dataset\n",
      "1432 purchases from N=212 purchasers in 2019 dataset\n",
      "2018-2019: 501/1000\n",
      "446 purchases from N=153 purchasers in 2018 dataset\n",
      "1432 purchases from N=212 purchasers in 2019 dataset\n"
     ]
    },
    {
     "data": {
      "text/html": [
       "<div>\n",
       "<style scoped>\n",
       "    .dataframe tbody tr th:only-of-type {\n",
       "        vertical-align: middle;\n",
       "    }\n",
       "\n",
       "    .dataframe tbody tr th {\n",
       "        vertical-align: top;\n",
       "    }\n",
       "\n",
       "    .dataframe thead th {\n",
       "        text-align: right;\n",
       "    }\n",
       "</style>\n",
       "<table border=\"1\" class=\"dataframe\">\n",
       "  <thead>\n",
       "    <tr style=\"text-align: right;\">\n",
       "      <th></th>\n",
       "      <th>2018-2019 pct change</th>\n",
       "    </tr>\n",
       "    <tr>\n",
       "      <th>Shipping Address State</th>\n",
       "      <th></th>\n",
       "    </tr>\n",
       "  </thead>\n",
       "  <tbody>\n",
       "    <tr>\n",
       "      <th>AL</th>\n",
       "      <td>1.000000</td>\n",
       "    </tr>\n",
       "    <tr>\n",
       "      <th>AR</th>\n",
       "      <td>0.997000</td>\n",
       "    </tr>\n",
       "    <tr>\n",
       "      <th>AZ</th>\n",
       "      <td>1.000000</td>\n",
       "    </tr>\n",
       "    <tr>\n",
       "      <th>CA</th>\n",
       "      <td>0.923712</td>\n",
       "    </tr>\n",
       "    <tr>\n",
       "      <th>CO</th>\n",
       "      <td>-0.249833</td>\n",
       "    </tr>\n",
       "  </tbody>\n",
       "</table>\n",
       "</div>"
      ],
      "text/plain": [
       "                        2018-2019 pct change\n",
       "Shipping Address State                      \n",
       "AL                                  1.000000\n",
       "AR                                  0.997000\n",
       "AZ                                  1.000000\n",
       "CA                                  0.923712\n",
       "CO                                 -0.249833"
      ]
     },
     "execution_count": 63,
     "metadata": {},
     "output_type": "execute_result"
    }
   ],
   "source": [
    "print('Fresh grocery purchases')\n",
    "pct_changes = get_pct_change_buyers_via_random_sampling(fresh_groc_purchases, 2018, 2019)\n",
    "fresh_groc_buyers_pct_changes = pct_changes.rename('2018-2019 pct change').to_frame().dropna()\n",
    "fresh_groc_buyers_pct_changes.head()"
   ]
  },
  {
   "cell_type": "code",
   "execution_count": 64,
   "id": "c04814d6",
   "metadata": {},
   "outputs": [
    {
     "name": "stdout",
     "output_type": "stream",
     "text": [
      "Comparing grocery purchases to 2018-2019 census data: Employment\n",
      "Pearson r=-0.1422 (p-value=0.3516)\n"
     ]
    }
   ],
   "source": [
    "print('Comparing grocery purchases to 2018-2019 census data: Employment')\n",
    "r, pvalue = pearsonr(\n",
    "    groc_buyers_pct_changes['2018-2019 pct change'].loc[sample_states], \n",
    "    census_grocery_stores['2018-2019 employment/population percent change'].loc[sample_states]\n",
    ")\n",
    "print('Pearson r=%0.4f (p-value=%0.4f)' % (r, pvalue))"
   ]
  },
  {
   "cell_type": "code",
   "execution_count": 65,
   "id": "688a2e9f",
   "metadata": {},
   "outputs": [
    {
     "name": "stdout",
     "output_type": "stream",
     "text": [
      "Comparing *fresh* grocery purchases to 2018-2019 census data: Employment\n",
      "Pearson r=-0.2654 (p-value=0.1177)\n"
     ]
    }
   ],
   "source": [
    "print('Comparing *fresh* grocery purchases to 2018-2019 census data: Employment')\n",
    "r, pvalue = pearsonr(\n",
    "    fresh_groc_buyers_pct_changes['2018-2019 pct change'], \n",
    "    census_grocery_stores['2018-2019 employment/population percent change'].loc[fresh_groc_buyers_pct_changes.index]\n",
    ")\n",
    "print('Pearson r=%0.4f (p-value=%0.4f)' % (r, pvalue))"
   ]
  },
  {
   "cell_type": "markdown",
   "id": "5ac496d3",
   "metadata": {},
   "source": [
    "#### Compare changes in purchases and number of establishments\n",
    "\n",
    "Compare: percent change in purchases to percent change in number of establishments\n",
    "\n",
    "For\n",
    "- 2018 - 2021\n",
    "- 2019 - 2021 (COVID effects isolated)"
   ]
  },
  {
   "cell_type": "code",
   "execution_count": 66,
   "id": "ffe3d93b",
   "metadata": {},
   "outputs": [
    {
     "name": "stdout",
     "output_type": "stream",
     "text": [
      "2018-2021: 1/1000\n",
      "437 purchases from N=149 purchasers in 2018 dataset\n",
      "8942 purchases from N=498 purchasers in 2021 dataset\n",
      "2018-2021: 501/1000\n",
      "442 purchases from N=150 purchasers in 2018 dataset\n",
      "8939 purchases from N=499 purchasers in 2021 dataset\n",
      "2019-2021: 1/1000\n",
      "1409 purchases from N=207 purchasers in 2019 dataset\n",
      "8583 purchases from N=496 purchasers in 2021 dataset\n",
      "2019-2021: 501/1000\n",
      "1414 purchases from N=209 purchasers in 2019 dataset\n",
      "8765 purchases from N=499 purchasers in 2021 dataset\n"
     ]
    }
   ],
   "source": [
    "fresh_groc_buyers_pct_changes20182021 = get_pct_change_buyers_via_random_sampling(fresh_groc_purchases, 2018, 2021).dropna()\n",
    "fresh_groc_buyers_pct_changes20192021 = get_pct_change_buyers_via_random_sampling(fresh_groc_purchases, 2019, 2021).dropna()"
   ]
  },
  {
   "cell_type": "code",
   "execution_count": 67,
   "id": "2cf36db7",
   "metadata": {},
   "outputs": [
    {
     "name": "stdout",
     "output_type": "stream",
     "text": [
      "Comparing 2018-2021 changes in purchases to changes in census data: establishments\n",
      "Pearson r=0.0689 (p-value=0.6898)\n"
     ]
    }
   ],
   "source": [
    "print('Comparing 2018-2021 changes in purchases to changes in census data: establishments')\n",
    "r, pvalue = pearsonr(\n",
    "    fresh_groc_buyers_pct_changes20182021, \n",
    "    census_grocery_stores['2018-2021 establishments percent change'].loc[fresh_groc_buyers_pct_changes20182021.index]\n",
    ")\n",
    "print('Pearson r=%0.4f (p-value=%0.4f)' % (r, pvalue))"
   ]
  },
  {
   "cell_type": "code",
   "execution_count": 68,
   "id": "0d859c1e",
   "metadata": {},
   "outputs": [
    {
     "name": "stdout",
     "output_type": "stream",
     "text": [
      "Comparing 2019-2021 changes in purchases to changes in census data: establishments\n",
      "Pearson r=-0.1218 (p-value=0.4603)\n"
     ]
    }
   ],
   "source": [
    "print('Comparing 2019-2021 changes in purchases to changes in census data: establishments')\n",
    "r, pvalue = pearsonr(\n",
    "    fresh_groc_buyers_pct_changes20192021, \n",
    "    census_grocery_stores['2019-2021 establishments percent change'].loc[fresh_groc_buyers_pct_changes20192021.index]\n",
    ")\n",
    "print('Pearson r=%0.4f (p-value=%0.4f)' % (r, pvalue))"
   ]
  },
  {
   "cell_type": "markdown",
   "id": "b0bafd4d",
   "metadata": {},
   "source": [
    "## Pet food, pet supplies, etc\n",
    "\n",
    "Census data shows overall increases in employment year to year."
   ]
  },
  {
   "cell_type": "code",
   "execution_count": 76,
   "id": "b2b316c2",
   "metadata": {},
   "outputs": [
    {
     "name": "stdout",
     "output_type": "stream",
     "text": [
      "14 pet related categories\n"
     ]
    },
    {
     "data": {
      "text/plain": [
       "Category\n",
       "PET_FOOD                  38256\n",
       "PET_SUPPLIES              10902\n",
       "PET_TOY                    7261\n",
       "PET_PEST_CONTROL           1941\n",
       "PET_FEEDER                 1870\n",
       "PET_ACTIVITY_STRUCTURE     1712\n",
       "PET_BED_MAT                1665\n",
       "PET_APPAREL                1444\n",
       "PET_PLACEMAT                436\n",
       "PET_HEALTH_CARE             300\n",
       "PET_PLAYPEN                 261\n",
       "PET_DOOR                    209\n",
       "PET_SEAT                     52\n",
       "PET_FUR_DEODORIZER           11\n",
       "Name: count, dtype: int64"
      ]
     },
     "execution_count": 76,
     "metadata": {},
     "output_type": "execute_result"
    }
   ],
   "source": [
    "pet_categories = [c for c in categories if str(c).startswith('PET_')]\n",
    "print('%s pet related categories' % len(pet_categories))\n",
    "amzn_data[amzn_data[CATEGORY].isin(pet_categories)][CATEGORY].value_counts()"
   ]
  },
  {
   "cell_type": "code",
   "execution_count": 77,
   "id": "42dccb66",
   "metadata": {},
   "outputs": [
    {
     "name": "stdout",
     "output_type": "stream",
     "text": [
      "61629 total pet purchases in dataset\n"
     ]
    }
   ],
   "source": [
    "pet_purchases = amzn_data_sample[amzn_data_sample[CATEGORY].isin(pet_categories)]\n",
    "print('%s total pet purchases in dataset' % len(pet_purchases))"
   ]
  },
  {
   "cell_type": "code",
   "execution_count": 78,
   "id": "be8d76da",
   "metadata": {},
   "outputs": [
    {
     "name": "stdout",
     "output_type": "stream",
     "text": [
      "Pet purchases per person per year\n"
     ]
    },
    {
     "data": {
      "text/html": [
       "<div>\n",
       "<style scoped>\n",
       "    .dataframe tbody tr th:only-of-type {\n",
       "        vertical-align: middle;\n",
       "    }\n",
       "\n",
       "    .dataframe tbody tr th {\n",
       "        vertical-align: top;\n",
       "    }\n",
       "\n",
       "    .dataframe thead th {\n",
       "        text-align: right;\n",
       "    }\n",
       "</style>\n",
       "<table border=\"1\" class=\"dataframe\">\n",
       "  <thead>\n",
       "    <tr style=\"text-align: right;\">\n",
       "      <th></th>\n",
       "      <th>sum</th>\n",
       "      <th>count</th>\n",
       "    </tr>\n",
       "  </thead>\n",
       "  <tbody>\n",
       "    <tr>\n",
       "      <th>count</th>\n",
       "      <td>8302.000000</td>\n",
       "      <td>8302.000000</td>\n",
       "    </tr>\n",
       "    <tr>\n",
       "      <th>mean</th>\n",
       "      <td>8.471332</td>\n",
       "      <td>7.423392</td>\n",
       "    </tr>\n",
       "    <tr>\n",
       "      <th>std</th>\n",
       "      <td>15.137035</td>\n",
       "      <td>12.050334</td>\n",
       "    </tr>\n",
       "    <tr>\n",
       "      <th>min</th>\n",
       "      <td>1.000000</td>\n",
       "      <td>1.000000</td>\n",
       "    </tr>\n",
       "    <tr>\n",
       "      <th>25%</th>\n",
       "      <td>1.000000</td>\n",
       "      <td>1.000000</td>\n",
       "    </tr>\n",
       "    <tr>\n",
       "      <th>50%</th>\n",
       "      <td>3.000000</td>\n",
       "      <td>3.000000</td>\n",
       "    </tr>\n",
       "    <tr>\n",
       "      <th>75%</th>\n",
       "      <td>9.000000</td>\n",
       "      <td>8.000000</td>\n",
       "    </tr>\n",
       "    <tr>\n",
       "      <th>max</th>\n",
       "      <td>257.000000</td>\n",
       "      <td>164.000000</td>\n",
       "    </tr>\n",
       "  </tbody>\n",
       "</table>\n",
       "</div>"
      ],
      "text/plain": [
       "               sum        count\n",
       "count  8302.000000  8302.000000\n",
       "mean      8.471332     7.423392\n",
       "std      15.137035    12.050334\n",
       "min       1.000000     1.000000\n",
       "25%       1.000000     1.000000\n",
       "50%       3.000000     3.000000\n",
       "75%       9.000000     8.000000\n",
       "max     257.000000   164.000000"
      ]
     },
     "execution_count": 78,
     "metadata": {},
     "output_type": "execute_result"
    }
   ],
   "source": [
    "# Sum is sum over quanity. Count is unique purchases per person per year\n",
    "print('Pet purchases per person per year')\n",
    "pet_purchases_per_person = pet_purchases.groupby([YEAR,RESPONSE_ID])['Quantity'].agg(['sum','count'])\n",
    "pet_purchases_per_person.describe()"
   ]
  },
  {
   "cell_type": "code",
   "execution_count": 79,
   "id": "ade56cf1",
   "metadata": {},
   "outputs": [
    {
     "name": "stdout",
     "output_type": "stream",
     "text": [
      "90th percentile :  21.0\n",
      "95th percentile :  32.0\n",
      "99th percentile :  73.0\n"
     ]
    }
   ],
   "source": [
    "# What is the 90th percentile?\n",
    "# Actually the 99th percentile is a reasonable amount of shoes to buy (imagine they have a family)\n",
    "print('90th percentile : ', pet_purchases_per_person['sum'].quantile(0.90))\n",
    "print('95th percentile : ', pet_purchases_per_person['sum'].quantile(0.95))\n",
    "print('99th percentile : ', pet_purchases_per_person['sum'].quantile(0.99))"
   ]
  },
  {
   "cell_type": "code",
   "execution_count": 80,
   "id": "ead7eb28",
   "metadata": {},
   "outputs": [
    {
     "name": "stdout",
     "output_type": "stream",
     "text": [
      "7039 purchases from N=1218 purchasers in 2018 dataset\n",
      "8879 purchases from N=1372 purchasers in 2019 dataset\n"
     ]
    },
    {
     "data": {
      "text/plain": [
       "Shipping Address State\n",
       "AL    0.627907\n",
       "AR    0.576923\n",
       "AZ    0.893805\n",
       "CA    0.106469\n",
       "CO    0.179310\n",
       "Name: Quantity, dtype: float64"
      ]
     },
     "execution_count": 80,
     "metadata": {},
     "output_type": "execute_result"
    }
   ],
   "source": [
    "pet_purchases_pct_change20182019 = get_pct_change_purchases(pet_purchases, verbose=True)\n",
    "pet_purchases_pct_change20182019.head()"
   ]
  },
  {
   "cell_type": "code",
   "execution_count": 81,
   "id": "699a82bc",
   "metadata": {},
   "outputs": [
    {
     "name": "stdout",
     "output_type": "stream",
     "text": [
      "correlation between percent change in buyers vs total purchases (pets, 2018-2019)\n",
      "Pearson r=0.1915 (p-value=0.2075)\n",
      "Spearman r=0.3958 (p-value=0.0071)\n"
     ]
    }
   ],
   "source": [
    "pet_buyers_pct_change20182019 = get_pct_change_buyers(pet_purchases)\n",
    "print('correlation between percent change in buyers vs total purchases (pets, 2018-2019)')\n",
    "r, pvalue = pearsonr(pet_purchases_pct_change20182019, pet_buyers_pct_change20182019)\n",
    "print('Pearson r=%0.4f (p-value=%0.4f)' % (r, pvalue))\n",
    "r, pvalue = spearmanr(pet_purchases_pct_change20182019, pet_buyers_pct_change20182019)\n",
    "print('Spearman r=%0.4f (p-value=%0.4f)' % (r, pvalue))"
   ]
  },
  {
   "cell_type": "markdown",
   "id": "7fae9212",
   "metadata": {},
   "source": [
    "#### Compare census data to purchases data\n",
    "\n",
    "Using random sampling\n"
   ]
  },
  {
   "cell_type": "code",
   "execution_count": 82,
   "id": "ad1f1f65",
   "metadata": {},
   "outputs": [
    {
     "name": "stdout",
     "output_type": "stream",
     "text": [
      "2018-2019: 1/1000\n",
      "5049 purchases from N=929 purchasers in 2018 dataset\n",
      "6485 purchases from N=1051 purchasers in 2019 dataset\n",
      "2018-2019: 501/1000\n",
      "5457 purchases from N=935 purchasers in 2018 dataset\n",
      "6841 purchases from N=1058 purchasers in 2019 dataset\n",
      "2019-2020: 1/1000\n",
      "6638 purchases from N=1016 purchasers in 2019 dataset\n",
      "10433 purchases from N=1230 purchasers in 2020 dataset\n",
      "2019-2020: 501/1000\n",
      "6202 purchases from N=972 purchasers in 2019 dataset\n",
      "9484 purchases from N=1225 purchasers in 2020 dataset\n",
      "2020-2021: 1/1000\n",
      "9681 purchases from N=1157 purchasers in 2020 dataset\n",
      "10490 purchases from N=1180 purchasers in 2021 dataset\n",
      "2020-2021: 501/1000\n",
      "8900 purchases from N=1130 purchasers in 2020 dataset\n",
      "9825 purchases from N=1179 purchasers in 2021 dataset\n"
     ]
    },
    {
     "data": {
      "text/html": [
       "<div>\n",
       "<style scoped>\n",
       "    .dataframe tbody tr th:only-of-type {\n",
       "        vertical-align: middle;\n",
       "    }\n",
       "\n",
       "    .dataframe tbody tr th {\n",
       "        vertical-align: top;\n",
       "    }\n",
       "\n",
       "    .dataframe thead th {\n",
       "        text-align: right;\n",
       "    }\n",
       "</style>\n",
       "<table border=\"1\" class=\"dataframe\">\n",
       "  <thead>\n",
       "    <tr style=\"text-align: right;\">\n",
       "      <th></th>\n",
       "      <th>2018-2019 pct change</th>\n",
       "      <th>2019-2020 pct change</th>\n",
       "      <th>2020-2021 pct change</th>\n",
       "    </tr>\n",
       "    <tr>\n",
       "      <th>Shipping Address State</th>\n",
       "      <th></th>\n",
       "      <th></th>\n",
       "      <th></th>\n",
       "    </tr>\n",
       "  </thead>\n",
       "  <tbody>\n",
       "    <tr>\n",
       "      <th>AL</th>\n",
       "      <td>0.367674</td>\n",
       "      <td>0.260527</td>\n",
       "      <td>0.216684</td>\n",
       "    </tr>\n",
       "    <tr>\n",
       "      <th>AR</th>\n",
       "      <td>0.523218</td>\n",
       "      <td>0.617834</td>\n",
       "      <td>-0.156771</td>\n",
       "    </tr>\n",
       "    <tr>\n",
       "      <th>AZ</th>\n",
       "      <td>0.323781</td>\n",
       "      <td>0.243808</td>\n",
       "      <td>0.088254</td>\n",
       "    </tr>\n",
       "    <tr>\n",
       "      <th>CA</th>\n",
       "      <td>-0.006041</td>\n",
       "      <td>0.204513</td>\n",
       "      <td>0.046667</td>\n",
       "    </tr>\n",
       "    <tr>\n",
       "      <th>CO</th>\n",
       "      <td>0.290724</td>\n",
       "      <td>0.468131</td>\n",
       "      <td>0.197235</td>\n",
       "    </tr>\n",
       "  </tbody>\n",
       "</table>\n",
       "</div>"
      ],
      "text/plain": [
       "                        2018-2019 pct change  2019-2020 pct change   \n",
       "Shipping Address State                                               \n",
       "AL                                  0.367674              0.260527  \\\n",
       "AR                                  0.523218              0.617834   \n",
       "AZ                                  0.323781              0.243808   \n",
       "CA                                 -0.006041              0.204513   \n",
       "CO                                  0.290724              0.468131   \n",
       "\n",
       "                        2020-2021 pct change  \n",
       "Shipping Address State                        \n",
       "AL                                  0.216684  \n",
       "AR                                 -0.156771  \n",
       "AZ                                  0.088254  \n",
       "CA                                  0.046667  \n",
       "CO                                  0.197235  "
      ]
     },
     "execution_count": 82,
     "metadata": {},
     "output_type": "execute_result"
    }
   ],
   "source": [
    "pct_changes = get_pct_change_buyers_via_random_sampling(pet_purchases, 2018, 2019)\n",
    "pet_buyers_pct_changes = pct_changes.rename('2018-2019 pct change').to_frame()\n",
    "pct_changes = get_pct_change_buyers_via_random_sampling(pet_purchases, 2019, 2020)\n",
    "pet_buyers_pct_changes['2019-2020 pct change'] = pet_buyers_pct_changes.index.map(pct_changes)\n",
    "pct_changes = get_pct_change_buyers_via_random_sampling(pet_purchases, 2020, 2021)\n",
    "pet_buyers_pct_changes['2020-2021 pct change'] = pet_buyers_pct_changes.index.map(pct_changes)\n",
    "pet_buyers_pct_changes.head()"
   ]
  },
  {
   "cell_type": "code",
   "execution_count": 83,
   "id": "283823f6",
   "metadata": {},
   "outputs": [
    {
     "name": "stdout",
     "output_type": "stream",
     "text": [
      "Comparing to 2018-2019 census data: Employment\n",
      "Pearson r=-0.1675 (p-value=0.2714)\n"
     ]
    }
   ],
   "source": [
    "print('Comparing to 2018-2019 census data: Employment')\n",
    "r, pvalue = pearsonr(\n",
    "    pet_buyers_pct_changes['2018-2019 pct change'].loc[sample_states], \n",
    "    census_pet_stores['2018-2019 employment/population percent change'].loc[sample_states]\n",
    ")\n",
    "print('Pearson r=%0.4f (p-value=%0.4f)' % (r, pvalue))"
   ]
  },
  {
   "cell_type": "code",
   "execution_count": 84,
   "id": "fd744979",
   "metadata": {},
   "outputs": [
    {
     "name": "stdout",
     "output_type": "stream",
     "text": [
      "Comparing to 2019-2020 census data: Employment\n",
      "Pearson r=0.1328 (p-value=0.3844)\n"
     ]
    }
   ],
   "source": [
    "print('Comparing to 2019-2020 census data: Employment')\n",
    "r, pvalue = pearsonr(\n",
    "    pet_buyers_pct_changes['2019-2020 pct change'].loc[sample_states], \n",
    "    census_pet_stores['2019-2020 employment/population percent change'].loc[sample_states]\n",
    ")\n",
    "print('Pearson r=%0.4f (p-value=%0.4f)' % (r, pvalue))"
   ]
  },
  {
   "cell_type": "code",
   "execution_count": 85,
   "id": "dd138b0f",
   "metadata": {},
   "outputs": [
    {
     "name": "stdout",
     "output_type": "stream",
     "text": [
      "Comparing to 2020-2021 census data: Employment\n",
      "Pearson r=0.0171 (p-value=0.9113)\n"
     ]
    }
   ],
   "source": [
    "print('Comparing to 2020-2021 census data: Employment')\n",
    "r, pvalue = pearsonr(\n",
    "    pet_buyers_pct_changes['2020-2021 pct change'].loc[sample_states], \n",
    "    census_pet_stores['2020-2021 employment/population percent change'].loc[sample_states]\n",
    ")\n",
    "print('Pearson r=%0.4f (p-value=%0.4f)' % (r, pvalue))"
   ]
  },
  {
   "cell_type": "markdown",
   "id": "3ddcab56",
   "metadata": {},
   "source": [
    "## Paint and wallpaper stores\n",
    "\n",
    "Not doing this analysis:\n",
    "It looks like there are not enough overall paint purchases and like the most popular items purchased in the paint category are for art."
   ]
  },
  {
   "cell_type": "code",
   "execution_count": 86,
   "id": "01ffde8f",
   "metadata": {},
   "outputs": [
    {
     "data": {
      "text/plain": [
       "Category\n",
       "PAINT          3483\n",
       "PAINT_BRUSH    1053\n",
       "BODY_PAINT      282\n",
       "Name: count, dtype: int64"
      ]
     },
     "execution_count": 86,
     "metadata": {},
     "output_type": "execute_result"
    }
   ],
   "source": [
    "painty_categories = [c for c in categories if 'paint' in str(c).lower()]\n",
    "amzn_data[amzn_data['Category'].isin(painty_categories)]['Category'].value_counts()"
   ]
  },
  {
   "cell_type": "code",
   "execution_count": 87,
   "id": "41d4f69b",
   "metadata": {},
   "outputs": [
    {
     "data": {
      "text/plain": [
       "Category\n",
       "WALLPAPER    525\n",
       "Name: count, dtype: int64"
      ]
     },
     "execution_count": 87,
     "metadata": {},
     "output_type": "execute_result"
    }
   ],
   "source": [
    "wallpaper_categories = [c for c in categories if 'wallpaper' in str(c).lower()]\n",
    "amzn_data[amzn_data['Category'].isin(wallpaper_categories)]['Category'].value_counts()"
   ]
  },
  {
   "cell_type": "code",
   "execution_count": 88,
   "id": "33627125",
   "metadata": {},
   "outputs": [
    {
     "name": "stdout",
     "output_type": "stream",
     "text": [
      "What kinds of products are these?\n"
     ]
    },
    {
     "data": {
      "text/html": [
       "<div>\n",
       "<style scoped>\n",
       "    .dataframe tbody tr th:only-of-type {\n",
       "        vertical-align: middle;\n",
       "    }\n",
       "\n",
       "    .dataframe tbody tr th {\n",
       "        vertical-align: top;\n",
       "    }\n",
       "\n",
       "    .dataframe thead th {\n",
       "        text-align: right;\n",
       "    }\n",
       "</style>\n",
       "<table border=\"1\" class=\"dataframe\">\n",
       "  <thead>\n",
       "    <tr style=\"text-align: right;\">\n",
       "      <th></th>\n",
       "      <th>sum</th>\n",
       "      <th>count</th>\n",
       "    </tr>\n",
       "    <tr>\n",
       "      <th>Title</th>\n",
       "      <th></th>\n",
       "      <th></th>\n",
       "    </tr>\n",
       "  </thead>\n",
       "  <tbody>\n",
       "    <tr>\n",
       "      <th>Apple Barrel PROMOABI Acrylic Paint Set, 2 Fl Oz (Pack of 18), Assorted Matte Colors, 18 Count</th>\n",
       "      <td>23.0</td>\n",
       "      <td>23</td>\n",
       "    </tr>\n",
       "    <tr>\n",
       "      <th>Apple Barrel Acrylic Paint in Assorted Colors (8 Ounce), 20403 White</th>\n",
       "      <td>20.0</td>\n",
       "      <td>16</td>\n",
       "    </tr>\n",
       "    <tr>\n",
       "      <th>Crayola Washable Kids Paint, 6 Count, Kids At Home Activities, Painting Supplies, Gift, Assorted</th>\n",
       "      <td>16.0</td>\n",
       "      <td>16</td>\n",
       "    </tr>\n",
       "    <tr>\n",
       "      <th>Crafts 4 All Acrylic Paint Set for Adults and Kids - 24-Pack of 12mL Paints for Canvas, Wood &amp; Ceramic w/ 3 Art Brushes - Non-Toxic Craft Paint Sets - Stocking Stuffers for Girls and Boys</th>\n",
       "      <td>13.0</td>\n",
       "      <td>13</td>\n",
       "    </tr>\n",
       "    <tr>\n",
       "      <th>Krylon K01305 Gallery Series Artist and Clear Coatings Aerosol, 11-Ounce, UV-Resistant Clear Gloss</th>\n",
       "      <td>12.0</td>\n",
       "      <td>12</td>\n",
       "    </tr>\n",
       "  </tbody>\n",
       "</table>\n",
       "</div>"
      ],
      "text/plain": [
       "                                                     sum  count\n",
       "Title                                                          \n",
       "Apple Barrel PROMOABI Acrylic Paint Set, 2 Fl O...  23.0     23\n",
       "Apple Barrel Acrylic Paint in Assorted Colors (...  20.0     16\n",
       "Crayola Washable Kids Paint, 6 Count, Kids At H...  16.0     16\n",
       "Crafts 4 All Acrylic Paint Set for Adults and K...  13.0     13\n",
       "Krylon K01305 Gallery Series Artist and Clear C...  12.0     12"
      ]
     },
     "execution_count": 88,
     "metadata": {},
     "output_type": "execute_result"
    }
   ],
   "source": [
    "print('What kinds of products are these?')\n",
    "amzn_data[amzn_data['Category']=='PAINT'].groupby(\n",
    "    'Title'\n",
    ")['Quantity'].agg(['sum','count']).sort_values('count',ascending=False).head()"
   ]
  },
  {
   "cell_type": "markdown",
   "id": "08b600cf",
   "metadata": {},
   "source": [
    "## Electronics\n",
    "\n",
    "From: https://www.naics.com/naics-code-description/?code=443142\n",
    "\n",
    "This U.S. industry comprises: (1) establishments known as consumer electronics stores primarily engaged in retailing a general line of new consumer-type electronic products such as televisions, computers, and cameras; (2) establishments specializing in retailing a single line of consumer-type electronic products; (3) establishments primarily engaged in retailing these new electronic products in combination with repair and support services; (4) establishments primarily engaged in retailing new prepackaged computer software; and/or (5) establishments primarily engaged in retailing prerecorded audio and video media, such as CDs, DVDs, and tapes.\n",
    "\n",
    "Illustrative Examples:\n",
    "\n",
    "- Cellular telephone accessories stores\n",
    "- Consumer-type electronic stores (e.g., televisions, computers, cameras)\n",
    "- Stereo stores (except automotive)\n",
    "- Radio and television stores\n",
    "- Computer stores\n",
    "\n",
    "\n",
    "#### Note what should not be included\n",
    "\n",
    "From https://www.naics.com/naics-code-description/?code=443142:\n",
    "- Retailing electronic goods via electronic home shopping, mail-order, or direct sale--are classified in Subsector 454, Nonstore Retailers;\n",
    "- Retailing automotive electronic sound systems--are classified in Industry 441310, Automotive Parts and Accessories Stores;\n",
    "- Retailing new computers, computer peripherals, and prepackaged software in combination with retailing new office equipment, office furniture, and office supplies--are classified in Industry 453210, Office Supplies and Stationery Stores;\n",
    "- Retailing new cellular telephones and communication service plans--are classified in U.S. Industry 517312, Wireless Telecommunications Carriers (except Satellite);\n",
    "- Providing television or other electronic equipment repair services without retailing new televisions or electronic products--are classified in Industry 81121, Electronic and Precision Equipment Repair and Maintenance;\n",
    "- Developing film and/or making photographic slides, prints, and enlargements without retailing a range of new photographic equipment and supplies--are classified in Industry 81292, Photofinishing;\n",
    "- Retailing new electronic toys, such as dedicated video game consoles and handheld electronic games--are classified in Industry 451120, Hobby, Toy, and Game Stores; and\n",
    "- Retailing used electronics--are classified in Industry 453310, Used Merchandise Stores.\n",
    "\n",
    "\n",
    "i.e. exclude from below:\n",
    "- anything with AUTO or CAR or VEHICLE\n",
    "- cellphones\n",
    "- probably anything with OFFICE\n",
    "- probably film\n",
    "- used electronics\n",
    "- video game consoles and handheld games, video game hardware"
   ]
  },
  {
   "cell_type": "code",
   "execution_count": 89,
   "id": "401f08e5",
   "metadata": {},
   "outputs": [
    {
     "data": {
      "text/plain": [
       "Category\n",
       "ELECTRONIC_CABLE                      18268\n",
       "PORTABLE_ELECTRONIC_DEVICE_COVER       7629\n",
       "ELECTRONIC_ADAPTER                     4890\n",
       "ELECTRONIC_GIFT_CARD                   2975\n",
       "PORTABLE_ELECTRONIC_DEVICE_MOUNT       2636\n",
       "PORTABLE_ELECTRONIC_DEVICE_STAND       2305\n",
       "CONSUMER_ELECTRONICS                   1925\n",
       "ELECTRONIC_SWITCH                      1494\n",
       "ELECTRONIC_COMPONENT_FAN               1447\n",
       "ELECTRONIC_FINDER                       441\n",
       "ELECTRONIC_DEVICE_SKIN                  368\n",
       "ELECTRONIC_COMPONENT_TERMINAL           326\n",
       "ELECTRONIC_SENSOR                       318\n",
       "ELECTRONIC_WIRE                         315\n",
       "PRELOADED_ELECTRONIC_GAME               299\n",
       "ELECTRONIC_DEVICE_COOLING_PAD           236\n",
       "ELECTRONIC_DEVICE_DOCKING_STATION       223\n",
       "ELECTRONIC_LEARNING_TOY                 221\n",
       "PORTABLE_ELECTRONIC_DEVICE_ARMBAND      210\n",
       "ELECTRONIC_COMPONENT                    180\n",
       "SECURITY_ELECTRONICS                    161\n",
       "CAR_ELECTRONICS                         120\n",
       "OFFICE_ELECTRONICS                      105\n",
       "ELECTRONIC_SIGNAL_CONVERTER             103\n",
       "ELECTRONIC_COMPONENT_AMPLIFIER           93\n",
       "ELECTRONIC_DEVICE_FACEPLATE              26\n",
       "ABIS_ELECTRONICS                         16\n",
       "ELECTRONIC_CIGARETTE_LIQUID              15\n",
       "ELECTRONIC_BOOK_READER                   14\n",
       "ELECTRONIC_CONTROLLER                    12\n",
       "PORTABLE_ELECTRONICS                      8\n",
       "Electronics                               6\n",
       "ELECTRONIC_CIGARETTE                      3\n",
       "OPTOELECTRONIC_COMPONENT                  3\n",
       "ELECTRONIC_GIFT_XXRD                      2\n",
       "ELECTRONIC_KNOB                           2\n",
       "ELECTRONIC_COMPONENT_LAMP_HOLDER          1\n",
       "Name: count, dtype: int64"
      ]
     },
     "execution_count": 89,
     "metadata": {},
     "output_type": "execute_result"
    }
   ],
   "source": [
    "electronics_categories = [c for c in categories if 'electronic' in str(c).lower()]\n",
    "amzn_data[amzn_data['Category'].isin(electronics_categories)]['Category'].value_counts()"
   ]
  },
  {
   "cell_type": "code",
   "execution_count": 90,
   "id": "b80832e6",
   "metadata": {},
   "outputs": [
    {
     "name": "stdout",
     "output_type": "stream",
     "text": [
      "Category\n",
      "PHYSICAL_VIDEO_GAME_SOFTWARE     6829\n",
      "DOWNLOADABLE_VIDEO_GAME          5669\n",
      "VIDEO_GAME_CONTROLLER            1795\n",
      "VIDEO_GAME_ACCESSORIES           1279\n",
      "VIDEO_GAME_CONSOLE                838\n",
      "CONSOLE_VIDEO_GAMES               671\n",
      "VIDEO_CARD                        416\n",
      "VIDEO_PROJECTOR                   229\n",
      "VIDEO_DISC_PLAYER                 152\n",
      "VIDEO_GAME_PERIPHERAL_SET         100\n",
      "VIDEO_DVD                          96\n",
      "AUDIO_OR_VIDEO                     84\n",
      "VIDEO_GAME_HARDWARE                78\n",
      "ABIS_VIDEO_GAMES                   49\n",
      "Video Game                         48\n",
      "PORTABLE_VIDEO_DISC_PLAYER         42\n",
      "DIGITAL_VIDEO_RECORDER             19\n",
      "STREAMING_VIDEO_SUBSCRIPTION       12\n",
      "ABIS_VIDEO                          4\n",
      "VIDEO_VHS                           3\n",
      "VIDEO_DEVICE                        2\n",
      "VIDEO_GAME                          1\n",
      "VIDEO_PROJECTOR_PART                1\n",
      "COMPUTER_VIDEO_GAME_CONTOLLER       1\n",
      "Name: count, dtype: int64\n",
      "Category\n",
      "ABIS_DVD                  960\n",
      "VIDEO_DVD                  96\n",
      "DVD_PLAYER_OR_RECORDER      8\n",
      "DVD                         1\n",
      "Name: count, dtype: int64\n",
      "Category\n",
      "AUDIO_CD_PLAYER        34\n",
      "LCD_GRAPHIC_DISPLAY     1\n",
      "Name: count, dtype: int64\n",
      "Category\n",
      "INTEGRATED_STEREO_SYSTEM         86\n",
      "BOOKSHELF_OR_MICRO_STEREO_SYS     1\n",
      "Name: count, dtype: int64\n",
      "Category\n",
      "SPEAKERS                   2326\n",
      "SPEAKER_AMPLIFIER_STAND      96\n",
      "COMPUTER_SPEAKER              9\n",
      "Name: count, dtype: int64\n",
      "Category\n",
      "TELEVISION    608\n",
      "Name: count, dtype: int64\n",
      "Category\n",
      "SECURITY_CAMERA                          1160\n",
      "CAMERA_TRIPOD                             749\n",
      "CAMERA_OTHER_ACCESSORIES                  721\n",
      "CAMERA_CONTINUOUS_LIGHT                   719\n",
      "CAMERA_LENSES                             392\n",
      "CAMERA_DIGITAL                            364\n",
      "CAMERA_SUPPORT                            319\n",
      "ONBOARD_CAMERA                            305\n",
      "CAMERA_CLEANER                            299\n",
      "CAMERA_LENS_FILTERS                       259\n",
      "CAMERA_FILM                               219\n",
      "CAMERA_STAGE_LIGHTING_MODIFIER            214\n",
      "VEHICLE_SAFETY_CAMERA                     105\n",
      "CAMERA                                     94\n",
      "CAMERA_ENCLOSURE                           46\n",
      "CAMERA_FLASH                               38\n",
      "CAMERA_LENS_ACCESSORY                      11\n",
      "CAMERA_BAGS_AND_CASES                       7\n",
      "CAMERA_PRIVACY_COVER                        4\n",
      "CAMERA_POWER_SUPPLY                         1\n",
      "CAMERA_STAGE_LIGHTING_FILTER_DIFFUSER       1\n",
      "Name: count, dtype: int64\n",
      "\n",
      "----Computers and such----\n",
      "\n",
      "Category\n",
      "ABIS_PC           7\n",
      "PC_BOARD_RELAY    5\n",
      "Name: count, dtype: int64\n",
      "Category\n",
      "COMPUTER_DRIVE_OR_STORAGE          3010\n",
      "WEARABLE_COMPUTER                  1246\n",
      "NOTEBOOK_COMPUTER                  1040\n",
      "TABLET_COMPUTER                     751\n",
      "COMPUTER_COMPONENT                  699\n",
      "COMPUTER_ADD_ON                     465\n",
      "COMPUTER_CHASSIS                    460\n",
      "COMPUTER                            460\n",
      "COMPUTER_PROCESSOR                  438\n",
      "PERSONAL_COMPUTER                   414\n",
      "COMPUTER_INPUT_DEVICE               394\n",
      "SINGLE_BOARD_COMPUTER               290\n",
      "COMPUTER_COOLING_DEVICE             200\n",
      "COMPUTER_INPUT_DEVICE_ACCESSORY      84\n",
      "CYCLING_COMPUTER                     34\n",
      "COMPUTER_SPEAKER                      9\n",
      "Personal Computers                    8\n",
      "COMPUTER_VIDEO_GAME_CONTOLLER         1\n",
      "Name: count, dtype: int64\n"
     ]
    },
    {
     "data": {
      "text/plain": [
       "Category\n",
       "TWO_WAY_RADIO    341\n",
       "RADIO            333\n",
       "Name: count, dtype: int64"
      ]
     },
     "execution_count": 90,
     "metadata": {},
     "output_type": "execute_result"
    }
   ],
   "source": [
    "video_categories = [c for c in categories if 'video' in str(c).lower()]\n",
    "print(amzn_data[amzn_data['Category'].isin(video_categories)]['Category'].value_counts())\n",
    "\n",
    "dvd_categories = [c for c in categories if 'dvd' in str(c).lower()]\n",
    "print(amzn_data[amzn_data['Category'].isin(dvd_categories)]['Category'].value_counts())\n",
    "\n",
    "cd_categories = [c for c in categories if ('cd_' in str(c).lower()) or ('_cd' in str(c).lower())]\n",
    "print(amzn_data[amzn_data['Category'].isin(cd_categories)]['Category'].value_counts())\n",
    "\n",
    "stereo_categories = [c for c in categories if 'stereo' in str(c).lower()]\n",
    "print(amzn_data[amzn_data['Category'].isin(stereo_categories)]['Category'].value_counts())\n",
    "\n",
    "speaker_categories = [c for c in categories if 'speaker' in str(c).lower()]\n",
    "print(amzn_data[amzn_data['Category'].isin(speaker_categories)]['Category'].value_counts())\n",
    "\n",
    "tv_categories = [c for c in categories if 'television' in str(c).lower()]\n",
    "print(amzn_data[amzn_data['Category'].isin(tv_categories)]['Category'].value_counts())\n",
    "\n",
    "camera_categories = [c for c in categories if 'camera' in str(c).lower()]\n",
    "print(amzn_data[amzn_data['Category'].isin(camera_categories)]['Category'].value_counts())\n",
    "\n",
    "print('\\n----Computers and such----\\n')\n",
    "pc_categories = [c for c in categories if ('pc_' in str(c).lower()) or ('_pc' in str(c).lower())]\n",
    "print(amzn_data[amzn_data['Category'].isin(pc_categories)]['Category'].value_counts())\n",
    "\n",
    "computer_categories = [c for c in categories if 'computer' in str(c).lower()]\n",
    "print(amzn_data[amzn_data['Category'].isin(computer_categories)]['Category'].value_counts())\n",
    "\n",
    "radio_categories = [c for c in categories if 'radio' in str(c).lower()]\n",
    "amzn_data[amzn_data['Category'].isin(radio_categories)]['Category'].value_counts()"
   ]
  },
  {
   "cell_type": "code",
   "execution_count": 91,
   "id": "afae9bed",
   "metadata": {},
   "outputs": [
    {
     "name": "stdout",
     "output_type": "stream",
     "text": [
      "Category\n",
      "SCREEN_PROTECTOR             9640\n",
      "FLAT_SCREEN_DISPLAY_MOUNT    1498\n",
      "Name: count, dtype: int64\n",
      "Category\n",
      "POWER_CORD                       1548\n",
      "CAMCORDER                        1132\n",
      "THREAD_CORD                       820\n",
      "CORD_MANAGEMENT_COVER             793\n",
      "SOUND_AND_RECORDING_EQUIPMENT     481\n",
      "CORD_ROPE                         318\n",
      "BUNGEE_CORD                       178\n",
      "VOICE_RECORDER                    119\n",
      "SURVEILLANCE_RECORDER_SYSTEM       44\n",
      "DIGITAL_VIDEO_RECORDER             19\n",
      "DVD_PLAYER_OR_RECORDER              8\n",
      "Name: count, dtype: int64\n",
      "Category\n",
      "ELECTRONIC_CABLE    18268\n",
      "CABLE_TIE             785\n",
      "CABLE_OR_ADAPTER      421\n",
      "CABLE_ASSEMBLY        175\n",
      "CABLE                   2\n",
      "Name: count, dtype: int64\n",
      "Category\n",
      "CHARGING_ADAPTER                        8175\n",
      "ELECTRONIC_ADAPTER                      4890\n",
      "NETWORK_INTERFACE_CONTROLLER_ADAPTER    1491\n",
      "CABLE_OR_ADAPTER                         421\n",
      "WIRELESS_AUDIO_ADAPTER                   417\n",
      "Name: count, dtype: int64\n"
     ]
    }
   ],
   "source": [
    "screen_categories = [c for c in categories if 'screen_' in str(c).lower()]\n",
    "print(amzn_data[amzn_data['Category'].isin(screen_categories)]['Category'].value_counts())\n",
    "cord_categories = [c for c in categories if 'cord' in str(c).lower()]\n",
    "print(amzn_data[amzn_data['Category'].isin(cord_categories)]['Category'].value_counts())\n",
    "cable_categories = [c for c in categories if 'cable' in str(c).lower()]\n",
    "print(amzn_data[amzn_data['Category'].isin(cable_categories)]['Category'].value_counts())\n",
    "adapter_categories = [c for c in categories if 'adapter' in str(c).lower()]\n",
    "print(amzn_data[amzn_data['Category'].isin(adapter_categories)]['Category'].value_counts())"
   ]
  },
  {
   "cell_type": "code",
   "execution_count": 92,
   "id": "345328e3",
   "metadata": {},
   "outputs": [
    {
     "name": "stdout",
     "output_type": "stream",
     "text": [
      "What kinds of products are these?\n"
     ]
    }
   ],
   "source": [
    "print('What kinds of products are these?')"
   ]
  },
  {
   "cell_type": "code",
   "execution_count": 93,
   "id": "a3ccd7d1",
   "metadata": {},
   "outputs": [
    {
     "data": {
      "text/html": [
       "<div>\n",
       "<style scoped>\n",
       "    .dataframe tbody tr th:only-of-type {\n",
       "        vertical-align: middle;\n",
       "    }\n",
       "\n",
       "    .dataframe tbody tr th {\n",
       "        vertical-align: top;\n",
       "    }\n",
       "\n",
       "    .dataframe thead th {\n",
       "        text-align: right;\n",
       "    }\n",
       "</style>\n",
       "<table border=\"1\" class=\"dataframe\">\n",
       "  <thead>\n",
       "    <tr style=\"text-align: right;\">\n",
       "      <th></th>\n",
       "      <th>sum</th>\n",
       "      <th>count</th>\n",
       "    </tr>\n",
       "    <tr>\n",
       "      <th>Title</th>\n",
       "      <th></th>\n",
       "      <th></th>\n",
       "    </tr>\n",
       "  </thead>\n",
       "  <tbody>\n",
       "    <tr>\n",
       "      <th>Super Smash Bros. Ultimate - Nintendo Switch</th>\n",
       "      <td>142.0</td>\n",
       "      <td>141</td>\n",
       "    </tr>\n",
       "    <tr>\n",
       "      <th>Animal Crossing: New Horizons - Nintendo Switch</th>\n",
       "      <td>92.0</td>\n",
       "      <td>91</td>\n",
       "    </tr>\n",
       "    <tr>\n",
       "      <th>Ring Fit Adventure - Nintendo Switch</th>\n",
       "      <td>85.0</td>\n",
       "      <td>85</td>\n",
       "    </tr>\n",
       "    <tr>\n",
       "      <th>The Legend of Zelda: Breath of the Wild - Nintendo Switch</th>\n",
       "      <td>73.0</td>\n",
       "      <td>70</td>\n",
       "    </tr>\n",
       "    <tr>\n",
       "      <th>Mario Kart 8 Deluxe - Nintendo Switch</th>\n",
       "      <td>67.0</td>\n",
       "      <td>67</td>\n",
       "    </tr>\n",
       "  </tbody>\n",
       "</table>\n",
       "</div>"
      ],
      "text/plain": [
       "                                                      sum  count\n",
       "Title                                                           \n",
       "Super Smash Bros. Ultimate - Nintendo Switch        142.0    141\n",
       "Animal Crossing: New Horizons - Nintendo Switch      92.0     91\n",
       "Ring Fit Adventure - Nintendo Switch                 85.0     85\n",
       "The Legend of Zelda: Breath of the Wild - Ninte...   73.0     70\n",
       "Mario Kart 8 Deluxe - Nintendo Switch                67.0     67"
      ]
     },
     "execution_count": 93,
     "metadata": {},
     "output_type": "execute_result"
    }
   ],
   "source": [
    "amzn_data[amzn_data['Category']=='PHYSICAL_VIDEO_GAME_SOFTWARE'].groupby(\n",
    "    'Title'\n",
    ")['Quantity'].agg(['sum','count']).sort_values('count',ascending=False).head()"
   ]
  },
  {
   "cell_type": "code",
   "execution_count": 94,
   "id": "fbdb7ca5",
   "metadata": {},
   "outputs": [
    {
     "data": {
      "text/html": [
       "<div>\n",
       "<style scoped>\n",
       "    .dataframe tbody tr th:only-of-type {\n",
       "        vertical-align: middle;\n",
       "    }\n",
       "\n",
       "    .dataframe tbody tr th {\n",
       "        vertical-align: top;\n",
       "    }\n",
       "\n",
       "    .dataframe thead th {\n",
       "        text-align: right;\n",
       "    }\n",
       "</style>\n",
       "<table border=\"1\" class=\"dataframe\">\n",
       "  <thead>\n",
       "    <tr style=\"text-align: right;\">\n",
       "      <th></th>\n",
       "      <th>sum</th>\n",
       "      <th>count</th>\n",
       "    </tr>\n",
       "    <tr>\n",
       "      <th>Title</th>\n",
       "      <th></th>\n",
       "      <th></th>\n",
       "    </tr>\n",
       "  </thead>\n",
       "  <tbody>\n",
       "    <tr>\n",
       "      <th>Amazon.com eGift Card</th>\n",
       "      <td>1674.0</td>\n",
       "      <td>1390</td>\n",
       "    </tr>\n",
       "    <tr>\n",
       "      <th>Google Play gift code - give the gift of games, apps and more (Email Delivery - US Only)</th>\n",
       "      <td>365.0</td>\n",
       "      <td>364</td>\n",
       "    </tr>\n",
       "    <tr>\n",
       "      <th>Amazon.com Print at Home Gift Card</th>\n",
       "      <td>333.0</td>\n",
       "      <td>285</td>\n",
       "    </tr>\n",
       "    <tr>\n",
       "      <th>Grubhub Gift Cards - Email Delivery</th>\n",
       "      <td>312.0</td>\n",
       "      <td>276</td>\n",
       "    </tr>\n",
       "    <tr>\n",
       "      <th>Safeway Gift Card - Email Delivery (Must print eGift to redeem)</th>\n",
       "      <td>193.0</td>\n",
       "      <td>193</td>\n",
       "    </tr>\n",
       "  </tbody>\n",
       "</table>\n",
       "</div>"
      ],
      "text/plain": [
       "                                                       sum  count\n",
       "Title                                                            \n",
       "Amazon.com eGift Card                               1674.0   1390\n",
       "Google Play gift code - give the gift of games,...   365.0    364\n",
       "Amazon.com Print at Home Gift Card                   333.0    285\n",
       "Grubhub Gift Cards - Email Delivery                  312.0    276\n",
       "Safeway Gift Card - Email Delivery (Must print ...   193.0    193"
      ]
     },
     "execution_count": 94,
     "metadata": {},
     "output_type": "execute_result"
    }
   ],
   "source": [
    "# Don't use this\n",
    "amzn_data[amzn_data['Category']=='ELECTRONIC_GIFT_CARD'].groupby(\n",
    "    'Title'\n",
    ")['Quantity'].agg(['sum','count']).sort_values('count',ascending=False).head()"
   ]
  },
  {
   "cell_type": "code",
   "execution_count": 95,
   "id": "c037cf6b",
   "metadata": {},
   "outputs": [
    {
     "data": {
      "text/html": [
       "<div>\n",
       "<style scoped>\n",
       "    .dataframe tbody tr th:only-of-type {\n",
       "        vertical-align: middle;\n",
       "    }\n",
       "\n",
       "    .dataframe tbody tr th {\n",
       "        vertical-align: top;\n",
       "    }\n",
       "\n",
       "    .dataframe thead th {\n",
       "        text-align: right;\n",
       "    }\n",
       "</style>\n",
       "<table border=\"1\" class=\"dataframe\">\n",
       "  <thead>\n",
       "    <tr style=\"text-align: right;\">\n",
       "      <th></th>\n",
       "      <th>sum</th>\n",
       "      <th>count</th>\n",
       "    </tr>\n",
       "    <tr>\n",
       "      <th>Title</th>\n",
       "      <th></th>\n",
       "      <th></th>\n",
       "    </tr>\n",
       "  </thead>\n",
       "  <tbody>\n",
       "    <tr>\n",
       "      <th>Allstate 4-Year PC Peripheral Protection Plan ($0-49.99)</th>\n",
       "      <td>89.0</td>\n",
       "      <td>84</td>\n",
       "    </tr>\n",
       "    <tr>\n",
       "      <th>Allstate 4-Year PC Peripheral Protection Plan ($75-99.99)</th>\n",
       "      <td>35.0</td>\n",
       "      <td>34</td>\n",
       "    </tr>\n",
       "    <tr>\n",
       "      <th>ARCTIC MX-4 (4 g) - Premium Performance Thermal Paste for all processors (CPU, GPU - PC, PS4, XBOX), very high thermal conductivity, long durability, safe application, non-conductive, non-capacitive</th>\n",
       "      <td>28.0</td>\n",
       "      <td>27</td>\n",
       "    </tr>\n",
       "    <tr>\n",
       "      <th>Allstate 3-Year PC Peripheral Protection Plan ($0-49.99)</th>\n",
       "      <td>23.0</td>\n",
       "      <td>21</td>\n",
       "    </tr>\n",
       "    <tr>\n",
       "      <th>Allstate 4-Year PC Peripheral Protection Plan ($50-74.99)</th>\n",
       "      <td>17.0</td>\n",
       "      <td>17</td>\n",
       "    </tr>\n",
       "  </tbody>\n",
       "</table>\n",
       "</div>"
      ],
      "text/plain": [
       "                                                     sum  count\n",
       "Title                                                          \n",
       "Allstate 4-Year PC Peripheral Protection Plan (...  89.0     84\n",
       "Allstate 4-Year PC Peripheral Protection Plan (...  35.0     34\n",
       "ARCTIC MX-4 (4 g) - Premium Performance Thermal...  28.0     27\n",
       "Allstate 3-Year PC Peripheral Protection Plan (...  23.0     21\n",
       "Allstate 4-Year PC Peripheral Protection Plan (...  17.0     17"
      ]
     },
     "execution_count": 95,
     "metadata": {},
     "output_type": "execute_result"
    }
   ],
   "source": [
    "amzn_data[amzn_data['Category']=='COMPUTER'].groupby(\n",
    "    'Title'\n",
    ")['Quantity'].agg(['sum','count']).sort_values('count',ascending=False).head()"
   ]
  },
  {
   "cell_type": "code",
   "execution_count": 96,
   "id": "a156512b",
   "metadata": {},
   "outputs": [
    {
     "data": {
      "text/html": [
       "<div>\n",
       "<style scoped>\n",
       "    .dataframe tbody tr th:only-of-type {\n",
       "        vertical-align: middle;\n",
       "    }\n",
       "\n",
       "    .dataframe tbody tr th {\n",
       "        vertical-align: top;\n",
       "    }\n",
       "\n",
       "    .dataframe thead th {\n",
       "        text-align: right;\n",
       "    }\n",
       "</style>\n",
       "<table border=\"1\" class=\"dataframe\">\n",
       "  <thead>\n",
       "    <tr style=\"text-align: right;\">\n",
       "      <th></th>\n",
       "      <th>sum</th>\n",
       "      <th>count</th>\n",
       "    </tr>\n",
       "    <tr>\n",
       "      <th>Title</th>\n",
       "      <th></th>\n",
       "      <th></th>\n",
       "    </tr>\n",
       "  </thead>\n",
       "  <tbody>\n",
       "    <tr>\n",
       "      <th>Fitbit Inspire 2 Health &amp; Fitness Tracker with a Free 1-Year Fitbit Premium Trial, 24/7 Heart Rate, Black/Black, One Size (S &amp; L Bands Included)</th>\n",
       "      <td>43.0</td>\n",
       "      <td>43</td>\n",
       "    </tr>\n",
       "    <tr>\n",
       "      <th>Fitbit Inspire HR Heart Rate and Fitness Tracker, One Size (S and L Bands Included), 1 Count</th>\n",
       "      <td>26.0</td>\n",
       "      <td>26</td>\n",
       "    </tr>\n",
       "    <tr>\n",
       "      <th>Fitbit Versa Smart Watch, Black/Black Aluminium, One Size (S &amp; L Bands Included)</th>\n",
       "      <td>24.0</td>\n",
       "      <td>23</td>\n",
       "    </tr>\n",
       "    <tr>\n",
       "      <th>Amazfit Band 5 Activity Fitness Tracker with Alexa Built-in, 15-Day Battery Life, Blood Oxygen, Heart Rate, Sleep &amp; Stress Monitoring, 5 ATM Water Resistant, Fitness Watch for Men Women Kids, Black</th>\n",
       "      <td>22.0</td>\n",
       "      <td>22</td>\n",
       "    </tr>\n",
       "    <tr>\n",
       "      <th>Fitbit Inspire 2 Health &amp; Fitness Tracker with a Free 1-Year Fitbit Premium Trial, 24/7 Heart Rate, Black/Rose, One Size (S &amp; L Bands Included)</th>\n",
       "      <td>21.0</td>\n",
       "      <td>21</td>\n",
       "    </tr>\n",
       "  </tbody>\n",
       "</table>\n",
       "</div>"
      ],
      "text/plain": [
       "                                                     sum  count\n",
       "Title                                                          \n",
       "Fitbit Inspire 2 Health & Fitness Tracker with ...  43.0     43\n",
       "Fitbit Inspire HR Heart Rate and Fitness Tracke...  26.0     26\n",
       "Fitbit Versa Smart Watch, Black/Black Aluminium...  24.0     23\n",
       "Amazfit Band 5 Activity Fitness Tracker with Al...  22.0     22\n",
       "Fitbit Inspire 2 Health & Fitness Tracker with ...  21.0     21"
      ]
     },
     "execution_count": 96,
     "metadata": {},
     "output_type": "execute_result"
    }
   ],
   "source": [
    "amzn_data[amzn_data['Category']=='WEARABLE_COMPUTER'].groupby(\n",
    "    'Title'\n",
    ")['Quantity'].agg(['sum','count']).sort_values('count',ascending=False).head()"
   ]
  },
  {
   "cell_type": "code",
   "execution_count": 97,
   "id": "bcfa7162",
   "metadata": {},
   "outputs": [],
   "source": [
    "electronics_categories = [\n",
    "    'ELECTRONIC_CABLE',\n",
    "    'PORTABLE_ELECTRONIC_DEVICE_COVER',\n",
    "    'ELECTRONIC_ADAPTER',\n",
    "    'PORTABLE_ELECTRONIC_DEVICE_MOUNT',\n",
    "    'PORTABLE_ELECTRONIC_DEVICE_STAND',\n",
    "    'CONSUMER_ELECTRONICS',\n",
    "    'ELECTRONIC_DEVICE_SKIN',\n",
    "    #'ELECTRONIC_COMPONENT_TERMINAL',\n",
    "    'ELECTRONIC_WIRE',\n",
    "    'PRELOADED_ELECTRONIC_GAME',\n",
    "    'ELECTRONIC_DEVICE_COOLING_PAD',\n",
    "    'ELECTRONIC_DEVICE_DOCKING_STATION',\n",
    "    'PORTABLE_ELECTRONIC_DEVICE_ARMBAND',\n",
    "    'SECURITY_ELECTRONICS',\n",
    "    #'ELECTRONIC_DEVICE_FACEPLATE',\n",
    "    'ABIS_ELECTRONICS',\n",
    "    'ELECTRONIC_BOOK_READER',\n",
    "    'ELECTRONIC_CONTROLLER',\n",
    "    'PORTABLE_ELECTRONICS',\n",
    "    'Electronics',\n",
    "    'PHYSICAL_VIDEO_GAME_SOFTWARE',\n",
    "    'DOWNLOADABLE_VIDEO_GAME',\n",
    "    'CONSOLE_VIDEO_GAMES',\n",
    "    'VIDEO_CARD',\n",
    "    'VIDEO_PROJECTOR',\n",
    "    'VIDEO_DISC_PLAYER',\n",
    "    'VIDEO_DVD',\n",
    "    'AUDIO_OR_VIDEO',\n",
    "    'ABIS_VIDEO_GAMES',\n",
    "    'Video',\n",
    "    'PORTABLE_VIDEO_DISC_PLAYER',\n",
    "    'DIGITAL_VIDEO_RECORDER',\n",
    "    'ABIS_VIDEO',\n",
    "    'VIDEO_VHS',\n",
    "    'VIDEO_DEVICE',\n",
    "    'VIDEO_PROJECTOR_PART',\n",
    "    'VIDEO_GAME',\n",
    "    'ABIS_DVD',\n",
    "    'VIDEO_DVD',\n",
    "    'DVD_PLAYER_OR_RECORDER',\n",
    "    'DVD',\n",
    "    'AUDIO_CD_PLAYER',\n",
    "    'LCD_GRAPHIC_DISPLAY',\n",
    "    'INTEGRATED_STEREO_SYSTEM',\n",
    "    'BOOKSHELF_OR_MICRO_STEREO_SYS',\n",
    "    'SPEAKERS',\n",
    "    'SPEAKER_AMPLIFIER_STAND',\n",
    "    'COMPUTER_SPEAKER',\n",
    "    'TELEVISION',\n",
    "    'SECURITY_CAMERA',\n",
    "    'CAMERA_TRIPOD',\n",
    "    'CAMERA_OTHER_ACCESSORIES',\n",
    "    'CAMERA_CONTINUOUS_LIGHT',\n",
    "    'CAMERA_LENSES',\n",
    "    'CAMERA_DIGITAL',\n",
    "    'CAMERA_SUPPORT',\n",
    "    'CAMERA_CLEANER',\n",
    "    'CAMERA_LENS_FILTERS',\n",
    "    'CAMERA_STAGE_LIGHTING_MODIFIER',\n",
    "    'CAMERA',\n",
    "    'CAMERA_ENCLOSURE',\n",
    "    'CAMERA_FLASH',\n",
    "    'CAMERA_LENS_ACCESSORY',\n",
    "    'CAMERA_BAGS_AND_CASES',\n",
    "    'CAMERA_PRIVACY_COVER',\n",
    "    'CAMERA_STAGE_LIGHTING_FILTER_DIFFUSER',\n",
    "    'CAMERA_POWER_SUPPLY',\n",
    "    'ABIS_PC',\n",
    "    'COMPUTER_DRIVE_OR_STORAGE',\n",
    "    'WEARABLE_COMPUTER',\n",
    "    'NOTEBOOK_COMPUTER',\n",
    "    'TABLET_COMPUTER',\n",
    "    'COMPUTER_COMPONENT',\n",
    "    'COMPUTER_ADD_ON',\n",
    "    'COMPUTER_CHASSIS',\n",
    "    'COMPUTER',\n",
    "    'COMPUTER_PROCESSOR',\n",
    "    'PERSONAL_COMPUTER',\n",
    "    'COMPUTER_INPUT_DEVICE',\n",
    "    'SINGLE_BOARD_COMPUTER',\n",
    "    'COMPUTER_COOLING_DEVICE',\n",
    "    'COMPUTER_INPUT_DEVICE_ACCESSORY',\n",
    "    'COMPUTER_SPEAKER',\n",
    "    'TWO_WAY_RADIO',\n",
    "    #'SCREEN_PROTECTOR',\n",
    "    'FLAT_SCREEN_DISPLAY_MOUNT',\n",
    "    'POWER_CORD',\n",
    "    'CAMCORDER',\n",
    "    'CORD_MANAGEMENT_COVER',\n",
    "    'SOUND_AND_RECORDING_EQUIPMENT',\n",
    "    'VOICE_RECORDER',\n",
    "    'SURVEILLANCE_RECORDER_SYSTEM',\n",
    "    'DIGITAL_VIDEO_RECORDER',\n",
    "    'DVD_PLAYER_OR_RECORDER',\n",
    "    #'CABLE_TIE',\n",
    "    'CABLE_OR_ADAPTER',\n",
    "    #'CABLE_ASSEMBLY',\n",
    "    'CABLE',\n",
    "    'CHARGING_ADAPTER',\n",
    "    'ELECTRONIC_ADAPTER',\n",
    "    #'NETWORK_INTERFACE_CONTROLLER_ADAPTER',\n",
    "    'WIRELESS_AUDIO_ADAPTER',\n",
    "]"
   ]
  },
  {
   "cell_type": "code",
   "execution_count": 98,
   "id": "84a78288",
   "metadata": {},
   "outputs": [
    {
     "name": "stdout",
     "output_type": "stream",
     "text": [
      "75107 total electronics purchases in dataset\n"
     ]
    }
   ],
   "source": [
    "electronics_purchases = amzn_data_sample[amzn_data_sample['Category'].isin(electronics_categories)]\n",
    "print('%s total electronics purchases in dataset' % len(electronics_purchases))"
   ]
  },
  {
   "cell_type": "markdown",
   "id": "8a41514f",
   "metadata": {},
   "source": [
    "### Electronics stores analysis\n",
    "\n",
    "Limit to 2018 - 2019 related changes"
   ]
  },
  {
   "cell_type": "code",
   "execution_count": 99,
   "id": "080a375e",
   "metadata": {},
   "outputs": [
    {
     "name": "stdout",
     "output_type": "stream",
     "text": [
      "23928 total electronics related purchases from N=3345 purchasers in 2018-2019 sample\n"
     ]
    }
   ],
   "source": [
    "electronics_purchases = electronics_purchases[electronics_purchases['year'].isin([2018, 2019])]\n",
    "print('%s total electronics related purchases from N=%s purchasers in 2018-2019 sample' % (len(electronics_purchases), electronics_purchases['Survey ResponseID'].nunique()))"
   ]
  },
  {
   "cell_type": "markdown",
   "id": "a1098caf",
   "metadata": {},
   "source": [
    "Data checks"
   ]
  },
  {
   "cell_type": "code",
   "execution_count": 100,
   "id": "b6519298",
   "metadata": {},
   "outputs": [
    {
     "name": "stdout",
     "output_type": "stream",
     "text": [
      "electronics purchases per person per year\n"
     ]
    },
    {
     "data": {
      "text/html": [
       "<div>\n",
       "<style scoped>\n",
       "    .dataframe tbody tr th:only-of-type {\n",
       "        vertical-align: middle;\n",
       "    }\n",
       "\n",
       "    .dataframe tbody tr th {\n",
       "        vertical-align: top;\n",
       "    }\n",
       "\n",
       "    .dataframe thead th {\n",
       "        text-align: right;\n",
       "    }\n",
       "</style>\n",
       "<table border=\"1\" class=\"dataframe\">\n",
       "  <thead>\n",
       "    <tr style=\"text-align: right;\">\n",
       "      <th></th>\n",
       "      <th>sum</th>\n",
       "      <th>count</th>\n",
       "    </tr>\n",
       "  </thead>\n",
       "  <tbody>\n",
       "    <tr>\n",
       "      <th>count</th>\n",
       "      <td>5448.000000</td>\n",
       "      <td>5448.000000</td>\n",
       "    </tr>\n",
       "    <tr>\n",
       "      <th>mean</th>\n",
       "      <td>4.595448</td>\n",
       "      <td>4.392070</td>\n",
       "    </tr>\n",
       "    <tr>\n",
       "      <th>std</th>\n",
       "      <td>5.576255</td>\n",
       "      <td>5.047862</td>\n",
       "    </tr>\n",
       "    <tr>\n",
       "      <th>min</th>\n",
       "      <td>1.000000</td>\n",
       "      <td>1.000000</td>\n",
       "    </tr>\n",
       "    <tr>\n",
       "      <th>25%</th>\n",
       "      <td>1.000000</td>\n",
       "      <td>1.000000</td>\n",
       "    </tr>\n",
       "    <tr>\n",
       "      <th>50%</th>\n",
       "      <td>3.000000</td>\n",
       "      <td>3.000000</td>\n",
       "    </tr>\n",
       "    <tr>\n",
       "      <th>75%</th>\n",
       "      <td>6.000000</td>\n",
       "      <td>5.000000</td>\n",
       "    </tr>\n",
       "    <tr>\n",
       "      <th>max</th>\n",
       "      <td>86.000000</td>\n",
       "      <td>73.000000</td>\n",
       "    </tr>\n",
       "  </tbody>\n",
       "</table>\n",
       "</div>"
      ],
      "text/plain": [
       "               sum        count\n",
       "count  5448.000000  5448.000000\n",
       "mean      4.595448     4.392070\n",
       "std       5.576255     5.047862\n",
       "min       1.000000     1.000000\n",
       "25%       1.000000     1.000000\n",
       "50%       3.000000     3.000000\n",
       "75%       6.000000     5.000000\n",
       "max      86.000000    73.000000"
      ]
     },
     "execution_count": 100,
     "metadata": {},
     "output_type": "execute_result"
    }
   ],
   "source": [
    "# Sum is sum over quanity. Count is unique purchases per person per year\n",
    "print('electronics purchases per person per year')\n",
    "electronics_purchases_per_person = electronics_purchases.groupby(['year','Survey ResponseID'])['Quantity'].agg(['sum','count'])\n",
    "electronics_purchases_per_person.describe()"
   ]
  },
  {
   "cell_type": "code",
   "execution_count": 101,
   "id": "b9d20b0f",
   "metadata": {},
   "outputs": [
    {
     "name": "stdout",
     "output_type": "stream",
     "text": [
      "90th percentile :  10.0\n",
      "95th percentile :  14.0\n",
      "99th percentile :  26.0\n"
     ]
    }
   ],
   "source": [
    "print('90th percentile : ', electronics_purchases_per_person['sum'].quantile(0.90))\n",
    "print('95th percentile : ', electronics_purchases_per_person['sum'].quantile(0.95))\n",
    "print('99th percentile : ', electronics_purchases_per_person['sum'].quantile(0.99))"
   ]
  },
  {
   "cell_type": "code",
   "execution_count": 102,
   "id": "c1f370f0",
   "metadata": {},
   "outputs": [
    {
     "name": "stdout",
     "output_type": "stream",
     "text": [
      "2746 electronics purchases from N=1178 purchasers in 2018 dataset\n",
      "3500 electronics purchases from N=1388 purchasers in 2019 dataset\n"
     ]
    }
   ],
   "source": [
    "electronics_purchases2018 = shoe_purchases[shoe_purchases['year']==2018]\n",
    "electronics_purchases2019 = shoe_purchases[shoe_purchases['year']==2019]\n",
    "print('%s electronics purchases from N=%s purchasers in 2018 dataset' % (len(electronics_purchases2018), electronics_purchases2018['Survey ResponseID'].nunique()))\n",
    "print('%s electronics purchases from N=%s purchasers in 2019 dataset' % (len(electronics_purchases2019), electronics_purchases2019['Survey ResponseID'].nunique()))"
   ]
  },
  {
   "cell_type": "code",
   "execution_count": 103,
   "id": "fa23babe",
   "metadata": {},
   "outputs": [
    {
     "name": "stdout",
     "output_type": "stream",
     "text": [
      "11337 purchases from N=2661 purchasers in 2018 dataset\n",
      "12591 purchases from N=2787 purchasers in 2019 dataset\n"
     ]
    },
    {
     "data": {
      "text/plain": [
       "Shipping Address State\n",
       "AL    0.065789\n",
       "AR    0.042735\n",
       "AZ    0.323699\n",
       "CA    0.010189\n",
       "CO    0.264840\n",
       "Name: Quantity, dtype: float64"
      ]
     },
     "execution_count": 103,
     "metadata": {},
     "output_type": "execute_result"
    }
   ],
   "source": [
    "electronics_purchases_pct_change = get_pct_change_purchases(electronics_purchases, verbose=True)\n",
    "electronics_purchases_pct_change.head()"
   ]
  },
  {
   "cell_type": "code",
   "execution_count": 104,
   "id": "2dc8e0b4",
   "metadata": {},
   "outputs": [
    {
     "name": "stdout",
     "output_type": "stream",
     "text": [
      "11337 purchases from N=2661 purchasers in 2018 dataset\n",
      "12591 purchases from N=2787 purchasers in 2019 dataset\n"
     ]
    },
    {
     "data": {
      "text/plain": [
       "Shipping Address State\n",
       "AL    0.117647\n",
       "AR    0.068966\n",
       "AZ    0.183673\n",
       "CA    0.050167\n",
       "CO    0.176471\n",
       "Name: Survey ResponseID, dtype: float64"
      ]
     },
     "execution_count": 104,
     "metadata": {},
     "output_type": "execute_result"
    }
   ],
   "source": [
    "electronics_buyers_pct_change = get_pct_change_buyers(electronics_purchases, verbose=True)\n",
    "electronics_buyers_pct_change.head()"
   ]
  },
  {
   "cell_type": "code",
   "execution_count": 105,
   "id": "dd49a091",
   "metadata": {},
   "outputs": [
    {
     "name": "stdout",
     "output_type": "stream",
     "text": [
      "correlation between percent change in buyers vs total purchasers (electronics)\n",
      "Pearson r=0.5268 (p-value=0.0002)\n",
      "Spearman r=0.4570 (p-value=0.0016)\n"
     ]
    }
   ],
   "source": [
    "print('correlation between percent change in buyers vs total purchasers (electronics)')\n",
    "r, pvalue = pearsonr(electronics_purchases_pct_change, electronics_buyers_pct_change)\n",
    "print('Pearson r=%0.4f (p-value=%0.4f)' % (r, pvalue))\n",
    "r, pvalue = spearmanr(electronics_purchases_pct_change, electronics_buyers_pct_change)\n",
    "print('Spearman r=%0.4f (p-value=%0.4f)' % (r, pvalue))"
   ]
  },
  {
   "cell_type": "markdown",
   "id": "0d4a8f9a",
   "metadata": {},
   "source": [
    "Would there be higher correlation if we limited data to 99th percentile and below?\n",
    "\n",
    "Answer: Yes. Pearson r goes from <0.6 to >0.7"
   ]
  },
  {
   "cell_type": "code",
   "execution_count": 106,
   "id": "87fc567c",
   "metadata": {},
   "outputs": [
    {
     "name": "stdout",
     "output_type": "stream",
     "text": [
      "Dropping 44 response IDs for people who bought more than 26.0 items\n",
      "23928 total electronics purchases from N=3345 purchasers in 2018-2019 dataset\n"
     ]
    }
   ],
   "source": [
    "max_purchases = electronics_purchases_per_person['sum'].quantile(0.99)\n",
    "too_many_electronics_responseids = electronics_purchases_per_person[\n",
    "    (electronics_purchases_per_person['sum'] > max_purchases)\n",
    "].reset_index()['Survey ResponseID'].unique()\n",
    "print('Dropping %s response IDs for people who bought more than %s items' % (len(too_many_electronics_responseids), max_purchases))\n",
    "electronics_purchases_99 = electronics_purchases[~electronics_purchases['Survey ResponseID'].isin(too_many_electronics_responseids)]\n",
    "print('%s total electronics purchases from N=%s purchasers in 2018-2019 dataset' % (len(electronics_purchases), electronics_purchases['Survey ResponseID'].nunique()))"
   ]
  },
  {
   "cell_type": "code",
   "execution_count": 107,
   "id": "00a85f1c",
   "metadata": {},
   "outputs": [
    {
     "name": "stdout",
     "output_type": "stream",
     "text": [
      "10277 purchases from N=2618 purchasers in 2018 dataset\n",
      "11371 purchases from N=2743 purchasers in 2019 dataset\n",
      "correlation between percent change in buyers vs total purchasers (electronics)\n",
      "Pearson r=0.6779 (p-value=0.0000)\n",
      "Spearman r=0.6130 (p-value=0.0000)\n"
     ]
    }
   ],
   "source": [
    "electronics_purchases_pct_change = get_pct_change_purchases(electronics_purchases_99, verbose=True)\n",
    "electronics_buyers_pct_change = get_pct_change_buyers(electronics_purchases_99, verbose=False)\n",
    "\n",
    "print('correlation between percent change in buyers vs total purchasers (electronics)')\n",
    "r, pvalue = pearsonr(electronics_purchases_pct_change, electronics_buyers_pct_change)\n",
    "print('Pearson r=%0.4f (p-value=%0.4f)' % (r, pvalue))\n",
    "r, pvalue = spearmanr(electronics_purchases_pct_change, electronics_buyers_pct_change)\n",
    "print('Spearman r=%0.4f (p-value=%0.4f)' % (r, pvalue))"
   ]
  },
  {
   "cell_type": "code",
   "execution_count": 108,
   "id": "126e1b28",
   "metadata": {},
   "outputs": [],
   "source": [
    "electronics_purchases = electronics_purchases_99"
   ]
  },
  {
   "cell_type": "code",
   "execution_count": 109,
   "id": "3a5e95ed",
   "metadata": {},
   "outputs": [
    {
     "name": "stdout",
     "output_type": "stream",
     "text": [
      "21648 total electronics related purchases from N=3301 purchasers in 2018-2019 sample\n"
     ]
    }
   ],
   "source": [
    "print('%s total electronics related purchases from N=%s purchasers in 2018-2019 sample' % (len(electronics_purchases), electronics_purchases['Survey ResponseID'].nunique()))"
   ]
  },
  {
   "cell_type": "markdown",
   "id": "f9a64c8b",
   "metadata": {},
   "source": [
    "#### Compare census data to purchases data"
   ]
  },
  {
   "cell_type": "code",
   "execution_count": 110,
   "id": "97abe9d6",
   "metadata": {},
   "outputs": [
    {
     "name": "stdout",
     "output_type": "stream",
     "text": [
      "1/1000\n",
      "5569 purchases from N=1376 purchasers in 2018 dataset\n",
      "6079 purchases from N=1480 purchasers in 2019 dataset\n",
      "501/1000\n",
      "5474 purchases from N=1403 purchasers in 2018 dataset\n",
      "6233 purchases from N=1489 purchasers in 2019 dataset\n"
     ]
    }
   ],
   "source": [
    "N_subsamples = 1000\n",
    "state_pct_changes = [] # compute the mean over N_subsamples\n",
    "for i in range(N_subsamples):\n",
    "    v = (i%500==0)\n",
    "    if v:\n",
    "        print('%s/%s' % (i+1, N_subsamples))\n",
    "    sampled_purchases = get_random_sample(frame=electronics_purchases)\n",
    "    state_pct_changes += [get_pct_change_buyers(sampled_purchases, verbose=v)]\n",
    "electronics_buyers_pct_changes = pd.DataFrame(state_pct_changes).mean()"
   ]
  },
  {
   "cell_type": "code",
   "execution_count": 111,
   "id": "9ac492ff",
   "metadata": {},
   "outputs": [
    {
     "name": "stdout",
     "output_type": "stream",
     "text": [
      "Comparing to 2018-2019 census data: Employment\n",
      "Pearson r=-0.0116 (p-value=0.9396)\n"
     ]
    }
   ],
   "source": [
    "print('Comparing to 2018-2019 census data: Employment')\n",
    "r, pvalue = pearsonr(electronics_buyers_pct_changes, census_electronics_emp_pct_change_20182019.loc[sample_states])\n",
    "print('Pearson r=%0.4f (p-value=%0.4f)' % (r, pvalue))"
   ]
  },
  {
   "cell_type": "markdown",
   "id": "493b13da",
   "metadata": {},
   "source": [
    "Overall not finding the hypothesized negative correlation.\n",
    "\n",
    "Notes from experiments\n",
    "\n",
    "- stratifying on state does not help\n",
    "\n",
    "- what about restricting the categories? --> could not find the \"right categories\""
   ]
  },
  {
   "cell_type": "markdown",
   "id": "13cc1620",
   "metadata": {},
   "source": [
    "## Other Experiments / misses"
   ]
  },
  {
   "cell_type": "markdown",
   "id": "8ced639f",
   "metadata": {},
   "source": [
    "### Books"
   ]
  },
  {
   "cell_type": "code",
   "execution_count": 112,
   "id": "97ec1787",
   "metadata": {},
   "outputs": [
    {
     "name": "stdout",
     "output_type": "stream",
     "text": [
      "\n",
      "Comparing to 2019-2020 census data: Employment\n",
      "Pearson r=0.3248 (p-value=0.0295)\n",
      "Spearman r=0.2524 (p-value=0.0943)\n"
     ]
    }
   ],
   "source": [
    "# Employment\n",
    "print('\\nComparing to 2019-2020 census data: Employment')\n",
    "r, pvalue = pearsonr(book_buyers_pct_changes['2018-2019 pct change'], census_books_emp_pct_change_20192020.loc[sample_states])\n",
    "print('Pearson r=%0.4f (p-value=%0.4f)' % (r, pvalue))\n",
    "r, pvalue = spearmanr(book_buyers_pct_changes['2018-2019 pct change'], census_books_emp_pct_change_20192020.loc[sample_states])\n",
    "print('Spearman r=%0.4f (p-value=%0.4f)' % (r, pvalue))"
   ]
  },
  {
   "cell_type": "code",
   "execution_count": 113,
   "id": "790d06dd",
   "metadata": {},
   "outputs": [
    {
     "name": "stdout",
     "output_type": "stream",
     "text": [
      "Comparing to 2018-2019 census data: Establishments\n",
      "Pearson r=0.0716 (p-value=0.6404)\n",
      "Spearman r=0.2376 (p-value=0.1160)\n",
      "\n",
      "Comparing to 2019-2020 census data\n",
      "Pearson r=0.3438 (p-value=0.0208)\n",
      "Spearman r=0.1401 (p-value=0.3586)\n"
     ]
    }
   ],
   "source": [
    "print('Comparing to 2018-2019 census data: Establishments')\n",
    "r, pvalue = pearsonr(book_buyers_pct_changes['2018-2019 pct change'], census_books_est_pct_change_20182019.loc[sample_states])\n",
    "print('Pearson r=%0.4f (p-value=%0.4f)' % (r, pvalue))\n",
    "r, pvalue = spearmanr(book_buyers_pct_changes['2018-2019 pct change'], census_books_est_pct_change_20182019.loc[sample_states])\n",
    "print('Spearman r=%0.4f (p-value=%0.4f)' % (r, pvalue))\n",
    "\n",
    "print('\\nComparing to 2019-2020 census data')\n",
    "r, pvalue = pearsonr(book_buyers_pct_changes['2018-2019 pct change'], census_books_est_pct_change_20192020.loc[sample_states])\n",
    "print('Pearson r=%0.4f (p-value=%0.4f)' % (r, pvalue))\n",
    "r, pvalue = spearmanr(book_buyers_pct_changes['2018-2019 pct change'], census_books_est_pct_change_20192020.loc[sample_states])\n",
    "print('Spearman r=%0.4f (p-value=%0.4f)' % (r, pvalue))"
   ]
  },
  {
   "cell_type": "code",
   "execution_count": 114,
   "id": "8fb0cc14",
   "metadata": {},
   "outputs": [
    {
     "name": "stdout",
     "output_type": "stream",
     "text": [
      "1/1000\n",
      "6702 purchases from N=1031 purchasers in 2018 dataset\n",
      "6497 purchases from N=1035 purchasers in 2019 dataset\n",
      "501/1000\n",
      "6817 purchases from N=1059 purchasers in 2018 dataset\n",
      "6050 purchases from N=1018 purchasers in 2019 dataset\n"
     ]
    }
   ],
   "source": [
    "# N=2000\n",
    "N_subsamples = 1000\n",
    "state_pct_changes = [] # compute the mean over N_subsamples\n",
    "for i in range(N_subsamples):\n",
    "    v = (i%500==0)\n",
    "    if v:\n",
    "        print('%s/%s' % (i+1, N_subsamples))\n",
    "    sampled_book_purchases = get_random_sample(frame=book_purchases, N=2000)\n",
    "    state_pct_changes += [get_pct_change_buyers(sampled_book_purchases, verbose=v)]\n",
    "book_buyers_pct_changes = pd.DataFrame(state_pct_changes).mean()"
   ]
  },
  {
   "cell_type": "markdown",
   "id": "997ae8ee",
   "metadata": {},
   "source": [
    "Compare to census 2018-2019 employment data specific to enterprise size (smaller businesses)"
   ]
  },
  {
   "cell_type": "code",
   "execution_count": 115,
   "id": "a5bf18b9",
   "metadata": {},
   "outputs": [
    {
     "name": "stdout",
     "output_type": "stream",
     "text": [
      "Comparing to 2018-2019 census data: Employment: Enterprise size <500 employees\n",
      "Pearson r=-0.2196 (p-value=0.1472)\n"
     ]
    }
   ],
   "source": [
    "print('Comparing to 2018-2019 census data: Employment: Enterprise size <500 employees')\n",
    "r, pvalue = pearsonr(book_buyers_pct_changes, census_books_lt_500_emp_pct_change_20182019.loc[sample_states])\n",
    "print('Pearson r=%0.4f (p-value=%0.4f)' % (r, pvalue))"
   ]
  },
  {
   "cell_type": "code",
   "execution_count": 116,
   "id": "034bd575",
   "metadata": {
    "scrolled": true
   },
   "outputs": [
    {
     "name": "stdout",
     "output_type": "stream",
     "text": [
      "Comparing to 2018-2019 census data: Employment: Enterprise size <20 employees\n",
      "Pearson r=-0.0918 (p-value=0.5488)\n"
     ]
    }
   ],
   "source": [
    "print('Comparing to 2018-2019 census data: Employment: Enterprise size <20 employees')\n",
    "r, pvalue = pearsonr(book_buyers_pct_changes, census_books_lt_20_emp_pct_change_20182019.loc[sample_states])\n",
    "print('Pearson r=%0.4f (p-value=%0.4f)' % (r, pvalue))"
   ]
  },
  {
   "cell_type": "code",
   "execution_count": 117,
   "id": "5f94924d",
   "metadata": {},
   "outputs": [
    {
     "name": "stdout",
     "output_type": "stream",
     "text": [
      "Comparing to 2018-2019 census data: Employment\n",
      "Pearson r=-0.3244 (p-value=0.0297)\n",
      "Spearman r=-0.1133 (p-value=0.4586)\n"
     ]
    }
   ],
   "source": [
    "print('Comparing to 2018-2019 census data: Employment')\n",
    "r, pvalue = pearsonr(book_buyers_pct_changes, census_books_emp_pct_change_20182019.loc[sample_states])\n",
    "print('Pearson r=%0.4f (p-value=%0.4f)' % (r, pvalue))\n",
    "r, pvalue = spearmanr(book_buyers_pct_changes, census_books_emp_pct_change_20182019.loc[sample_states])\n",
    "print('Spearman r=%0.4f (p-value=%0.4f)' % (r, pvalue))"
   ]
  },
  {
   "cell_type": "markdown",
   "id": "93e2cfb9",
   "metadata": {},
   "source": [
    "Using stratification"
   ]
  },
  {
   "cell_type": "code",
   "execution_count": 118,
   "id": "3b568609",
   "metadata": {},
   "outputs": [
    {
     "name": "stdout",
     "output_type": "stream",
     "text": [
      "1/1000\n",
      "10389 purchases from N=977 purchasers in 2018 dataset\n",
      "9576 purchases from N=975 purchasers in 2019 dataset\n",
      "501/1000\n",
      "9123 purchases from N=977 purchasers in 2018 dataset\n",
      "8647 purchases from N=965 purchasers in 2019 dataset\n"
     ]
    }
   ],
   "source": [
    "N_subsamples = 1000\n",
    "state_pct_changes = [] # compute the mean over N_subsamples\n",
    "for i in range(N_subsamples):\n",
    "    v = (i%500==0)\n",
    "    if v:\n",
    "        print('%s/%s' % (i+1, N_subsamples))\n",
    "    sampled_book_purchases = get_random_stratified_sample(frame=book_purchases)\n",
    "    state_pct_changes += [get_pct_change_buyers(sampled_book_purchases, verbose=v)]\n",
    "book_buyers_pct_changes = pd.DataFrame(state_pct_changes).mean()"
   ]
  },
  {
   "cell_type": "code",
   "execution_count": 119,
   "id": "a049ab13",
   "metadata": {
    "scrolled": true
   },
   "outputs": [
    {
     "name": "stdout",
     "output_type": "stream",
     "text": [
      "Comparing to 2018-2019 census data: Employment\n",
      "Pearson r=-0.3579 (p-value=0.0158)\n",
      "Spearman r=-0.1625 (p-value=0.2863)\n"
     ]
    }
   ],
   "source": [
    "print('Comparing to 2018-2019 census data: Employment')\n",
    "r, pvalue = pearsonr(book_buyers_pct_changes, census_books_emp_pct_change_20182019.loc[sample_states])\n",
    "print('Pearson r=%0.4f (p-value=%0.4f)' % (r, pvalue))\n",
    "r, pvalue = spearmanr(book_buyers_pct_changes, census_books_emp_pct_change_20182019.loc[sample_states])\n",
    "print('Spearman r=%0.4f (p-value=%0.4f)' % (r, pvalue))"
   ]
  },
  {
   "cell_type": "markdown",
   "id": "021a1db6",
   "metadata": {},
   "source": [
    "Total purchases (vs distinct buyers)"
   ]
  },
  {
   "cell_type": "code",
   "execution_count": 120,
   "id": "203e4928",
   "metadata": {},
   "outputs": [
    {
     "name": "stdout",
     "output_type": "stream",
     "text": [
      "1/1000\n",
      "9907 purchases from N=952 purchasers in 2018 dataset\n",
      "9280 purchases from N=952 purchasers in 2019 dataset\n",
      "501/1000\n",
      "9531 purchases from N=972 purchasers in 2018 dataset\n",
      "9240 purchases from N=965 purchasers in 2019 dataset\n"
     ]
    }
   ],
   "source": [
    "N_subsamples = 1000\n",
    "state_pct_changes = [] # compute the mean over N_subsamples\n",
    "for i in range(N_subsamples):\n",
    "    v = (i%500==0)\n",
    "    if v:\n",
    "        print('%s/%s' % (i+1, N_subsamples))\n",
    "    sampled_book_purchases = get_random_stratified_sample(frame=book_purchases)\n",
    "    state_pct_changes += [get_pct_change_purchases(sampled_book_purchases, verbose=v)]\n",
    "book_purchases_pct_changes = pd.DataFrame(state_pct_changes).mean()"
   ]
  },
  {
   "cell_type": "code",
   "execution_count": 121,
   "id": "5ee8dadc",
   "metadata": {},
   "outputs": [
    {
     "name": "stdout",
     "output_type": "stream",
     "text": [
      "Comparing to 2018-2019 census data: Employment\n",
      "Pearson r=0.0261 (p-value=0.8649)\n",
      "Spearman r=-0.0024 (p-value=0.9877)\n",
      "\n",
      "Comparing to 2019-2020 census data\n",
      "Pearson r=0.2025 (p-value=0.1822)\n",
      "Spearman r=0.1428 (p-value=0.3493)\n"
     ]
    }
   ],
   "source": [
    "print('Comparing to 2018-2019 census data: Employment')\n",
    "r, pvalue = pearsonr(book_purchases_pct_changes, census_books_emp_pct_change_20182019.loc[sample_states])\n",
    "print('Pearson r=%0.4f (p-value=%0.4f)' % (r, pvalue))\n",
    "r, pvalue = spearmanr(book_purchases_pct_changes, census_books_emp_pct_change_20182019.loc[sample_states])\n",
    "print('Spearman r=%0.4f (p-value=%0.4f)' % (r, pvalue))\n",
    "\n",
    "print('\\nComparing to 2019-2020 census data')\n",
    "r, pvalue = pearsonr(book_purchases_pct_changes, census_books_emp_pct_change_20192020.loc[sample_states])\n",
    "print('Pearson r=%0.4f (p-value=%0.4f)' % (r, pvalue))\n",
    "r, pvalue = spearmanr(book_purchases_pct_changes, census_books_emp_pct_change_20192020.loc[sample_states])\n",
    "print('Spearman r=%0.4f (p-value=%0.4f)' % (r, pvalue))"
   ]
  },
  {
   "cell_type": "code",
   "execution_count": 122,
   "id": "74f0f569",
   "metadata": {},
   "outputs": [
    {
     "name": "stdout",
     "output_type": "stream",
     "text": [
      "1/1000\n",
      "7807 purchases from N=1194 purchasers in 2018 dataset\n",
      "7288 purchases from N=1177 purchasers in 2019 dataset\n",
      "251/1000\n",
      "7933 purchases from N=1215 purchasers in 2018 dataset\n",
      "7248 purchases from N=1174 purchasers in 2019 dataset\n",
      "501/1000\n",
      "7800 purchases from N=1178 purchasers in 2018 dataset\n",
      "7390 purchases from N=1187 purchasers in 2019 dataset\n",
      "751/1000\n",
      "7245 purchases from N=1170 purchasers in 2018 dataset\n",
      "6585 purchases from N=1150 purchasers in 2019 dataset\n"
     ]
    }
   ],
   "source": [
    "N_subsamples = 1000\n",
    "state_pct_changes = [] # compute the mean over N_subsamples\n",
    "for i in range(N_subsamples):\n",
    "    v = (i%250==0)\n",
    "    if v:\n",
    "        print('%s/%s' % (i+1, N_subsamples))\n",
    "    sampled_book_purchases = get_random_sample(frame=book_purchases)\n",
    "    state_pct_changes += [get_pct_change_purchases(sampled_book_purchases, verbose=v)]\n",
    "book_purchases_pct_changes = pd.DataFrame(state_pct_changes).mean()"
   ]
  },
  {
   "cell_type": "code",
   "execution_count": 123,
   "id": "6bfcce8a",
   "metadata": {},
   "outputs": [
    {
     "name": "stdout",
     "output_type": "stream",
     "text": [
      "Comparing to 2018-2019 census data: Employment\n",
      "Pearson r=-0.0310 (p-value=0.8398)\n",
      "Spearman r=-0.0207 (p-value=0.8927)\n",
      "\n",
      "Comparing to 2019-2020 census data\n",
      "Pearson r=0.2385 (p-value=0.1146)\n",
      "Spearman r=0.1062 (p-value=0.4875)\n"
     ]
    }
   ],
   "source": [
    "print('Comparing to 2018-2019 census data: Employment')\n",
    "r, pvalue = pearsonr(book_purchases_pct_changes, census_books_emp_pct_change_20182019.loc[sample_states])\n",
    "print('Pearson r=%0.4f (p-value=%0.4f)' % (r, pvalue))\n",
    "r, pvalue = spearmanr(book_purchases_pct_changes, census_books_emp_pct_change_20182019.loc[sample_states])\n",
    "print('Spearman r=%0.4f (p-value=%0.4f)' % (r, pvalue))\n",
    "\n",
    "print('\\nComparing to 2019-2020 census data')\n",
    "r, pvalue = pearsonr(book_purchases_pct_changes, census_books_emp_pct_change_20192020.loc[sample_states])\n",
    "print('Pearson r=%0.4f (p-value=%0.4f)' % (r, pvalue))\n",
    "r, pvalue = spearmanr(book_purchases_pct_changes, census_books_emp_pct_change_20192020.loc[sample_states])\n",
    "print('Spearman r=%0.4f (p-value=%0.4f)' % (r, pvalue))"
   ]
  },
  {
   "cell_type": "code",
   "execution_count": 124,
   "id": "83f4af78",
   "metadata": {},
   "outputs": [
    {
     "name": "stdout",
     "output_type": "stream",
     "text": [
      "Comparing to 2018-2019 census data: Establishments\n",
      "Pearson r=0.1596 (p-value=0.2950)\n",
      "Spearman r=0.2553 (p-value=0.0905)\n",
      "\n",
      "Comparing to 2019-2020 census data\n",
      "Pearson r=0.1945 (p-value=0.2005)\n",
      "Spearman r=0.0307 (p-value=0.8413)\n"
     ]
    }
   ],
   "source": [
    "print('Comparing to 2018-2019 census data: Establishments')\n",
    "r, pvalue = pearsonr(book_purchases_pct_changes, census_books_est_pct_change_20182019.loc[sample_states])\n",
    "print('Pearson r=%0.4f (p-value=%0.4f)' % (r, pvalue))\n",
    "r, pvalue = spearmanr(book_purchases_pct_changes, census_books_est_pct_change_20182019.loc[sample_states])\n",
    "print('Spearman r=%0.4f (p-value=%0.4f)' % (r, pvalue))\n",
    "\n",
    "print('\\nComparing to 2019-2020 census data')\n",
    "r, pvalue = pearsonr(book_purchases_pct_changes, census_books_est_pct_change_20192020.loc[sample_states])\n",
    "print('Pearson r=%0.4f (p-value=%0.4f)' % (r, pvalue))\n",
    "r, pvalue = spearmanr(book_purchases_pct_changes, census_books_est_pct_change_20192020.loc[sample_states])\n",
    "print('Spearman r=%0.4f (p-value=%0.4f)' % (r, pvalue))"
   ]
  },
  {
   "cell_type": "code",
   "execution_count": 126,
   "id": "7c62868b",
   "metadata": {},
   "outputs": [
    {
     "name": "stdout",
     "output_type": "stream",
     "text": [
      "2019 Top states for total book purchases\n",
      "Shipping Address State\n",
      "CA    1509.0\n",
      "TX    1086.0\n",
      "PA     952.0\n",
      "NY     916.0\n",
      "OH     792.0\n",
      "Name: Quantity, dtype: float64\n",
      "\n",
      "2019 Bottom states for total book purchases\n",
      "Shipping Address State\n",
      "WV    49.0\n",
      "ID    49.0\n",
      "HI    52.0\n",
      "DE    57.0\n",
      "NM    63.0\n",
      "Name: Quantity, dtype: float64\n"
     ]
    },
    {
     "data": {
      "text/plain": [
       "count      45.000000\n",
       "mean      339.222222\n",
       "std       322.068308\n",
       "min        49.000000\n",
       "25%       123.000000\n",
       "50%       228.000000\n",
       "75%       432.000000\n",
       "max      1509.000000\n",
       "Name: Quantity, dtype: float64"
      ]
     },
     "execution_count": 126,
     "metadata": {},
     "output_type": "execute_result"
    }
   ],
   "source": [
    "book_purchases_by_state2019 = book_purchases2019.groupby([STATE])['Quantity'].sum()\n",
    "print('2019 Top states for total book purchases')\n",
    "print(book_purchases_by_state2019.sort_values(ascending=False).head())\n",
    "print('\\n2019 Bottom states for total book purchases')\n",
    "print(book_purchases_by_state2019.sort_values().head())\n",
    "book_purchases_by_state2019.describe()"
   ]
  },
  {
   "cell_type": "code",
   "execution_count": 129,
   "id": "a5ea63b0",
   "metadata": {},
   "outputs": [
    {
     "name": "stdout",
     "output_type": "stream",
     "text": [
      "2018 Top states for total book purchases\n",
      "Shipping Address State\n",
      "CA    1547.0\n",
      "NY    1067.0\n",
      "PA    1054.0\n",
      "FL    1030.0\n",
      "TX     997.0\n",
      "Name: Quantity, dtype: float64\n",
      "\n",
      "2018 Bottom states for total book purchases\n",
      "Shipping Address State\n",
      "HI    44.0\n",
      "NM    56.0\n",
      "DE    57.0\n",
      "RI    58.0\n",
      "ID    66.0\n",
      "Name: Quantity, dtype: float64\n"
     ]
    },
    {
     "data": {
      "text/plain": [
       "count      45.000000\n",
       "mean      363.888889\n",
       "std       340.386092\n",
       "min        44.000000\n",
       "25%       110.000000\n",
       "50%       272.000000\n",
       "75%       420.000000\n",
       "max      1547.000000\n",
       "Name: Quantity, dtype: float64"
      ]
     },
     "execution_count": 129,
     "metadata": {},
     "output_type": "execute_result"
    }
   ],
   "source": [
    "# 2018 book purchases by state\n",
    "book_purchases_by_state2018 = book_purchases2018.groupby([STATE])['Quantity'].sum()\n",
    "print('2018 Top states for total book purchases')\n",
    "print(book_purchases_by_state2018.sort_values(ascending=False).head())\n",
    "print('\\n2018 Bottom states for total book purchases')\n",
    "print(book_purchases_by_state2018.sort_values().head())\n",
    "book_purchases_by_state2018.describe()"
   ]
  },
  {
   "cell_type": "markdown",
   "id": "5494085f",
   "metadata": {},
   "source": [
    "Using metric: Portion of purchasers increasing purchases"
   ]
  },
  {
   "cell_type": "code",
   "execution_count": 130,
   "id": "e3221fb3",
   "metadata": {},
   "outputs": [
    {
     "name": "stdout",
     "output_type": "stream",
     "text": [
      "1/1000\n",
      "201/1000\n",
      "401/1000\n",
      "601/1000\n",
      "801/1000\n"
     ]
    }
   ],
   "source": [
    "N_subsamples = 1000\n",
    "state_changes = [] # compute the mean over N_subsamples\n",
    "for i in range(N_subsamples):\n",
    "    v = (i%200==0)\n",
    "    if v:\n",
    "        print('%s/%s' % (i+1, N_subsamples))\n",
    "    sampled_book_purchases = get_random_sample(frame=book_purchases)\n",
    "    state_changes += [get_portion_increases_by_purchaser(sampled_book_purchases)]\n",
    "book_portion_increases_by_purchaser = pd.DataFrame(state_changes).mean()"
   ]
  },
  {
   "cell_type": "code",
   "execution_count": 131,
   "id": "09bf926b",
   "metadata": {},
   "outputs": [
    {
     "name": "stdout",
     "output_type": "stream",
     "text": [
      "Comparing to 2018-2019 census data: Employment\n",
      "Pearson r=-0.3103 (p-value=0.0380)\n"
     ]
    }
   ],
   "source": [
    "print('Comparing to 2018-2019 census data: Employment')\n",
    "r, pvalue = pearsonr(book_portion_increases_by_purchaser, census_books_emp_pct_change_20182019.loc[sample_states])\n",
    "print('Pearson r=%0.4f (p-value=%0.4f)' % (r, pvalue))"
   ]
  },
  {
   "cell_type": "markdown",
   "id": "603ec986",
   "metadata": {},
   "source": [
    "### Shoes experiments"
   ]
  },
  {
   "cell_type": "markdown",
   "id": "0dda8108",
   "metadata": {},
   "source": [
    "Comparing to number of establishments"
   ]
  },
  {
   "cell_type": "code",
   "execution_count": 134,
   "id": "722ba07b",
   "metadata": {},
   "outputs": [
    {
     "name": "stdout",
     "output_type": "stream",
     "text": [
      "Comparing to 2018-2019 census data: Establishments\n",
      "Pearson r=-0.0226 (p-value=0.8829)\n",
      "Spearman r=-0.1111 (p-value=0.4676)\n",
      "\n",
      "Comparing to 2019-2020 census data\n",
      "Pearson r=-0.1436 (p-value=0.3466)\n",
      "Spearman r=0.0027 (p-value=0.9859)\n"
     ]
    }
   ],
   "source": [
    "print('Comparing to 2018-2019 census data: Establishments')\n",
    "r, pvalue = pearsonr(shoe_buyers_pct_changes['2018-2019 pct change'], census_shoes_est_pct_change_20182019.loc[sample_states])\n",
    "print('Pearson r=%0.4f (p-value=%0.4f)' % (r, pvalue))\n",
    "r, pvalue = spearmanr(shoe_buyers_pct_changes['2018-2019 pct change'], census_books_est_pct_change_20182019.loc[sample_states])\n",
    "print('Spearman r=%0.4f (p-value=%0.4f)' % (r, pvalue))\n",
    "\n",
    "print('\\nComparing to 2019-2020 census data')\n",
    "r, pvalue = pearsonr(shoe_buyers_pct_changes['2018-2019 pct change'], census_shoes_est_pct_change_20192020.loc[sample_states])\n",
    "print('Pearson r=%0.4f (p-value=%0.4f)' % (r, pvalue))\n",
    "r, pvalue = spearmanr(shoe_buyers_pct_changes['2018-2019 pct change'], census_shoes_est_pct_change_20192020.loc[sample_states])\n",
    "print('Spearman r=%0.4f (p-value=%0.4f)' % (r, pvalue))"
   ]
  },
  {
   "cell_type": "markdown",
   "id": "acc52231",
   "metadata": {},
   "source": [
    "Compare to census 2018-2019 employment data specific to enterprise size (smaller businesses)"
   ]
  },
  {
   "cell_type": "code",
   "execution_count": 137,
   "id": "8d2400a2",
   "metadata": {},
   "outputs": [
    {
     "name": "stdout",
     "output_type": "stream",
     "text": [
      "Comparing to 2018-2019 census data: Employment: Enterprise size <500 employees\n",
      "Pearson r=-0.1767 (p-value=0.2456)\n"
     ]
    }
   ],
   "source": [
    "print('Comparing to 2018-2019 census data: Employment: Enterprise size <500 employees')\n",
    "r, pvalue = pearsonr(shoe_buyers_pct_changes['2018-2019 pct change'], census_shoes_lt_500_emp_pct_change_20182019.loc[sample_states])\n",
    "print('Pearson r=%0.4f (p-value=%0.4f)' % (r, pvalue))"
   ]
  },
  {
   "cell_type": "code",
   "execution_count": 139,
   "id": "33cc2d9e",
   "metadata": {},
   "outputs": [
    {
     "name": "stdout",
     "output_type": "stream",
     "text": [
      "Comparing to 2018-2019 census data: Employment: Enterprise size <20 employees\n",
      "Pearson r=0.3084 (p-value=0.0393)\n"
     ]
    }
   ],
   "source": [
    "print('Comparing to 2018-2019 census data: Employment: Enterprise size <20 employees')\n",
    "r, pvalue = pearsonr(shoe_buyers_pct_changes['2018-2019 pct change'], census_shoes_lt_20_emp_pct_change_20182019.loc[sample_states])\n",
    "print('Pearson r=%0.4f (p-value=%0.4f)' % (r, pvalue))"
   ]
  },
  {
   "cell_type": "markdown",
   "id": "c794fd2c",
   "metadata": {},
   "source": [
    "Use a smaller sample because there are fewer total buyers."
   ]
  },
  {
   "cell_type": "code",
   "execution_count": 140,
   "id": "105fb5d8",
   "metadata": {},
   "outputs": [
    {
     "name": "stdout",
     "output_type": "stream",
     "text": [
      "1/1000\n",
      "744 purchases from N=325 purchasers in 2018 dataset\n",
      "942 purchases from N=382 purchasers in 2019 dataset\n",
      "501/1000\n",
      "819 purchases from N=365 purchasers in 2018 dataset\n",
      "1067 purchases from N=414 purchasers in 2019 dataset\n"
     ]
    }
   ],
   "source": [
    "N_subsamples = 1000\n",
    "state_pct_changes = [] # compute the mean over N_subsamples\n",
    "for i in range(N_subsamples):\n",
    "    v = (i%500==0)\n",
    "    if v:\n",
    "        print('%s/%s' % (i+1, N_subsamples))\n",
    "    sampled_purchases = get_random_sample(frame=shoe_purchases, N=1000)\n",
    "    state_pct_changes += [get_pct_change_buyers(sampled_purchases, verbose=v)]\n",
    "shoe_buyers_pct_changes = pd.DataFrame(state_pct_changes).mean()"
   ]
  },
  {
   "cell_type": "code",
   "execution_count": 141,
   "id": "9a0965f1",
   "metadata": {},
   "outputs": [
    {
     "name": "stdout",
     "output_type": "stream",
     "text": [
      "Comparing to 2018-2019 census data: Employment\n",
      "Pearson r=-0.2422 (p-value=0.1089)\n"
     ]
    }
   ],
   "source": [
    "print('Comparing to 2018-2019 census data: Employment')\n",
    "r, pvalue = pearsonr(shoe_buyers_pct_changes, census_shoes_emp_pct_change_20182019.loc[sample_states])\n",
    "print('Pearson r=%0.4f (p-value=%0.4f)' % (r, pvalue))"
   ]
  },
  {
   "cell_type": "markdown",
   "id": "5646671a",
   "metadata": {},
   "source": [
    "Stratify by state"
   ]
  },
  {
   "cell_type": "code",
   "execution_count": 142,
   "id": "e75a727e",
   "metadata": {},
   "outputs": [
    {
     "name": "stdout",
     "output_type": "stream",
     "text": [
      "1/1000\n",
      "1328 purchases from N=518 purchasers in 2018 dataset\n",
      "1917 purchases from N=650 purchasers in 2019 dataset\n",
      "501/1000\n",
      "1343 purchases from N=527 purchasers in 2018 dataset\n",
      "1871 purchases from N=624 purchasers in 2019 dataset\n"
     ]
    }
   ],
   "source": [
    "N_subsamples = 1000\n",
    "state_pct_changes = [] # compute the mean over N_subsamples\n",
    "for i in range(N_subsamples):\n",
    "    v = (i%500==0)\n",
    "    if v:\n",
    "        print('%s/%s' % (i+1, N_subsamples))\n",
    "    sampled_purchases = get_random_stratified_sample(frame=shoe_purchases)\n",
    "    state_pct_changes += [get_pct_change_buyers(sampled_purchases, verbose=v)]\n",
    "shoe_buyers_pct_changes = pd.DataFrame(state_pct_changes).mean()"
   ]
  },
  {
   "cell_type": "code",
   "execution_count": 143,
   "id": "b36820f6",
   "metadata": {},
   "outputs": [
    {
     "name": "stdout",
     "output_type": "stream",
     "text": [
      "Comparing to 2018-2019 census data: Employment\n",
      "Pearson r=-0.3207 (p-value=0.0317)\n"
     ]
    }
   ],
   "source": [
    "print('Comparing to 2018-2019 census data: Employment')\n",
    "r, pvalue = pearsonr(shoe_buyers_pct_changes, census_shoes_emp_pct_change_20182019.loc[sample_states])\n",
    "print('Pearson r=%0.4f (p-value=%0.4f)' % (r, pvalue))"
   ]
  },
  {
   "cell_type": "markdown",
   "id": "205cfc5b",
   "metadata": {},
   "source": [
    "Purchases"
   ]
  },
  {
   "cell_type": "code",
   "execution_count": 144,
   "id": "bef40833",
   "metadata": {},
   "outputs": [
    {
     "name": "stdout",
     "output_type": "stream",
     "text": [
      "1/1000\n",
      "1501 purchases from N=666 purchasers in 2018 dataset\n",
      "1861 purchases from N=754 purchasers in 2019 dataset\n",
      "501/1000\n",
      "1574 purchases from N=676 purchasers in 2018 dataset\n",
      "1953 purchases from N=764 purchasers in 2019 dataset\n"
     ]
    }
   ],
   "source": [
    "N_subsamples = 1000\n",
    "state_pct_changes = [] # compute the mean over N_subsamples\n",
    "for i in range(N_subsamples):\n",
    "    v = (i%500==0)\n",
    "    if v:\n",
    "        print('%s/%s' % (i+1, N_subsamples))\n",
    "    sampled_purchases = get_random_sample(frame=shoe_purchases)\n",
    "    state_pct_changes += [get_pct_change_purchases(sampled_purchases, verbose=v)]\n",
    "shoe_purchases_pct_changes = pd.DataFrame(state_pct_changes).mean()"
   ]
  },
  {
   "cell_type": "code",
   "execution_count": 145,
   "id": "0e57ad74",
   "metadata": {
    "scrolled": true
   },
   "outputs": [
    {
     "name": "stdout",
     "output_type": "stream",
     "text": [
      "Comparing to 2018-2019 census data: Employment\n",
      "Pearson r=-0.2980 (p-value=0.0468)\n",
      "Spearman r=-0.0926 (p-value=0.5451)\n",
      "\n",
      "Comparing to 2019-2020 census data\n",
      "Pearson r=0.1606 (p-value=0.2920)\n",
      "Spearman r=0.1054 (p-value=0.4908)\n"
     ]
    }
   ],
   "source": [
    "print('Comparing to 2018-2019 census data: Employment')\n",
    "r, pvalue = pearsonr(shoe_purchases_pct_changes, census_shoes_emp_pct_change_20182019.loc[sample_states])\n",
    "print('Pearson r=%0.4f (p-value=%0.4f)' % (r, pvalue))\n",
    "r, pvalue = spearmanr(shoe_purchases_pct_changes, census_shoes_emp_pct_change_20182019.loc[sample_states])\n",
    "print('Spearman r=%0.4f (p-value=%0.4f)' % (r, pvalue))\n",
    "\n",
    "print('\\nComparing to 2019-2020 census data')\n",
    "r, pvalue = pearsonr(shoe_purchases_pct_changes, census_shoes_emp_pct_change_20192020.loc[sample_states])\n",
    "print('Pearson r=%0.4f (p-value=%0.4f)' % (r, pvalue))\n",
    "r, pvalue = spearmanr(shoe_purchases_pct_changes, census_shoes_emp_pct_change_20192020.loc[sample_states])\n",
    "print('Spearman r=%0.4f (p-value=%0.4f)' % (r, pvalue))"
   ]
  },
  {
   "cell_type": "markdown",
   "id": "0ec91fb7",
   "metadata": {},
   "source": [
    "Using metric: Portion of purchasers increasing purchases"
   ]
  },
  {
   "cell_type": "code",
   "execution_count": 146,
   "id": "52c055c7",
   "metadata": {},
   "outputs": [
    {
     "name": "stdout",
     "output_type": "stream",
     "text": [
      "1/1000\n",
      "201/1000\n",
      "401/1000\n",
      "601/1000\n",
      "801/1000\n"
     ]
    }
   ],
   "source": [
    "N_subsamples = 1000\n",
    "state_changes = [] # compute the mean over N_subsamples\n",
    "for i in range(N_subsamples):\n",
    "    v = (i%200==0)\n",
    "    if v:\n",
    "        print('%s/%s' % (i+1, N_subsamples))\n",
    "    sampled_purchases = get_random_sample(frame=shoe_purchases)\n",
    "    state_changes += [get_portion_increases_by_purchaser(sampled_purchases)]\n",
    "shoes_portion_increases_by_purchaser = pd.DataFrame(state_changes).mean()"
   ]
  },
  {
   "cell_type": "code",
   "execution_count": 147,
   "id": "3c3a2ede",
   "metadata": {},
   "outputs": [
    {
     "name": "stdout",
     "output_type": "stream",
     "text": [
      "Comparing to 2018-2019 census data: Employment\n",
      "Pearson r=0.1912 (p-value=0.2084)\n"
     ]
    }
   ],
   "source": [
    "print('Comparing to 2018-2019 census data: Employment')\n",
    "r, pvalue = pearsonr(shoes_portion_increases_by_purchaser, census_shoes_emp_pct_change_20182019.loc[sample_states])\n",
    "print('Pearson r=%0.4f (p-value=%0.4f)' % (r, pvalue))"
   ]
  },
  {
   "cell_type": "markdown",
   "id": "811b2a4d",
   "metadata": {},
   "source": [
    "### Electronics experiments"
   ]
  },
  {
   "cell_type": "markdown",
   "id": "a94f9f27",
   "metadata": {},
   "source": [
    "Total purchases (vs distinct buyers)"
   ]
  },
  {
   "cell_type": "code",
   "execution_count": 148,
   "id": "b618564c",
   "metadata": {},
   "outputs": [
    {
     "name": "stdout",
     "output_type": "stream",
     "text": [
      "Comparing to 2019-2020 census data: Employment\n",
      "Pearson r=0.0100 (p-value=0.9481)\n",
      "Spearman r=-0.0009 (p-value=0.9952)\n"
     ]
    }
   ],
   "source": [
    "# Employment\n",
    "print('Comparing to 2019-2020 census data: Employment')\n",
    "r, pvalue = pearsonr(electronics_buyers_pct_changes, census_electronics_emp_pct_change_20192020.loc[sample_states])\n",
    "print('Pearson r=%0.4f (p-value=%0.4f)' % (r, pvalue))\n",
    "r, pvalue = spearmanr(electronics_buyers_pct_changes, census_electronics_emp_pct_change_20192020.loc[sample_states])\n",
    "print('Spearman r=%0.4f (p-value=%0.4f)' % (r, pvalue))"
   ]
  },
  {
   "cell_type": "code",
   "execution_count": 149,
   "id": "db70927a",
   "metadata": {},
   "outputs": [
    {
     "name": "stdout",
     "output_type": "stream",
     "text": [
      "Comparing to 2018-2019 census data: Establishments\n",
      "Pearson r=-0.1830 (p-value=0.2288)\n",
      "Spearman r=-0.1569 (p-value=0.3033)\n",
      "\n",
      "Comparing to 2019-2020 census data: Establishments\n",
      "Pearson r=-0.1563 (p-value=0.3053)\n",
      "Spearman r=-0.1617 (p-value=0.2887)\n"
     ]
    }
   ],
   "source": [
    "print('Comparing to 2018-2019 census data: Establishments')\n",
    "r, pvalue = pearsonr(electronics_buyers_pct_changes, census_electronics_est_pct_change_20182019.loc[sample_states])\n",
    "print('Pearson r=%0.4f (p-value=%0.4f)' % (r, pvalue))\n",
    "r, pvalue = spearmanr(electronics_buyers_pct_changes, census_electronics_est_pct_change_20182019.loc[sample_states])\n",
    "print('Spearman r=%0.4f (p-value=%0.4f)' % (r, pvalue))\n",
    "\n",
    "print('\\nComparing to 2019-2020 census data: Establishments')\n",
    "r, pvalue = pearsonr(electronics_buyers_pct_changes, census_electronics_est_pct_change_20192020.loc[sample_states])\n",
    "print('Pearson r=%0.4f (p-value=%0.4f)' % (r, pvalue))\n",
    "r, pvalue = spearmanr(electronics_buyers_pct_changes, census_electronics_est_pct_change_20192020.loc[sample_states])\n",
    "print('Spearman r=%0.4f (p-value=%0.4f)' % (r, pvalue))"
   ]
  },
  {
   "cell_type": "markdown",
   "id": "f2bc3ca1",
   "metadata": {},
   "source": [
    "Using stratification"
   ]
  },
  {
   "cell_type": "code",
   "execution_count": 150,
   "id": "4afc3ab5",
   "metadata": {},
   "outputs": [
    {
     "name": "stdout",
     "output_type": "stream",
     "text": [
      "1/1000\n",
      "4946 purchases from N=1058 purchasers in 2018 dataset\n",
      "5412 purchases from N=1135 purchasers in 2019 dataset\n",
      "501/1000\n",
      "4996 purchases from N=1092 purchasers in 2018 dataset\n",
      "5490 purchases from N=1117 purchasers in 2019 dataset\n"
     ]
    }
   ],
   "source": [
    "N_subsamples = 1000\n",
    "state_pct_changes = [] # compute the mean over N_subsamples\n",
    "for i in range(N_subsamples):\n",
    "    v = (i%500==0)\n",
    "    if v:\n",
    "        print('%s/%s' % (i+1, N_subsamples))\n",
    "    sampled_purchases = get_random_stratified_sample(frame=electronics_purchases)\n",
    "    state_pct_changes += [get_pct_change_buyers(sampled_purchases, verbose=v)]\n",
    "electronics_buyers_pct_changes = pd.DataFrame(state_pct_changes).mean()"
   ]
  },
  {
   "cell_type": "code",
   "execution_count": 151,
   "id": "6a579871",
   "metadata": {},
   "outputs": [
    {
     "name": "stdout",
     "output_type": "stream",
     "text": [
      "Comparing to 2018-2019 census data: Employment\n",
      "Pearson r=-0.0058 (p-value=0.9697)\n",
      "\n",
      "Comparing to 2019-2020 census data: Employment\n",
      "Pearson r=-0.0363 (p-value=0.8128)\n",
      "Spearman r=-0.0427 (p-value=0.7807)\n",
      "\n",
      "Comparing to 2018-2019 census data: Establishments\n",
      "Pearson r=-0.1783 (p-value=0.2413)\n",
      "Spearman r=-0.1544 (p-value=0.3112)\n",
      "\n",
      "Comparing to 2019-2020 census data\n",
      "Pearson r=-0.1951 (p-value=0.1990)\n",
      "Spearman r=-0.2170 (p-value=0.1522)\n"
     ]
    }
   ],
   "source": [
    "# Employment\n",
    "print('Comparing to 2018-2019 census data: Employment')\n",
    "r, pvalue = pearsonr(electronics_buyers_pct_changes, census_electronics_emp_pct_change_20182019.loc[sample_states])\n",
    "print('Pearson r=%0.4f (p-value=%0.4f)' % (r, pvalue))\n",
    "print('\\nComparing to 2019-2020 census data: Employment')\n",
    "r, pvalue = pearsonr(electronics_buyers_pct_changes, census_electronics_emp_pct_change_20192020.loc[sample_states])\n",
    "print('Pearson r=%0.4f (p-value=%0.4f)' % (r, pvalue))\n",
    "r, pvalue = spearmanr(electronics_buyers_pct_changes, census_electronics_emp_pct_change_20192020.loc[sample_states])\n",
    "print('Spearman r=%0.4f (p-value=%0.4f)' % (r, pvalue))\n",
    "# Establishments\n",
    "print('\\nComparing to 2018-2019 census data: Establishments')\n",
    "r, pvalue = pearsonr(electronics_buyers_pct_changes, census_electronics_est_pct_change_20182019.loc[sample_states])\n",
    "print('Pearson r=%0.4f (p-value=%0.4f)' % (r, pvalue))\n",
    "r, pvalue = spearmanr(electronics_buyers_pct_changes, census_electronics_est_pct_change_20182019.loc[sample_states])\n",
    "print('Spearman r=%0.4f (p-value=%0.4f)' % (r, pvalue))\n",
    "\n",
    "print('\\nComparing to 2019-2020 census data')\n",
    "r, pvalue = pearsonr(electronics_buyers_pct_changes, census_electronics_est_pct_change_20192020.loc[sample_states])\n",
    "print('Pearson r=%0.4f (p-value=%0.4f)' % (r, pvalue))\n",
    "r, pvalue = spearmanr(electronics_buyers_pct_changes, census_electronics_est_pct_change_20192020.loc[sample_states])\n",
    "print('Spearman r=%0.4f (p-value=%0.4f)' % (r, pvalue))"
   ]
  }
 ],
 "metadata": {
  "kernelspec": {
   "display_name": "venv-amazon-study",
   "language": "python",
   "name": "venv-amazon-study"
  },
  "language_info": {
   "codemirror_mode": {
    "name": "ipython",
    "version": 3
   },
   "file_extension": ".py",
   "mimetype": "text/x-python",
   "name": "python",
   "nbconvert_exporter": "python",
   "pygments_lexer": "ipython3",
   "version": "3.11.4"
  }
 },
 "nbformat": 4,
 "nbformat_minor": 5
}
