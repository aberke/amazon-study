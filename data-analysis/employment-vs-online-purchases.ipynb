{
 "cells": [
  {
   "cell_type": "markdown",
   "id": "439e8617",
   "metadata": {},
   "source": [
    "# Employment by category vs online purchases\n",
    "\n",
    "Looking at changes in local stores (establishments) vs online purchases, comparing business category (by NAICS code) and product category by states.\n",
    "\n",
    "\n",
    "Hypothesis: \n",
    "There is a negative correlation between change in online purchases for category X and change in employment at establishments of NAICS/category X.\n",
    "\n",
    "Focusing on changes from 2018 to 2019\n",
    "- There is both purchases data and (SUSB) census data for these years. SUSB/establishments census data goes only to 2021\n",
    "- Using other years would incorporate 2020 (COVID!) changes -- not studying COVID impacts here\n",
    "\n",
    "#### Categories of interest to study:\n",
    "Criteria for choosing:\n",
    "- Clear dilineation of categories\n",
    "- There can be a logical replacement of in person buys by online buys\n",
    "\n",
    "Categories:\n",
    "\n",
    "- Books stores\n",
    "    - hypothesis validated (p<0.05)\n",
    "- Shoes stores\n",
    "    - hypothesis validated (p<0.05)\n",
    "\n",
    "(Didn't pan out)\n",
    "- Pet supplies\n",
    "    - overall increase in employment\n",
    "- Paint and wallpaper \n",
    "    - not enough online purchases (most paint purchases in our Amazon data for arts and crafts)\n",
    "- Electronics\n",
    "    - ideas for why this didn't work:\n",
    "    - no clear delineation of category -- included tens of subcategories\n",
    "    - overlaps with other NAICS codes -- office supplies, used electronics, toys and games (video game is a big category)\n",
    "    - while book stores and shoes stores clearly have products that people previously needed to buy in stores and can now buy online, there are more and more NEW types of electronics to buy and therefore there is not as clearly a transfer of where specific items are being purchased."
   ]
  },
  {
   "cell_type": "code",
   "execution_count": 5,
   "id": "fae18411",
   "metadata": {},
   "outputs": [],
   "source": [
    "from datetime import date, datetime\n",
    "import os\n",
    "\n",
    "from IPython.display import display\n",
    "import matplotlib.pyplot as plt\n",
    "import numpy as np\n",
    "import pandas as pd\n",
    "from scipy.stats import pearsonr, spearmanr\n",
    "\n",
    "census_data_dir = '../data/census/'"
   ]
  },
  {
   "cell_type": "markdown",
   "id": "f1ae2cca",
   "metadata": {},
   "source": [
    "## Load in the states data\n",
    "For matching to Census data."
   ]
  },
  {
   "cell_type": "code",
   "execution_count": 6,
   "id": "6f54b2ff",
   "metadata": {},
   "outputs": [
    {
     "data": {
      "text/html": [
       "<div>\n",
       "<style scoped>\n",
       "    .dataframe tbody tr th:only-of-type {\n",
       "        vertical-align: middle;\n",
       "    }\n",
       "\n",
       "    .dataframe tbody tr th {\n",
       "        vertical-align: top;\n",
       "    }\n",
       "\n",
       "    .dataframe thead th {\n",
       "        text-align: right;\n",
       "    }\n",
       "</style>\n",
       "<table border=\"1\" class=\"dataframe\">\n",
       "  <thead>\n",
       "    <tr style=\"text-align: right;\">\n",
       "      <th></th>\n",
       "      <th>state</th>\n",
       "      <th>abbrev</th>\n",
       "      <th>code</th>\n",
       "    </tr>\n",
       "  </thead>\n",
       "  <tbody>\n",
       "    <tr>\n",
       "      <th>0</th>\n",
       "      <td>Alabama</td>\n",
       "      <td>Ala.</td>\n",
       "      <td>AL</td>\n",
       "    </tr>\n",
       "    <tr>\n",
       "      <th>1</th>\n",
       "      <td>Alaska</td>\n",
       "      <td>Alaska</td>\n",
       "      <td>AK</td>\n",
       "    </tr>\n",
       "    <tr>\n",
       "      <th>2</th>\n",
       "      <td>Arizona</td>\n",
       "      <td>Ariz.</td>\n",
       "      <td>AZ</td>\n",
       "    </tr>\n",
       "  </tbody>\n",
       "</table>\n",
       "</div>"
      ],
      "text/plain": [
       "     state  abbrev code\n",
       "0  Alabama    Ala.   AL\n",
       "1   Alaska  Alaska   AK\n",
       "2  Arizona   Ariz.   AZ"
      ]
     },
     "execution_count": 6,
     "metadata": {},
     "output_type": "execute_result"
    }
   ],
   "source": [
    "states_df = pd.read_csv(census_data_dir + 'state-abbreviations.csv')\n",
    "states_df.head(3)"
   ]
  },
  {
   "cell_type": "markdown",
   "id": "7498d243",
   "metadata": {},
   "source": [
    "## Census data\n",
    "\n",
    "Census data are from \n",
    "Statistics of U.S. Businesses (SUSB)\n",
    "https://www.census.gov/programs-surveys/susb/technical-documentation/methodology.html\n",
    "\n",
    "Data are downloaded from https://www.census.gov/programs-surveys/susb/data/tables.html\n",
    "\n",
    "I compiled data for each year, pulling out NAICS codes of interest, in spreadsheets: [link](https://docs.google.com/spreadsheets/d/1JNXUakd53ekObgPEwbz6tB56MkIErJ937pdLbCj37IQ/edit?usp=sharing).\n",
    "\n",
    "I normalized employment changes by population changes by first pulling population data for each year from NST-EST2020. [Population data are here](https://docs.google.com/spreadsheets/d/1_YEiBzyt8BtOl8oPYZ51cZN3SpmBk9QIcerPq6OM0PY/edit?usp=sharing).\n",
    "I calculated employment/population for each year and then calculated percent change in employment.\n",
    "\n",
    "i.e. metric of interest is percent change in employment from 2018 to 2019:\n",
    "\n",
    "```\n",
    "= [(employment2019/population2019) - (employment2018/population2018)]/(employment2018/population2018)\n",
    "```\n"
   ]
  },
  {
   "cell_type": "code",
   "execution_count": 7,
   "id": "eeea769e",
   "metadata": {},
   "outputs": [],
   "source": [
    "def read_susb_data(fname):\n",
    "    df = pd.read_csv(census_data_dir + 'SUSB/' + fname)\n",
    "    # Drop United States total\n",
    "    df = df.drop(0)\n",
    "    df['state code'] = df['State Name'].map(states_df.set_index('state')['code'])\n",
    "    # Index and order by state code to match purchases data\n",
    "    df = df.set_index('state code').sort_index()\n",
    "    return df"
   ]
  },
  {
   "cell_type": "markdown",
   "id": "0cc048e3",
   "metadata": {},
   "source": [
    "#### Read in books census data"
   ]
  },
  {
   "cell_type": "code",
   "execution_count": 8,
   "id": "9cb36be4",
   "metadata": {},
   "outputs": [
    {
     "data": {
      "text/html": [
       "<div>\n",
       "<style scoped>\n",
       "    .dataframe tbody tr th:only-of-type {\n",
       "        vertical-align: middle;\n",
       "    }\n",
       "\n",
       "    .dataframe tbody tr th {\n",
       "        vertical-align: top;\n",
       "    }\n",
       "\n",
       "    .dataframe thead th {\n",
       "        text-align: right;\n",
       "    }\n",
       "</style>\n",
       "<table border=\"1\" class=\"dataframe\">\n",
       "  <thead>\n",
       "    <tr style=\"text-align: right;\">\n",
       "      <th></th>\n",
       "      <th>State</th>\n",
       "      <th>State Name</th>\n",
       "      <th>NAICS</th>\n",
       "      <th>NAICS Description</th>\n",
       "      <th>Enterprise Size</th>\n",
       "      <th>Establishments 2018</th>\n",
       "      <th>Establishments 2019</th>\n",
       "      <th>Establishments 2020</th>\n",
       "      <th>Employment 2018</th>\n",
       "      <th>Employment 2019</th>\n",
       "      <th>...</th>\n",
       "      <th>Enterprise size &lt;500 employees: 2019 employment/population</th>\n",
       "      <th>Enterprise size &lt;500 employees: 2018-2019 employment/population percent change</th>\n",
       "      <th>Enterprise Size &lt; 20</th>\n",
       "      <th>Enterprise size &lt;20 employees: Establishments 2018</th>\n",
       "      <th>Enterprise size &lt;20 employees: Establishments 2019</th>\n",
       "      <th>Enterprise size &lt;20 employees: Employment 2018</th>\n",
       "      <th>Enterprise size &lt;20 employees: Employment 2019</th>\n",
       "      <th>Enterprise size &lt;20 employees: 2018 employment/population</th>\n",
       "      <th>Enterprise size &lt;20 employees: 2019 employment/population</th>\n",
       "      <th>Enterprise size &lt;20 employees: 2018-2019 employment/population percent change</th>\n",
       "    </tr>\n",
       "    <tr>\n",
       "      <th>state code</th>\n",
       "      <th></th>\n",
       "      <th></th>\n",
       "      <th></th>\n",
       "      <th></th>\n",
       "      <th></th>\n",
       "      <th></th>\n",
       "      <th></th>\n",
       "      <th></th>\n",
       "      <th></th>\n",
       "      <th></th>\n",
       "      <th></th>\n",
       "      <th></th>\n",
       "      <th></th>\n",
       "      <th></th>\n",
       "      <th></th>\n",
       "      <th></th>\n",
       "      <th></th>\n",
       "      <th></th>\n",
       "      <th></th>\n",
       "      <th></th>\n",
       "      <th></th>\n",
       "    </tr>\n",
       "  </thead>\n",
       "  <tbody>\n",
       "    <tr>\n",
       "      <th>AK</th>\n",
       "      <td>2</td>\n",
       "      <td>Alaska</td>\n",
       "      <td>451211</td>\n",
       "      <td>Book Stores</td>\n",
       "      <td>01: Total</td>\n",
       "      <td>27</td>\n",
       "      <td>23</td>\n",
       "      <td>27</td>\n",
       "      <td>175</td>\n",
       "      <td>139</td>\n",
       "      <td>...</td>\n",
       "      <td>0.000080</td>\n",
       "      <td>-0.277525</td>\n",
       "      <td>05: &lt;20 employees</td>\n",
       "      <td>14</td>\n",
       "      <td>9</td>\n",
       "      <td>58</td>\n",
       "      <td>37</td>\n",
       "      <td>0.000079</td>\n",
       "      <td>0.000050</td>\n",
       "      <td>-0.359442</td>\n",
       "    </tr>\n",
       "    <tr>\n",
       "      <th>AL</th>\n",
       "      <td>1</td>\n",
       "      <td>Alabama</td>\n",
       "      <td>451211</td>\n",
       "      <td>Book Stores</td>\n",
       "      <td>01: Total</td>\n",
       "      <td>107</td>\n",
       "      <td>106</td>\n",
       "      <td>94</td>\n",
       "      <td>983</td>\n",
       "      <td>842</td>\n",
       "      <td>...</td>\n",
       "      <td>0.000031</td>\n",
       "      <td>-0.135834</td>\n",
       "      <td>05: &lt;20 employees</td>\n",
       "      <td>27</td>\n",
       "      <td>28</td>\n",
       "      <td>141</td>\n",
       "      <td>115</td>\n",
       "      <td>0.000029</td>\n",
       "      <td>0.000023</td>\n",
       "      <td>-0.187112</td>\n",
       "    </tr>\n",
       "    <tr>\n",
       "      <th>AR</th>\n",
       "      <td>5</td>\n",
       "      <td>Arkansas</td>\n",
       "      <td>451211</td>\n",
       "      <td>Book Stores</td>\n",
       "      <td>01: Total</td>\n",
       "      <td>89</td>\n",
       "      <td>86</td>\n",
       "      <td>76</td>\n",
       "      <td>693</td>\n",
       "      <td>689</td>\n",
       "      <td>...</td>\n",
       "      <td>0.000037</td>\n",
       "      <td>0.015208</td>\n",
       "      <td>05: &lt;20 employees</td>\n",
       "      <td>24</td>\n",
       "      <td>24</td>\n",
       "      <td>71</td>\n",
       "      <td>78</td>\n",
       "      <td>0.000024</td>\n",
       "      <td>0.000026</td>\n",
       "      <td>0.095383</td>\n",
       "    </tr>\n",
       "  </tbody>\n",
       "</table>\n",
       "<p>3 rows × 39 columns</p>\n",
       "</div>"
      ],
      "text/plain": [
       "            State State Name   NAICS NAICS Description Enterprise Size   \n",
       "state code                                                               \n",
       "AK              2     Alaska  451211       Book Stores       01: Total  \\\n",
       "AL              1    Alabama  451211       Book Stores       01: Total   \n",
       "AR              5   Arkansas  451211       Book Stores       01: Total   \n",
       "\n",
       "           Establishments 2018 Establishments 2019 Establishments 2020   \n",
       "state code                                                               \n",
       "AK                          27                  23                  27  \\\n",
       "AL                         107                 106                  94   \n",
       "AR                          89                  86                  76   \n",
       "\n",
       "           Employment 2018 Employment 2019  ...   \n",
       "state code                                  ...   \n",
       "AK                     175             139  ...  \\\n",
       "AL                     983             842  ...   \n",
       "AR                     693             689  ...   \n",
       "\n",
       "           Enterprise size <500 employees: 2019 employment/population   \n",
       "state code                                                              \n",
       "AK                                                   0.000080          \\\n",
       "AL                                                   0.000031           \n",
       "AR                                                   0.000037           \n",
       "\n",
       "            Enterprise size <500 employees: 2018-2019 employment/population percent change   \n",
       "state code                                                                                   \n",
       "AK                                                  -0.277525                               \\\n",
       "AL                                                  -0.135834                                \n",
       "AR                                                   0.015208                                \n",
       "\n",
       "            Enterprise Size < 20   \n",
       "state code                         \n",
       "AK             05: <20 employees  \\\n",
       "AL             05: <20 employees   \n",
       "AR             05: <20 employees   \n",
       "\n",
       "            Enterprise size <20 employees: Establishments 2018   \n",
       "state code                                                       \n",
       "AK                                                         14   \\\n",
       "AL                                                         27    \n",
       "AR                                                         24    \n",
       "\n",
       "            Enterprise size <20 employees: Establishments 2019   \n",
       "state code                                                       \n",
       "AK                                                          9   \\\n",
       "AL                                                         28    \n",
       "AR                                                         24    \n",
       "\n",
       "           Enterprise size <20 employees: Employment 2018   \n",
       "state code                                                  \n",
       "AK                                                     58  \\\n",
       "AL                                                    141   \n",
       "AR                                                     71   \n",
       "\n",
       "           Enterprise size <20 employees: Employment 2019   \n",
       "state code                                                  \n",
       "AK                                                     37  \\\n",
       "AL                                                    115   \n",
       "AR                                                     78   \n",
       "\n",
       "           Enterprise size <20 employees: 2018 employment/population   \n",
       "state code                                                             \n",
       "AK                                                   0.000079         \\\n",
       "AL                                                   0.000029          \n",
       "AR                                                   0.000024          \n",
       "\n",
       "            Enterprise size <20 employees: 2019 employment/population   \n",
       "state code                                                              \n",
       "AK                                                   0.000050          \\\n",
       "AL                                                   0.000023           \n",
       "AR                                                   0.000026           \n",
       "\n",
       "            Enterprise size <20 employees: 2018-2019 employment/population percent change  \n",
       "state code                                                                                 \n",
       "AK                                                  -0.359442                              \n",
       "AL                                                  -0.187112                              \n",
       "AR                                                   0.095383                              \n",
       "\n",
       "[3 rows x 39 columns]"
      ]
     },
     "execution_count": 8,
     "metadata": {},
     "output_type": "execute_result"
    }
   ],
   "source": [
    "census_books_stores = read_susb_data('books-stores-aggregated.csv')\n",
    "census_books_stores.head(3)"
   ]
  },
  {
   "cell_type": "markdown",
   "id": "7f67a088",
   "metadata": {},
   "source": [
    "Pull out columns of interest and compare\n",
    "\n",
    "BEWARE the metrics you use!\n",
    "\n",
    "- metrics have low correlation if any\n",
    "- year to year changes negatively correlated\n",
    "- change in employment low positive correlation with change in establishments"
   ]
  },
  {
   "cell_type": "code",
   "execution_count": 10,
   "id": "398ca58b",
   "metadata": {},
   "outputs": [
    {
     "data": {
      "text/html": [
       "<div>\n",
       "<style scoped>\n",
       "    .dataframe tbody tr th:only-of-type {\n",
       "        vertical-align: middle;\n",
       "    }\n",
       "\n",
       "    .dataframe tbody tr th {\n",
       "        vertical-align: top;\n",
       "    }\n",
       "\n",
       "    .dataframe thead th {\n",
       "        text-align: right;\n",
       "    }\n",
       "</style>\n",
       "<table border=\"1\" class=\"dataframe\">\n",
       "  <thead>\n",
       "    <tr style=\"text-align: right;\">\n",
       "      <th></th>\n",
       "      <th>2018-2019 Establishments percent change</th>\n",
       "      <th>2019-2020 Establishments percent change</th>\n",
       "      <th>2018-2019 Employment percent change</th>\n",
       "      <th>2019-2020 Employment percent change</th>\n",
       "      <th>2018-2019 employment/population percent change</th>\n",
       "      <th>2019-2020 employment/population percent change</th>\n",
       "      <th>Enterprise size &lt;500 employees: 2018-2019 employment/population percent change</th>\n",
       "      <th>Enterprise size &lt;20 employees: 2018-2019 employment/population percent change</th>\n",
       "    </tr>\n",
       "  </thead>\n",
       "  <tbody>\n",
       "    <tr>\n",
       "      <th>2018-2019 Establishments percent change</th>\n",
       "      <td>1.000000</td>\n",
       "      <td>-0.319861</td>\n",
       "      <td>0.260161</td>\n",
       "      <td>-0.117258</td>\n",
       "      <td>0.216737</td>\n",
       "      <td>-0.079443</td>\n",
       "      <td>0.437304</td>\n",
       "      <td>0.348661</td>\n",
       "    </tr>\n",
       "    <tr>\n",
       "      <th>2019-2020 Establishments percent change</th>\n",
       "      <td>-0.319861</td>\n",
       "      <td>1.000000</td>\n",
       "      <td>-0.123347</td>\n",
       "      <td>0.250796</td>\n",
       "      <td>-0.073798</td>\n",
       "      <td>0.225837</td>\n",
       "      <td>-0.103250</td>\n",
       "      <td>-0.300708</td>\n",
       "    </tr>\n",
       "    <tr>\n",
       "      <th>2018-2019 Employment percent change</th>\n",
       "      <td>0.260161</td>\n",
       "      <td>-0.123347</td>\n",
       "      <td>1.000000</td>\n",
       "      <td>-0.092615</td>\n",
       "      <td>0.992434</td>\n",
       "      <td>-0.077472</td>\n",
       "      <td>0.661600</td>\n",
       "      <td>0.352816</td>\n",
       "    </tr>\n",
       "    <tr>\n",
       "      <th>2019-2020 Employment percent change</th>\n",
       "      <td>-0.117258</td>\n",
       "      <td>0.250796</td>\n",
       "      <td>-0.092615</td>\n",
       "      <td>1.000000</td>\n",
       "      <td>-0.057756</td>\n",
       "      <td>0.973918</td>\n",
       "      <td>-0.201326</td>\n",
       "      <td>-0.177107</td>\n",
       "    </tr>\n",
       "    <tr>\n",
       "      <th>2018-2019 employment/population percent change</th>\n",
       "      <td>0.216737</td>\n",
       "      <td>-0.073798</td>\n",
       "      <td>0.992434</td>\n",
       "      <td>-0.057756</td>\n",
       "      <td>1.000000</td>\n",
       "      <td>-0.041061</td>\n",
       "      <td>0.635306</td>\n",
       "      <td>0.334797</td>\n",
       "    </tr>\n",
       "    <tr>\n",
       "      <th>2019-2020 employment/population percent change</th>\n",
       "      <td>-0.079443</td>\n",
       "      <td>0.225837</td>\n",
       "      <td>-0.077472</td>\n",
       "      <td>0.973918</td>\n",
       "      <td>-0.041061</td>\n",
       "      <td>1.000000</td>\n",
       "      <td>-0.179528</td>\n",
       "      <td>-0.145611</td>\n",
       "    </tr>\n",
       "    <tr>\n",
       "      <th>Enterprise size &lt;500 employees: 2018-2019 employment/population percent change</th>\n",
       "      <td>0.437304</td>\n",
       "      <td>-0.103250</td>\n",
       "      <td>0.661600</td>\n",
       "      <td>-0.201326</td>\n",
       "      <td>0.635306</td>\n",
       "      <td>-0.179528</td>\n",
       "      <td>1.000000</td>\n",
       "      <td>0.443595</td>\n",
       "    </tr>\n",
       "    <tr>\n",
       "      <th>Enterprise size &lt;20 employees: 2018-2019 employment/population percent change</th>\n",
       "      <td>0.348661</td>\n",
       "      <td>-0.300708</td>\n",
       "      <td>0.352816</td>\n",
       "      <td>-0.177107</td>\n",
       "      <td>0.334797</td>\n",
       "      <td>-0.145611</td>\n",
       "      <td>0.443595</td>\n",
       "      <td>1.000000</td>\n",
       "    </tr>\n",
       "  </tbody>\n",
       "</table>\n",
       "</div>"
      ],
      "text/plain": [
       "                                                    2018-2019 Establishments percent change   \n",
       "2018-2019 Establishments percent change                                            1.000000  \\\n",
       "2019-2020 Establishments percent change                                           -0.319861   \n",
       "2018-2019 Employment percent change                                                0.260161   \n",
       "2019-2020 Employment percent change                                               -0.117258   \n",
       "2018-2019 employment/population percent change                                     0.216737   \n",
       "2019-2020 employment/population percent change                                    -0.079443   \n",
       "Enterprise size <500 employees: 2018-2019 emplo...                                 0.437304   \n",
       "Enterprise size <20 employees: 2018-2019 employ...                                 0.348661   \n",
       "\n",
       "                                                    2019-2020 Establishments percent change   \n",
       "2018-2019 Establishments percent change                                           -0.319861  \\\n",
       "2019-2020 Establishments percent change                                            1.000000   \n",
       "2018-2019 Employment percent change                                               -0.123347   \n",
       "2019-2020 Employment percent change                                                0.250796   \n",
       "2018-2019 employment/population percent change                                    -0.073798   \n",
       "2019-2020 employment/population percent change                                     0.225837   \n",
       "Enterprise size <500 employees: 2018-2019 emplo...                                -0.103250   \n",
       "Enterprise size <20 employees: 2018-2019 employ...                                -0.300708   \n",
       "\n",
       "                                                    2018-2019 Employment percent change   \n",
       "2018-2019 Establishments percent change                                        0.260161  \\\n",
       "2019-2020 Establishments percent change                                       -0.123347   \n",
       "2018-2019 Employment percent change                                            1.000000   \n",
       "2019-2020 Employment percent change                                           -0.092615   \n",
       "2018-2019 employment/population percent change                                 0.992434   \n",
       "2019-2020 employment/population percent change                                -0.077472   \n",
       "Enterprise size <500 employees: 2018-2019 emplo...                             0.661600   \n",
       "Enterprise size <20 employees: 2018-2019 employ...                             0.352816   \n",
       "\n",
       "                                                    2019-2020 Employment percent change   \n",
       "2018-2019 Establishments percent change                                       -0.117258  \\\n",
       "2019-2020 Establishments percent change                                        0.250796   \n",
       "2018-2019 Employment percent change                                           -0.092615   \n",
       "2019-2020 Employment percent change                                            1.000000   \n",
       "2018-2019 employment/population percent change                                -0.057756   \n",
       "2019-2020 employment/population percent change                                 0.973918   \n",
       "Enterprise size <500 employees: 2018-2019 emplo...                            -0.201326   \n",
       "Enterprise size <20 employees: 2018-2019 employ...                            -0.177107   \n",
       "\n",
       "                                                    2018-2019 employment/population percent change   \n",
       "2018-2019 Establishments percent change                                                   0.216737  \\\n",
       "2019-2020 Establishments percent change                                                  -0.073798   \n",
       "2018-2019 Employment percent change                                                       0.992434   \n",
       "2019-2020 Employment percent change                                                      -0.057756   \n",
       "2018-2019 employment/population percent change                                            1.000000   \n",
       "2019-2020 employment/population percent change                                           -0.041061   \n",
       "Enterprise size <500 employees: 2018-2019 emplo...                                        0.635306   \n",
       "Enterprise size <20 employees: 2018-2019 employ...                                        0.334797   \n",
       "\n",
       "                                                    2019-2020 employment/population percent change   \n",
       "2018-2019 Establishments percent change                                                  -0.079443  \\\n",
       "2019-2020 Establishments percent change                                                   0.225837   \n",
       "2018-2019 Employment percent change                                                      -0.077472   \n",
       "2019-2020 Employment percent change                                                       0.973918   \n",
       "2018-2019 employment/population percent change                                           -0.041061   \n",
       "2019-2020 employment/population percent change                                            1.000000   \n",
       "Enterprise size <500 employees: 2018-2019 emplo...                                       -0.179528   \n",
       "Enterprise size <20 employees: 2018-2019 employ...                                       -0.145611   \n",
       "\n",
       "                                                    Enterprise size <500 employees: 2018-2019 employment/population percent change   \n",
       "2018-2019 Establishments percent change                                                      0.437304                               \\\n",
       "2019-2020 Establishments percent change                                                     -0.103250                                \n",
       "2018-2019 Employment percent change                                                          0.661600                                \n",
       "2019-2020 Employment percent change                                                         -0.201326                                \n",
       "2018-2019 employment/population percent change                                               0.635306                                \n",
       "2019-2020 employment/population percent change                                              -0.179528                                \n",
       "Enterprise size <500 employees: 2018-2019 emplo...                                           1.000000                                \n",
       "Enterprise size <20 employees: 2018-2019 employ...                                           0.443595                                \n",
       "\n",
       "                                                    Enterprise size <20 employees: 2018-2019 employment/population percent change  \n",
       "2018-2019 Establishments percent change                                                      0.348661                              \n",
       "2019-2020 Establishments percent change                                                     -0.300708                              \n",
       "2018-2019 Employment percent change                                                          0.352816                              \n",
       "2019-2020 Employment percent change                                                         -0.177107                              \n",
       "2018-2019 employment/population percent change                                               0.334797                              \n",
       "2019-2020 employment/population percent change                                              -0.145611                              \n",
       "Enterprise size <500 employees: 2018-2019 emplo...                                           0.443595                              \n",
       "Enterprise size <20 employees: 2018-2019 employ...                                           1.000000                              "
      ]
     },
     "execution_count": 10,
     "metadata": {},
     "output_type": "execute_result"
    }
   ],
   "source": [
    "census_books_stores[[\n",
    "    '2018-2019 Establishments percent change',\n",
    "    '2019-2020 Establishments percent change',\n",
    "    '2018-2019 Employment percent change',\n",
    "    '2019-2020 Employment percent change',\n",
    "    '2018-2019 employment/population percent change',\n",
    "    '2019-2020 employment/population percent change',\n",
    "    # Also have data specific to enterprise size\n",
    "    'Enterprise size <500 employees: 2018-2019 employment/population percent change',\n",
    "    'Enterprise size <20 employees: 2018-2019 employment/population percent change',\n",
    "    \n",
    "]].corr()"
   ]
  },
  {
   "cell_type": "code",
   "execution_count": 47,
   "id": "8e0093ad",
   "metadata": {},
   "outputs": [
    {
     "data": {
      "text/plain": [
       "state code\n",
       "AK   -0.148148\n",
       "AL   -0.009346\n",
       "AR   -0.033708\n",
       "AZ   -0.008065\n",
       "CA    0.000000\n",
       "Name: 2018-2019 Establishments percent change, dtype: float64"
      ]
     },
     "execution_count": 47,
     "metadata": {},
     "output_type": "execute_result"
    }
   ],
   "source": [
    "# Pull out columns of interest \n",
    "census_books_est_pct_change_20182019 = census_books_stores['2018-2019 Establishments percent change']\n",
    "census_books_est_pct_change_20192020 = census_books_stores['2019-2020 Establishments percent change']\n",
    "# census_books_emp_pct_change_20182019 = census_books_stores['2018-2019 Employment percent change']\n",
    "# census_books_emp_pct_change_20192020 = census_books_stores['2019-2020 Employment percent change']\n",
    "census_books_emp_pct_change_20182019 = census_books_stores['2018-2019 employment/population percent change']\n",
    "census_books_emp_pct_change_20192020 = census_books_stores['2019-2020 employment/population percent change']\n",
    "\n",
    "census_books_lt_500_emp_pct_change_20182019 = census_books_stores['Enterprise size <500 employees: 2018-2019 employment/population percent change']\n",
    "census_books_lt_20_emp_pct_change_20182019 = census_books_stores['Enterprise size <20 employees: 2018-2019 employment/population percent change']\n",
    "\n",
    "census_books_est_pct_change_20182019.head()"
   ]
  },
  {
   "cell_type": "markdown",
   "id": "03d7a4a1",
   "metadata": {},
   "source": [
    "#### Read in shoe stores census data\n",
    "\n",
    "For shoe stores, employment and establishments data more correlated than for book stores.\n",
    "\n",
    "Negative correlations across years."
   ]
  },
  {
   "cell_type": "code",
   "execution_count": 14,
   "id": "ba14ce4d",
   "metadata": {},
   "outputs": [
    {
     "data": {
      "text/html": [
       "<div>\n",
       "<style scoped>\n",
       "    .dataframe tbody tr th:only-of-type {\n",
       "        vertical-align: middle;\n",
       "    }\n",
       "\n",
       "    .dataframe tbody tr th {\n",
       "        vertical-align: top;\n",
       "    }\n",
       "\n",
       "    .dataframe thead th {\n",
       "        text-align: right;\n",
       "    }\n",
       "</style>\n",
       "<table border=\"1\" class=\"dataframe\">\n",
       "  <thead>\n",
       "    <tr style=\"text-align: right;\">\n",
       "      <th></th>\n",
       "      <th>State</th>\n",
       "      <th>State Name</th>\n",
       "      <th>NAICS</th>\n",
       "      <th>NAICS Description</th>\n",
       "      <th>Enterprise Size</th>\n",
       "      <th>Establishments 2018</th>\n",
       "      <th>Establishments 2019</th>\n",
       "      <th>Establishments 2020</th>\n",
       "      <th>Employment 2018</th>\n",
       "      <th>Employment 2019</th>\n",
       "      <th>...</th>\n",
       "      <th>Enterprise size &lt;500 employees: 2019 employment/population</th>\n",
       "      <th>Enterprise size &lt;500 employees: 2018-2019 employment/population percent change</th>\n",
       "      <th>Enterprise Size &lt; 20</th>\n",
       "      <th>Enterprise size &lt;20 employees: Establishments 2018</th>\n",
       "      <th>Enterprise size &lt;20 employees: Establishments 2019</th>\n",
       "      <th>Enterprise size &lt;20 employees: Employment 2018</th>\n",
       "      <th>Enterprise size &lt;20 employees: Employment 2019</th>\n",
       "      <th>Enterprise size &lt;20 employees: 2018 employment/population</th>\n",
       "      <th>Enterprise size &lt;20 employees: 2019 employment/population</th>\n",
       "      <th>Enterprise size &lt;20 employees: 2018-2019 employment/population percent change</th>\n",
       "    </tr>\n",
       "    <tr>\n",
       "      <th>state code</th>\n",
       "      <th></th>\n",
       "      <th></th>\n",
       "      <th></th>\n",
       "      <th></th>\n",
       "      <th></th>\n",
       "      <th></th>\n",
       "      <th></th>\n",
       "      <th></th>\n",
       "      <th></th>\n",
       "      <th></th>\n",
       "      <th></th>\n",
       "      <th></th>\n",
       "      <th></th>\n",
       "      <th></th>\n",
       "      <th></th>\n",
       "      <th></th>\n",
       "      <th></th>\n",
       "      <th></th>\n",
       "      <th></th>\n",
       "      <th></th>\n",
       "      <th></th>\n",
       "    </tr>\n",
       "  </thead>\n",
       "  <tbody>\n",
       "    <tr>\n",
       "      <th>AK</th>\n",
       "      <td>2</td>\n",
       "      <td>Alaska</td>\n",
       "      <td>448210</td>\n",
       "      <td>Shoe Stores</td>\n",
       "      <td>01: Total</td>\n",
       "      <td>35</td>\n",
       "      <td>36</td>\n",
       "      <td>35</td>\n",
       "      <td>246</td>\n",
       "      <td>259</td>\n",
       "      <td>...</td>\n",
       "      <td>0.000166</td>\n",
       "      <td>0.123875</td>\n",
       "      <td>05: &lt;20 employees</td>\n",
       "      <td>8</td>\n",
       "      <td>9</td>\n",
       "      <td>57</td>\n",
       "      <td>64</td>\n",
       "      <td>0.000077</td>\n",
       "      <td>0.000087</td>\n",
       "      <td>0.127431</td>\n",
       "    </tr>\n",
       "    <tr>\n",
       "      <th>AL</th>\n",
       "      <td>1</td>\n",
       "      <td>Alabama</td>\n",
       "      <td>448210</td>\n",
       "      <td>Shoe Stores</td>\n",
       "      <td>01: Total</td>\n",
       "      <td>370</td>\n",
       "      <td>360</td>\n",
       "      <td>355</td>\n",
       "      <td>3,268</td>\n",
       "      <td>3,457</td>\n",
       "      <td>...</td>\n",
       "      <td>0.000122</td>\n",
       "      <td>-0.062692</td>\n",
       "      <td>05: &lt;20 employees</td>\n",
       "      <td>66</td>\n",
       "      <td>61</td>\n",
       "      <td>349</td>\n",
       "      <td>319</td>\n",
       "      <td>0.000071</td>\n",
       "      <td>0.000065</td>\n",
       "      <td>-0.089002</td>\n",
       "    </tr>\n",
       "    <tr>\n",
       "      <th>AR</th>\n",
       "      <td>5</td>\n",
       "      <td>Arkansas</td>\n",
       "      <td>448210</td>\n",
       "      <td>Shoe Stores</td>\n",
       "      <td>01: Total</td>\n",
       "      <td>199</td>\n",
       "      <td>199</td>\n",
       "      <td>194</td>\n",
       "      <td>1,548</td>\n",
       "      <td>1,647</td>\n",
       "      <td>...</td>\n",
       "      <td>0.000086</td>\n",
       "      <td>-0.021734</td>\n",
       "      <td>05: &lt;20 employees</td>\n",
       "      <td>35</td>\n",
       "      <td>34</td>\n",
       "      <td>144</td>\n",
       "      <td>130</td>\n",
       "      <td>0.000048</td>\n",
       "      <td>0.000043</td>\n",
       "      <td>-0.099859</td>\n",
       "    </tr>\n",
       "  </tbody>\n",
       "</table>\n",
       "<p>3 rows × 39 columns</p>\n",
       "</div>"
      ],
      "text/plain": [
       "            State State Name   NAICS NAICS Description Enterprise Size   \n",
       "state code                                                               \n",
       "AK              2     Alaska  448210       Shoe Stores       01: Total  \\\n",
       "AL              1    Alabama  448210       Shoe Stores       01: Total   \n",
       "AR              5   Arkansas  448210       Shoe Stores       01: Total   \n",
       "\n",
       "           Establishments 2018 Establishments 2019 Establishments 2020   \n",
       "state code                                                               \n",
       "AK                          35                  36                  35  \\\n",
       "AL                         370                 360                 355   \n",
       "AR                         199                 199                 194   \n",
       "\n",
       "           Employment 2018 Employment 2019  ...   \n",
       "state code                                  ...   \n",
       "AK                     246             259  ...  \\\n",
       "AL                   3,268           3,457  ...   \n",
       "AR                   1,548           1,647  ...   \n",
       "\n",
       "           Enterprise size <500 employees: 2019 employment/population   \n",
       "state code                                                              \n",
       "AK                                                   0.000166          \\\n",
       "AL                                                   0.000122           \n",
       "AR                                                   0.000086           \n",
       "\n",
       "            Enterprise size <500 employees: 2018-2019 employment/population percent change   \n",
       "state code                                                                                   \n",
       "AK                                                   0.123875                               \\\n",
       "AL                                                  -0.062692                                \n",
       "AR                                                  -0.021734                                \n",
       "\n",
       "            Enterprise Size < 20   \n",
       "state code                         \n",
       "AK             05: <20 employees  \\\n",
       "AL             05: <20 employees   \n",
       "AR             05: <20 employees   \n",
       "\n",
       "            Enterprise size <20 employees: Establishments 2018   \n",
       "state code                                                       \n",
       "AK                                                          8   \\\n",
       "AL                                                         66    \n",
       "AR                                                         35    \n",
       "\n",
       "            Enterprise size <20 employees: Establishments 2019   \n",
       "state code                                                       \n",
       "AK                                                          9   \\\n",
       "AL                                                         61    \n",
       "AR                                                         34    \n",
       "\n",
       "           Enterprise size <20 employees: Employment 2018   \n",
       "state code                                                  \n",
       "AK                                                     57  \\\n",
       "AL                                                    349   \n",
       "AR                                                    144   \n",
       "\n",
       "           Enterprise size <20 employees: Employment 2019   \n",
       "state code                                                  \n",
       "AK                                                     64  \\\n",
       "AL                                                    319   \n",
       "AR                                                    130   \n",
       "\n",
       "           Enterprise size <20 employees: 2018 employment/population   \n",
       "state code                                                             \n",
       "AK                                                   0.000077         \\\n",
       "AL                                                   0.000071          \n",
       "AR                                                   0.000048          \n",
       "\n",
       "            Enterprise size <20 employees: 2019 employment/population   \n",
       "state code                                                              \n",
       "AK                                                   0.000087          \\\n",
       "AL                                                   0.000065           \n",
       "AR                                                   0.000043           \n",
       "\n",
       "            Enterprise size <20 employees: 2018-2019 employment/population percent change  \n",
       "state code                                                                                 \n",
       "AK                                                   0.127431                              \n",
       "AL                                                  -0.089002                              \n",
       "AR                                                  -0.099859                              \n",
       "\n",
       "[3 rows x 39 columns]"
      ]
     },
     "execution_count": 14,
     "metadata": {},
     "output_type": "execute_result"
    }
   ],
   "source": [
    "census_shoe_stores = read_susb_data('shoe-stores-aggregated.csv')\n",
    "census_shoe_stores.head(3)"
   ]
  },
  {
   "cell_type": "code",
   "execution_count": 15,
   "id": "1712a229",
   "metadata": {},
   "outputs": [
    {
     "data": {
      "text/html": [
       "<div>\n",
       "<style scoped>\n",
       "    .dataframe tbody tr th:only-of-type {\n",
       "        vertical-align: middle;\n",
       "    }\n",
       "\n",
       "    .dataframe tbody tr th {\n",
       "        vertical-align: top;\n",
       "    }\n",
       "\n",
       "    .dataframe thead th {\n",
       "        text-align: right;\n",
       "    }\n",
       "</style>\n",
       "<table border=\"1\" class=\"dataframe\">\n",
       "  <thead>\n",
       "    <tr style=\"text-align: right;\">\n",
       "      <th></th>\n",
       "      <th>2018-2019 Establishments percent change</th>\n",
       "      <th>2019-2020 Establishments percent change</th>\n",
       "      <th>2018-2019 Employment percent change</th>\n",
       "      <th>2019-2020 Employment percent change</th>\n",
       "      <th>2018-2019 employment/population percent change</th>\n",
       "      <th>2019-2020 employment/population percent change</th>\n",
       "      <th>Enterprise size &lt;500 employees: 2018-2019 employment/population percent change</th>\n",
       "      <th>Enterprise size &lt;20 employees: 2018-2019 employment/population percent change</th>\n",
       "    </tr>\n",
       "  </thead>\n",
       "  <tbody>\n",
       "    <tr>\n",
       "      <th>2018-2019 Establishments percent change</th>\n",
       "      <td>1.000000</td>\n",
       "      <td>-0.466332</td>\n",
       "      <td>0.548621</td>\n",
       "      <td>-0.279487</td>\n",
       "      <td>0.546644</td>\n",
       "      <td>-0.269233</td>\n",
       "      <td>0.036012</td>\n",
       "      <td>0.025754</td>\n",
       "    </tr>\n",
       "    <tr>\n",
       "      <th>2019-2020 Establishments percent change</th>\n",
       "      <td>-0.466332</td>\n",
       "      <td>1.000000</td>\n",
       "      <td>-0.041917</td>\n",
       "      <td>0.274604</td>\n",
       "      <td>-0.067856</td>\n",
       "      <td>0.286381</td>\n",
       "      <td>0.042038</td>\n",
       "      <td>-0.024941</td>\n",
       "    </tr>\n",
       "    <tr>\n",
       "      <th>2018-2019 Employment percent change</th>\n",
       "      <td>0.548621</td>\n",
       "      <td>-0.041917</td>\n",
       "      <td>1.000000</td>\n",
       "      <td>-0.308751</td>\n",
       "      <td>0.987648</td>\n",
       "      <td>-0.270753</td>\n",
       "      <td>0.140001</td>\n",
       "      <td>0.154044</td>\n",
       "    </tr>\n",
       "    <tr>\n",
       "      <th>2019-2020 Employment percent change</th>\n",
       "      <td>-0.279487</td>\n",
       "      <td>0.274604</td>\n",
       "      <td>-0.308751</td>\n",
       "      <td>1.000000</td>\n",
       "      <td>-0.337143</td>\n",
       "      <td>0.992687</td>\n",
       "      <td>0.006106</td>\n",
       "      <td>0.280784</td>\n",
       "    </tr>\n",
       "    <tr>\n",
       "      <th>2018-2019 employment/population percent change</th>\n",
       "      <td>0.546644</td>\n",
       "      <td>-0.067856</td>\n",
       "      <td>0.987648</td>\n",
       "      <td>-0.337143</td>\n",
       "      <td>1.000000</td>\n",
       "      <td>-0.293430</td>\n",
       "      <td>0.183909</td>\n",
       "      <td>0.147873</td>\n",
       "    </tr>\n",
       "    <tr>\n",
       "      <th>2019-2020 employment/population percent change</th>\n",
       "      <td>-0.269233</td>\n",
       "      <td>0.286381</td>\n",
       "      <td>-0.270753</td>\n",
       "      <td>0.992687</td>\n",
       "      <td>-0.293430</td>\n",
       "      <td>1.000000</td>\n",
       "      <td>0.027734</td>\n",
       "      <td>0.299174</td>\n",
       "    </tr>\n",
       "    <tr>\n",
       "      <th>Enterprise size &lt;500 employees: 2018-2019 employment/population percent change</th>\n",
       "      <td>0.036012</td>\n",
       "      <td>0.042038</td>\n",
       "      <td>0.140001</td>\n",
       "      <td>0.006106</td>\n",
       "      <td>0.183909</td>\n",
       "      <td>0.027734</td>\n",
       "      <td>1.000000</td>\n",
       "      <td>0.431340</td>\n",
       "    </tr>\n",
       "    <tr>\n",
       "      <th>Enterprise size &lt;20 employees: 2018-2019 employment/population percent change</th>\n",
       "      <td>0.025754</td>\n",
       "      <td>-0.024941</td>\n",
       "      <td>0.154044</td>\n",
       "      <td>0.280784</td>\n",
       "      <td>0.147873</td>\n",
       "      <td>0.299174</td>\n",
       "      <td>0.431340</td>\n",
       "      <td>1.000000</td>\n",
       "    </tr>\n",
       "  </tbody>\n",
       "</table>\n",
       "</div>"
      ],
      "text/plain": [
       "                                                    2018-2019 Establishments percent change   \n",
       "2018-2019 Establishments percent change                                            1.000000  \\\n",
       "2019-2020 Establishments percent change                                           -0.466332   \n",
       "2018-2019 Employment percent change                                                0.548621   \n",
       "2019-2020 Employment percent change                                               -0.279487   \n",
       "2018-2019 employment/population percent change                                     0.546644   \n",
       "2019-2020 employment/population percent change                                    -0.269233   \n",
       "Enterprise size <500 employees: 2018-2019 emplo...                                 0.036012   \n",
       "Enterprise size <20 employees: 2018-2019 employ...                                 0.025754   \n",
       "\n",
       "                                                    2019-2020 Establishments percent change   \n",
       "2018-2019 Establishments percent change                                           -0.466332  \\\n",
       "2019-2020 Establishments percent change                                            1.000000   \n",
       "2018-2019 Employment percent change                                               -0.041917   \n",
       "2019-2020 Employment percent change                                                0.274604   \n",
       "2018-2019 employment/population percent change                                    -0.067856   \n",
       "2019-2020 employment/population percent change                                     0.286381   \n",
       "Enterprise size <500 employees: 2018-2019 emplo...                                 0.042038   \n",
       "Enterprise size <20 employees: 2018-2019 employ...                                -0.024941   \n",
       "\n",
       "                                                    2018-2019 Employment percent change   \n",
       "2018-2019 Establishments percent change                                        0.548621  \\\n",
       "2019-2020 Establishments percent change                                       -0.041917   \n",
       "2018-2019 Employment percent change                                            1.000000   \n",
       "2019-2020 Employment percent change                                           -0.308751   \n",
       "2018-2019 employment/population percent change                                 0.987648   \n",
       "2019-2020 employment/population percent change                                -0.270753   \n",
       "Enterprise size <500 employees: 2018-2019 emplo...                             0.140001   \n",
       "Enterprise size <20 employees: 2018-2019 employ...                             0.154044   \n",
       "\n",
       "                                                    2019-2020 Employment percent change   \n",
       "2018-2019 Establishments percent change                                       -0.279487  \\\n",
       "2019-2020 Establishments percent change                                        0.274604   \n",
       "2018-2019 Employment percent change                                           -0.308751   \n",
       "2019-2020 Employment percent change                                            1.000000   \n",
       "2018-2019 employment/population percent change                                -0.337143   \n",
       "2019-2020 employment/population percent change                                 0.992687   \n",
       "Enterprise size <500 employees: 2018-2019 emplo...                             0.006106   \n",
       "Enterprise size <20 employees: 2018-2019 employ...                             0.280784   \n",
       "\n",
       "                                                    2018-2019 employment/population percent change   \n",
       "2018-2019 Establishments percent change                                                   0.546644  \\\n",
       "2019-2020 Establishments percent change                                                  -0.067856   \n",
       "2018-2019 Employment percent change                                                       0.987648   \n",
       "2019-2020 Employment percent change                                                      -0.337143   \n",
       "2018-2019 employment/population percent change                                            1.000000   \n",
       "2019-2020 employment/population percent change                                           -0.293430   \n",
       "Enterprise size <500 employees: 2018-2019 emplo...                                        0.183909   \n",
       "Enterprise size <20 employees: 2018-2019 employ...                                        0.147873   \n",
       "\n",
       "                                                    2019-2020 employment/population percent change   \n",
       "2018-2019 Establishments percent change                                                  -0.269233  \\\n",
       "2019-2020 Establishments percent change                                                   0.286381   \n",
       "2018-2019 Employment percent change                                                      -0.270753   \n",
       "2019-2020 Employment percent change                                                       0.992687   \n",
       "2018-2019 employment/population percent change                                           -0.293430   \n",
       "2019-2020 employment/population percent change                                            1.000000   \n",
       "Enterprise size <500 employees: 2018-2019 emplo...                                        0.027734   \n",
       "Enterprise size <20 employees: 2018-2019 employ...                                        0.299174   \n",
       "\n",
       "                                                    Enterprise size <500 employees: 2018-2019 employment/population percent change   \n",
       "2018-2019 Establishments percent change                                                      0.036012                               \\\n",
       "2019-2020 Establishments percent change                                                      0.042038                                \n",
       "2018-2019 Employment percent change                                                          0.140001                                \n",
       "2019-2020 Employment percent change                                                          0.006106                                \n",
       "2018-2019 employment/population percent change                                               0.183909                                \n",
       "2019-2020 employment/population percent change                                               0.027734                                \n",
       "Enterprise size <500 employees: 2018-2019 emplo...                                           1.000000                                \n",
       "Enterprise size <20 employees: 2018-2019 employ...                                           0.431340                                \n",
       "\n",
       "                                                    Enterprise size <20 employees: 2018-2019 employment/population percent change  \n",
       "2018-2019 Establishments percent change                                                      0.025754                              \n",
       "2019-2020 Establishments percent change                                                     -0.024941                              \n",
       "2018-2019 Employment percent change                                                          0.154044                              \n",
       "2019-2020 Employment percent change                                                          0.280784                              \n",
       "2018-2019 employment/population percent change                                               0.147873                              \n",
       "2019-2020 employment/population percent change                                               0.299174                              \n",
       "Enterprise size <500 employees: 2018-2019 emplo...                                           0.431340                              \n",
       "Enterprise size <20 employees: 2018-2019 employ...                                           1.000000                              "
      ]
     },
     "execution_count": 15,
     "metadata": {},
     "output_type": "execute_result"
    }
   ],
   "source": [
    "census_shoe_stores[[\n",
    "    '2018-2019 Establishments percent change',\n",
    "    '2019-2020 Establishments percent change',\n",
    "    '2018-2019 Employment percent change',\n",
    "    '2019-2020 Employment percent change',\n",
    "    '2018-2019 employment/population percent change',\n",
    "    '2019-2020 employment/population percent change',\n",
    "    # Also have data specific to enterprise size\n",
    "    'Enterprise size <500 employees: 2018-2019 employment/population percent change',\n",
    "    'Enterprise size <20 employees: 2018-2019 employment/population percent change',\n",
    "]].corr()"
   ]
  },
  {
   "cell_type": "code",
   "execution_count": 16,
   "id": "c3f3d866",
   "metadata": {},
   "outputs": [
    {
     "data": {
      "text/plain": [
       "state code\n",
       "AK    0.057181\n",
       "AL    0.054312\n",
       "AR    0.060846\n",
       "AZ   -0.159494\n",
       "CA   -0.092635\n",
       "Name: 2018-2019 employment/population percent change, dtype: float64"
      ]
     },
     "execution_count": 16,
     "metadata": {},
     "output_type": "execute_result"
    }
   ],
   "source": [
    "# Pull out columns of interest\n",
    "census_shoes_est_pct_change_20182019 = census_shoe_stores['2018-2019 Establishments percent change']\n",
    "census_shoes_est_pct_change_20192020 = census_shoe_stores['2019-2020 Establishments percent change']\n",
    "# census_shoes_emp_pct_change_20182019 = census_shoe_stores['2018-2019 Employment percent change']\n",
    "# census_shoes_emp_pct_change_20192020 = census_shoe_stores['2019-2020 Employment percent change']\n",
    "census_shoes_emp_pct_change_20182019 = census_shoe_stores['2018-2019 employment/population percent change']\n",
    "census_shoes_emp_pct_change_20192020 = census_shoe_stores['2019-2020 employment/population percent change']\n",
    "\n",
    "census_shoes_lt_500_emp_pct_change_20182019 = census_shoe_stores['Enterprise size <500 employees: 2018-2019 employment/population percent change']\n",
    "census_shoes_lt_20_emp_pct_change_20182019 = census_shoe_stores['Enterprise size <20 employees: 2018-2019 employment/population percent change']\n",
    "\n",
    "census_shoes_emp_pct_change_20182019.head()"
   ]
  },
  {
   "cell_type": "markdown",
   "id": "5ddcd9cb",
   "metadata": {},
   "source": [
    "#### Read in electronics stores census data\n",
    "\n",
    "For electronics stores, employment and establishments data less correlated than for shoe stores.\n",
    "\n",
    "Negative correlations across years."
   ]
  },
  {
   "cell_type": "code",
   "execution_count": 17,
   "id": "3a35ffe5",
   "metadata": {},
   "outputs": [
    {
     "data": {
      "text/html": [
       "<div>\n",
       "<style scoped>\n",
       "    .dataframe tbody tr th:only-of-type {\n",
       "        vertical-align: middle;\n",
       "    }\n",
       "\n",
       "    .dataframe tbody tr th {\n",
       "        vertical-align: top;\n",
       "    }\n",
       "\n",
       "    .dataframe thead th {\n",
       "        text-align: right;\n",
       "    }\n",
       "</style>\n",
       "<table border=\"1\" class=\"dataframe\">\n",
       "  <thead>\n",
       "    <tr style=\"text-align: right;\">\n",
       "      <th></th>\n",
       "      <th>State</th>\n",
       "      <th>State Name</th>\n",
       "      <th>NAICS</th>\n",
       "      <th>NAICS Description</th>\n",
       "      <th>Enterprise Size</th>\n",
       "      <th>Establishments 2018</th>\n",
       "      <th>Establishments 2019</th>\n",
       "      <th>Establishments 2020</th>\n",
       "      <th>Employment 2018</th>\n",
       "      <th>Employment 2019</th>\n",
       "      <th>...</th>\n",
       "      <th>2018-2019 Employment percent change</th>\n",
       "      <th>2019-2020 Employment percent change</th>\n",
       "      <th>2018 population</th>\n",
       "      <th>2019 population</th>\n",
       "      <th>2020 population</th>\n",
       "      <th>2018 employment/population</th>\n",
       "      <th>2019 employment/population</th>\n",
       "      <th>2020 employment/population</th>\n",
       "      <th>2018-2019 employment/population percent change</th>\n",
       "      <th>2019-2020 employment/population percent change</th>\n",
       "    </tr>\n",
       "    <tr>\n",
       "      <th>state code</th>\n",
       "      <th></th>\n",
       "      <th></th>\n",
       "      <th></th>\n",
       "      <th></th>\n",
       "      <th></th>\n",
       "      <th></th>\n",
       "      <th></th>\n",
       "      <th></th>\n",
       "      <th></th>\n",
       "      <th></th>\n",
       "      <th></th>\n",
       "      <th></th>\n",
       "      <th></th>\n",
       "      <th></th>\n",
       "      <th></th>\n",
       "      <th></th>\n",
       "      <th></th>\n",
       "      <th></th>\n",
       "      <th></th>\n",
       "      <th></th>\n",
       "      <th></th>\n",
       "    </tr>\n",
       "  </thead>\n",
       "  <tbody>\n",
       "    <tr>\n",
       "      <th>AK</th>\n",
       "      <td>2</td>\n",
       "      <td>Alaska</td>\n",
       "      <td>443142</td>\n",
       "      <td>Electronics Stores</td>\n",
       "      <td>01: Total</td>\n",
       "      <td>47</td>\n",
       "      <td>43</td>\n",
       "      <td>37</td>\n",
       "      <td>437</td>\n",
       "      <td>418</td>\n",
       "      <td>...</td>\n",
       "      <td>-0.045455</td>\n",
       "      <td>-0.097113</td>\n",
       "      <td>736,624</td>\n",
       "      <td>733,603</td>\n",
       "      <td>731,158</td>\n",
       "      <td>0.000593</td>\n",
       "      <td>0.000570</td>\n",
       "      <td>0.000521</td>\n",
       "      <td>-0.039539</td>\n",
       "      <td>-0.085469</td>\n",
       "    </tr>\n",
       "    <tr>\n",
       "      <th>AL</th>\n",
       "      <td>1</td>\n",
       "      <td>Alabama</td>\n",
       "      <td>443142</td>\n",
       "      <td>Electronics Stores</td>\n",
       "      <td>01: Total</td>\n",
       "      <td>220</td>\n",
       "      <td>199</td>\n",
       "      <td>186</td>\n",
       "      <td>2,380</td>\n",
       "      <td>2,363</td>\n",
       "      <td>...</td>\n",
       "      <td>-0.007194</td>\n",
       "      <td>-0.299780</td>\n",
       "      <td>4,891,628</td>\n",
       "      <td>4,907,965</td>\n",
       "      <td>4,921,532</td>\n",
       "      <td>0.000487</td>\n",
       "      <td>0.000481</td>\n",
       "      <td>0.000369</td>\n",
       "      <td>-0.010448</td>\n",
       "      <td>-0.232760</td>\n",
       "    </tr>\n",
       "    <tr>\n",
       "      <th>AR</th>\n",
       "      <td>5</td>\n",
       "      <td>Arkansas</td>\n",
       "      <td>443142</td>\n",
       "      <td>Electronics Stores</td>\n",
       "      <td>01: Total</td>\n",
       "      <td>167</td>\n",
       "      <td>160</td>\n",
       "      <td>153</td>\n",
       "      <td>1,674</td>\n",
       "      <td>1,693</td>\n",
       "      <td>...</td>\n",
       "      <td>0.011223</td>\n",
       "      <td>-0.095084</td>\n",
       "      <td>3,012,161</td>\n",
       "      <td>3,020,985</td>\n",
       "      <td>3,030,522</td>\n",
       "      <td>0.000556</td>\n",
       "      <td>0.000560</td>\n",
       "      <td>0.000510</td>\n",
       "      <td>0.008396</td>\n",
       "      <td>-0.089702</td>\n",
       "    </tr>\n",
       "  </tbody>\n",
       "</table>\n",
       "<p>3 rows × 23 columns</p>\n",
       "</div>"
      ],
      "text/plain": [
       "            State State Name   NAICS   NAICS Description Enterprise Size   \n",
       "state code                                                                 \n",
       "AK              2     Alaska  443142  Electronics Stores       01: Total  \\\n",
       "AL              1    Alabama  443142  Electronics Stores       01: Total   \n",
       "AR              5   Arkansas  443142  Electronics Stores       01: Total   \n",
       "\n",
       "           Establishments 2018 Establishments 2019 Establishments 2020   \n",
       "state code                                                               \n",
       "AK                          47                  43                  37  \\\n",
       "AL                         220                 199                 186   \n",
       "AR                         167                 160                 153   \n",
       "\n",
       "           Employment 2018 Employment 2019  ...   \n",
       "state code                                  ...   \n",
       "AK                     437             418  ...  \\\n",
       "AL                   2,380           2,363  ...   \n",
       "AR                   1,674           1,693  ...   \n",
       "\n",
       "           2018-2019 Employment percent change   \n",
       "state code                                       \n",
       "AK                                   -0.045455  \\\n",
       "AL                                   -0.007194   \n",
       "AR                                    0.011223   \n",
       "\n",
       "            2019-2020 Employment percent change  2018 population   \n",
       "state code                                                         \n",
       "AK                                    -0.097113          736,624  \\\n",
       "AL                                    -0.299780        4,891,628   \n",
       "AR                                    -0.095084        3,012,161   \n",
       "\n",
       "            2019 population  2020 population 2018 employment/population   \n",
       "state code                                                                \n",
       "AK                  733,603          731,158                   0.000593  \\\n",
       "AL                4,907,965        4,921,532                   0.000487   \n",
       "AR                3,020,985        3,030,522                   0.000556   \n",
       "\n",
       "           2019 employment/population 2020 employment/population   \n",
       "state code                                                         \n",
       "AK                           0.000570                   0.000521  \\\n",
       "AL                           0.000481                   0.000369   \n",
       "AR                           0.000560                   0.000510   \n",
       "\n",
       "            2018-2019 employment/population percent change   \n",
       "state code                                                   \n",
       "AK                                               -0.039539  \\\n",
       "AL                                               -0.010448   \n",
       "AR                                                0.008396   \n",
       "\n",
       "            2019-2020 employment/population percent change  \n",
       "state code                                                  \n",
       "AK                                               -0.085469  \n",
       "AL                                               -0.232760  \n",
       "AR                                               -0.089702  \n",
       "\n",
       "[3 rows x 23 columns]"
      ]
     },
     "execution_count": 17,
     "metadata": {},
     "output_type": "execute_result"
    }
   ],
   "source": [
    "census_electronics_stores = read_susb_data('electronics-stores-aggregated.csv')\n",
    "census_electronics_stores.head(3)"
   ]
  },
  {
   "cell_type": "code",
   "execution_count": 18,
   "id": "1cbcbcd4",
   "metadata": {},
   "outputs": [
    {
     "data": {
      "text/html": [
       "<div>\n",
       "<style scoped>\n",
       "    .dataframe tbody tr th:only-of-type {\n",
       "        vertical-align: middle;\n",
       "    }\n",
       "\n",
       "    .dataframe tbody tr th {\n",
       "        vertical-align: top;\n",
       "    }\n",
       "\n",
       "    .dataframe thead th {\n",
       "        text-align: right;\n",
       "    }\n",
       "</style>\n",
       "<table border=\"1\" class=\"dataframe\">\n",
       "  <thead>\n",
       "    <tr style=\"text-align: right;\">\n",
       "      <th></th>\n",
       "      <th>2018-2019 Establishments percent change</th>\n",
       "      <th>2019-2020 Establishments percent change</th>\n",
       "      <th>2018-2019 Employment percent change</th>\n",
       "      <th>2019-2020 Employment percent change</th>\n",
       "    </tr>\n",
       "  </thead>\n",
       "  <tbody>\n",
       "    <tr>\n",
       "      <th>2018-2019 Establishments percent change</th>\n",
       "      <td>1.000000</td>\n",
       "      <td>-0.088687</td>\n",
       "      <td>0.357728</td>\n",
       "      <td>0.066169</td>\n",
       "    </tr>\n",
       "    <tr>\n",
       "      <th>2019-2020 Establishments percent change</th>\n",
       "      <td>-0.088687</td>\n",
       "      <td>1.000000</td>\n",
       "      <td>-0.366091</td>\n",
       "      <td>0.400313</td>\n",
       "    </tr>\n",
       "    <tr>\n",
       "      <th>2018-2019 Employment percent change</th>\n",
       "      <td>0.357728</td>\n",
       "      <td>-0.366091</td>\n",
       "      <td>1.000000</td>\n",
       "      <td>-0.498358</td>\n",
       "    </tr>\n",
       "    <tr>\n",
       "      <th>2019-2020 Employment percent change</th>\n",
       "      <td>0.066169</td>\n",
       "      <td>0.400313</td>\n",
       "      <td>-0.498358</td>\n",
       "      <td>1.000000</td>\n",
       "    </tr>\n",
       "  </tbody>\n",
       "</table>\n",
       "</div>"
      ],
      "text/plain": [
       "                                         2018-2019 Establishments percent change   \n",
       "2018-2019 Establishments percent change                                 1.000000  \\\n",
       "2019-2020 Establishments percent change                                -0.088687   \n",
       "2018-2019 Employment percent change                                     0.357728   \n",
       "2019-2020 Employment percent change                                     0.066169   \n",
       "\n",
       "                                         2019-2020 Establishments percent change   \n",
       "2018-2019 Establishments percent change                                -0.088687  \\\n",
       "2019-2020 Establishments percent change                                 1.000000   \n",
       "2018-2019 Employment percent change                                    -0.366091   \n",
       "2019-2020 Employment percent change                                     0.400313   \n",
       "\n",
       "                                         2018-2019 Employment percent change   \n",
       "2018-2019 Establishments percent change                             0.357728  \\\n",
       "2019-2020 Establishments percent change                            -0.366091   \n",
       "2018-2019 Employment percent change                                 1.000000   \n",
       "2019-2020 Employment percent change                                -0.498358   \n",
       "\n",
       "                                         2019-2020 Employment percent change  \n",
       "2018-2019 Establishments percent change                             0.066169  \n",
       "2019-2020 Establishments percent change                             0.400313  \n",
       "2018-2019 Employment percent change                                -0.498358  \n",
       "2019-2020 Employment percent change                                 1.000000  "
      ]
     },
     "execution_count": 18,
     "metadata": {},
     "output_type": "execute_result"
    }
   ],
   "source": [
    "census_electronics_stores[[\n",
    "    '2018-2019 Establishments percent change',\n",
    "    '2019-2020 Establishments percent change',\n",
    "    '2018-2019 Employment percent change',\n",
    "    '2019-2020 Employment percent change'\n",
    "]].corr()"
   ]
  },
  {
   "cell_type": "code",
   "execution_count": 19,
   "id": "e8afa32c",
   "metadata": {},
   "outputs": [
    {
     "data": {
      "text/plain": [
       "state code\n",
       "AK   -0.039539\n",
       "AL   -0.010448\n",
       "AR    0.008396\n",
       "AZ   -0.081680\n",
       "CA   -0.076248\n",
       "Name: 2018-2019 employment/population percent change, dtype: float64"
      ]
     },
     "execution_count": 19,
     "metadata": {},
     "output_type": "execute_result"
    }
   ],
   "source": [
    "# Pull out columns of interest\n",
    "census_electronics_est_pct_change_20182019 = census_electronics_stores['2018-2019 Establishments percent change']\n",
    "census_electronics_est_pct_change_20192020 = census_electronics_stores['2019-2020 Establishments percent change']\n",
    "census_electronics_emp_pct_change_20182019 = census_electronics_stores['2018-2019 employment/population percent change']\n",
    "census_electronics_emp_pct_change_20192020 = census_electronics_stores['2019-2020 employment/population percent change']\n",
    "census_electronics_emp_pct_change_20182019.head()"
   ]
  },
  {
   "cell_type": "markdown",
   "id": "0a3394df",
   "metadata": {},
   "source": [
    "## Amazon purchases\n",
    "\n",
    "Will restrict analysis to 2018 and 2019 and analyze corresponding changes. \n",
    "- Limiting to these years to avoid changes due to COVID-19\n",
    "\n",
    "Restrict data to response ids that had purchases in 2018."
   ]
  },
  {
   "cell_type": "code",
   "execution_count": 20,
   "id": "f4508e66",
   "metadata": {},
   "outputs": [
    {
     "data": {
      "text/html": [
       "<div>\n",
       "<style scoped>\n",
       "    .dataframe tbody tr th:only-of-type {\n",
       "        vertical-align: middle;\n",
       "    }\n",
       "\n",
       "    .dataframe tbody tr th {\n",
       "        vertical-align: top;\n",
       "    }\n",
       "\n",
       "    .dataframe thead th {\n",
       "        text-align: right;\n",
       "    }\n",
       "</style>\n",
       "<table border=\"1\" class=\"dataframe\">\n",
       "  <thead>\n",
       "    <tr style=\"text-align: right;\">\n",
       "      <th></th>\n",
       "      <th>Order Date</th>\n",
       "      <th>Purchase Price Per Unit</th>\n",
       "      <th>Quantity</th>\n",
       "      <th>Shipping Address State</th>\n",
       "      <th>Title</th>\n",
       "      <th>ASIN/ISBN (Product Code)</th>\n",
       "      <th>Category</th>\n",
       "      <th>unit price</th>\n",
       "      <th>total price</th>\n",
       "      <th>yyyy-mm</th>\n",
       "      <th>state</th>\n",
       "      <th>year</th>\n",
       "    </tr>\n",
       "  </thead>\n",
       "  <tbody>\n",
       "    <tr>\n",
       "      <th>0</th>\n",
       "      <td>2018-02-21</td>\n",
       "      <td>$7.93</td>\n",
       "      <td>1.0</td>\n",
       "      <td>RHODE ISLAND</td>\n",
       "      <td>Suburban World: The Norling Photos</td>\n",
       "      <td>0873516095</td>\n",
       "      <td>ABIS_BOOK</td>\n",
       "      <td>7.93</td>\n",
       "      <td>7.93</td>\n",
       "      <td>2018-02</td>\n",
       "      <td>RI</td>\n",
       "      <td>2018</td>\n",
       "    </tr>\n",
       "    <tr>\n",
       "      <th>1</th>\n",
       "      <td>2018-02-21</td>\n",
       "      <td>$3.53</td>\n",
       "      <td>1.0</td>\n",
       "      <td>RHODE ISLAND</td>\n",
       "      <td>NaN</td>\n",
       "      <td>B004S7EZR0</td>\n",
       "      <td>NaN</td>\n",
       "      <td>3.53</td>\n",
       "      <td>3.53</td>\n",
       "      <td>2018-02</td>\n",
       "      <td>RI</td>\n",
       "      <td>2018</td>\n",
       "    </tr>\n",
       "    <tr>\n",
       "      <th>2</th>\n",
       "      <td>2018-03-05</td>\n",
       "      <td>$5.99</td>\n",
       "      <td>1.0</td>\n",
       "      <td>RHODE ISLAND</td>\n",
       "      <td>1952 Back In The Day - 24-page Greeting Card /...</td>\n",
       "      <td>193938012X</td>\n",
       "      <td>ABIS_BOOK</td>\n",
       "      <td>5.99</td>\n",
       "      <td>5.99</td>\n",
       "      <td>2018-03</td>\n",
       "      <td>RI</td>\n",
       "      <td>2018</td>\n",
       "    </tr>\n",
       "  </tbody>\n",
       "</table>\n",
       "</div>"
      ],
      "text/plain": [
       "   Order Date Purchase Price Per Unit  Quantity Shipping Address State   \n",
       "0  2018-02-21                   $7.93       1.0           RHODE ISLAND  \\\n",
       "1  2018-02-21                   $3.53       1.0           RHODE ISLAND   \n",
       "2  2018-03-05                   $5.99       1.0           RHODE ISLAND   \n",
       "\n",
       "                                               Title ASIN/ISBN (Product Code)   \n",
       "0                 Suburban World: The Norling Photos               0873516095  \\\n",
       "1                                                NaN               B004S7EZR0   \n",
       "2  1952 Back In The Day - 24-page Greeting Card /...               193938012X   \n",
       "\n",
       "    Category  unit price  total price  yyyy-mm state  year  \n",
       "0  ABIS_BOOK        7.93         7.93  2018-02    RI  2018  \n",
       "1        NaN        3.53         3.53  2018-02    RI  2018  \n",
       "2  ABIS_BOOK        5.99         5.99  2018-03    RI  2018  "
      ]
     },
     "execution_count": 20,
     "metadata": {},
     "output_type": "execute_result"
    }
   ],
   "source": [
    "amzn_data_fpath = '../data/amazon-data/amazon-data-cleaned.csv'\n",
    "amzn_data = pd.read_csv(amzn_data_fpath, index_col=[0])\n",
    "# add year to data for convenience\n",
    "amzn_data['year'] = pd.to_datetime(amzn_data['Order Date']).apply(lambda d: d.year)\n",
    "# peek at it:\n",
    "amzn_data.drop(['Survey ResponseID'], axis=1).head(3)"
   ]
  },
  {
   "cell_type": "markdown",
   "id": "9cb2d4e6",
   "metadata": {},
   "source": [
    "## Sampling set up\n",
    "\n",
    "Set up for repeated random sampling.\n",
    "\n",
    "Since analysis is done comparing states, limit data to states with a sufficient number of response ids to sample from.\n",
    "\n",
    "Exclude data from respondents who purchase more than the 90th percentile."
   ]
  },
  {
   "cell_type": "code",
   "execution_count": 21,
   "id": "9ae8d6c7",
   "metadata": {},
   "outputs": [
    {
     "name": "stdout",
     "output_type": "stream",
     "text": [
      "Before dropping any data:\n",
      "N=5027 unique purchasers\n",
      "1850717 total purchases\n",
      "Dropping data for response ids do that do not have purchases in 2018\n",
      "N=4281 unique purchasers\n",
      "1745772 total purchases\n"
     ]
    }
   ],
   "source": [
    "# Restrict data to responseIds with purchases in 2018.\n",
    "print('Before dropping any data:')\n",
    "print('N=%s unique purchasers' % amzn_data['Survey ResponseID'].nunique())\n",
    "print('%s total purchases' % len(amzn_data))\n",
    "print('Dropping data for response ids do that do not have purchases in 2018')\n",
    "responseids_2018 = amzn_data[amzn_data['year']==2018]['Survey ResponseID'].unique()\n",
    "amzn_data_sample = amzn_data[amzn_data['Survey ResponseID'].isin(responseids_2018)]\n",
    "print('N=%s unique purchasers' % amzn_data_sample['Survey ResponseID'].nunique())\n",
    "print('%s total purchases' % len(amzn_data_sample))"
   ]
  },
  {
   "cell_type": "code",
   "execution_count": 22,
   "id": "4429b5af",
   "metadata": {},
   "outputs": [
    {
     "name": "stdout",
     "output_type": "stream",
     "text": [
      "Bottom number of response ids by state\n",
      "state\n",
      "PR    10\n",
      "ND    16\n",
      "WY    21\n",
      "AK    28\n",
      "MT    29\n",
      "SD    29\n",
      "VT    45\n",
      "DE    51\n",
      "Name: Survey ResponseID, dtype: int64\n",
      "\n",
      "Distribution of response ids by state\n",
      "count     52.000000\n",
      "mean     215.634615\n",
      "std      203.585799\n",
      "min       10.000000\n",
      "25%       67.750000\n",
      "50%      144.000000\n",
      "75%      281.000000\n",
      "max      920.000000\n",
      "Name: Survey ResponseID, dtype: float64\n"
     ]
    }
   ],
   "source": [
    "responseids_by_state = amzn_data.groupby('state')['Survey ResponseID'].nunique()\n",
    "print('Bottom number of response ids by state')\n",
    "print(responseids_by_state.sort_values().head(8))\n",
    "print('\\nDistribution of response ids by state')\n",
    "print(responseids_by_state.describe())"
   ]
  },
  {
   "cell_type": "code",
   "execution_count": 23,
   "id": "58cc1847",
   "metadata": {},
   "outputs": [
    {
     "name": "stdout",
     "output_type": "stream",
     "text": [
      "using n=50 as minimum number of response ids for each state\n",
      "45 states meet threshold\n",
      "dropping 92969 purchases for the states that do not meet the threshold\n",
      "N=4211 unique purchasers\n",
      "1652803 total purchases\n"
     ]
    }
   ],
   "source": [
    "state_min_n = 50\n",
    "print('using n=%s as minimum number of response ids for each state' % state_min_n)\n",
    "sample_states = responseids_by_state[responseids_by_state >= state_min_n].index\n",
    "print('%s states meet threshold' % len(sample_states))\n",
    "print('dropping %s purchases for the states that do not meet the threshold' % (\n",
    "    len(amzn_data_sample) - len(amzn_data_sample[amzn_data_sample['state'].isin(sample_states)])))\n",
    "amzn_data_sample = amzn_data_sample[amzn_data_sample['state'].isin(sample_states)]\n",
    "\n",
    "print('N=%s unique purchasers' % amzn_data_sample['Survey ResponseID'].nunique())\n",
    "print('%s total purchases' % len(amzn_data_sample))"
   ]
  },
  {
   "cell_type": "code",
   "execution_count": 24,
   "id": "0ff21d71",
   "metadata": {},
   "outputs": [
    {
     "name": "stdout",
     "output_type": "stream",
     "text": [
      "Distribution of purchases per response id\n"
     ]
    },
    {
     "data": {
      "text/html": [
       "<div>\n",
       "<style scoped>\n",
       "    .dataframe tbody tr th:only-of-type {\n",
       "        vertical-align: middle;\n",
       "    }\n",
       "\n",
       "    .dataframe tbody tr th {\n",
       "        vertical-align: top;\n",
       "    }\n",
       "\n",
       "    .dataframe thead th {\n",
       "        text-align: right;\n",
       "    }\n",
       "</style>\n",
       "<table border=\"1\" class=\"dataframe\">\n",
       "  <thead>\n",
       "    <tr style=\"text-align: right;\">\n",
       "      <th></th>\n",
       "      <th>sum</th>\n",
       "      <th>count</th>\n",
       "    </tr>\n",
       "  </thead>\n",
       "  <tbody>\n",
       "    <tr>\n",
       "      <th>count</th>\n",
       "      <td>4211.000000</td>\n",
       "      <td>4211.000000</td>\n",
       "    </tr>\n",
       "    <tr>\n",
       "      <th>mean</th>\n",
       "      <td>427.691285</td>\n",
       "      <td>392.496557</td>\n",
       "    </tr>\n",
       "    <tr>\n",
       "      <th>std</th>\n",
       "      <td>485.553254</td>\n",
       "      <td>435.463559</td>\n",
       "    </tr>\n",
       "    <tr>\n",
       "      <th>min</th>\n",
       "      <td>1.000000</td>\n",
       "      <td>1.000000</td>\n",
       "    </tr>\n",
       "    <tr>\n",
       "      <th>25%</th>\n",
       "      <td>114.500000</td>\n",
       "      <td>108.000000</td>\n",
       "    </tr>\n",
       "    <tr>\n",
       "      <th>50%</th>\n",
       "      <td>276.000000</td>\n",
       "      <td>256.000000</td>\n",
       "    </tr>\n",
       "    <tr>\n",
       "      <th>75%</th>\n",
       "      <td>562.500000</td>\n",
       "      <td>517.500000</td>\n",
       "    </tr>\n",
       "    <tr>\n",
       "      <th>max</th>\n",
       "      <td>5839.000000</td>\n",
       "      <td>5413.000000</td>\n",
       "    </tr>\n",
       "  </tbody>\n",
       "</table>\n",
       "</div>"
      ],
      "text/plain": [
       "               sum        count\n",
       "count  4211.000000  4211.000000\n",
       "mean    427.691285   392.496557\n",
       "std     485.553254   435.463559\n",
       "min       1.000000     1.000000\n",
       "25%     114.500000   108.000000\n",
       "50%     276.000000   256.000000\n",
       "75%     562.500000   517.500000\n",
       "max    5839.000000  5413.000000"
      ]
     },
     "execution_count": 24,
     "metadata": {},
     "output_type": "execute_result"
    }
   ],
   "source": [
    "purchases_by_responseid = amzn_data_sample.groupby(['Survey ResponseID'])['Quantity'].agg(['sum','count'])\n",
    "print('Distribution of purchases per response id')\n",
    "purchases_by_responseid.describe()"
   ]
  },
  {
   "cell_type": "markdown",
   "id": "a01ffb75",
   "metadata": {},
   "source": [
    "Random sampling pipeline\n",
    "\n",
    "- before: make sampling frame -- first restrict data as needed by category\n",
    "- randomly sample with replacement n responseids \n",
    "    - not stratified: n total\n",
    "    - stratified: n for each state in threshold states"
   ]
  },
  {
   "cell_type": "code",
   "execution_count": 25,
   "id": "66e59a73",
   "metadata": {},
   "outputs": [],
   "source": [
    "def get_random_sample(frame=amzn_data_sample, N=2500, sample_states=sample_states):\n",
    "    # limit the sampling frame to the states (if not already)\n",
    "    sample_responseids = np.random.choice(\n",
    "        frame[frame['state'].isin(sample_states)]['Survey ResponseID'].unique(), \n",
    "        size=N, replace=True\n",
    "    )\n",
    "    return frame[frame['Survey ResponseID'].isin(sample_responseids)]\n",
    "\n",
    "\n",
    "def get_random_stratified_sample(frame=amzn_data_sample, state_n=state_min_n, sample_states=sample_states):\n",
    "    stratified_sample_df = pd.DataFrame(columns=frame.columns)\n",
    "    for s in sample_states:\n",
    "        sample_responseids = np.random.choice(\n",
    "            frame[frame['state']==s]['Survey ResponseID'].unique(),\n",
    "            size=state_n, replace=True,\n",
    "        )\n",
    "        sampled_df = frame[frame['Survey ResponseID'].isin(sample_responseids)]\n",
    "        stratified_sample_df = pd.concat([stratified_sample_df, sampled_df])\n",
    "    return stratified_sample_df"
   ]
  },
  {
   "cell_type": "markdown",
   "id": "efa88018",
   "metadata": {},
   "source": [
    "## Books\n",
    "\n",
    "Look at them.\n",
    "\n",
    "FYI they are the TOP most purchased category."
   ]
  },
  {
   "cell_type": "code",
   "execution_count": 26,
   "id": "89515bda",
   "metadata": {},
   "outputs": [
    {
     "data": {
      "text/plain": [
       "Category\n",
       "ABIS_BOOK                 80764\n",
       "PET_FOOD                  35748\n",
       "NUTRITIONAL_SUPPLEMENT    24995\n",
       "SHIRT                     24876\n",
       "ELECTRONIC_CABLE          16618\n",
       "Name: count, dtype: int64"
      ]
     },
     "execution_count": 26,
     "metadata": {},
     "output_type": "execute_result"
    }
   ],
   "source": [
    "# Using sample vs all data excludes people who bought hundreds of gift cards\n",
    "amzn_data_sample['Category'].value_counts().head(5)"
   ]
  },
  {
   "cell_type": "markdown",
   "id": "1efddd8b",
   "metadata": {},
   "source": [
    "Check: Are there other book categories?"
   ]
  },
  {
   "cell_type": "code",
   "execution_count": 27,
   "id": "949b2ec5",
   "metadata": {},
   "outputs": [
    {
     "data": {
      "text/plain": [
       "Category\n",
       "ABIS_BOOK                        87619\n",
       "BLANK_BOOK                        3422\n",
       "NOTEBOOK_COMPUTER                 1040\n",
       "AMAZON_BOOK_READER                 505\n",
       "BOOKMARK                           322\n",
       "BOOK_DOCUMENT_STAND                226\n",
       "AMAZON_BOOK_READER_ACCESSORY       208\n",
       "BOOKEND                            186\n",
       "BOOK_COVER                         114\n",
       "BOOK                                37\n",
       "BOOKS_1973_AND_LATER                34\n",
       "ELECTRONIC_BOOK_READER              14\n",
       "ABIS_EBOOKS                         14\n",
       "BOOKSHELF_OR_MICRO_STEREO_SYS        1\n",
       "Name: count, dtype: int64"
      ]
     },
     "execution_count": 27,
     "metadata": {},
     "output_type": "execute_result"
    }
   ],
   "source": [
    "categories = amzn_data['Category'].unique()\n",
    "bookish_categories = [c for c in categories if 'book' in str(c).lower()]\n",
    "amzn_data[amzn_data['Category'].isin(bookish_categories)]['Category'].value_counts()"
   ]
  },
  {
   "cell_type": "code",
   "execution_count": 28,
   "id": "1601cb1c",
   "metadata": {},
   "outputs": [
    {
     "name": "stdout",
     "output_type": "stream",
     "text": [
      "What are these?\n"
     ]
    },
    {
     "data": {
      "text/html": [
       "<div>\n",
       "<style scoped>\n",
       "    .dataframe tbody tr th:only-of-type {\n",
       "        vertical-align: middle;\n",
       "    }\n",
       "\n",
       "    .dataframe tbody tr th {\n",
       "        vertical-align: top;\n",
       "    }\n",
       "\n",
       "    .dataframe thead th {\n",
       "        text-align: right;\n",
       "    }\n",
       "</style>\n",
       "<table border=\"1\" class=\"dataframe\">\n",
       "  <thead>\n",
       "    <tr style=\"text-align: right;\">\n",
       "      <th></th>\n",
       "      <th>Category</th>\n",
       "      <th>Title</th>\n",
       "      <th>unit price</th>\n",
       "      <th>Quantity</th>\n",
       "      <th>state</th>\n",
       "    </tr>\n",
       "  </thead>\n",
       "  <tbody>\n",
       "    <tr>\n",
       "      <th>211</th>\n",
       "      <td>BOOK</td>\n",
       "      <td>Kafka on the Shore</td>\n",
       "      <td>12.25</td>\n",
       "      <td>1.0</td>\n",
       "      <td>CA</td>\n",
       "    </tr>\n",
       "    <tr>\n",
       "      <th>283</th>\n",
       "      <td>BOOK</td>\n",
       "      <td>Sarah Plain and Tall</td>\n",
       "      <td>8.95</td>\n",
       "      <td>1.0</td>\n",
       "      <td>OR</td>\n",
       "    </tr>\n",
       "    <tr>\n",
       "      <th>205</th>\n",
       "      <td>BOOK</td>\n",
       "      <td>Art of Seduction</td>\n",
       "      <td>23.04</td>\n",
       "      <td>1.0</td>\n",
       "      <td>TX</td>\n",
       "    </tr>\n",
       "    <tr>\n",
       "      <th>20</th>\n",
       "      <td>BOOK</td>\n",
       "      <td>Don't Shoot the Dog! : The New Art of Teaching...</td>\n",
       "      <td>9.23</td>\n",
       "      <td>1.0</td>\n",
       "      <td>IL</td>\n",
       "    </tr>\n",
       "    <tr>\n",
       "      <th>1562</th>\n",
       "      <td>BOOK</td>\n",
       "      <td>Sesame Street Ultimate Board Books Set for Kid...</td>\n",
       "      <td>16.95</td>\n",
       "      <td>1.0</td>\n",
       "      <td>OR</td>\n",
       "    </tr>\n",
       "  </tbody>\n",
       "</table>\n",
       "</div>"
      ],
      "text/plain": [
       "     Category                                              Title  unit price   \n",
       "211      BOOK                                 Kafka on the Shore       12.25  \\\n",
       "283      BOOK                               Sarah Plain and Tall        8.95   \n",
       "205      BOOK                                   Art of Seduction       23.04   \n",
       "20       BOOK  Don't Shoot the Dog! : The New Art of Teaching...        9.23   \n",
       "1562     BOOK  Sesame Street Ultimate Board Books Set for Kid...       16.95   \n",
       "\n",
       "      Quantity state  \n",
       "211        1.0    CA  \n",
       "283        1.0    OR  \n",
       "205        1.0    TX  \n",
       "20         1.0    IL  \n",
       "1562       1.0    OR  "
      ]
     },
     "execution_count": 28,
     "metadata": {},
     "output_type": "execute_result"
    }
   ],
   "source": [
    "print('What are these?')\n",
    "amzn_data[amzn_data['Category']=='BOOK'][['Category','Title','unit price','Quantity','state']].head()"
   ]
  },
  {
   "cell_type": "code",
   "execution_count": 29,
   "id": "6bebf4f8",
   "metadata": {},
   "outputs": [
    {
     "data": {
      "text/html": [
       "<div>\n",
       "<style scoped>\n",
       "    .dataframe tbody tr th:only-of-type {\n",
       "        vertical-align: middle;\n",
       "    }\n",
       "\n",
       "    .dataframe tbody tr th {\n",
       "        vertical-align: top;\n",
       "    }\n",
       "\n",
       "    .dataframe thead th {\n",
       "        text-align: right;\n",
       "    }\n",
       "</style>\n",
       "<table border=\"1\" class=\"dataframe\">\n",
       "  <thead>\n",
       "    <tr style=\"text-align: right;\">\n",
       "      <th></th>\n",
       "      <th>Category</th>\n",
       "      <th>Title</th>\n",
       "      <th>unit price</th>\n",
       "      <th>Quantity</th>\n",
       "      <th>state</th>\n",
       "    </tr>\n",
       "  </thead>\n",
       "  <tbody>\n",
       "    <tr>\n",
       "      <th>23</th>\n",
       "      <td>BOOKS_1973_AND_LATER</td>\n",
       "      <td>Gentle Babies: Essential Oils and Natural Reme...</td>\n",
       "      <td>17.50</td>\n",
       "      <td>1.0</td>\n",
       "      <td>TX</td>\n",
       "    </tr>\n",
       "    <tr>\n",
       "      <th>10</th>\n",
       "      <td>BOOKS_1973_AND_LATER</td>\n",
       "      <td>Explore and Learn, 6 Volume Set: Earth and Spa...</td>\n",
       "      <td>15.68</td>\n",
       "      <td>1.0</td>\n",
       "      <td>IN</td>\n",
       "    </tr>\n",
       "    <tr>\n",
       "      <th>143</th>\n",
       "      <td>BOOKS_1973_AND_LATER</td>\n",
       "      <td>Games People Play: The Psychology of Human Rel...</td>\n",
       "      <td>15.50</td>\n",
       "      <td>1.0</td>\n",
       "      <td>IN</td>\n",
       "    </tr>\n",
       "    <tr>\n",
       "      <th>2830</th>\n",
       "      <td>BOOKS_1973_AND_LATER</td>\n",
       "      <td>KIRSTEN, AN AMERICAN GIRL (6 books, Boxed set)</td>\n",
       "      <td>29.71</td>\n",
       "      <td>1.0</td>\n",
       "      <td>OH</td>\n",
       "    </tr>\n",
       "    <tr>\n",
       "      <th>132</th>\n",
       "      <td>BOOKS_1973_AND_LATER</td>\n",
       "      <td>National Park Journal: Yellowstone</td>\n",
       "      <td>7.99</td>\n",
       "      <td>1.0</td>\n",
       "      <td>AR</td>\n",
       "    </tr>\n",
       "  </tbody>\n",
       "</table>\n",
       "</div>"
      ],
      "text/plain": [
       "                  Category                                              Title   \n",
       "23    BOOKS_1973_AND_LATER  Gentle Babies: Essential Oils and Natural Reme...  \\\n",
       "10    BOOKS_1973_AND_LATER  Explore and Learn, 6 Volume Set: Earth and Spa...   \n",
       "143   BOOKS_1973_AND_LATER  Games People Play: The Psychology of Human Rel...   \n",
       "2830  BOOKS_1973_AND_LATER     KIRSTEN, AN AMERICAN GIRL (6 books, Boxed set)   \n",
       "132   BOOKS_1973_AND_LATER                 National Park Journal: Yellowstone   \n",
       "\n",
       "      unit price  Quantity state  \n",
       "23         17.50       1.0    TX  \n",
       "10         15.68       1.0    IN  \n",
       "143        15.50       1.0    IN  \n",
       "2830       29.71       1.0    OH  \n",
       "132         7.99       1.0    AR  "
      ]
     },
     "execution_count": 29,
     "metadata": {},
     "output_type": "execute_result"
    }
   ],
   "source": [
    "amzn_data[amzn_data['Category']=='BOOKS_1973_AND_LATER'][['Category','Title','unit price','Quantity','state']].head()"
   ]
  },
  {
   "cell_type": "code",
   "execution_count": 30,
   "id": "c655ed4d",
   "metadata": {},
   "outputs": [
    {
     "data": {
      "text/html": [
       "<div>\n",
       "<style scoped>\n",
       "    .dataframe tbody tr th:only-of-type {\n",
       "        vertical-align: middle;\n",
       "    }\n",
       "\n",
       "    .dataframe tbody tr th {\n",
       "        vertical-align: top;\n",
       "    }\n",
       "\n",
       "    .dataframe thead th {\n",
       "        text-align: right;\n",
       "    }\n",
       "</style>\n",
       "<table border=\"1\" class=\"dataframe\">\n",
       "  <thead>\n",
       "    <tr style=\"text-align: right;\">\n",
       "      <th></th>\n",
       "      <th>Category</th>\n",
       "      <th>Title</th>\n",
       "      <th>unit price</th>\n",
       "      <th>Quantity</th>\n",
       "      <th>state</th>\n",
       "    </tr>\n",
       "  </thead>\n",
       "  <tbody>\n",
       "    <tr>\n",
       "      <th>521</th>\n",
       "      <td>AMAZON_BOOK_READER</td>\n",
       "      <td>Kindle Paperwhite – (previous generation - 201...</td>\n",
       "      <td>129.99</td>\n",
       "      <td>1.0</td>\n",
       "      <td>IL</td>\n",
       "    </tr>\n",
       "    <tr>\n",
       "      <th>303</th>\n",
       "      <td>AMAZON_BOOK_READER</td>\n",
       "      <td>Kindle Paperwhite – (previous generation - 201...</td>\n",
       "      <td>84.99</td>\n",
       "      <td>1.0</td>\n",
       "      <td>OH</td>\n",
       "    </tr>\n",
       "    <tr>\n",
       "      <th>555</th>\n",
       "      <td>AMAZON_BOOK_READER</td>\n",
       "      <td>Kindle Paperwhite (8 GB) – Now with a 6.8\" dis...</td>\n",
       "      <td>76.50</td>\n",
       "      <td>1.0</td>\n",
       "      <td>OH</td>\n",
       "    </tr>\n",
       "    <tr>\n",
       "      <th>44</th>\n",
       "      <td>AMAZON_BOOK_READER</td>\n",
       "      <td>Certified Refurbished Kindle Paperwhite E-read...</td>\n",
       "      <td>79.99</td>\n",
       "      <td>1.0</td>\n",
       "      <td>PA</td>\n",
       "    </tr>\n",
       "    <tr>\n",
       "      <th>56</th>\n",
       "      <td>AMAZON_BOOK_READER</td>\n",
       "      <td>Kindle Paperwhite – (previous generation - 201...</td>\n",
       "      <td>99.99</td>\n",
       "      <td>1.0</td>\n",
       "      <td>PA</td>\n",
       "    </tr>\n",
       "  </tbody>\n",
       "</table>\n",
       "</div>"
      ],
      "text/plain": [
       "               Category                                              Title   \n",
       "521  AMAZON_BOOK_READER  Kindle Paperwhite – (previous generation - 201...  \\\n",
       "303  AMAZON_BOOK_READER  Kindle Paperwhite – (previous generation - 201...   \n",
       "555  AMAZON_BOOK_READER  Kindle Paperwhite (8 GB) – Now with a 6.8\" dis...   \n",
       "44   AMAZON_BOOK_READER  Certified Refurbished Kindle Paperwhite E-read...   \n",
       "56   AMAZON_BOOK_READER  Kindle Paperwhite – (previous generation - 201...   \n",
       "\n",
       "     unit price  Quantity state  \n",
       "521      129.99       1.0    IL  \n",
       "303       84.99       1.0    OH  \n",
       "555       76.50       1.0    OH  \n",
       "44        79.99       1.0    PA  \n",
       "56        99.99       1.0    PA  "
      ]
     },
     "execution_count": 30,
     "metadata": {},
     "output_type": "execute_result"
    }
   ],
   "source": [
    "amzn_data[amzn_data['Category']=='AMAZON_BOOK_READER'][['Category','Title','unit price','Quantity','state']].head()"
   ]
  },
  {
   "cell_type": "code",
   "execution_count": 31,
   "id": "b9c09096",
   "metadata": {},
   "outputs": [
    {
     "name": "stdout",
     "output_type": "stream",
     "text": [
      "80832 total book purchases in sample\n"
     ]
    }
   ],
   "source": [
    "# collect the real book categories\n",
    "book_categories = ['ABIS_BOOK', 'BOOK', 'BOOKS_1973_AND_LATER']\n",
    "book_purchases = amzn_data_sample[amzn_data_sample['Category'].isin(book_categories)]\n",
    "print('%s total book purchases in sample' % len(book_purchases))"
   ]
  },
  {
   "cell_type": "markdown",
   "id": "146372d0",
   "metadata": {},
   "source": [
    "### Book purchases analysis\n",
    "\n",
    "Will look at 2018 and 2019 data and related changes."
   ]
  },
  {
   "cell_type": "code",
   "execution_count": 32,
   "id": "bf99b800",
   "metadata": {},
   "outputs": [
    {
     "name": "stdout",
     "output_type": "stream",
     "text": [
      "30558 total book purchases from N=2991 purchasers in 2018-2019 sample\n"
     ]
    },
    {
     "data": {
      "text/html": [
       "<div>\n",
       "<style scoped>\n",
       "    .dataframe tbody tr th:only-of-type {\n",
       "        vertical-align: middle;\n",
       "    }\n",
       "\n",
       "    .dataframe tbody tr th {\n",
       "        vertical-align: top;\n",
       "    }\n",
       "\n",
       "    .dataframe thead th {\n",
       "        text-align: right;\n",
       "    }\n",
       "</style>\n",
       "<table border=\"1\" class=\"dataframe\">\n",
       "  <thead>\n",
       "    <tr style=\"text-align: right;\">\n",
       "      <th></th>\n",
       "      <th>Order Date</th>\n",
       "      <th>Purchase Price Per Unit</th>\n",
       "      <th>Quantity</th>\n",
       "      <th>Shipping Address State</th>\n",
       "      <th>Title</th>\n",
       "      <th>ASIN/ISBN (Product Code)</th>\n",
       "      <th>Category</th>\n",
       "      <th>Survey ResponseID</th>\n",
       "      <th>unit price</th>\n",
       "      <th>total price</th>\n",
       "      <th>yyyy-mm</th>\n",
       "      <th>state</th>\n",
       "      <th>year</th>\n",
       "    </tr>\n",
       "  </thead>\n",
       "  <tbody>\n",
       "    <tr>\n",
       "      <th>0</th>\n",
       "      <td>2018-02-21</td>\n",
       "      <td>$7.93</td>\n",
       "      <td>1.0</td>\n",
       "      <td>RHODE ISLAND</td>\n",
       "      <td>Suburban World: The Norling Photos</td>\n",
       "      <td>0873516095</td>\n",
       "      <td>ABIS_BOOK</td>\n",
       "      <td>R_3I9Pu8iauEcOx9A</td>\n",
       "      <td>7.93</td>\n",
       "      <td>7.93</td>\n",
       "      <td>2018-02</td>\n",
       "      <td>RI</td>\n",
       "      <td>2018</td>\n",
       "    </tr>\n",
       "    <tr>\n",
       "      <th>2</th>\n",
       "      <td>2018-03-05</td>\n",
       "      <td>$5.99</td>\n",
       "      <td>1.0</td>\n",
       "      <td>RHODE ISLAND</td>\n",
       "      <td>1952 Back In The Day - 24-page Greeting Card /...</td>\n",
       "      <td>193938012X</td>\n",
       "      <td>ABIS_BOOK</td>\n",
       "      <td>R_3I9Pu8iauEcOx9A</td>\n",
       "      <td>5.99</td>\n",
       "      <td>5.99</td>\n",
       "      <td>2018-03</td>\n",
       "      <td>RI</td>\n",
       "      <td>2018</td>\n",
       "    </tr>\n",
       "    <tr>\n",
       "      <th>4</th>\n",
       "      <td>2018-04-29</td>\n",
       "      <td>$4.50</td>\n",
       "      <td>1.0</td>\n",
       "      <td>RHODE ISLAND</td>\n",
       "      <td>Time of Wonder (Picture Puffins)</td>\n",
       "      <td>0140502017</td>\n",
       "      <td>ABIS_BOOK</td>\n",
       "      <td>R_3I9Pu8iauEcOx9A</td>\n",
       "      <td>4.50</td>\n",
       "      <td>4.50</td>\n",
       "      <td>2018-04</td>\n",
       "      <td>RI</td>\n",
       "      <td>2018</td>\n",
       "    </tr>\n",
       "  </tbody>\n",
       "</table>\n",
       "</div>"
      ],
      "text/plain": [
       "   Order Date Purchase Price Per Unit  Quantity Shipping Address State   \n",
       "0  2018-02-21                   $7.93       1.0           RHODE ISLAND  \\\n",
       "2  2018-03-05                   $5.99       1.0           RHODE ISLAND   \n",
       "4  2018-04-29                   $4.50       1.0           RHODE ISLAND   \n",
       "\n",
       "                                               Title ASIN/ISBN (Product Code)   \n",
       "0                 Suburban World: The Norling Photos               0873516095  \\\n",
       "2  1952 Back In The Day - 24-page Greeting Card /...               193938012X   \n",
       "4                   Time of Wonder (Picture Puffins)               0140502017   \n",
       "\n",
       "    Category  Survey ResponseID  unit price  total price  yyyy-mm state  year  \n",
       "0  ABIS_BOOK  R_3I9Pu8iauEcOx9A        7.93         7.93  2018-02    RI  2018  \n",
       "2  ABIS_BOOK  R_3I9Pu8iauEcOx9A        5.99         5.99  2018-03    RI  2018  \n",
       "4  ABIS_BOOK  R_3I9Pu8iauEcOx9A        4.50         4.50  2018-04    RI  2018  "
      ]
     },
     "execution_count": 32,
     "metadata": {},
     "output_type": "execute_result"
    }
   ],
   "source": [
    "book_purchases = book_purchases[book_purchases['year'].isin([2018, 2019])]\n",
    "print('%s total book purchases from N=%s purchasers in 2018-2019 sample' % (len(book_purchases), book_purchases['Survey ResponseID'].nunique()))\n",
    "book_purchases.head(3)"
   ]
  },
  {
   "cell_type": "markdown",
   "id": "ca1a31f5",
   "metadata": {},
   "source": [
    "Data checks"
   ]
  },
  {
   "cell_type": "code",
   "execution_count": 33,
   "id": "584c918f",
   "metadata": {},
   "outputs": [
    {
     "name": "stdout",
     "output_type": "stream",
     "text": [
      "There are some outlier purchasers making lots of purchases!\n",
      "Book purchases per person per year\n"
     ]
    },
    {
     "data": {
      "text/html": [
       "<div>\n",
       "<style scoped>\n",
       "    .dataframe tbody tr th:only-of-type {\n",
       "        vertical-align: middle;\n",
       "    }\n",
       "\n",
       "    .dataframe tbody tr th {\n",
       "        vertical-align: top;\n",
       "    }\n",
       "\n",
       "    .dataframe thead th {\n",
       "        text-align: right;\n",
       "    }\n",
       "</style>\n",
       "<table border=\"1\" class=\"dataframe\">\n",
       "  <thead>\n",
       "    <tr style=\"text-align: right;\">\n",
       "      <th></th>\n",
       "      <th>sum</th>\n",
       "      <th>count</th>\n",
       "    </tr>\n",
       "  </thead>\n",
       "  <tbody>\n",
       "    <tr>\n",
       "      <th>count</th>\n",
       "      <td>4837.000000</td>\n",
       "      <td>4837.000000</td>\n",
       "    </tr>\n",
       "    <tr>\n",
       "      <th>mean</th>\n",
       "      <td>6.541245</td>\n",
       "      <td>6.317552</td>\n",
       "    </tr>\n",
       "    <tr>\n",
       "      <th>std</th>\n",
       "      <td>9.715249</td>\n",
       "      <td>9.050545</td>\n",
       "    </tr>\n",
       "    <tr>\n",
       "      <th>min</th>\n",
       "      <td>1.000000</td>\n",
       "      <td>1.000000</td>\n",
       "    </tr>\n",
       "    <tr>\n",
       "      <th>25%</th>\n",
       "      <td>2.000000</td>\n",
       "      <td>2.000000</td>\n",
       "    </tr>\n",
       "    <tr>\n",
       "      <th>50%</th>\n",
       "      <td>3.000000</td>\n",
       "      <td>3.000000</td>\n",
       "    </tr>\n",
       "    <tr>\n",
       "      <th>75%</th>\n",
       "      <td>8.000000</td>\n",
       "      <td>8.000000</td>\n",
       "    </tr>\n",
       "    <tr>\n",
       "      <th>max</th>\n",
       "      <td>188.000000</td>\n",
       "      <td>179.000000</td>\n",
       "    </tr>\n",
       "  </tbody>\n",
       "</table>\n",
       "</div>"
      ],
      "text/plain": [
       "               sum        count\n",
       "count  4837.000000  4837.000000\n",
       "mean      6.541245     6.317552\n",
       "std       9.715249     9.050545\n",
       "min       1.000000     1.000000\n",
       "25%       2.000000     2.000000\n",
       "50%       3.000000     3.000000\n",
       "75%       8.000000     8.000000\n",
       "max     188.000000   179.000000"
      ]
     },
     "execution_count": 33,
     "metadata": {},
     "output_type": "execute_result"
    }
   ],
   "source": [
    "# Sum is sum over quanity. Count is unique purchases per person per year\n",
    "print('There are some outlier purchasers making lots of purchases!')\n",
    "print('Book purchases per person per year')\n",
    "book_purchases_per_person = book_purchases.groupby(['year','Survey ResponseID'])['Quantity'].agg(['sum','count'])\n",
    "book_purchases_per_person.describe()"
   ]
  },
  {
   "cell_type": "code",
   "execution_count": 34,
   "id": "2df5a2e0",
   "metadata": {},
   "outputs": [
    {
     "name": "stdout",
     "output_type": "stream",
     "text": [
      "90th percentile :  15.0\n",
      "95th percentile :  22.0\n",
      "99th percentile :  46.0\n"
     ]
    }
   ],
   "source": [
    "# What is the 90th percentile?\n",
    "# Actually the 99th percentile is a reasonable amount of books to buy so let's use that as the cut off.\n",
    "print('90th percentile : ', book_purchases_per_person['sum'].quantile(0.90))\n",
    "print('95th percentile : ', book_purchases_per_person['sum'].quantile(0.95))\n",
    "print('99th percentile : ', book_purchases_per_person['sum'].quantile(0.99))\n",
    "max_purchases = book_purchases_per_person['sum'].quantile(0.99)"
   ]
  },
  {
   "cell_type": "code",
   "execution_count": 35,
   "id": "4a0c544f",
   "metadata": {},
   "outputs": [],
   "source": [
    "# too_many_books_responseids = book_purchases_per_person[\n",
    "#     (book_purchases_per_person['sum'] > max_purchases)\n",
    "# ].reset_index()['Survey ResponseID'].unique()\n",
    "# print('Dropping %s response IDs for people who bought more than %s books' % (len(too_many_books_responseids), max_purchases))"
   ]
  },
  {
   "cell_type": "markdown",
   "id": "19a45f50",
   "metadata": {},
   "source": [
    "Given our focus on number of buyers rather than purchases: \n",
    "What if we didn't remove the top 99th percentile?\n",
    "\n",
    "Test shows correlation higher without removal (larger N). "
   ]
  },
  {
   "cell_type": "code",
   "execution_count": 36,
   "id": "d40fad30",
   "metadata": {},
   "outputs": [],
   "source": [
    "# book_purchases = book_purchases[~book_purchases['Survey ResponseID'].isin(too_many_books_responseids)]\n",
    "# print('%s total book purchases from N=%s purchasers in 2018-2019 dataset' % (len(book_purchases), book_purchases['Survey ResponseID'].nunique()))\n",
    "# book_purchases.head(3)"
   ]
  },
  {
   "cell_type": "code",
   "execution_count": 37,
   "id": "94ea7978",
   "metadata": {},
   "outputs": [
    {
     "name": "stdout",
     "output_type": "stream",
     "text": [
      "15812 book purchases from N=2435 purchasers in 2018 dataset\n",
      "14746 book purchases from N=2402 purchasers in 2019 dataset\n"
     ]
    }
   ],
   "source": [
    "book_purchases2018 = book_purchases[book_purchases['year']==2018]\n",
    "book_purchases2019 = book_purchases[book_purchases['year']==2019]\n",
    "print('%s book purchases from N=%s purchasers in 2018 dataset' % (len(book_purchases2018), book_purchases2018['Survey ResponseID'].nunique()))\n",
    "print('%s book purchases from N=%s purchasers in 2019 dataset' % (len(book_purchases2019), book_purchases2019['Survey ResponseID'].nunique()))"
   ]
  },
  {
   "cell_type": "code",
   "execution_count": 38,
   "id": "810cbc7e",
   "metadata": {},
   "outputs": [],
   "source": [
    "# Metric: Portion of purchasers increasing number of purchases\n",
    "\n",
    "def get_portion_increases_by_purchaser(purchases, yr1=2018, yr2=2019):\n",
    "    # List with a number (float) for each state\n",
    "    portion_purchaser_increases = []\n",
    "    for s in sample_states:\n",
    "        s_purchases = book_purchases[book_purchases['state']==s]\n",
    "        # Make series mapping response ID to total book purchases (summed quantity)\n",
    "        # Create dataframe with both seris \n",
    "        # fill na with 0 where ResponseIDs are missing in 1 yr\n",
    "        # quantify portion of response IDs that increased purchases\n",
    "        s_purchases_yr1 = s_purchases[s_purchases['year']==yr1].groupby(\n",
    "            'Survey ResponseID'\n",
    "        )['Quantity'].sum().rename(yr1).to_frame()\n",
    "        s_purchases_yr2 = s_purchases[s_purchases['year']==yr2].groupby(\n",
    "            'Survey ResponseID'\n",
    "        )['Quantity'].sum().rename(yr2).to_frame()\n",
    "        s_purchases_yr1_yr2 = pd.merge(\n",
    "            s_purchases_yr1, s_purchases_yr2, how='outer', left_index=True, right_index=True\n",
    "        ).fillna(0)\n",
    "        s_purchases_yr1_yr2['increased'] = s_purchases_yr1_yr2[yr2] > s_purchases_yr1_yr2[yr1]\n",
    "        portion_increased = s_purchases_yr1_yr2['increased'].sum()/len(s_purchases_yr1_yr2)\n",
    "        portion_purchaser_increases += [portion_increased]\n",
    "    return pd.Series(portion_purchaser_increases, index=sample_states)"
   ]
  },
  {
   "cell_type": "code",
   "execution_count": 39,
   "id": "8d4eef36",
   "metadata": {},
   "outputs": [
    {
     "data": {
      "text/plain": [
       "state\n",
       "AL    0.519231\n",
       "AR    0.571429\n",
       "AZ    0.432836\n",
       "CA    0.416894\n",
       "CO    0.465116\n",
       "dtype: float64"
      ]
     },
     "execution_count": 39,
     "metadata": {},
     "output_type": "execute_result"
    }
   ],
   "source": [
    "book_portion_increases_by_purchaser = get_portion_increases_by_purchaser(book_purchases)\n",
    "book_portion_increases_by_purchaser.head()"
   ]
  },
  {
   "cell_type": "code",
   "execution_count": 40,
   "id": "78e0fbe9",
   "metadata": {},
   "outputs": [
    {
     "name": "stdout",
     "output_type": "stream",
     "text": [
      "15812 purchases from N=2435 purchasers in 2018 dataset\n",
      "14746 purchases from N=2402 purchasers in 2019 dataset\n"
     ]
    }
   ],
   "source": [
    "def get_pct_change_buyers(purchases, yr1=2018, yr2=2019, verbose=False):\n",
    "    purchases_yr1 = purchases[purchases['year']==yr1]\n",
    "    purchases_yr2 = purchases[purchases['year']==yr2]\n",
    "    buyers_by_state_yr1 = purchases_yr1.groupby(['state'])['Survey ResponseID'].nunique()\n",
    "    buyers_by_state_yr2 = purchases_yr2.groupby(['state'])['Survey ResponseID'].nunique()\n",
    "    pct_change = (buyers_by_state_yr2 - buyers_by_state_yr1)/buyers_by_state_yr1\n",
    "    if verbose:\n",
    "        print('%s purchases from N=%s purchasers in 2018 dataset' % (len(purchases_yr1), purchases_yr1['Survey ResponseID'].nunique()))\n",
    "        print('%s purchases from N=%s purchasers in 2019 dataset' % (len(purchases_yr2), purchases_yr2['Survey ResponseID'].nunique()))\n",
    "    return pct_change\n",
    "    \n",
    "book_buyers_pct_change = get_pct_change_buyers(book_purchases, verbose=True)"
   ]
  },
  {
   "cell_type": "code",
   "execution_count": 41,
   "id": "26f88368",
   "metadata": {},
   "outputs": [
    {
     "name": "stdout",
     "output_type": "stream",
     "text": [
      "15812 purchases from N=2435 purchasers in 2018 dataset\n",
      "14746 purchases from N=2402 purchasers in 2019 dataset\n"
     ]
    }
   ],
   "source": [
    "def get_pct_change_purchases(purchases, yr1=2018, yr2=2019, verbose=False):\n",
    "    purchases_yr1 = purchases[purchases['year']==yr1]\n",
    "    purchases_yr2 = purchases[purchases['year']==yr2]\n",
    "    purchases_by_state_yr1 = purchases_yr1.groupby(['state'])['Quantity'].sum()\n",
    "    purchases_by_state_yr2 = purchases_yr2.groupby(['state'])['Quantity'].sum()\n",
    "    pct_change = (purchases_by_state_yr2 - purchases_by_state_yr1)/purchases_by_state_yr1\n",
    "    if verbose:\n",
    "        print('%s purchases from N=%s purchasers in 2018 dataset' % (len(purchases_yr1), purchases_yr1['Survey ResponseID'].nunique()))\n",
    "        print('%s purchases from N=%s purchasers in 2019 dataset' % (len(purchases_yr2), purchases_yr2['Survey ResponseID'].nunique()))\n",
    "    return pct_change\n",
    "    \n",
    "book_purchases_pct_change = get_pct_change_purchases(book_purchases, verbose=True)"
   ]
  },
  {
   "cell_type": "markdown",
   "id": "467d4df2",
   "metadata": {},
   "source": [
    "Quantifying change in distinct purchasers by state and total purchases by state\n",
    "- these metrics are correlated but not highly correlated (p<0.05)"
   ]
  },
  {
   "cell_type": "code",
   "execution_count": 42,
   "id": "2d346a12",
   "metadata": {},
   "outputs": [
    {
     "name": "stdout",
     "output_type": "stream",
     "text": [
      "correlation between percent change in buyers vs total purchasers (books)\n",
      "Pearson r=0.3528 (p-value=0.0175)\n",
      "Spearman r=0.3360 (p-value=0.0240)\n"
     ]
    }
   ],
   "source": [
    "print('correlation between percent change in buyers vs total purchasers (books)')\n",
    "r, pvalue = pearsonr(book_purchases_pct_change, book_buyers_pct_change)\n",
    "print('Pearson r=%0.4f (p-value=%0.4f)' % (r, pvalue))\n",
    "r, pvalue = spearmanr(book_purchases_pct_change, book_buyers_pct_change)\n",
    "print('Spearman r=%0.4f (p-value=%0.4f)' % (r, pvalue))"
   ]
  },
  {
   "cell_type": "markdown",
   "id": "833114f7",
   "metadata": {},
   "source": [
    "#### Compare census data to purchases data\n",
    "\n",
    "Using random sampling\n",
    "\n",
    "for N subsamples:\n",
    "- get random subsample from books purchases\n",
    "- get pct changes\n",
    "- get mean pct changes\n",
    "- compare mean pct changes to census data (correlation)"
   ]
  },
  {
   "cell_type": "code",
   "execution_count": 43,
   "id": "8b798460",
   "metadata": {},
   "outputs": [
    {
     "name": "stdout",
     "output_type": "stream",
     "text": [
      "1/1000\n",
      "8878 purchases from N=1376 purchasers in 2018 dataset\n",
      "8320 purchases from N=1364 purchasers in 2019 dataset\n",
      "501/1000\n",
      "9040 purchases from N=1400 purchasers in 2018 dataset\n",
      "8534 purchases from N=1373 purchasers in 2019 dataset\n"
     ]
    }
   ],
   "source": [
    "N_subsamples = 1000\n",
    "state_pct_changes = [] # compute the mean over N_subsamples\n",
    "for i in range(N_subsamples):\n",
    "    v = (i%500==0)\n",
    "    if v:\n",
    "        print('%s/%s' % (i+1, N_subsamples))\n",
    "    sampled_book_purchases = get_random_sample(frame=book_purchases)\n",
    "    state_pct_changes += [get_pct_change_buyers(sampled_book_purchases, verbose=v)]\n",
    "book_buyers_pct_changes = pd.DataFrame(state_pct_changes).mean()"
   ]
  },
  {
   "cell_type": "code",
   "execution_count": 44,
   "id": "52872d97",
   "metadata": {},
   "outputs": [
    {
     "name": "stdout",
     "output_type": "stream",
     "text": [
      "Comparing to 2018-2019 census data: Employment\n",
      "Pearson r=-0.3460 (p-value=0.0199)\n"
     ]
    }
   ],
   "source": [
    "print('Comparing to 2018-2019 census data: Employment')\n",
    "r, pvalue = pearsonr(book_buyers_pct_changes, census_books_emp_pct_change_20182019.loc[sample_states])\n",
    "print('Pearson r=%0.4f (p-value=%0.4f)' % (r, pvalue))"
   ]
  },
  {
   "cell_type": "markdown",
   "id": "010ed97c",
   "metadata": {},
   "source": [
    "We find the expected negative correlation (p<0.05) comparing:\n",
    "- 2018-2019 change in number of book buyers per state\n",
    "- 2018-2019 change in employment per state\n",
    "\n",
    "(change found for random sample without stratifying, N=2500)\n",
    "\n",
    "Not found for:\n",
    "- total number of purchases per state\n",
    "- employment in following year (2019-2020 has opposite direction)\n",
    "- number establishments\n",
    "\n",
    "\n",
    "Questions:\n",
    "\n",
    "How does this change by sampling strategy?\n",
    "- random sample vs stratified random sample \n",
    "    - stratifying has no improvement\n",
    "- smaller N for simple random sample\n",
    "    - N=2000 --> weaker correlation\n",
    "    \n",
    "Notes: \n",
    "- Correlation is about the same (slightly weaker) when using portion increases by purchaser\n",
    "- normalizing employment by population works slightly better than not normalizing by population\n",
    "- correlation weaker when limiting to enterprises <500 employees or <20 employees"
   ]
  },
  {
   "cell_type": "code",
   "execution_count": 352,
   "id": "bd718b39",
   "metadata": {},
   "outputs": [
    {
     "name": "stdout",
     "output_type": "stream",
     "text": [
      "Correlations between metrics:\n"
     ]
    },
    {
     "data": {
      "text/html": [
       "<div>\n",
       "<style scoped>\n",
       "    .dataframe tbody tr th:only-of-type {\n",
       "        vertical-align: middle;\n",
       "    }\n",
       "\n",
       "    .dataframe tbody tr th {\n",
       "        vertical-align: top;\n",
       "    }\n",
       "\n",
       "    .dataframe thead th {\n",
       "        text-align: right;\n",
       "    }\n",
       "</style>\n",
       "<table border=\"1\" class=\"dataframe\">\n",
       "  <thead>\n",
       "    <tr style=\"text-align: right;\">\n",
       "      <th></th>\n",
       "      <th>book buyers pct changes</th>\n",
       "      <th>book purchases pct changes</th>\n",
       "      <th>book portion increases by purchaser</th>\n",
       "    </tr>\n",
       "  </thead>\n",
       "  <tbody>\n",
       "    <tr>\n",
       "      <th>book buyers pct changes</th>\n",
       "      <td>1.000000</td>\n",
       "      <td>0.366915</td>\n",
       "      <td>0.706474</td>\n",
       "    </tr>\n",
       "    <tr>\n",
       "      <th>book purchases pct changes</th>\n",
       "      <td>0.366915</td>\n",
       "      <td>1.000000</td>\n",
       "      <td>0.611868</td>\n",
       "    </tr>\n",
       "    <tr>\n",
       "      <th>book portion increases by purchaser</th>\n",
       "      <td>0.706474</td>\n",
       "      <td>0.611868</td>\n",
       "      <td>1.000000</td>\n",
       "    </tr>\n",
       "  </tbody>\n",
       "</table>\n",
       "</div>"
      ],
      "text/plain": [
       "                                     book buyers pct changes   \n",
       "book buyers pct changes                             1.000000  \\\n",
       "book purchases pct changes                          0.366915   \n",
       "book portion increases by purchaser                 0.706474   \n",
       "\n",
       "                                     book purchases pct changes   \n",
       "book buyers pct changes                                0.366915  \\\n",
       "book purchases pct changes                             1.000000   \n",
       "book portion increases by purchaser                    0.611868   \n",
       "\n",
       "                                     book portion increases by purchaser  \n",
       "book buyers pct changes                                         0.706474  \n",
       "book purchases pct changes                                      0.611868  \n",
       "book portion increases by purchaser                             1.000000  "
      ]
     },
     "metadata": {},
     "output_type": "display_data"
    },
    {
     "data": {
      "text/html": [
       "<div>\n",
       "<style scoped>\n",
       "    .dataframe tbody tr th:only-of-type {\n",
       "        vertical-align: middle;\n",
       "    }\n",
       "\n",
       "    .dataframe tbody tr th {\n",
       "        vertical-align: top;\n",
       "    }\n",
       "\n",
       "    .dataframe thead th {\n",
       "        text-align: right;\n",
       "    }\n",
       "</style>\n",
       "<table border=\"1\" class=\"dataframe\">\n",
       "  <thead>\n",
       "    <tr style=\"text-align: right;\">\n",
       "      <th></th>\n",
       "      <th>book buyers pct changes</th>\n",
       "      <th>book purchases pct changes</th>\n",
       "      <th>book portion increases by purchaser</th>\n",
       "    </tr>\n",
       "    <tr>\n",
       "      <th>state</th>\n",
       "      <th></th>\n",
       "      <th></th>\n",
       "      <th></th>\n",
       "    </tr>\n",
       "  </thead>\n",
       "  <tbody>\n",
       "    <tr>\n",
       "      <th>AL</th>\n",
       "      <td>0.006327</td>\n",
       "      <td>0.147436</td>\n",
       "      <td>0.519231</td>\n",
       "    </tr>\n",
       "    <tr>\n",
       "      <th>AR</th>\n",
       "      <td>-0.027250</td>\n",
       "      <td>0.351648</td>\n",
       "      <td>0.571429</td>\n",
       "    </tr>\n",
       "    <tr>\n",
       "      <th>AZ</th>\n",
       "      <td>0.009368</td>\n",
       "      <td>0.424710</td>\n",
       "      <td>0.432836</td>\n",
       "    </tr>\n",
       "    <tr>\n",
       "      <th>CA</th>\n",
       "      <td>-0.096519</td>\n",
       "      <td>-0.024564</td>\n",
       "      <td>0.416894</td>\n",
       "    </tr>\n",
       "    <tr>\n",
       "      <th>CO</th>\n",
       "      <td>0.193924</td>\n",
       "      <td>-0.284375</td>\n",
       "      <td>0.465116</td>\n",
       "    </tr>\n",
       "    <tr>\n",
       "      <th>CT</th>\n",
       "      <td>-0.083245</td>\n",
       "      <td>0.049451</td>\n",
       "      <td>0.439024</td>\n",
       "    </tr>\n",
       "    <tr>\n",
       "      <th>DC</th>\n",
       "      <td>-0.145172</td>\n",
       "      <td>-0.252874</td>\n",
       "      <td>0.391304</td>\n",
       "    </tr>\n",
       "    <tr>\n",
       "      <th>DE</th>\n",
       "      <td>0.215772</td>\n",
       "      <td>0.000000</td>\n",
       "      <td>0.400000</td>\n",
       "    </tr>\n",
       "    <tr>\n",
       "      <th>FL</th>\n",
       "      <td>-0.060372</td>\n",
       "      <td>-0.233010</td>\n",
       "      <td>0.397380</td>\n",
       "    </tr>\n",
       "    <tr>\n",
       "      <th>GA</th>\n",
       "      <td>0.113148</td>\n",
       "      <td>0.033333</td>\n",
       "      <td>0.466102</td>\n",
       "    </tr>\n",
       "    <tr>\n",
       "      <th>HI</th>\n",
       "      <td>0.475697</td>\n",
       "      <td>0.181818</td>\n",
       "      <td>0.777778</td>\n",
       "    </tr>\n",
       "    <tr>\n",
       "      <th>IA</th>\n",
       "      <td>-0.033446</td>\n",
       "      <td>-0.187135</td>\n",
       "      <td>0.441176</td>\n",
       "    </tr>\n",
       "    <tr>\n",
       "      <th>ID</th>\n",
       "      <td>-0.424666</td>\n",
       "      <td>-0.257576</td>\n",
       "      <td>0.200000</td>\n",
       "    </tr>\n",
       "    <tr>\n",
       "      <th>IL</th>\n",
       "      <td>-0.021151</td>\n",
       "      <td>-0.133011</td>\n",
       "      <td>0.413793</td>\n",
       "    </tr>\n",
       "    <tr>\n",
       "      <th>IN</th>\n",
       "      <td>-0.037592</td>\n",
       "      <td>-0.090476</td>\n",
       "      <td>0.439560</td>\n",
       "    </tr>\n",
       "    <tr>\n",
       "      <th>KS</th>\n",
       "      <td>-0.030843</td>\n",
       "      <td>-0.383764</td>\n",
       "      <td>0.400000</td>\n",
       "    </tr>\n",
       "    <tr>\n",
       "      <th>KY</th>\n",
       "      <td>-0.137424</td>\n",
       "      <td>-0.313253</td>\n",
       "      <td>0.360656</td>\n",
       "    </tr>\n",
       "    <tr>\n",
       "      <th>LA</th>\n",
       "      <td>-0.100087</td>\n",
       "      <td>-0.476351</td>\n",
       "      <td>0.276596</td>\n",
       "    </tr>\n",
       "    <tr>\n",
       "      <th>MA</th>\n",
       "      <td>0.028105</td>\n",
       "      <td>-0.198516</td>\n",
       "      <td>0.419643</td>\n",
       "    </tr>\n",
       "    <tr>\n",
       "      <th>MD</th>\n",
       "      <td>0.000558</td>\n",
       "      <td>-0.154062</td>\n",
       "      <td>0.494382</td>\n",
       "    </tr>\n",
       "    <tr>\n",
       "      <th>ME</th>\n",
       "      <td>-0.121144</td>\n",
       "      <td>-0.052632</td>\n",
       "      <td>0.500000</td>\n",
       "    </tr>\n",
       "    <tr>\n",
       "      <th>MI</th>\n",
       "      <td>-0.042296</td>\n",
       "      <td>0.049270</td>\n",
       "      <td>0.423077</td>\n",
       "    </tr>\n",
       "    <tr>\n",
       "      <th>MN</th>\n",
       "      <td>0.097355</td>\n",
       "      <td>-0.214286</td>\n",
       "      <td>0.438356</td>\n",
       "    </tr>\n",
       "    <tr>\n",
       "      <th>MO</th>\n",
       "      <td>0.201324</td>\n",
       "      <td>0.128571</td>\n",
       "      <td>0.468085</td>\n",
       "    </tr>\n",
       "    <tr>\n",
       "      <th>MS</th>\n",
       "      <td>-0.092013</td>\n",
       "      <td>0.070588</td>\n",
       "      <td>0.434783</td>\n",
       "    </tr>\n",
       "    <tr>\n",
       "      <th>NC</th>\n",
       "      <td>0.115038</td>\n",
       "      <td>0.072695</td>\n",
       "      <td>0.503704</td>\n",
       "    </tr>\n",
       "    <tr>\n",
       "      <th>NE</th>\n",
       "      <td>0.182389</td>\n",
       "      <td>0.228070</td>\n",
       "      <td>0.562500</td>\n",
       "    </tr>\n",
       "    <tr>\n",
       "      <th>NH</th>\n",
       "      <td>0.079258</td>\n",
       "      <td>-0.181818</td>\n",
       "      <td>0.407407</td>\n",
       "    </tr>\n",
       "    <tr>\n",
       "      <th>NJ</th>\n",
       "      <td>0.101862</td>\n",
       "      <td>-0.108939</td>\n",
       "      <td>0.465116</td>\n",
       "    </tr>\n",
       "    <tr>\n",
       "      <th>NM</th>\n",
       "      <td>0.120285</td>\n",
       "      <td>0.125000</td>\n",
       "      <td>0.421053</td>\n",
       "    </tr>\n",
       "    <tr>\n",
       "      <th>NV</th>\n",
       "      <td>0.245114</td>\n",
       "      <td>-0.141509</td>\n",
       "      <td>0.441176</td>\n",
       "    </tr>\n",
       "    <tr>\n",
       "      <th>NY</th>\n",
       "      <td>-0.023071</td>\n",
       "      <td>-0.141518</td>\n",
       "      <td>0.434783</td>\n",
       "    </tr>\n",
       "    <tr>\n",
       "      <th>OH</th>\n",
       "      <td>0.106255</td>\n",
       "      <td>0.008917</td>\n",
       "      <td>0.453039</td>\n",
       "    </tr>\n",
       "    <tr>\n",
       "      <th>OK</th>\n",
       "      <td>0.114227</td>\n",
       "      <td>-0.163636</td>\n",
       "      <td>0.452381</td>\n",
       "    </tr>\n",
       "    <tr>\n",
       "      <th>OR</th>\n",
       "      <td>0.019197</td>\n",
       "      <td>-0.072319</td>\n",
       "      <td>0.432099</td>\n",
       "    </tr>\n",
       "    <tr>\n",
       "      <th>PA</th>\n",
       "      <td>-0.094884</td>\n",
       "      <td>-0.096774</td>\n",
       "      <td>0.438424</td>\n",
       "    </tr>\n",
       "    <tr>\n",
       "      <th>RI</th>\n",
       "      <td>0.237049</td>\n",
       "      <td>0.293103</td>\n",
       "      <td>0.562500</td>\n",
       "    </tr>\n",
       "    <tr>\n",
       "      <th>SC</th>\n",
       "      <td>-0.080112</td>\n",
       "      <td>0.065693</td>\n",
       "      <td>0.428571</td>\n",
       "    </tr>\n",
       "    <tr>\n",
       "      <th>TN</th>\n",
       "      <td>-0.056839</td>\n",
       "      <td>0.022059</td>\n",
       "      <td>0.418605</td>\n",
       "    </tr>\n",
       "    <tr>\n",
       "      <th>TX</th>\n",
       "      <td>-0.018635</td>\n",
       "      <td>0.089268</td>\n",
       "      <td>0.456929</td>\n",
       "    </tr>\n",
       "    <tr>\n",
       "      <th>UT</th>\n",
       "      <td>-0.213797</td>\n",
       "      <td>-0.136364</td>\n",
       "      <td>0.394737</td>\n",
       "    </tr>\n",
       "    <tr>\n",
       "      <th>VA</th>\n",
       "      <td>-0.072666</td>\n",
       "      <td>-0.019802</td>\n",
       "      <td>0.471545</td>\n",
       "    </tr>\n",
       "    <tr>\n",
       "      <th>WA</th>\n",
       "      <td>-0.007033</td>\n",
       "      <td>0.044776</td>\n",
       "      <td>0.486239</td>\n",
       "    </tr>\n",
       "    <tr>\n",
       "      <th>WI</th>\n",
       "      <td>0.017936</td>\n",
       "      <td>0.165644</td>\n",
       "      <td>0.455556</td>\n",
       "    </tr>\n",
       "    <tr>\n",
       "      <th>WV</th>\n",
       "      <td>-0.115800</td>\n",
       "      <td>-0.402439</td>\n",
       "      <td>0.363636</td>\n",
       "    </tr>\n",
       "  </tbody>\n",
       "</table>\n",
       "</div>"
      ],
      "text/plain": [
       "       book buyers pct changes  book purchases pct changes   \n",
       "state                                                        \n",
       "AL                    0.006327                    0.147436  \\\n",
       "AR                   -0.027250                    0.351648   \n",
       "AZ                    0.009368                    0.424710   \n",
       "CA                   -0.096519                   -0.024564   \n",
       "CO                    0.193924                   -0.284375   \n",
       "CT                   -0.083245                    0.049451   \n",
       "DC                   -0.145172                   -0.252874   \n",
       "DE                    0.215772                    0.000000   \n",
       "FL                   -0.060372                   -0.233010   \n",
       "GA                    0.113148                    0.033333   \n",
       "HI                    0.475697                    0.181818   \n",
       "IA                   -0.033446                   -0.187135   \n",
       "ID                   -0.424666                   -0.257576   \n",
       "IL                   -0.021151                   -0.133011   \n",
       "IN                   -0.037592                   -0.090476   \n",
       "KS                   -0.030843                   -0.383764   \n",
       "KY                   -0.137424                   -0.313253   \n",
       "LA                   -0.100087                   -0.476351   \n",
       "MA                    0.028105                   -0.198516   \n",
       "MD                    0.000558                   -0.154062   \n",
       "ME                   -0.121144                   -0.052632   \n",
       "MI                   -0.042296                    0.049270   \n",
       "MN                    0.097355                   -0.214286   \n",
       "MO                    0.201324                    0.128571   \n",
       "MS                   -0.092013                    0.070588   \n",
       "NC                    0.115038                    0.072695   \n",
       "NE                    0.182389                    0.228070   \n",
       "NH                    0.079258                   -0.181818   \n",
       "NJ                    0.101862                   -0.108939   \n",
       "NM                    0.120285                    0.125000   \n",
       "NV                    0.245114                   -0.141509   \n",
       "NY                   -0.023071                   -0.141518   \n",
       "OH                    0.106255                    0.008917   \n",
       "OK                    0.114227                   -0.163636   \n",
       "OR                    0.019197                   -0.072319   \n",
       "PA                   -0.094884                   -0.096774   \n",
       "RI                    0.237049                    0.293103   \n",
       "SC                   -0.080112                    0.065693   \n",
       "TN                   -0.056839                    0.022059   \n",
       "TX                   -0.018635                    0.089268   \n",
       "UT                   -0.213797                   -0.136364   \n",
       "VA                   -0.072666                   -0.019802   \n",
       "WA                   -0.007033                    0.044776   \n",
       "WI                    0.017936                    0.165644   \n",
       "WV                   -0.115800                   -0.402439   \n",
       "\n",
       "       book portion increases by purchaser  \n",
       "state                                       \n",
       "AL                                0.519231  \n",
       "AR                                0.571429  \n",
       "AZ                                0.432836  \n",
       "CA                                0.416894  \n",
       "CO                                0.465116  \n",
       "CT                                0.439024  \n",
       "DC                                0.391304  \n",
       "DE                                0.400000  \n",
       "FL                                0.397380  \n",
       "GA                                0.466102  \n",
       "HI                                0.777778  \n",
       "IA                                0.441176  \n",
       "ID                                0.200000  \n",
       "IL                                0.413793  \n",
       "IN                                0.439560  \n",
       "KS                                0.400000  \n",
       "KY                                0.360656  \n",
       "LA                                0.276596  \n",
       "MA                                0.419643  \n",
       "MD                                0.494382  \n",
       "ME                                0.500000  \n",
       "MI                                0.423077  \n",
       "MN                                0.438356  \n",
       "MO                                0.468085  \n",
       "MS                                0.434783  \n",
       "NC                                0.503704  \n",
       "NE                                0.562500  \n",
       "NH                                0.407407  \n",
       "NJ                                0.465116  \n",
       "NM                                0.421053  \n",
       "NV                                0.441176  \n",
       "NY                                0.434783  \n",
       "OH                                0.453039  \n",
       "OK                                0.452381  \n",
       "OR                                0.432099  \n",
       "PA                                0.438424  \n",
       "RI                                0.562500  \n",
       "SC                                0.428571  \n",
       "TN                                0.418605  \n",
       "TX                                0.456929  \n",
       "UT                                0.394737  \n",
       "VA                                0.471545  \n",
       "WA                                0.486239  \n",
       "WI                                0.455556  \n",
       "WV                                0.363636  "
      ]
     },
     "execution_count": 352,
     "metadata": {},
     "output_type": "execute_result"
    }
   ],
   "source": [
    "# Look at the data\n",
    "books_metrics = pd.DataFrame({\n",
    "    'book buyers pct changes': book_buyers_pct_changes,\n",
    "    'book purchases pct changes': book_purchases_pct_change,\n",
    "    'book portion increases by purchaser': book_portion_increases_by_purchaser\n",
    "})\n",
    "print('Correlations between metrics:')\n",
    "display(books_metrics.corr())\n",
    "books_metrics"
   ]
  },
  {
   "cell_type": "markdown",
   "id": "287f1899",
   "metadata": {},
   "source": [
    "## Shoes\n",
    "\n",
    "https://www.naics.com/naics-code-description/?code=448210\n",
    "\n",
    "Look at them"
   ]
  },
  {
   "cell_type": "code",
   "execution_count": 49,
   "id": "c11cb950",
   "metadata": {},
   "outputs": [
    {
     "data": {
      "text/plain": [
       "Category\n",
       "SHOES                   12758\n",
       "SHOE_INSERT              1804\n",
       "SHOELACE                  892\n",
       "SHOE_ACCESSORY            248\n",
       "SHOE_TREE                 148\n",
       "TECHNICAL_SPORT_SHOE      123\n",
       "SHOE_BAG                   37\n",
       "SNOWSHOE                   27\n",
       "SHOE_POLISH                18\n",
       "GUILD_SHOES                 1\n",
       "Name: count, dtype: int64"
      ]
     },
     "execution_count": 49,
     "metadata": {},
     "output_type": "execute_result"
    }
   ],
   "source": [
    "shoesy_categories = [c for c in categories if 'shoe' in str(c).lower()]\n",
    "amzn_data[amzn_data['Category'].isin(shoesy_categories)]['Category'].value_counts()"
   ]
  },
  {
   "cell_type": "markdown",
   "id": "012de723",
   "metadata": {},
   "source": [
    "FYI the 'Guild shoes' are beautifully crafted crochet sneakers made by an artist. Not to be included in shoes analysis. https://www.amazon.com/Sneakers-Slippers-Crochet-Comfortable-Basketball/dp/B09X5RGJKG"
   ]
  },
  {
   "cell_type": "code",
   "execution_count": 50,
   "id": "6469a377",
   "metadata": {},
   "outputs": [
    {
     "data": {
      "text/html": [
       "<div>\n",
       "<style scoped>\n",
       "    .dataframe tbody tr th:only-of-type {\n",
       "        vertical-align: middle;\n",
       "    }\n",
       "\n",
       "    .dataframe tbody tr th {\n",
       "        vertical-align: top;\n",
       "    }\n",
       "\n",
       "    .dataframe thead th {\n",
       "        text-align: right;\n",
       "    }\n",
       "</style>\n",
       "<table border=\"1\" class=\"dataframe\">\n",
       "  <thead>\n",
       "    <tr style=\"text-align: right;\">\n",
       "      <th></th>\n",
       "      <th>Category</th>\n",
       "      <th>Title</th>\n",
       "      <th>unit price</th>\n",
       "      <th>Quantity</th>\n",
       "      <th>state</th>\n",
       "    </tr>\n",
       "  </thead>\n",
       "  <tbody>\n",
       "    <tr>\n",
       "      <th>104</th>\n",
       "      <td>TECHNICAL_SPORT_SHOE</td>\n",
       "      <td>Dear Time Women Flat Shoes Comfortable Slip on...</td>\n",
       "      <td>14.99</td>\n",
       "      <td>1.0</td>\n",
       "      <td>NY</td>\n",
       "    </tr>\n",
       "    <tr>\n",
       "      <th>72</th>\n",
       "      <td>TECHNICAL_SPORT_SHOE</td>\n",
       "      <td>adidas Men's Alphabounce Em m, White/Metallic ...</td>\n",
       "      <td>31.21</td>\n",
       "      <td>1.0</td>\n",
       "      <td>NJ</td>\n",
       "    </tr>\n",
       "    <tr>\n",
       "      <th>502</th>\n",
       "      <td>TECHNICAL_SPORT_SHOE</td>\n",
       "      <td>New Balance Men's 410 V5 Cushioning Trail Runn...</td>\n",
       "      <td>69.95</td>\n",
       "      <td>1.0</td>\n",
       "      <td>VA</td>\n",
       "    </tr>\n",
       "  </tbody>\n",
       "</table>\n",
       "</div>"
      ],
      "text/plain": [
       "                 Category                                              Title   \n",
       "104  TECHNICAL_SPORT_SHOE  Dear Time Women Flat Shoes Comfortable Slip on...  \\\n",
       "72   TECHNICAL_SPORT_SHOE  adidas Men's Alphabounce Em m, White/Metallic ...   \n",
       "502  TECHNICAL_SPORT_SHOE  New Balance Men's 410 V5 Cushioning Trail Runn...   \n",
       "\n",
       "     unit price  Quantity state  \n",
       "104       14.99       1.0    NY  \n",
       "72        31.21       1.0    NJ  \n",
       "502       69.95       1.0    VA  "
      ]
     },
     "execution_count": 50,
     "metadata": {},
     "output_type": "execute_result"
    }
   ],
   "source": [
    "amzn_data[amzn_data['Category']=='TECHNICAL_SPORT_SHOE'][['Category','Title','unit price','Quantity','state']].head(3)"
   ]
  },
  {
   "cell_type": "markdown",
   "id": "26b18755",
   "metadata": {},
   "source": [
    "Are there other shoesy categories?"
   ]
  },
  {
   "cell_type": "code",
   "execution_count": 51,
   "id": "840d3667",
   "metadata": {},
   "outputs": [
    {
     "name": "stdout",
     "output_type": "stream",
     "text": [
      "Category\n",
      "SLIPPER    2711\n",
      "Name: count, dtype: int64\n",
      "Category\n",
      "SANDAL    3641\n",
      "Name: count, dtype: int64\n",
      "Category\n",
      "BOOT              3167\n",
      "SNOWBOARD_BOOT       7\n",
      "Name: count, dtype: int64\n"
     ]
    }
   ],
   "source": [
    "slippers_categories = [c for c in categories if 'slipper' in str(c).lower()]\n",
    "print(amzn_data[amzn_data['Category'].isin(slippers_categories)]['Category'].value_counts())\n",
    "\n",
    "sandals_categories = [c for c in categories if 'sandal' in str(c).lower()]\n",
    "print(amzn_data[amzn_data['Category'].isin(sandals_categories)]['Category'].value_counts())\n",
    "\n",
    "boot_categories = [c for c in categories if 'boot' in str(c).lower()]\n",
    "print(amzn_data[amzn_data['Category'].isin(boot_categories)]['Category'].value_counts())"
   ]
  },
  {
   "cell_type": "code",
   "execution_count": 52,
   "id": "97763bc9",
   "metadata": {},
   "outputs": [
    {
     "data": {
      "text/html": [
       "<div>\n",
       "<style scoped>\n",
       "    .dataframe tbody tr th:only-of-type {\n",
       "        vertical-align: middle;\n",
       "    }\n",
       "\n",
       "    .dataframe tbody tr th {\n",
       "        vertical-align: top;\n",
       "    }\n",
       "\n",
       "    .dataframe thead th {\n",
       "        text-align: right;\n",
       "    }\n",
       "</style>\n",
       "<table border=\"1\" class=\"dataframe\">\n",
       "  <thead>\n",
       "    <tr style=\"text-align: right;\">\n",
       "      <th></th>\n",
       "      <th>sum</th>\n",
       "      <th>count</th>\n",
       "    </tr>\n",
       "    <tr>\n",
       "      <th>Title</th>\n",
       "      <th></th>\n",
       "      <th></th>\n",
       "    </tr>\n",
       "  </thead>\n",
       "  <tbody>\n",
       "    <tr>\n",
       "      <th>RockDove Men's Original Two-Tone Memory Foam Slipper</th>\n",
       "      <td>67.0</td>\n",
       "      <td>67</td>\n",
       "    </tr>\n",
       "    <tr>\n",
       "      <th>ULTRAIDEAS Women's Fuzzy Wool-Like House Shoes with Memory Foam, Gift for Women, Ladies Slippers with Indoor &amp;Outdoor Anti-Skid Rubber Sole</th>\n",
       "      <td>52.0</td>\n",
       "      <td>51</td>\n",
       "    </tr>\n",
       "    <tr>\n",
       "      <th>Jessica Simpson Women's Comfy Faux Fur House Slipper Scuff Memory Foam Slip on Anti-Skid Sole</th>\n",
       "      <td>23.0</td>\n",
       "      <td>23</td>\n",
       "    </tr>\n",
       "    <tr>\n",
       "      <th>Dearfoams Women's Rebecca Lightweight Cozy Memory Foam Closed Back Slipper with Wide Widths</th>\n",
       "      <td>22.0</td>\n",
       "      <td>22</td>\n",
       "    </tr>\n",
       "    <tr>\n",
       "      <th>landeer Women's and Men's Memory Foam Slippers Casual House Shoes</th>\n",
       "      <td>18.0</td>\n",
       "      <td>18</td>\n",
       "    </tr>\n",
       "  </tbody>\n",
       "</table>\n",
       "</div>"
      ],
      "text/plain": [
       "                                                     sum  count\n",
       "Title                                                          \n",
       "RockDove Men's Original Two-Tone Memory Foam Sl...  67.0     67\n",
       "ULTRAIDEAS Women's Fuzzy Wool-Like House Shoes ...  52.0     51\n",
       "Jessica Simpson Women's Comfy Faux Fur House Sl...  23.0     23\n",
       "Dearfoams Women's Rebecca Lightweight Cozy Memo...  22.0     22\n",
       "landeer Women's and Men's Memory Foam Slippers ...  18.0     18"
      ]
     },
     "execution_count": 52,
     "metadata": {},
     "output_type": "execute_result"
    }
   ],
   "source": [
    "amzn_data[amzn_data['Category']=='SLIPPER'].groupby(\n",
    "    'Title'\n",
    ")['Quantity'].agg(['sum','count']).sort_values('count',ascending=False).head()"
   ]
  },
  {
   "cell_type": "code",
   "execution_count": 53,
   "id": "8faedee5",
   "metadata": {},
   "outputs": [
    {
     "data": {
      "text/html": [
       "<div>\n",
       "<style scoped>\n",
       "    .dataframe tbody tr th:only-of-type {\n",
       "        vertical-align: middle;\n",
       "    }\n",
       "\n",
       "    .dataframe tbody tr th {\n",
       "        vertical-align: top;\n",
       "    }\n",
       "\n",
       "    .dataframe thead th {\n",
       "        text-align: right;\n",
       "    }\n",
       "</style>\n",
       "<table border=\"1\" class=\"dataframe\">\n",
       "  <thead>\n",
       "    <tr style=\"text-align: right;\">\n",
       "      <th></th>\n",
       "      <th>sum</th>\n",
       "      <th>count</th>\n",
       "    </tr>\n",
       "    <tr>\n",
       "      <th>Title</th>\n",
       "      <th></th>\n",
       "      <th></th>\n",
       "    </tr>\n",
       "  </thead>\n",
       "  <tbody>\n",
       "    <tr>\n",
       "      <th>Lone Cone Rain Boots with Easy-On Handles in Fun Patterns for Toddlers and Kids</th>\n",
       "      <td>34.0</td>\n",
       "      <td>34</td>\n",
       "    </tr>\n",
       "    <tr>\n",
       "      <th>Hudson Baby Unisex-Baby Cozy Fleece Booties</th>\n",
       "      <td>30.0</td>\n",
       "      <td>30</td>\n",
       "    </tr>\n",
       "    <tr>\n",
       "      <th>Asgard Women's Ankle Rain Boots Waterproof Chelsea Boots</th>\n",
       "      <td>24.0</td>\n",
       "      <td>24</td>\n",
       "    </tr>\n",
       "    <tr>\n",
       "      <th>Clarks Men's Bushacre 2 Chukka Boot</th>\n",
       "      <td>21.0</td>\n",
       "      <td>21</td>\n",
       "    </tr>\n",
       "    <tr>\n",
       "      <th>Columbia Men's Newton Ridge Plus Ii Waterproof Hiking Boot Shoe</th>\n",
       "      <td>18.0</td>\n",
       "      <td>18</td>\n",
       "    </tr>\n",
       "  </tbody>\n",
       "</table>\n",
       "</div>"
      ],
      "text/plain": [
       "                                                     sum  count\n",
       "Title                                                          \n",
       "Lone Cone Rain Boots with Easy-On Handles in Fu...  34.0     34\n",
       "Hudson Baby Unisex-Baby Cozy Fleece Booties         30.0     30\n",
       "Asgard Women's Ankle Rain Boots Waterproof Chel...  24.0     24\n",
       "Clarks Men's Bushacre 2 Chukka Boot                 21.0     21\n",
       "Columbia Men's Newton Ridge Plus Ii Waterproof ...  18.0     18"
      ]
     },
     "execution_count": 53,
     "metadata": {},
     "output_type": "execute_result"
    }
   ],
   "source": [
    "amzn_data[amzn_data['Category']=='BOOT'].groupby(\n",
    "    'Title'\n",
    ")['Quantity'].agg(['sum','count']).sort_values('count',ascending=False).head()"
   ]
  },
  {
   "cell_type": "code",
   "execution_count": 54,
   "id": "ed905d68",
   "metadata": {},
   "outputs": [
    {
     "name": "stdout",
     "output_type": "stream",
     "text": [
      "20482 total shoe purchases in dataset\n"
     ]
    }
   ],
   "source": [
    "shoe_categories = ['SHOES', 'TECHNICAL_SPORT_SHOE', 'BOOT', 'SANDAL', 'SLIPPER']\n",
    "shoe_purchases = amzn_data_sample[amzn_data_sample['Category'].isin(shoe_categories)]\n",
    "print('%s total shoe purchases in dataset' % len(shoe_purchases))"
   ]
  },
  {
   "cell_type": "markdown",
   "id": "bbed88f2",
   "metadata": {},
   "source": [
    "### Shoe purchases analysis\n",
    "\n",
    "Limit to 2018 - 2019 related changes"
   ]
  },
  {
   "cell_type": "code",
   "execution_count": 55,
   "id": "a37df4bc",
   "metadata": {},
   "outputs": [
    {
     "name": "stdout",
     "output_type": "stream",
     "text": [
      "6246 total shoe purchases from N=1875 purchasers in 2018-2019 sample\n"
     ]
    },
    {
     "data": {
      "text/html": [
       "<div>\n",
       "<style scoped>\n",
       "    .dataframe tbody tr th:only-of-type {\n",
       "        vertical-align: middle;\n",
       "    }\n",
       "\n",
       "    .dataframe tbody tr th {\n",
       "        vertical-align: top;\n",
       "    }\n",
       "\n",
       "    .dataframe thead th {\n",
       "        text-align: right;\n",
       "    }\n",
       "</style>\n",
       "<table border=\"1\" class=\"dataframe\">\n",
       "  <thead>\n",
       "    <tr style=\"text-align: right;\">\n",
       "      <th></th>\n",
       "      <th>Order Date</th>\n",
       "      <th>Purchase Price Per Unit</th>\n",
       "      <th>Quantity</th>\n",
       "      <th>Shipping Address State</th>\n",
       "      <th>Title</th>\n",
       "      <th>ASIN/ISBN (Product Code)</th>\n",
       "      <th>Category</th>\n",
       "      <th>Survey ResponseID</th>\n",
       "      <th>unit price</th>\n",
       "      <th>total price</th>\n",
       "      <th>yyyy-mm</th>\n",
       "      <th>state</th>\n",
       "      <th>year</th>\n",
       "    </tr>\n",
       "  </thead>\n",
       "  <tbody>\n",
       "    <tr>\n",
       "      <th>34</th>\n",
       "      <td>2019-10-08</td>\n",
       "      <td>$14.99</td>\n",
       "      <td>1.0</td>\n",
       "      <td>RHODE ISLAND</td>\n",
       "      <td>GAXmi Flip Flops Women Men Kids Summer Casual ...</td>\n",
       "      <td>B07CYHXHFR</td>\n",
       "      <td>SANDAL</td>\n",
       "      <td>R_3I9Pu8iauEcOx9A</td>\n",
       "      <td>14.99</td>\n",
       "      <td>14.99</td>\n",
       "      <td>2019-10</td>\n",
       "      <td>RI</td>\n",
       "      <td>2019</td>\n",
       "    </tr>\n",
       "    <tr>\n",
       "      <th>40</th>\n",
       "      <td>2019-10-09</td>\n",
       "      <td>$39.00</td>\n",
       "      <td>1.0</td>\n",
       "      <td>RHODE ISLAND</td>\n",
       "      <td>Amazon Essentials Men's Chelsea Boot</td>\n",
       "      <td>B07QKNGSNB</td>\n",
       "      <td>BOOT</td>\n",
       "      <td>R_3I9Pu8iauEcOx9A</td>\n",
       "      <td>39.00</td>\n",
       "      <td>39.00</td>\n",
       "      <td>2019-10</td>\n",
       "      <td>RI</td>\n",
       "      <td>2019</td>\n",
       "    </tr>\n",
       "    <tr>\n",
       "      <th>41</th>\n",
       "      <td>2019-10-09</td>\n",
       "      <td>$39.00</td>\n",
       "      <td>1.0</td>\n",
       "      <td>RHODE ISLAND</td>\n",
       "      <td>Amazon Essentials Men's Chelsea Boot</td>\n",
       "      <td>B07QH14QTN</td>\n",
       "      <td>BOOT</td>\n",
       "      <td>R_3I9Pu8iauEcOx9A</td>\n",
       "      <td>39.00</td>\n",
       "      <td>39.00</td>\n",
       "      <td>2019-10</td>\n",
       "      <td>RI</td>\n",
       "      <td>2019</td>\n",
       "    </tr>\n",
       "  </tbody>\n",
       "</table>\n",
       "</div>"
      ],
      "text/plain": [
       "    Order Date Purchase Price Per Unit  Quantity Shipping Address State   \n",
       "34  2019-10-08                  $14.99       1.0           RHODE ISLAND  \\\n",
       "40  2019-10-09                  $39.00       1.0           RHODE ISLAND   \n",
       "41  2019-10-09                  $39.00       1.0           RHODE ISLAND   \n",
       "\n",
       "                                                Title   \n",
       "34  GAXmi Flip Flops Women Men Kids Summer Casual ...  \\\n",
       "40               Amazon Essentials Men's Chelsea Boot   \n",
       "41               Amazon Essentials Men's Chelsea Boot   \n",
       "\n",
       "   ASIN/ISBN (Product Code) Category  Survey ResponseID  unit price   \n",
       "34               B07CYHXHFR   SANDAL  R_3I9Pu8iauEcOx9A       14.99  \\\n",
       "40               B07QKNGSNB     BOOT  R_3I9Pu8iauEcOx9A       39.00   \n",
       "41               B07QH14QTN     BOOT  R_3I9Pu8iauEcOx9A       39.00   \n",
       "\n",
       "    total price  yyyy-mm state  year  \n",
       "34        14.99  2019-10    RI  2019  \n",
       "40        39.00  2019-10    RI  2019  \n",
       "41        39.00  2019-10    RI  2019  "
      ]
     },
     "execution_count": 55,
     "metadata": {},
     "output_type": "execute_result"
    }
   ],
   "source": [
    "shoe_purchases = shoe_purchases[shoe_purchases['year'].isin([2018, 2019])]\n",
    "print('%s total shoe purchases from N=%s purchasers in 2018-2019 sample' % (len(shoe_purchases), shoe_purchases['Survey ResponseID'].nunique()))\n",
    "shoe_purchases.head(3)"
   ]
  },
  {
   "cell_type": "markdown",
   "id": "fcb739bc",
   "metadata": {},
   "source": [
    "Data checks"
   ]
  },
  {
   "cell_type": "code",
   "execution_count": 56,
   "id": "46854cd6",
   "metadata": {},
   "outputs": [
    {
     "name": "stdout",
     "output_type": "stream",
     "text": [
      "There are some outlier purchasers making lots of purchases!\n",
      "Shoe purchases per person per year\n"
     ]
    },
    {
     "data": {
      "text/html": [
       "<div>\n",
       "<style scoped>\n",
       "    .dataframe tbody tr th:only-of-type {\n",
       "        vertical-align: middle;\n",
       "    }\n",
       "\n",
       "    .dataframe tbody tr th {\n",
       "        vertical-align: top;\n",
       "    }\n",
       "\n",
       "    .dataframe thead th {\n",
       "        text-align: right;\n",
       "    }\n",
       "</style>\n",
       "<table border=\"1\" class=\"dataframe\">\n",
       "  <thead>\n",
       "    <tr style=\"text-align: right;\">\n",
       "      <th></th>\n",
       "      <th>sum</th>\n",
       "      <th>count</th>\n",
       "    </tr>\n",
       "  </thead>\n",
       "  <tbody>\n",
       "    <tr>\n",
       "      <th>count</th>\n",
       "      <td>2566.000000</td>\n",
       "      <td>2566.000000</td>\n",
       "    </tr>\n",
       "    <tr>\n",
       "      <th>mean</th>\n",
       "      <td>2.453624</td>\n",
       "      <td>2.434139</td>\n",
       "    </tr>\n",
       "    <tr>\n",
       "      <th>std</th>\n",
       "      <td>3.220910</td>\n",
       "      <td>3.204065</td>\n",
       "    </tr>\n",
       "    <tr>\n",
       "      <th>min</th>\n",
       "      <td>1.000000</td>\n",
       "      <td>1.000000</td>\n",
       "    </tr>\n",
       "    <tr>\n",
       "      <th>25%</th>\n",
       "      <td>1.000000</td>\n",
       "      <td>1.000000</td>\n",
       "    </tr>\n",
       "    <tr>\n",
       "      <th>50%</th>\n",
       "      <td>2.000000</td>\n",
       "      <td>2.000000</td>\n",
       "    </tr>\n",
       "    <tr>\n",
       "      <th>75%</th>\n",
       "      <td>3.000000</td>\n",
       "      <td>3.000000</td>\n",
       "    </tr>\n",
       "    <tr>\n",
       "      <th>max</th>\n",
       "      <td>83.000000</td>\n",
       "      <td>83.000000</td>\n",
       "    </tr>\n",
       "  </tbody>\n",
       "</table>\n",
       "</div>"
      ],
      "text/plain": [
       "               sum        count\n",
       "count  2566.000000  2566.000000\n",
       "mean      2.453624     2.434139\n",
       "std       3.220910     3.204065\n",
       "min       1.000000     1.000000\n",
       "25%       1.000000     1.000000\n",
       "50%       2.000000     2.000000\n",
       "75%       3.000000     3.000000\n",
       "max      83.000000    83.000000"
      ]
     },
     "execution_count": 56,
     "metadata": {},
     "output_type": "execute_result"
    }
   ],
   "source": [
    "# Sum is sum over quanity. Count is unique purchases per person per year\n",
    "print('There are some outlier purchasers making lots of purchases!')\n",
    "print('Shoe purchases per person per year')\n",
    "shoe_purchases_per_person = shoe_purchases.groupby(['year','Survey ResponseID'])['Quantity'].agg(['sum','count'])\n",
    "shoe_purchases_per_person.describe()"
   ]
  },
  {
   "cell_type": "code",
   "execution_count": 57,
   "id": "db24ae9b",
   "metadata": {},
   "outputs": [
    {
     "name": "stdout",
     "output_type": "stream",
     "text": [
      "90th percentile :  5.0\n",
      "95th percentile :  7.0\n",
      "99th percentile :  14.0\n"
     ]
    }
   ],
   "source": [
    "# What is the 90th percentile?\n",
    "# Actually the 99th percentile is a reasonable amount of shoes to buy (imagine they have a family)\n",
    "print('90th percentile : ', shoe_purchases_per_person['sum'].quantile(0.90))\n",
    "print('95th percentile : ', shoe_purchases_per_person['sum'].quantile(0.95))\n",
    "print('99th percentile : ', shoe_purchases_per_person['sum'].quantile(0.99))"
   ]
  },
  {
   "cell_type": "code",
   "execution_count": 58,
   "id": "51dacbcd",
   "metadata": {},
   "outputs": [
    {
     "name": "stdout",
     "output_type": "stream",
     "text": [
      "15812 shoe purchases from N=1178 purchasers in 2018 dataset\n",
      "14746 shoe purchases from N=1388 purchasers in 2019 dataset\n"
     ]
    }
   ],
   "source": [
    "shoe_purchases2018 = shoe_purchases[shoe_purchases['year']==2018]\n",
    "shoe_purchases2019 = shoe_purchases[shoe_purchases['year']==2019]\n",
    "print('%s shoe purchases from N=%s purchasers in 2018 dataset' % (len(book_purchases2018), shoe_purchases2018['Survey ResponseID'].nunique()))\n",
    "print('%s shoe purchases from N=%s purchasers in 2019 dataset' % (len(book_purchases2019), shoe_purchases2019['Survey ResponseID'].nunique()))"
   ]
  },
  {
   "cell_type": "code",
   "execution_count": 59,
   "id": "83e27bf0",
   "metadata": {},
   "outputs": [
    {
     "name": "stdout",
     "output_type": "stream",
     "text": [
      "2746 purchases from N=1178 purchasers in 2018 dataset\n",
      "3500 purchases from N=1388 purchasers in 2019 dataset\n"
     ]
    },
    {
     "data": {
      "text/plain": [
       "state\n",
       "AL    0.096774\n",
       "AR   -0.212121\n",
       "AZ    0.447368\n",
       "CA    0.178808\n",
       "CO   -0.136364\n",
       "Name: Quantity, dtype: float64"
      ]
     },
     "execution_count": 59,
     "metadata": {},
     "output_type": "execute_result"
    }
   ],
   "source": [
    "shoe_purchases_pct_change = get_pct_change_purchases(shoe_purchases, verbose=True)\n",
    "shoe_purchases_pct_change.head()"
   ]
  },
  {
   "cell_type": "code",
   "execution_count": 60,
   "id": "dfa5e85a",
   "metadata": {},
   "outputs": [
    {
     "name": "stdout",
     "output_type": "stream",
     "text": [
      "2746 purchases from N=1178 purchasers in 2018 dataset\n",
      "3500 purchases from N=1388 purchasers in 2019 dataset\n"
     ]
    },
    {
     "data": {
      "text/plain": [
       "state\n",
       "AL    0.062500\n",
       "AR    0.300000\n",
       "AZ    0.578947\n",
       "CA    0.222222\n",
       "CO    0.380952\n",
       "Name: Survey ResponseID, dtype: float64"
      ]
     },
     "execution_count": 60,
     "metadata": {},
     "output_type": "execute_result"
    }
   ],
   "source": [
    "shoe_buyers_pct_change = get_pct_change_buyers(shoe_purchases, verbose=True)\n",
    "shoe_buyers_pct_change.head()"
   ]
  },
  {
   "cell_type": "code",
   "execution_count": 61,
   "id": "96d78de7",
   "metadata": {},
   "outputs": [
    {
     "name": "stdout",
     "output_type": "stream",
     "text": [
      "correlation between percent change in buyers vs total purchasers (shoes)\n",
      "Pearson r=0.8501 (p-value=0.0000)\n",
      "Spearman r=0.6214 (p-value=0.0000)\n"
     ]
    }
   ],
   "source": [
    "print('correlation between percent change in buyers vs total purchasers (shoes)')\n",
    "r, pvalue = pearsonr(shoe_purchases_pct_change, shoe_buyers_pct_change)\n",
    "print('Pearson r=%0.4f (p-value=%0.4f)' % (r, pvalue))\n",
    "r, pvalue = spearmanr(shoe_purchases_pct_change, shoe_buyers_pct_change)\n",
    "print('Spearman r=%0.4f (p-value=%0.4f)' % (r, pvalue))"
   ]
  },
  {
   "cell_type": "markdown",
   "id": "19b2c19b",
   "metadata": {},
   "source": [
    "#### Compare census data to purchases data\n",
    "\n",
    "Using random sampling\n",
    "\n",
    "for N subsamples:\n",
    "- get random subsample from books purchases\n",
    "- get pct changes\n",
    "- get mean pct changes\n",
    "- compare mean pct changes to census data (correlation)"
   ]
  },
  {
   "cell_type": "code",
   "execution_count": 62,
   "id": "894e8545",
   "metadata": {},
   "outputs": [
    {
     "name": "stdout",
     "output_type": "stream",
     "text": [
      "1/1000\n",
      "2055 purchases from N=864 purchasers in 2018 dataset\n",
      "2656 purchases from N=1017 purchasers in 2019 dataset\n",
      "501/1000\n",
      "2021 purchases from N=850 purchasers in 2018 dataset\n",
      "2580 purchases from N=1025 purchasers in 2019 dataset\n"
     ]
    }
   ],
   "source": [
    "N_subsamples = 1000\n",
    "state_pct_changes = [] # compute the mean over N_subsamples\n",
    "for i in range(N_subsamples):\n",
    "    v = (i%500==0)\n",
    "    if v:\n",
    "        print('%s/%s' % (i+1, N_subsamples))\n",
    "    sampled_purchases = get_random_sample(frame=shoe_purchases)\n",
    "    state_pct_changes += [get_pct_change_buyers(sampled_purchases, verbose=v)]\n",
    "shoe_buyers_pct_changes = pd.DataFrame(state_pct_changes).mean()"
   ]
  },
  {
   "cell_type": "code",
   "execution_count": 63,
   "id": "85c9a2ee",
   "metadata": {},
   "outputs": [
    {
     "name": "stdout",
     "output_type": "stream",
     "text": [
      "Comparing to 2018-2019 census data: Employment\n",
      "Pearson r=-0.3125 (p-value=0.0366)\n"
     ]
    }
   ],
   "source": [
    "print('Comparing to 2018-2019 census data: Employment')\n",
    "r, pvalue = pearsonr(shoe_buyers_pct_changes, census_shoes_emp_pct_change_20182019.loc[sample_states])\n",
    "print('Pearson r=%0.4f (p-value=%0.4f)' % (r, pvalue))"
   ]
  },
  {
   "cell_type": "markdown",
   "id": "5905625b",
   "metadata": {},
   "source": [
    "Notes from experiments\n",
    "\n",
    "- using a smaller random sample (given fewer ppl buy shoes than books) reduces correlation\n",
    "- No significant correlation with # Establishments\n",
    "- Stratifying by state: No improvement\n",
    "- Slightly stronger negative correlation when comparing total purchases to employment\n",
    "- Doesn't work: comparing portion of purchasers increasing purchases\n",
    "- Doesn't work/correlation too weak: Limiting to establishments of smaller size\n",
    "\n",
    "- normalizing employment by population works slightly better than not normalizing by population\n"
   ]
  },
  {
   "cell_type": "markdown",
   "id": "3ddcab56",
   "metadata": {},
   "source": [
    "## Paint and wallpaper stores\n",
    "\n",
    "Not doing this analysis:\n",
    "It looks like there are not enough overall paint purchases and like the most popular items purchased in the paint category are for art."
   ]
  },
  {
   "cell_type": "code",
   "execution_count": 51,
   "id": "01ffde8f",
   "metadata": {},
   "outputs": [
    {
     "data": {
      "text/plain": [
       "Category\n",
       "PAINT          3483\n",
       "PAINT_BRUSH    1053\n",
       "BODY_PAINT      282\n",
       "Name: count, dtype: int64"
      ]
     },
     "execution_count": 51,
     "metadata": {},
     "output_type": "execute_result"
    }
   ],
   "source": [
    "painty_categories = [c for c in categories if 'paint' in str(c).lower()]\n",
    "amzn_data[amzn_data['Category'].isin(painty_categories)]['Category'].value_counts()"
   ]
  },
  {
   "cell_type": "code",
   "execution_count": null,
   "id": "892af158",
   "metadata": {},
   "outputs": [],
   "source": []
  },
  {
   "cell_type": "code",
   "execution_count": 52,
   "id": "41d4f69b",
   "metadata": {},
   "outputs": [
    {
     "data": {
      "text/plain": [
       "Category\n",
       "WALLPAPER    525\n",
       "Name: count, dtype: int64"
      ]
     },
     "execution_count": 52,
     "metadata": {},
     "output_type": "execute_result"
    }
   ],
   "source": [
    "wallpaper_categories = [c for c in categories if 'wallpaper' in str(c).lower()]\n",
    "amzn_data[amzn_data['Category'].isin(wallpaper_categories)]['Category'].value_counts()"
   ]
  },
  {
   "cell_type": "code",
   "execution_count": 53,
   "id": "33627125",
   "metadata": {},
   "outputs": [
    {
     "name": "stdout",
     "output_type": "stream",
     "text": [
      "What kinds of products are these?\n"
     ]
    },
    {
     "data": {
      "text/html": [
       "<div>\n",
       "<style scoped>\n",
       "    .dataframe tbody tr th:only-of-type {\n",
       "        vertical-align: middle;\n",
       "    }\n",
       "\n",
       "    .dataframe tbody tr th {\n",
       "        vertical-align: top;\n",
       "    }\n",
       "\n",
       "    .dataframe thead th {\n",
       "        text-align: right;\n",
       "    }\n",
       "</style>\n",
       "<table border=\"1\" class=\"dataframe\">\n",
       "  <thead>\n",
       "    <tr style=\"text-align: right;\">\n",
       "      <th></th>\n",
       "      <th>sum</th>\n",
       "      <th>count</th>\n",
       "    </tr>\n",
       "    <tr>\n",
       "      <th>Title</th>\n",
       "      <th></th>\n",
       "      <th></th>\n",
       "    </tr>\n",
       "  </thead>\n",
       "  <tbody>\n",
       "    <tr>\n",
       "      <th>Apple Barrel PROMOABI Acrylic Paint Set, 2 Fl Oz (Pack of 18), Assorted Matte Colors, 18 Count</th>\n",
       "      <td>23.0</td>\n",
       "      <td>23</td>\n",
       "    </tr>\n",
       "    <tr>\n",
       "      <th>Apple Barrel Acrylic Paint in Assorted Colors (8 Ounce), 20403 White</th>\n",
       "      <td>20.0</td>\n",
       "      <td>16</td>\n",
       "    </tr>\n",
       "    <tr>\n",
       "      <th>Crayola Washable Kids Paint, 6 Count, Kids At Home Activities, Painting Supplies, Gift, Assorted</th>\n",
       "      <td>16.0</td>\n",
       "      <td>16</td>\n",
       "    </tr>\n",
       "    <tr>\n",
       "      <th>Crafts 4 All Acrylic Paint Set for Adults and Kids - 24-Pack of 12mL Paints for Canvas, Wood &amp; Ceramic w/ 3 Art Brushes - Non-Toxic Craft Paint Sets - Stocking Stuffers for Girls and Boys</th>\n",
       "      <td>13.0</td>\n",
       "      <td>13</td>\n",
       "    </tr>\n",
       "    <tr>\n",
       "      <th>Krylon K01305 Gallery Series Artist and Clear Coatings Aerosol, 11-Ounce, UV-Resistant Clear Gloss</th>\n",
       "      <td>12.0</td>\n",
       "      <td>12</td>\n",
       "    </tr>\n",
       "  </tbody>\n",
       "</table>\n",
       "</div>"
      ],
      "text/plain": [
       "                                                     sum  count\n",
       "Title                                                          \n",
       "Apple Barrel PROMOABI Acrylic Paint Set, 2 Fl O...  23.0     23\n",
       "Apple Barrel Acrylic Paint in Assorted Colors (...  20.0     16\n",
       "Crayola Washable Kids Paint, 6 Count, Kids At H...  16.0     16\n",
       "Crafts 4 All Acrylic Paint Set for Adults and K...  13.0     13\n",
       "Krylon K01305 Gallery Series Artist and Clear C...  12.0     12"
      ]
     },
     "execution_count": 53,
     "metadata": {},
     "output_type": "execute_result"
    }
   ],
   "source": [
    "print('What kinds of products are these?')\n",
    "amzn_data[amzn_data['Category']=='PAINT'].groupby(\n",
    "    'Title'\n",
    ")['Quantity'].agg(['sum','count']).sort_values('count',ascending=False).head()"
   ]
  },
  {
   "cell_type": "markdown",
   "id": "b0bafd4d",
   "metadata": {},
   "source": [
    "## Pet food, pet supplies, etc\n",
    "\n",
    "Not exploring this since the census data shows overall increases in employment year to year."
   ]
  },
  {
   "cell_type": "code",
   "execution_count": 54,
   "id": "b2b316c2",
   "metadata": {},
   "outputs": [
    {
     "data": {
      "text/plain": [
       "Category\n",
       "PET_FOOD                  38256\n",
       "PET_SUPPLIES              10902\n",
       "PET_TOY                    7261\n",
       "PET_PEST_CONTROL           1941\n",
       "PET_FEEDER                 1870\n",
       "PET_ACTIVITY_STRUCTURE     1712\n",
       "PET_BED_MAT                1665\n",
       "PET_APPAREL                1444\n",
       "PET_PLACEMAT                436\n",
       "PET_HEALTH_CARE             300\n",
       "PET_PLAYPEN                 261\n",
       "PET_DOOR                    209\n",
       "PET_SEAT                     52\n",
       "PET_FUR_DEODORIZER           11\n",
       "Name: count, dtype: int64"
      ]
     },
     "execution_count": 54,
     "metadata": {},
     "output_type": "execute_result"
    }
   ],
   "source": [
    "pet_categories = [c for c in categories if str(c).startswith('PET_')]\n",
    "amzn_data[amzn_data['Category'].isin(pet_categories)]['Category'].value_counts()"
   ]
  },
  {
   "cell_type": "markdown",
   "id": "08b600cf",
   "metadata": {},
   "source": [
    "## Electronics\n",
    "\n",
    "From: https://www.naics.com/naics-code-description/?code=443142\n",
    "\n",
    "This U.S. industry comprises: (1) establishments known as consumer electronics stores primarily engaged in retailing a general line of new consumer-type electronic products such as televisions, computers, and cameras; (2) establishments specializing in retailing a single line of consumer-type electronic products; (3) establishments primarily engaged in retailing these new electronic products in combination with repair and support services; (4) establishments primarily engaged in retailing new prepackaged computer software; and/or (5) establishments primarily engaged in retailing prerecorded audio and video media, such as CDs, DVDs, and tapes.\n",
    "\n",
    "Illustrative Examples:\n",
    "\n",
    "- Cellular telephone accessories stores\n",
    "- Consumer-type electronic stores (e.g., televisions, computers, cameras)\n",
    "- Stereo stores (except automotive)\n",
    "- Radio and television stores\n",
    "- Computer stores\n",
    "\n",
    "\n",
    "#### Note what should not be included\n",
    "\n",
    "From https://www.naics.com/naics-code-description/?code=443142:\n",
    "- Retailing electronic goods via electronic home shopping, mail-order, or direct sale--are classified in Subsector 454, Nonstore Retailers;\n",
    "- Retailing automotive electronic sound systems--are classified in Industry 441310, Automotive Parts and Accessories Stores;\n",
    "- Retailing new computers, computer peripherals, and prepackaged software in combination with retailing new office equipment, office furniture, and office supplies--are classified in Industry 453210, Office Supplies and Stationery Stores;\n",
    "- Retailing new cellular telephones and communication service plans--are classified in U.S. Industry 517312, Wireless Telecommunications Carriers (except Satellite);\n",
    "- Providing television or other electronic equipment repair services without retailing new televisions or electronic products--are classified in Industry 81121, Electronic and Precision Equipment Repair and Maintenance;\n",
    "- Developing film and/or making photographic slides, prints, and enlargements without retailing a range of new photographic equipment and supplies--are classified in Industry 81292, Photofinishing;\n",
    "- Retailing new electronic toys, such as dedicated video game consoles and handheld electronic games--are classified in Industry 451120, Hobby, Toy, and Game Stores; and\n",
    "- Retailing used electronics--are classified in Industry 453310, Used Merchandise Stores.\n",
    "\n",
    "\n",
    "i.e. exclude from below:\n",
    "- anything with AUTO or CAR or VEHICLE\n",
    "- cellphones\n",
    "- probably anything with OFFICE\n",
    "- probably film\n",
    "- used electronics\n",
    "- video game consoles and handheld games, video game hardware"
   ]
  },
  {
   "cell_type": "code",
   "execution_count": 55,
   "id": "401f08e5",
   "metadata": {},
   "outputs": [
    {
     "data": {
      "text/plain": [
       "Category\n",
       "ELECTRONIC_CABLE                      18268\n",
       "PORTABLE_ELECTRONIC_DEVICE_COVER       7629\n",
       "ELECTRONIC_ADAPTER                     4890\n",
       "ELECTRONIC_GIFT_CARD                   2975\n",
       "PORTABLE_ELECTRONIC_DEVICE_MOUNT       2636\n",
       "PORTABLE_ELECTRONIC_DEVICE_STAND       2305\n",
       "CONSUMER_ELECTRONICS                   1925\n",
       "ELECTRONIC_SWITCH                      1494\n",
       "ELECTRONIC_COMPONENT_FAN               1447\n",
       "ELECTRONIC_FINDER                       441\n",
       "ELECTRONIC_DEVICE_SKIN                  368\n",
       "ELECTRONIC_COMPONENT_TERMINAL           326\n",
       "ELECTRONIC_SENSOR                       318\n",
       "ELECTRONIC_WIRE                         315\n",
       "PRELOADED_ELECTRONIC_GAME               299\n",
       "ELECTRONIC_DEVICE_COOLING_PAD           236\n",
       "ELECTRONIC_DEVICE_DOCKING_STATION       223\n",
       "ELECTRONIC_LEARNING_TOY                 221\n",
       "PORTABLE_ELECTRONIC_DEVICE_ARMBAND      210\n",
       "ELECTRONIC_COMPONENT                    180\n",
       "SECURITY_ELECTRONICS                    161\n",
       "CAR_ELECTRONICS                         120\n",
       "OFFICE_ELECTRONICS                      105\n",
       "ELECTRONIC_SIGNAL_CONVERTER             103\n",
       "ELECTRONIC_COMPONENT_AMPLIFIER           93\n",
       "ELECTRONIC_DEVICE_FACEPLATE              26\n",
       "ABIS_ELECTRONICS                         16\n",
       "ELECTRONIC_CIGARETTE_LIQUID              15\n",
       "ELECTRONIC_BOOK_READER                   14\n",
       "ELECTRONIC_CONTROLLER                    12\n",
       "PORTABLE_ELECTRONICS                      8\n",
       "Electronics                               6\n",
       "ELECTRONIC_CIGARETTE                      3\n",
       "OPTOELECTRONIC_COMPONENT                  3\n",
       "ELECTRONIC_KNOB                           2\n",
       "ELECTRONIC_GIFT_XXRD                      2\n",
       "ELECTRONIC_COMPONENT_LAMP_HOLDER          1\n",
       "Name: count, dtype: int64"
      ]
     },
     "execution_count": 55,
     "metadata": {},
     "output_type": "execute_result"
    }
   ],
   "source": [
    "electronics_categories = [c for c in categories if 'electronic' in str(c).lower()]\n",
    "amzn_data[amzn_data['Category'].isin(electronics_categories)]['Category'].value_counts()"
   ]
  },
  {
   "cell_type": "code",
   "execution_count": 56,
   "id": "b80832e6",
   "metadata": {},
   "outputs": [
    {
     "name": "stdout",
     "output_type": "stream",
     "text": [
      "Category\n",
      "PHYSICAL_VIDEO_GAME_SOFTWARE     6829\n",
      "DOWNLOADABLE_VIDEO_GAME          5669\n",
      "VIDEO_GAME_CONTROLLER            1795\n",
      "VIDEO_GAME_ACCESSORIES           1279\n",
      "VIDEO_GAME_CONSOLE                838\n",
      "CONSOLE_VIDEO_GAMES               671\n",
      "VIDEO_CARD                        416\n",
      "VIDEO_PROJECTOR                   229\n",
      "VIDEO_DISC_PLAYER                 152\n",
      "VIDEO_GAME_PERIPHERAL_SET         100\n",
      "VIDEO_DVD                          96\n",
      "AUDIO_OR_VIDEO                     84\n",
      "VIDEO_GAME_HARDWARE                78\n",
      "ABIS_VIDEO_GAMES                   49\n",
      "Video Game                         48\n",
      "PORTABLE_VIDEO_DISC_PLAYER         42\n",
      "DIGITAL_VIDEO_RECORDER             19\n",
      "STREAMING_VIDEO_SUBSCRIPTION       12\n",
      "ABIS_VIDEO                          4\n",
      "VIDEO_VHS                           3\n",
      "VIDEO_DEVICE                        2\n",
      "VIDEO_PROJECTOR_PART                1\n",
      "VIDEO_GAME                          1\n",
      "COMPUTER_VIDEO_GAME_CONTOLLER       1\n",
      "Name: count, dtype: int64\n",
      "Category\n",
      "ABIS_DVD                  960\n",
      "VIDEO_DVD                  96\n",
      "DVD_PLAYER_OR_RECORDER      8\n",
      "DVD                         1\n",
      "Name: count, dtype: int64\n",
      "Category\n",
      "AUDIO_CD_PLAYER        34\n",
      "LCD_GRAPHIC_DISPLAY     1\n",
      "Name: count, dtype: int64\n",
      "Category\n",
      "INTEGRATED_STEREO_SYSTEM         86\n",
      "BOOKSHELF_OR_MICRO_STEREO_SYS     1\n",
      "Name: count, dtype: int64\n",
      "Category\n",
      "SPEAKERS                   2326\n",
      "SPEAKER_AMPLIFIER_STAND      96\n",
      "COMPUTER_SPEAKER              9\n",
      "Name: count, dtype: int64\n",
      "Category\n",
      "TELEVISION    608\n",
      "Name: count, dtype: int64\n",
      "Category\n",
      "SECURITY_CAMERA                          1160\n",
      "CAMERA_TRIPOD                             749\n",
      "CAMERA_OTHER_ACCESSORIES                  721\n",
      "CAMERA_CONTINUOUS_LIGHT                   719\n",
      "CAMERA_LENSES                             392\n",
      "CAMERA_DIGITAL                            364\n",
      "CAMERA_SUPPORT                            319\n",
      "ONBOARD_CAMERA                            305\n",
      "CAMERA_CLEANER                            299\n",
      "CAMERA_LENS_FILTERS                       259\n",
      "CAMERA_FILM                               219\n",
      "CAMERA_STAGE_LIGHTING_MODIFIER            214\n",
      "VEHICLE_SAFETY_CAMERA                     105\n",
      "CAMERA                                     94\n",
      "CAMERA_ENCLOSURE                           46\n",
      "CAMERA_FLASH                               38\n",
      "CAMERA_LENS_ACCESSORY                      11\n",
      "CAMERA_BAGS_AND_CASES                       7\n",
      "CAMERA_PRIVACY_COVER                        4\n",
      "CAMERA_STAGE_LIGHTING_FILTER_DIFFUSER       1\n",
      "CAMERA_POWER_SUPPLY                         1\n",
      "Name: count, dtype: int64\n",
      "\n",
      "----Computers and such----\n",
      "\n",
      "Category\n",
      "ABIS_PC           7\n",
      "PC_BOARD_RELAY    5\n",
      "Name: count, dtype: int64\n",
      "Category\n",
      "COMPUTER_DRIVE_OR_STORAGE          3010\n",
      "WEARABLE_COMPUTER                  1246\n",
      "NOTEBOOK_COMPUTER                  1040\n",
      "TABLET_COMPUTER                     751\n",
      "COMPUTER_COMPONENT                  699\n",
      "COMPUTER_ADD_ON                     465\n",
      "COMPUTER_CHASSIS                    460\n",
      "COMPUTER                            460\n",
      "COMPUTER_PROCESSOR                  438\n",
      "PERSONAL_COMPUTER                   414\n",
      "COMPUTER_INPUT_DEVICE               394\n",
      "SINGLE_BOARD_COMPUTER               290\n",
      "COMPUTER_COOLING_DEVICE             200\n",
      "COMPUTER_INPUT_DEVICE_ACCESSORY      84\n",
      "CYCLING_COMPUTER                     34\n",
      "COMPUTER_SPEAKER                      9\n",
      "Personal Computers                    8\n",
      "COMPUTER_VIDEO_GAME_CONTOLLER         1\n",
      "Name: count, dtype: int64\n"
     ]
    },
    {
     "data": {
      "text/plain": [
       "Category\n",
       "TWO_WAY_RADIO    341\n",
       "RADIO            333\n",
       "Name: count, dtype: int64"
      ]
     },
     "execution_count": 56,
     "metadata": {},
     "output_type": "execute_result"
    }
   ],
   "source": [
    "video_categories = [c for c in categories if 'video' in str(c).lower()]\n",
    "print(amzn_data[amzn_data['Category'].isin(video_categories)]['Category'].value_counts())\n",
    "\n",
    "dvd_categories = [c for c in categories if 'dvd' in str(c).lower()]\n",
    "print(amzn_data[amzn_data['Category'].isin(dvd_categories)]['Category'].value_counts())\n",
    "\n",
    "cd_categories = [c for c in categories if ('cd_' in str(c).lower()) or ('_cd' in str(c).lower())]\n",
    "print(amzn_data[amzn_data['Category'].isin(cd_categories)]['Category'].value_counts())\n",
    "\n",
    "stereo_categories = [c for c in categories if 'stereo' in str(c).lower()]\n",
    "print(amzn_data[amzn_data['Category'].isin(stereo_categories)]['Category'].value_counts())\n",
    "\n",
    "speaker_categories = [c for c in categories if 'speaker' in str(c).lower()]\n",
    "print(amzn_data[amzn_data['Category'].isin(speaker_categories)]['Category'].value_counts())\n",
    "\n",
    "tv_categories = [c for c in categories if 'television' in str(c).lower()]\n",
    "print(amzn_data[amzn_data['Category'].isin(tv_categories)]['Category'].value_counts())\n",
    "\n",
    "camera_categories = [c for c in categories if 'camera' in str(c).lower()]\n",
    "print(amzn_data[amzn_data['Category'].isin(camera_categories)]['Category'].value_counts())\n",
    "\n",
    "print('\\n----Computers and such----\\n')\n",
    "pc_categories = [c for c in categories if ('pc_' in str(c).lower()) or ('_pc' in str(c).lower())]\n",
    "print(amzn_data[amzn_data['Category'].isin(pc_categories)]['Category'].value_counts())\n",
    "\n",
    "computer_categories = [c for c in categories if 'computer' in str(c).lower()]\n",
    "print(amzn_data[amzn_data['Category'].isin(computer_categories)]['Category'].value_counts())\n",
    "\n",
    "radio_categories = [c for c in categories if 'radio' in str(c).lower()]\n",
    "amzn_data[amzn_data['Category'].isin(radio_categories)]['Category'].value_counts()"
   ]
  },
  {
   "cell_type": "code",
   "execution_count": 57,
   "id": "afae9bed",
   "metadata": {},
   "outputs": [
    {
     "name": "stdout",
     "output_type": "stream",
     "text": [
      "Category\n",
      "SCREEN_PROTECTOR             9640\n",
      "FLAT_SCREEN_DISPLAY_MOUNT    1498\n",
      "Name: count, dtype: int64\n",
      "Category\n",
      "POWER_CORD                       1548\n",
      "CAMCORDER                        1132\n",
      "THREAD_CORD                       820\n",
      "CORD_MANAGEMENT_COVER             793\n",
      "SOUND_AND_RECORDING_EQUIPMENT     481\n",
      "CORD_ROPE                         318\n",
      "BUNGEE_CORD                       178\n",
      "VOICE_RECORDER                    119\n",
      "SURVEILLANCE_RECORDER_SYSTEM       44\n",
      "DIGITAL_VIDEO_RECORDER             19\n",
      "DVD_PLAYER_OR_RECORDER              8\n",
      "Name: count, dtype: int64\n",
      "Category\n",
      "ELECTRONIC_CABLE    18268\n",
      "CABLE_TIE             785\n",
      "CABLE_OR_ADAPTER      421\n",
      "CABLE_ASSEMBLY        175\n",
      "CABLE                   2\n",
      "Name: count, dtype: int64\n",
      "Category\n",
      "CHARGING_ADAPTER                        8175\n",
      "ELECTRONIC_ADAPTER                      4890\n",
      "NETWORK_INTERFACE_CONTROLLER_ADAPTER    1491\n",
      "CABLE_OR_ADAPTER                         421\n",
      "WIRELESS_AUDIO_ADAPTER                   417\n",
      "Name: count, dtype: int64\n"
     ]
    }
   ],
   "source": [
    "screen_categories = [c for c in categories if 'screen_' in str(c).lower()]\n",
    "print(amzn_data[amzn_data['Category'].isin(screen_categories)]['Category'].value_counts())\n",
    "cord_categories = [c for c in categories if 'cord' in str(c).lower()]\n",
    "print(amzn_data[amzn_data['Category'].isin(cord_categories)]['Category'].value_counts())\n",
    "cable_categories = [c for c in categories if 'cable' in str(c).lower()]\n",
    "print(amzn_data[amzn_data['Category'].isin(cable_categories)]['Category'].value_counts())\n",
    "adapter_categories = [c for c in categories if 'adapter' in str(c).lower()]\n",
    "print(amzn_data[amzn_data['Category'].isin(adapter_categories)]['Category'].value_counts())"
   ]
  },
  {
   "cell_type": "code",
   "execution_count": 58,
   "id": "345328e3",
   "metadata": {},
   "outputs": [
    {
     "name": "stdout",
     "output_type": "stream",
     "text": [
      "What kinds of products are these?\n"
     ]
    }
   ],
   "source": [
    "print('What kinds of products are these?')"
   ]
  },
  {
   "cell_type": "code",
   "execution_count": 59,
   "id": "a3ccd7d1",
   "metadata": {},
   "outputs": [
    {
     "data": {
      "text/html": [
       "<div>\n",
       "<style scoped>\n",
       "    .dataframe tbody tr th:only-of-type {\n",
       "        vertical-align: middle;\n",
       "    }\n",
       "\n",
       "    .dataframe tbody tr th {\n",
       "        vertical-align: top;\n",
       "    }\n",
       "\n",
       "    .dataframe thead th {\n",
       "        text-align: right;\n",
       "    }\n",
       "</style>\n",
       "<table border=\"1\" class=\"dataframe\">\n",
       "  <thead>\n",
       "    <tr style=\"text-align: right;\">\n",
       "      <th></th>\n",
       "      <th>sum</th>\n",
       "      <th>count</th>\n",
       "    </tr>\n",
       "    <tr>\n",
       "      <th>Title</th>\n",
       "      <th></th>\n",
       "      <th></th>\n",
       "    </tr>\n",
       "  </thead>\n",
       "  <tbody>\n",
       "    <tr>\n",
       "      <th>Super Smash Bros. Ultimate - Nintendo Switch</th>\n",
       "      <td>142.0</td>\n",
       "      <td>141</td>\n",
       "    </tr>\n",
       "    <tr>\n",
       "      <th>Animal Crossing: New Horizons - Nintendo Switch</th>\n",
       "      <td>92.0</td>\n",
       "      <td>91</td>\n",
       "    </tr>\n",
       "    <tr>\n",
       "      <th>Ring Fit Adventure - Nintendo Switch</th>\n",
       "      <td>85.0</td>\n",
       "      <td>85</td>\n",
       "    </tr>\n",
       "    <tr>\n",
       "      <th>The Legend of Zelda: Breath of the Wild - Nintendo Switch</th>\n",
       "      <td>73.0</td>\n",
       "      <td>70</td>\n",
       "    </tr>\n",
       "    <tr>\n",
       "      <th>Mario Kart 8 Deluxe - Nintendo Switch</th>\n",
       "      <td>67.0</td>\n",
       "      <td>67</td>\n",
       "    </tr>\n",
       "  </tbody>\n",
       "</table>\n",
       "</div>"
      ],
      "text/plain": [
       "                                                      sum  count\n",
       "Title                                                           \n",
       "Super Smash Bros. Ultimate - Nintendo Switch        142.0    141\n",
       "Animal Crossing: New Horizons - Nintendo Switch      92.0     91\n",
       "Ring Fit Adventure - Nintendo Switch                 85.0     85\n",
       "The Legend of Zelda: Breath of the Wild - Ninte...   73.0     70\n",
       "Mario Kart 8 Deluxe - Nintendo Switch                67.0     67"
      ]
     },
     "execution_count": 59,
     "metadata": {},
     "output_type": "execute_result"
    }
   ],
   "source": [
    "amzn_data[amzn_data['Category']=='PHYSICAL_VIDEO_GAME_SOFTWARE'].groupby(\n",
    "    'Title'\n",
    ")['Quantity'].agg(['sum','count']).sort_values('count',ascending=False).head()"
   ]
  },
  {
   "cell_type": "code",
   "execution_count": 60,
   "id": "fbdb7ca5",
   "metadata": {},
   "outputs": [
    {
     "data": {
      "text/html": [
       "<div>\n",
       "<style scoped>\n",
       "    .dataframe tbody tr th:only-of-type {\n",
       "        vertical-align: middle;\n",
       "    }\n",
       "\n",
       "    .dataframe tbody tr th {\n",
       "        vertical-align: top;\n",
       "    }\n",
       "\n",
       "    .dataframe thead th {\n",
       "        text-align: right;\n",
       "    }\n",
       "</style>\n",
       "<table border=\"1\" class=\"dataframe\">\n",
       "  <thead>\n",
       "    <tr style=\"text-align: right;\">\n",
       "      <th></th>\n",
       "      <th>sum</th>\n",
       "      <th>count</th>\n",
       "    </tr>\n",
       "    <tr>\n",
       "      <th>Title</th>\n",
       "      <th></th>\n",
       "      <th></th>\n",
       "    </tr>\n",
       "  </thead>\n",
       "  <tbody>\n",
       "    <tr>\n",
       "      <th>Amazon.com eGift Card</th>\n",
       "      <td>1674.0</td>\n",
       "      <td>1390</td>\n",
       "    </tr>\n",
       "    <tr>\n",
       "      <th>Google Play gift code - give the gift of games, apps and more (Email Delivery - US Only)</th>\n",
       "      <td>365.0</td>\n",
       "      <td>364</td>\n",
       "    </tr>\n",
       "    <tr>\n",
       "      <th>Amazon.com Print at Home Gift Card</th>\n",
       "      <td>333.0</td>\n",
       "      <td>285</td>\n",
       "    </tr>\n",
       "    <tr>\n",
       "      <th>Grubhub Gift Cards - Email Delivery</th>\n",
       "      <td>312.0</td>\n",
       "      <td>276</td>\n",
       "    </tr>\n",
       "    <tr>\n",
       "      <th>Safeway Gift Card - Email Delivery (Must print eGift to redeem)</th>\n",
       "      <td>193.0</td>\n",
       "      <td>193</td>\n",
       "    </tr>\n",
       "  </tbody>\n",
       "</table>\n",
       "</div>"
      ],
      "text/plain": [
       "                                                       sum  count\n",
       "Title                                                            \n",
       "Amazon.com eGift Card                               1674.0   1390\n",
       "Google Play gift code - give the gift of games,...   365.0    364\n",
       "Amazon.com Print at Home Gift Card                   333.0    285\n",
       "Grubhub Gift Cards - Email Delivery                  312.0    276\n",
       "Safeway Gift Card - Email Delivery (Must print ...   193.0    193"
      ]
     },
     "execution_count": 60,
     "metadata": {},
     "output_type": "execute_result"
    }
   ],
   "source": [
    "# Don't use this\n",
    "amzn_data[amzn_data['Category']=='ELECTRONIC_GIFT_CARD'].groupby(\n",
    "    'Title'\n",
    ")['Quantity'].agg(['sum','count']).sort_values('count',ascending=False).head()"
   ]
  },
  {
   "cell_type": "code",
   "execution_count": 61,
   "id": "c037cf6b",
   "metadata": {},
   "outputs": [
    {
     "data": {
      "text/html": [
       "<div>\n",
       "<style scoped>\n",
       "    .dataframe tbody tr th:only-of-type {\n",
       "        vertical-align: middle;\n",
       "    }\n",
       "\n",
       "    .dataframe tbody tr th {\n",
       "        vertical-align: top;\n",
       "    }\n",
       "\n",
       "    .dataframe thead th {\n",
       "        text-align: right;\n",
       "    }\n",
       "</style>\n",
       "<table border=\"1\" class=\"dataframe\">\n",
       "  <thead>\n",
       "    <tr style=\"text-align: right;\">\n",
       "      <th></th>\n",
       "      <th>sum</th>\n",
       "      <th>count</th>\n",
       "    </tr>\n",
       "    <tr>\n",
       "      <th>Title</th>\n",
       "      <th></th>\n",
       "      <th></th>\n",
       "    </tr>\n",
       "  </thead>\n",
       "  <tbody>\n",
       "    <tr>\n",
       "      <th>Allstate 4-Year PC Peripheral Protection Plan ($0-49.99)</th>\n",
       "      <td>89.0</td>\n",
       "      <td>84</td>\n",
       "    </tr>\n",
       "    <tr>\n",
       "      <th>Allstate 4-Year PC Peripheral Protection Plan ($75-99.99)</th>\n",
       "      <td>35.0</td>\n",
       "      <td>34</td>\n",
       "    </tr>\n",
       "    <tr>\n",
       "      <th>ARCTIC MX-4 (4 g) - Premium Performance Thermal Paste for all processors (CPU, GPU - PC, PS4, XBOX), very high thermal conductivity, long durability, safe application, non-conductive, non-capacitive</th>\n",
       "      <td>28.0</td>\n",
       "      <td>27</td>\n",
       "    </tr>\n",
       "    <tr>\n",
       "      <th>Allstate 3-Year PC Peripheral Protection Plan ($0-49.99)</th>\n",
       "      <td>23.0</td>\n",
       "      <td>21</td>\n",
       "    </tr>\n",
       "    <tr>\n",
       "      <th>Allstate 4-Year PC Peripheral Protection Plan ($50-74.99)</th>\n",
       "      <td>17.0</td>\n",
       "      <td>17</td>\n",
       "    </tr>\n",
       "  </tbody>\n",
       "</table>\n",
       "</div>"
      ],
      "text/plain": [
       "                                                     sum  count\n",
       "Title                                                          \n",
       "Allstate 4-Year PC Peripheral Protection Plan (...  89.0     84\n",
       "Allstate 4-Year PC Peripheral Protection Plan (...  35.0     34\n",
       "ARCTIC MX-4 (4 g) - Premium Performance Thermal...  28.0     27\n",
       "Allstate 3-Year PC Peripheral Protection Plan (...  23.0     21\n",
       "Allstate 4-Year PC Peripheral Protection Plan (...  17.0     17"
      ]
     },
     "execution_count": 61,
     "metadata": {},
     "output_type": "execute_result"
    }
   ],
   "source": [
    "amzn_data[amzn_data['Category']=='COMPUTER'].groupby(\n",
    "    'Title'\n",
    ")['Quantity'].agg(['sum','count']).sort_values('count',ascending=False).head()"
   ]
  },
  {
   "cell_type": "code",
   "execution_count": 62,
   "id": "a156512b",
   "metadata": {},
   "outputs": [
    {
     "data": {
      "text/html": [
       "<div>\n",
       "<style scoped>\n",
       "    .dataframe tbody tr th:only-of-type {\n",
       "        vertical-align: middle;\n",
       "    }\n",
       "\n",
       "    .dataframe tbody tr th {\n",
       "        vertical-align: top;\n",
       "    }\n",
       "\n",
       "    .dataframe thead th {\n",
       "        text-align: right;\n",
       "    }\n",
       "</style>\n",
       "<table border=\"1\" class=\"dataframe\">\n",
       "  <thead>\n",
       "    <tr style=\"text-align: right;\">\n",
       "      <th></th>\n",
       "      <th>sum</th>\n",
       "      <th>count</th>\n",
       "    </tr>\n",
       "    <tr>\n",
       "      <th>Title</th>\n",
       "      <th></th>\n",
       "      <th></th>\n",
       "    </tr>\n",
       "  </thead>\n",
       "  <tbody>\n",
       "    <tr>\n",
       "      <th>Fitbit Inspire 2 Health &amp; Fitness Tracker with a Free 1-Year Fitbit Premium Trial, 24/7 Heart Rate, Black/Black, One Size (S &amp; L Bands Included)</th>\n",
       "      <td>43.0</td>\n",
       "      <td>43</td>\n",
       "    </tr>\n",
       "    <tr>\n",
       "      <th>Fitbit Inspire HR Heart Rate and Fitness Tracker, One Size (S and L Bands Included), 1 Count</th>\n",
       "      <td>26.0</td>\n",
       "      <td>26</td>\n",
       "    </tr>\n",
       "    <tr>\n",
       "      <th>Fitbit Versa Smart Watch, Black/Black Aluminium, One Size (S &amp; L Bands Included)</th>\n",
       "      <td>24.0</td>\n",
       "      <td>23</td>\n",
       "    </tr>\n",
       "    <tr>\n",
       "      <th>Amazfit Band 5 Activity Fitness Tracker with Alexa Built-in, 15-Day Battery Life, Blood Oxygen, Heart Rate, Sleep &amp; Stress Monitoring, 5 ATM Water Resistant, Fitness Watch for Men Women Kids, Black</th>\n",
       "      <td>22.0</td>\n",
       "      <td>22</td>\n",
       "    </tr>\n",
       "    <tr>\n",
       "      <th>Fitbit Inspire 2 Health &amp; Fitness Tracker with a Free 1-Year Fitbit Premium Trial, 24/7 Heart Rate, Black/Rose, One Size (S &amp; L Bands Included)</th>\n",
       "      <td>21.0</td>\n",
       "      <td>21</td>\n",
       "    </tr>\n",
       "  </tbody>\n",
       "</table>\n",
       "</div>"
      ],
      "text/plain": [
       "                                                     sum  count\n",
       "Title                                                          \n",
       "Fitbit Inspire 2 Health & Fitness Tracker with ...  43.0     43\n",
       "Fitbit Inspire HR Heart Rate and Fitness Tracke...  26.0     26\n",
       "Fitbit Versa Smart Watch, Black/Black Aluminium...  24.0     23\n",
       "Amazfit Band 5 Activity Fitness Tracker with Al...  22.0     22\n",
       "Fitbit Inspire 2 Health & Fitness Tracker with ...  21.0     21"
      ]
     },
     "execution_count": 62,
     "metadata": {},
     "output_type": "execute_result"
    }
   ],
   "source": [
    "amzn_data[amzn_data['Category']=='WEARABLE_COMPUTER'].groupby(\n",
    "    'Title'\n",
    ")['Quantity'].agg(['sum','count']).sort_values('count',ascending=False).head()"
   ]
  },
  {
   "cell_type": "code",
   "execution_count": 63,
   "id": "bcfa7162",
   "metadata": {},
   "outputs": [],
   "source": [
    "electronics_categories = [\n",
    "    'ELECTRONIC_CABLE',\n",
    "    'PORTABLE_ELECTRONIC_DEVICE_COVER',\n",
    "    'ELECTRONIC_ADAPTER',\n",
    "    'PORTABLE_ELECTRONIC_DEVICE_MOUNT',\n",
    "    'PORTABLE_ELECTRONIC_DEVICE_STAND',\n",
    "    'CONSUMER_ELECTRONICS',\n",
    "    'ELECTRONIC_DEVICE_SKIN',\n",
    "    #'ELECTRONIC_COMPONENT_TERMINAL',\n",
    "    'ELECTRONIC_WIRE',\n",
    "    'PRELOADED_ELECTRONIC_GAME',\n",
    "    'ELECTRONIC_DEVICE_COOLING_PAD',\n",
    "    'ELECTRONIC_DEVICE_DOCKING_STATION',\n",
    "    'PORTABLE_ELECTRONIC_DEVICE_ARMBAND',\n",
    "    'SECURITY_ELECTRONICS',\n",
    "    #'ELECTRONIC_DEVICE_FACEPLATE',\n",
    "    'ABIS_ELECTRONICS',\n",
    "    'ELECTRONIC_BOOK_READER',\n",
    "    'ELECTRONIC_CONTROLLER',\n",
    "    'PORTABLE_ELECTRONICS',\n",
    "    'Electronics',\n",
    "    'PHYSICAL_VIDEO_GAME_SOFTWARE',\n",
    "    'DOWNLOADABLE_VIDEO_GAME',\n",
    "    'CONSOLE_VIDEO_GAMES',\n",
    "    'VIDEO_CARD',\n",
    "    'VIDEO_PROJECTOR',\n",
    "    'VIDEO_DISC_PLAYER',\n",
    "    'VIDEO_DVD',\n",
    "    'AUDIO_OR_VIDEO',\n",
    "    'ABIS_VIDEO_GAMES',\n",
    "    'Video',\n",
    "    'PORTABLE_VIDEO_DISC_PLAYER',\n",
    "    'DIGITAL_VIDEO_RECORDER',\n",
    "    'ABIS_VIDEO',\n",
    "    'VIDEO_VHS',\n",
    "    'VIDEO_DEVICE',\n",
    "    'VIDEO_PROJECTOR_PART',\n",
    "    'VIDEO_GAME',\n",
    "    'ABIS_DVD',\n",
    "    'VIDEO_DVD',\n",
    "    'DVD_PLAYER_OR_RECORDER',\n",
    "    'DVD',\n",
    "    'AUDIO_CD_PLAYER',\n",
    "    'LCD_GRAPHIC_DISPLAY',\n",
    "    'INTEGRATED_STEREO_SYSTEM',\n",
    "    'BOOKSHELF_OR_MICRO_STEREO_SYS',\n",
    "    'SPEAKERS',\n",
    "    'SPEAKER_AMPLIFIER_STAND',\n",
    "    'COMPUTER_SPEAKER',\n",
    "    'TELEVISION',\n",
    "    'SECURITY_CAMERA',\n",
    "    'CAMERA_TRIPOD',\n",
    "    'CAMERA_OTHER_ACCESSORIES',\n",
    "    'CAMERA_CONTINUOUS_LIGHT',\n",
    "    'CAMERA_LENSES',\n",
    "    'CAMERA_DIGITAL',\n",
    "    'CAMERA_SUPPORT',\n",
    "    'CAMERA_CLEANER',\n",
    "    'CAMERA_LENS_FILTERS',\n",
    "    'CAMERA_STAGE_LIGHTING_MODIFIER',\n",
    "    'CAMERA',\n",
    "    'CAMERA_ENCLOSURE',\n",
    "    'CAMERA_FLASH',\n",
    "    'CAMERA_LENS_ACCESSORY',\n",
    "    'CAMERA_BAGS_AND_CASES',\n",
    "    'CAMERA_PRIVACY_COVER',\n",
    "    'CAMERA_STAGE_LIGHTING_FILTER_DIFFUSER',\n",
    "    'CAMERA_POWER_SUPPLY',\n",
    "    'ABIS_PC',\n",
    "    'COMPUTER_DRIVE_OR_STORAGE',\n",
    "    'WEARABLE_COMPUTER',\n",
    "    'NOTEBOOK_COMPUTER',\n",
    "    'TABLET_COMPUTER',\n",
    "    'COMPUTER_COMPONENT',\n",
    "    'COMPUTER_ADD_ON',\n",
    "    'COMPUTER_CHASSIS',\n",
    "    'COMPUTER',\n",
    "    'COMPUTER_PROCESSOR',\n",
    "    'PERSONAL_COMPUTER',\n",
    "    'COMPUTER_INPUT_DEVICE',\n",
    "    'SINGLE_BOARD_COMPUTER',\n",
    "    'COMPUTER_COOLING_DEVICE',\n",
    "    'COMPUTER_INPUT_DEVICE_ACCESSORY',\n",
    "    'COMPUTER_SPEAKER',\n",
    "    'TWO_WAY_RADIO',\n",
    "    #'SCREEN_PROTECTOR',\n",
    "    'FLAT_SCREEN_DISPLAY_MOUNT',\n",
    "    'POWER_CORD',\n",
    "    'CAMCORDER',\n",
    "    'CORD_MANAGEMENT_COVER',\n",
    "    'SOUND_AND_RECORDING_EQUIPMENT',\n",
    "    'VOICE_RECORDER',\n",
    "    'SURVEILLANCE_RECORDER_SYSTEM',\n",
    "    'DIGITAL_VIDEO_RECORDER',\n",
    "    'DVD_PLAYER_OR_RECORDER',\n",
    "    #'CABLE_TIE',\n",
    "    'CABLE_OR_ADAPTER',\n",
    "    #'CABLE_ASSEMBLY',\n",
    "    'CABLE',\n",
    "    'CHARGING_ADAPTER',\n",
    "    'ELECTRONIC_ADAPTER',\n",
    "    #'NETWORK_INTERFACE_CONTROLLER_ADAPTER',\n",
    "    'WIRELESS_AUDIO_ADAPTER',\n",
    "]"
   ]
  },
  {
   "cell_type": "code",
   "execution_count": 64,
   "id": "84a78288",
   "metadata": {},
   "outputs": [
    {
     "name": "stdout",
     "output_type": "stream",
     "text": [
      "75107 total electronics purchases in dataset\n"
     ]
    }
   ],
   "source": [
    "electronics_purchases = amzn_data_sample[amzn_data_sample['Category'].isin(electronics_categories)]\n",
    "print('%s total electronics purchases in dataset' % len(electronics_purchases))"
   ]
  },
  {
   "cell_type": "markdown",
   "id": "8a41514f",
   "metadata": {},
   "source": [
    "### Electronics stores analysis\n",
    "\n",
    "Limit to 2018 - 2019 related changes"
   ]
  },
  {
   "cell_type": "code",
   "execution_count": 65,
   "id": "080a375e",
   "metadata": {},
   "outputs": [
    {
     "name": "stdout",
     "output_type": "stream",
     "text": [
      "23928 total electronics related purchases from N=3345 purchasers in 2018-2019 sample\n"
     ]
    }
   ],
   "source": [
    "electronics_purchases = electronics_purchases[electronics_purchases['year'].isin([2018, 2019])]\n",
    "print('%s total electronics related purchases from N=%s purchasers in 2018-2019 sample' % (len(electronics_purchases), electronics_purchases['Survey ResponseID'].nunique()))"
   ]
  },
  {
   "cell_type": "markdown",
   "id": "a1098caf",
   "metadata": {},
   "source": [
    "Data checks"
   ]
  },
  {
   "cell_type": "code",
   "execution_count": 66,
   "id": "b6519298",
   "metadata": {},
   "outputs": [
    {
     "name": "stdout",
     "output_type": "stream",
     "text": [
      "electronics purchases per person per year\n"
     ]
    },
    {
     "data": {
      "text/html": [
       "<div>\n",
       "<style scoped>\n",
       "    .dataframe tbody tr th:only-of-type {\n",
       "        vertical-align: middle;\n",
       "    }\n",
       "\n",
       "    .dataframe tbody tr th {\n",
       "        vertical-align: top;\n",
       "    }\n",
       "\n",
       "    .dataframe thead th {\n",
       "        text-align: right;\n",
       "    }\n",
       "</style>\n",
       "<table border=\"1\" class=\"dataframe\">\n",
       "  <thead>\n",
       "    <tr style=\"text-align: right;\">\n",
       "      <th></th>\n",
       "      <th>sum</th>\n",
       "      <th>count</th>\n",
       "    </tr>\n",
       "  </thead>\n",
       "  <tbody>\n",
       "    <tr>\n",
       "      <th>count</th>\n",
       "      <td>5448.000000</td>\n",
       "      <td>5448.000000</td>\n",
       "    </tr>\n",
       "    <tr>\n",
       "      <th>mean</th>\n",
       "      <td>4.595448</td>\n",
       "      <td>4.392070</td>\n",
       "    </tr>\n",
       "    <tr>\n",
       "      <th>std</th>\n",
       "      <td>5.576255</td>\n",
       "      <td>5.047862</td>\n",
       "    </tr>\n",
       "    <tr>\n",
       "      <th>min</th>\n",
       "      <td>1.000000</td>\n",
       "      <td>1.000000</td>\n",
       "    </tr>\n",
       "    <tr>\n",
       "      <th>25%</th>\n",
       "      <td>1.000000</td>\n",
       "      <td>1.000000</td>\n",
       "    </tr>\n",
       "    <tr>\n",
       "      <th>50%</th>\n",
       "      <td>3.000000</td>\n",
       "      <td>3.000000</td>\n",
       "    </tr>\n",
       "    <tr>\n",
       "      <th>75%</th>\n",
       "      <td>6.000000</td>\n",
       "      <td>5.000000</td>\n",
       "    </tr>\n",
       "    <tr>\n",
       "      <th>max</th>\n",
       "      <td>86.000000</td>\n",
       "      <td>73.000000</td>\n",
       "    </tr>\n",
       "  </tbody>\n",
       "</table>\n",
       "</div>"
      ],
      "text/plain": [
       "               sum        count\n",
       "count  5448.000000  5448.000000\n",
       "mean      4.595448     4.392070\n",
       "std       5.576255     5.047862\n",
       "min       1.000000     1.000000\n",
       "25%       1.000000     1.000000\n",
       "50%       3.000000     3.000000\n",
       "75%       6.000000     5.000000\n",
       "max      86.000000    73.000000"
      ]
     },
     "execution_count": 66,
     "metadata": {},
     "output_type": "execute_result"
    }
   ],
   "source": [
    "# Sum is sum over quanity. Count is unique purchases per person per year\n",
    "print('electronics purchases per person per year')\n",
    "electronics_purchases_per_person = electronics_purchases.groupby(['year','Survey ResponseID'])['Quantity'].agg(['sum','count'])\n",
    "electronics_purchases_per_person.describe()"
   ]
  },
  {
   "cell_type": "code",
   "execution_count": 67,
   "id": "b9d20b0f",
   "metadata": {},
   "outputs": [
    {
     "name": "stdout",
     "output_type": "stream",
     "text": [
      "90th percentile :  10.0\n",
      "95th percentile :  14.0\n",
      "99th percentile :  26.0\n"
     ]
    }
   ],
   "source": [
    "print('90th percentile : ', electronics_purchases_per_person['sum'].quantile(0.90))\n",
    "print('95th percentile : ', electronics_purchases_per_person['sum'].quantile(0.95))\n",
    "print('99th percentile : ', electronics_purchases_per_person['sum'].quantile(0.99))"
   ]
  },
  {
   "cell_type": "code",
   "execution_count": 68,
   "id": "c1f370f0",
   "metadata": {},
   "outputs": [
    {
     "name": "stdout",
     "output_type": "stream",
     "text": [
      "2746 electronics purchases from N=1178 purchasers in 2018 dataset\n",
      "3500 electronics purchases from N=1388 purchasers in 2019 dataset\n"
     ]
    }
   ],
   "source": [
    "electronics_purchases2018 = shoe_purchases[shoe_purchases['year']==2018]\n",
    "electronics_purchases2019 = shoe_purchases[shoe_purchases['year']==2019]\n",
    "print('%s electronics purchases from N=%s purchasers in 2018 dataset' % (len(electronics_purchases2018), electronics_purchases2018['Survey ResponseID'].nunique()))\n",
    "print('%s electronics purchases from N=%s purchasers in 2019 dataset' % (len(electronics_purchases2019), electronics_purchases2019['Survey ResponseID'].nunique()))"
   ]
  },
  {
   "cell_type": "code",
   "execution_count": 69,
   "id": "fa23babe",
   "metadata": {},
   "outputs": [
    {
     "name": "stdout",
     "output_type": "stream",
     "text": [
      "11337 purchases from N=2661 purchasers in 2018 dataset\n",
      "12591 purchases from N=2787 purchasers in 2019 dataset\n"
     ]
    },
    {
     "data": {
      "text/plain": [
       "state\n",
       "AL    0.065789\n",
       "AR    0.042735\n",
       "AZ    0.323699\n",
       "CA    0.010189\n",
       "CO    0.264840\n",
       "Name: Quantity, dtype: float64"
      ]
     },
     "execution_count": 69,
     "metadata": {},
     "output_type": "execute_result"
    }
   ],
   "source": [
    "electronics_purchases_pct_change = get_pct_change_purchases(electronics_purchases, verbose=True)\n",
    "electronics_purchases_pct_change.head()"
   ]
  },
  {
   "cell_type": "code",
   "execution_count": 70,
   "id": "2dc8e0b4",
   "metadata": {},
   "outputs": [
    {
     "name": "stdout",
     "output_type": "stream",
     "text": [
      "11337 purchases from N=2661 purchasers in 2018 dataset\n",
      "12591 purchases from N=2787 purchasers in 2019 dataset\n"
     ]
    },
    {
     "data": {
      "text/plain": [
       "state\n",
       "AL    0.117647\n",
       "AR    0.068966\n",
       "AZ    0.183673\n",
       "CA    0.050167\n",
       "CO    0.176471\n",
       "Name: Survey ResponseID, dtype: float64"
      ]
     },
     "execution_count": 70,
     "metadata": {},
     "output_type": "execute_result"
    }
   ],
   "source": [
    "electronics_buyers_pct_change = get_pct_change_buyers(electronics_purchases, verbose=True)\n",
    "electronics_buyers_pct_change.head()"
   ]
  },
  {
   "cell_type": "code",
   "execution_count": 71,
   "id": "dd49a091",
   "metadata": {},
   "outputs": [
    {
     "name": "stdout",
     "output_type": "stream",
     "text": [
      "correlation between percent change in buyers vs total purchasers (electronics)\n",
      "Pearson r=0.5268 (p-value=0.0002)\n",
      "Spearman r=0.4570 (p-value=0.0016)\n"
     ]
    }
   ],
   "source": [
    "print('correlation between percent change in buyers vs total purchasers (electronics)')\n",
    "r, pvalue = pearsonr(electronics_purchases_pct_change, electronics_buyers_pct_change)\n",
    "print('Pearson r=%0.4f (p-value=%0.4f)' % (r, pvalue))\n",
    "r, pvalue = spearmanr(electronics_purchases_pct_change, electronics_buyers_pct_change)\n",
    "print('Spearman r=%0.4f (p-value=%0.4f)' % (r, pvalue))"
   ]
  },
  {
   "cell_type": "markdown",
   "id": "0d4a8f9a",
   "metadata": {},
   "source": [
    "Would there be higher correlation if we limited data to 99th percentile and below?\n",
    "\n",
    "Answer: Yes. Pearson r goes from <0.6 to >0.7"
   ]
  },
  {
   "cell_type": "code",
   "execution_count": 72,
   "id": "87fc567c",
   "metadata": {},
   "outputs": [
    {
     "name": "stdout",
     "output_type": "stream",
     "text": [
      "Dropping 44 response IDs for people who bought more than 26.0 items\n",
      "23928 total electronics purchases from N=3345 purchasers in 2018-2019 dataset\n"
     ]
    }
   ],
   "source": [
    "max_purchases = electronics_purchases_per_person['sum'].quantile(0.99)\n",
    "too_many_electronics_responseids = electronics_purchases_per_person[\n",
    "    (electronics_purchases_per_person['sum'] > max_purchases)\n",
    "].reset_index()['Survey ResponseID'].unique()\n",
    "print('Dropping %s response IDs for people who bought more than %s items' % (len(too_many_electronics_responseids), max_purchases))\n",
    "electronics_purchases_99 = electronics_purchases[~electronics_purchases['Survey ResponseID'].isin(too_many_electronics_responseids)]\n",
    "print('%s total electronics purchases from N=%s purchasers in 2018-2019 dataset' % (len(electronics_purchases), electronics_purchases['Survey ResponseID'].nunique()))"
   ]
  },
  {
   "cell_type": "code",
   "execution_count": 73,
   "id": "00a85f1c",
   "metadata": {},
   "outputs": [
    {
     "name": "stdout",
     "output_type": "stream",
     "text": [
      "10277 purchases from N=2618 purchasers in 2018 dataset\n",
      "11371 purchases from N=2743 purchasers in 2019 dataset\n",
      "correlation between percent change in buyers vs total purchasers (electronics)\n",
      "Pearson r=0.6779 (p-value=0.0000)\n",
      "Spearman r=0.6130 (p-value=0.0000)\n"
     ]
    }
   ],
   "source": [
    "electronics_purchases_pct_change = get_pct_change_purchases(electronics_purchases_99, verbose=True)\n",
    "electronics_buyers_pct_change = get_pct_change_buyers(electronics_purchases_99, verbose=False)\n",
    "\n",
    "print('correlation between percent change in buyers vs total purchasers (electronics)')\n",
    "r, pvalue = pearsonr(electronics_purchases_pct_change, electronics_buyers_pct_change)\n",
    "print('Pearson r=%0.4f (p-value=%0.4f)' % (r, pvalue))\n",
    "r, pvalue = spearmanr(electronics_purchases_pct_change, electronics_buyers_pct_change)\n",
    "print('Spearman r=%0.4f (p-value=%0.4f)' % (r, pvalue))"
   ]
  },
  {
   "cell_type": "code",
   "execution_count": 74,
   "id": "126e1b28",
   "metadata": {},
   "outputs": [],
   "source": [
    "electronics_purchases = electronics_purchases_99"
   ]
  },
  {
   "cell_type": "code",
   "execution_count": 75,
   "id": "3a5e95ed",
   "metadata": {},
   "outputs": [
    {
     "name": "stdout",
     "output_type": "stream",
     "text": [
      "21648 total electronics related purchases from N=3301 purchasers in 2018-2019 sample\n"
     ]
    }
   ],
   "source": [
    "print('%s total electronics related purchases from N=%s purchasers in 2018-2019 sample' % (len(electronics_purchases), electronics_purchases['Survey ResponseID'].nunique()))"
   ]
  },
  {
   "cell_type": "markdown",
   "id": "f9a64c8b",
   "metadata": {},
   "source": [
    "#### Compare census data to purchases data"
   ]
  },
  {
   "cell_type": "code",
   "execution_count": 76,
   "id": "97abe9d6",
   "metadata": {},
   "outputs": [
    {
     "name": "stdout",
     "output_type": "stream",
     "text": [
      "1/1000\n",
      "5631 purchases from N=1415 purchasers in 2018 dataset\n",
      "6117 purchases from N=1473 purchasers in 2019 dataset\n",
      "501/1000\n",
      "5541 purchases from N=1379 purchasers in 2018 dataset\n",
      "6036 purchases from N=1464 purchasers in 2019 dataset\n"
     ]
    }
   ],
   "source": [
    "N_subsamples = 1000\n",
    "state_pct_changes = [] # compute the mean over N_subsamples\n",
    "for i in range(N_subsamples):\n",
    "    v = (i%500==0)\n",
    "    if v:\n",
    "        print('%s/%s' % (i+1, N_subsamples))\n",
    "    sampled_purchases = get_random_sample(frame=electronics_purchases)\n",
    "    state_pct_changes += [get_pct_change_buyers(sampled_purchases, verbose=v)]\n",
    "electronics_buyers_pct_changes = pd.DataFrame(state_pct_changes).mean()"
   ]
  },
  {
   "cell_type": "code",
   "execution_count": 77,
   "id": "9ac492ff",
   "metadata": {},
   "outputs": [
    {
     "name": "stdout",
     "output_type": "stream",
     "text": [
      "Comparing to 2018-2019 census data: Employment\n",
      "Pearson r=-0.0120 (p-value=0.9376)\n"
     ]
    }
   ],
   "source": [
    "print('Comparing to 2018-2019 census data: Employment')\n",
    "r, pvalue = pearsonr(electronics_buyers_pct_changes, census_electronics_emp_pct_change_20182019.loc[sample_states])\n",
    "print('Pearson r=%0.4f (p-value=%0.4f)' % (r, pvalue))"
   ]
  },
  {
   "cell_type": "markdown",
   "id": "493b13da",
   "metadata": {},
   "source": [
    "Overall not finding the hypothesized negative correlation.\n",
    "\n",
    "Notes from experiments\n",
    "\n",
    "- stratifying on state does not help\n",
    "\n",
    "- what about restricting the categories? --> could not find the \"right categories\""
   ]
  },
  {
   "cell_type": "markdown",
   "id": "13cc1620",
   "metadata": {},
   "source": [
    "## Other Experiments / misses"
   ]
  },
  {
   "cell_type": "markdown",
   "id": "8ced639f",
   "metadata": {},
   "source": [
    "### Books"
   ]
  },
  {
   "cell_type": "code",
   "execution_count": null,
   "id": "97ec1787",
   "metadata": {},
   "outputs": [],
   "source": [
    "# Employment\n",
    "print('\\nComparing to 2019-2020 census data: Employment')\n",
    "r, pvalue = pearsonr(book_buyers_pct_changes, census_books_emp_pct_change_20192020.loc[sample_states])\n",
    "print('Pearson r=%0.4f (p-value=%0.4f)' % (r, pvalue))\n",
    "r, pvalue = spearmanr(book_buyers_pct_changes, census_books_emp_pct_change_20192020.loc[sample_states])\n",
    "print('Spearman r=%0.4f (p-value=%0.4f)' % (r, pvalue))"
   ]
  },
  {
   "cell_type": "code",
   "execution_count": null,
   "id": "790d06dd",
   "metadata": {},
   "outputs": [],
   "source": [
    "print('Comparing to 2018-2019 census data: Establishments')\n",
    "r, pvalue = pearsonr(book_buyers_pct_changes, census_books_est_pct_change_20182019.loc[sample_states])\n",
    "print('Pearson r=%0.4f (p-value=%0.4f)' % (r, pvalue))\n",
    "r, pvalue = spearmanr(book_buyers_pct_changes, census_books_est_pct_change_20182019.loc[sample_states])\n",
    "print('Spearman r=%0.4f (p-value=%0.4f)' % (r, pvalue))\n",
    "\n",
    "print('\\nComparing to 2019-2020 census data')\n",
    "r, pvalue = pearsonr(book_buyers_pct_changes, census_books_est_pct_change_20192020.loc[sample_states])\n",
    "print('Pearson r=%0.4f (p-value=%0.4f)' % (r, pvalue))\n",
    "r, pvalue = spearmanr(book_buyers_pct_changes, census_books_est_pct_change_20192020.loc[sample_states])\n",
    "print('Spearman r=%0.4f (p-value=%0.4f)' % (r, pvalue))"
   ]
  },
  {
   "cell_type": "code",
   "execution_count": null,
   "id": "8fb0cc14",
   "metadata": {},
   "outputs": [],
   "source": [
    "# N=2000\n",
    "N_subsamples = 1000\n",
    "state_pct_changes = [] # compute the mean over N_subsamples\n",
    "for i in range(N_subsamples):\n",
    "    v = (i%500==0)\n",
    "    if v:\n",
    "        print('%s/%s' % (i+1, N_subsamples))\n",
    "    sampled_book_purchases = get_random_sample(frame=book_purchases, N=2000)\n",
    "    state_pct_changes += [get_pct_change_buyers(sampled_book_purchases, verbose=v)]\n",
    "book_buyers_pct_changes = pd.DataFrame(state_pct_changes).mean()"
   ]
  },
  {
   "cell_type": "markdown",
   "id": "997ae8ee",
   "metadata": {},
   "source": [
    "Compare to census 2018-2019 employment data specific to enterprise size (smaller businesses)"
   ]
  },
  {
   "cell_type": "code",
   "execution_count": 45,
   "id": "a5bf18b9",
   "metadata": {},
   "outputs": [
    {
     "name": "stdout",
     "output_type": "stream",
     "text": [
      "Comparing to 2018-2019 census data: Employment: Enterprise size <500 employees\n",
      "Pearson r=-0.2375 (p-value=0.1162)\n"
     ]
    }
   ],
   "source": [
    "print('Comparing to 2018-2019 census data: Employment: Enterprise size <500 employees')\n",
    "r, pvalue = pearsonr(book_buyers_pct_changes, census_books_lt_500_emp_pct_change_20182019.loc[sample_states])\n",
    "print('Pearson r=%0.4f (p-value=%0.4f)' % (r, pvalue))"
   ]
  },
  {
   "cell_type": "code",
   "execution_count": 48,
   "id": "034bd575",
   "metadata": {
    "scrolled": true
   },
   "outputs": [
    {
     "name": "stdout",
     "output_type": "stream",
     "text": [
      "Comparing to 2018-2019 census data: Employment: Enterprise size <20 employees\n",
      "Pearson r=-0.0937 (p-value=0.5404)\n"
     ]
    }
   ],
   "source": [
    "print('Comparing to 2018-2019 census data: Employment: Enterprise size <20 employees')\n",
    "r, pvalue = pearsonr(book_buyers_pct_changes, census_books_lt_20_emp_pct_change_20182019.loc[sample_states])\n",
    "print('Pearson r=%0.4f (p-value=%0.4f)' % (r, pvalue))"
   ]
  },
  {
   "cell_type": "code",
   "execution_count": null,
   "id": "5f94924d",
   "metadata": {},
   "outputs": [],
   "source": [
    "print('Comparing to 2018-2019 census data: Employment')\n",
    "r, pvalue = pearsonr(book_buyers_pct_changes, census_books_emp_pct_change_20182019.loc[sample_states])\n",
    "print('Pearson r=%0.4f (p-value=%0.4f)' % (r, pvalue))\n",
    "r, pvalue = spearmanr(book_buyers_pct_changes, census_books_emp_pct_change_20182019.loc[sample_states])\n",
    "print('Spearman r=%0.4f (p-value=%0.4f)' % (r, pvalue))"
   ]
  },
  {
   "cell_type": "markdown",
   "id": "93e2cfb9",
   "metadata": {},
   "source": [
    "Using stratification"
   ]
  },
  {
   "cell_type": "code",
   "execution_count": null,
   "id": "3b568609",
   "metadata": {},
   "outputs": [],
   "source": [
    "N_subsamples = 1000\n",
    "state_pct_changes = [] # compute the mean over N_subsamples\n",
    "for i in range(N_subsamples):\n",
    "    v = (i%500==0)\n",
    "    if v:\n",
    "        print('%s/%s' % (i+1, N_subsamples))\n",
    "    sampled_book_purchases = get_random_stratified_sample(frame=book_purchases)\n",
    "    state_pct_changes += [get_pct_change_buyers(sampled_book_purchases, verbose=v)]\n",
    "book_buyers_pct_changes = pd.DataFrame(state_pct_changes).mean()"
   ]
  },
  {
   "cell_type": "code",
   "execution_count": null,
   "id": "a049ab13",
   "metadata": {
    "scrolled": true
   },
   "outputs": [],
   "source": [
    "print('Comparing to 2018-2019 census data: Employment')\n",
    "r, pvalue = pearsonr(book_buyers_pct_changes, census_books_emp_pct_change_20182019.loc[sample_states])\n",
    "print('Pearson r=%0.4f (p-value=%0.4f)' % (r, pvalue))\n",
    "r, pvalue = spearmanr(book_buyers_pct_changes, census_books_emp_pct_change_20182019.loc[sample_states])\n",
    "print('Spearman r=%0.4f (p-value=%0.4f)' % (r, pvalue))"
   ]
  },
  {
   "cell_type": "markdown",
   "id": "021a1db6",
   "metadata": {},
   "source": [
    "Total purchases (vs distinct buyers)"
   ]
  },
  {
   "cell_type": "code",
   "execution_count": null,
   "id": "203e4928",
   "metadata": {},
   "outputs": [],
   "source": [
    "N_subsamples = 1000\n",
    "state_pct_changes = [] # compute the mean over N_subsamples\n",
    "for i in range(N_subsamples):\n",
    "    v = (i%500==0)\n",
    "    if v:\n",
    "        print('%s/%s' % (i+1, N_subsamples))\n",
    "    sampled_book_purchases = get_random_stratified_sample(frame=book_purchases)\n",
    "    state_pct_changes += [get_pct_change_purchases(sampled_book_purchases, verbose=v)]\n",
    "book_purchases_pct_changes = pd.DataFrame(state_pct_changes).mean()"
   ]
  },
  {
   "cell_type": "code",
   "execution_count": null,
   "id": "5ee8dadc",
   "metadata": {},
   "outputs": [],
   "source": [
    "print('Comparing to 2018-2019 census data: Employment')\n",
    "r, pvalue = pearsonr(book_purchases_pct_changes, census_books_emp_pct_change_20182019.loc[sample_states])\n",
    "print('Pearson r=%0.4f (p-value=%0.4f)' % (r, pvalue))\n",
    "r, pvalue = spearmanr(book_purchases_pct_changes, census_books_emp_pct_change_20182019.loc[sample_states])\n",
    "print('Spearman r=%0.4f (p-value=%0.4f)' % (r, pvalue))\n",
    "\n",
    "print('\\nComparing to 2019-2020 census data')\n",
    "r, pvalue = pearsonr(book_purchases_pct_changes, census_books_emp_pct_change_20192020.loc[sample_states])\n",
    "print('Pearson r=%0.4f (p-value=%0.4f)' % (r, pvalue))\n",
    "r, pvalue = spearmanr(book_purchases_pct_changes, census_books_emp_pct_change_20192020.loc[sample_states])\n",
    "print('Spearman r=%0.4f (p-value=%0.4f)' % (r, pvalue))"
   ]
  },
  {
   "cell_type": "code",
   "execution_count": null,
   "id": "74f0f569",
   "metadata": {},
   "outputs": [],
   "source": [
    "N_subsamples = 1000\n",
    "state_pct_changes = [] # compute the mean over N_subsamples\n",
    "for i in range(N_subsamples):\n",
    "    v = (i%250==0)\n",
    "    if v:\n",
    "        print('%s/%s' % (i+1, N_subsamples))\n",
    "    sampled_book_purchases = get_random_sample(frame=book_purchases)\n",
    "    state_pct_changes += [get_pct_change_purchases(sampled_book_purchases, verbose=v)]\n",
    "book_purchases_pct_changes = pd.DataFrame(state_pct_changes).mean()"
   ]
  },
  {
   "cell_type": "code",
   "execution_count": null,
   "id": "6bfcce8a",
   "metadata": {},
   "outputs": [],
   "source": [
    "print('Comparing to 2018-2019 census data: Employment')\n",
    "r, pvalue = pearsonr(book_purchases_pct_changes, census_books_emp_pct_change_20182019.loc[sample_states])\n",
    "print('Pearson r=%0.4f (p-value=%0.4f)' % (r, pvalue))\n",
    "r, pvalue = spearmanr(book_purchases_pct_changes, census_books_emp_pct_change_20182019.loc[sample_states])\n",
    "print('Spearman r=%0.4f (p-value=%0.4f)' % (r, pvalue))\n",
    "\n",
    "print('\\nComparing to 2019-2020 census data')\n",
    "r, pvalue = pearsonr(book_purchases_pct_changes, census_books_emp_pct_change_20192020.loc[sample_states])\n",
    "print('Pearson r=%0.4f (p-value=%0.4f)' % (r, pvalue))\n",
    "r, pvalue = spearmanr(book_purchases_pct_changes, census_books_emp_pct_change_20192020.loc[sample_states])\n",
    "print('Spearman r=%0.4f (p-value=%0.4f)' % (r, pvalue))"
   ]
  },
  {
   "cell_type": "code",
   "execution_count": null,
   "id": "83f4af78",
   "metadata": {},
   "outputs": [],
   "source": [
    "print('Comparing to 2018-2019 census data: Establishments')\n",
    "r, pvalue = pearsonr(book_purchases_pct_changes, census_books_est_pct_change_20182019.loc[sample_states])\n",
    "print('Pearson r=%0.4f (p-value=%0.4f)' % (r, pvalue))\n",
    "r, pvalue = spearmanr(book_purchases_pct_changes, census_books_est_pct_change_20182019.loc[sample_states])\n",
    "print('Spearman r=%0.4f (p-value=%0.4f)' % (r, pvalue))\n",
    "\n",
    "print('\\nComparing to 2019-2020 census data')\n",
    "r, pvalue = pearsonr(book_purchases_pct_changes, census_books_est_pct_change_20192020.loc[sample_states])\n",
    "print('Pearson r=%0.4f (p-value=%0.4f)' % (r, pvalue))\n",
    "r, pvalue = spearmanr(book_purchases_pct_changes, census_books_est_pct_change_20192020.loc[sample_states])\n",
    "print('Spearman r=%0.4f (p-value=%0.4f)' % (r, pvalue))"
   ]
  },
  {
   "cell_type": "code",
   "execution_count": null,
   "id": "7c62868b",
   "metadata": {},
   "outputs": [],
   "source": [
    "book_purchases_by_state2019 = book_purchases2019.groupby(['state'])['Quantity'].sum()\n",
    "print('2019 Top states for total book purchases')\n",
    "print(book_purchases_by_state2019.sort_values(ascending=False).head())\n",
    "print('\\n2019 Bottom states for total book purchases')\n",
    "print(book_purchases_by_state2019.sort_values().head())\n",
    "book_purchases_by_state2019.describe()"
   ]
  },
  {
   "cell_type": "code",
   "execution_count": null,
   "id": "a5ea63b0",
   "metadata": {},
   "outputs": [],
   "source": [
    "# 2018 book purchases by state\n",
    "book_purchases_by_state2018 = book_purchases2018.groupby(['state'])['Quantity'].sum()\n",
    "print('2018 Top states for total book purchases')\n",
    "print(book_purchases_by_state2018.sort_values(ascending=False).head())\n",
    "print('\\n2018 Bottom states for total book purchases')\n",
    "print(book_purchases_by_state2018.sort_values().head())\n",
    "book_purchases_by_state2018.describe()"
   ]
  },
  {
   "cell_type": "markdown",
   "id": "5494085f",
   "metadata": {},
   "source": [
    "Using metric: Portion of purchasers increasing purchases"
   ]
  },
  {
   "cell_type": "code",
   "execution_count": 251,
   "id": "e3221fb3",
   "metadata": {},
   "outputs": [
    {
     "name": "stdout",
     "output_type": "stream",
     "text": [
      "1/1000\n",
      "201/1000\n",
      "401/1000\n",
      "601/1000\n",
      "801/1000\n"
     ]
    }
   ],
   "source": [
    "N_subsamples = 1000\n",
    "state_changes = [] # compute the mean over N_subsamples\n",
    "for i in range(N_subsamples):\n",
    "    v = (i%200==0)\n",
    "    if v:\n",
    "        print('%s/%s' % (i+1, N_subsamples))\n",
    "    sampled_book_purchases = get_random_sample(frame=book_purchases)\n",
    "    state_changes += [get_portion_increases_by_purchaser(sampled_book_purchases)]\n",
    "book_portion_increases_by_purchaser = pd.DataFrame(state_changes).mean()"
   ]
  },
  {
   "cell_type": "code",
   "execution_count": 252,
   "id": "09bf926b",
   "metadata": {},
   "outputs": [
    {
     "name": "stdout",
     "output_type": "stream",
     "text": [
      "Comparing to 2018-2019 census data: Employment\n",
      "Pearson r=-0.3103 (p-value=0.0380)\n"
     ]
    }
   ],
   "source": [
    "print('Comparing to 2018-2019 census data: Employment')\n",
    "r, pvalue = pearsonr(book_portion_increases_by_purchaser, census_books_emp_pct_change_20182019.loc[sample_states])\n",
    "print('Pearson r=%0.4f (p-value=%0.4f)' % (r, pvalue))"
   ]
  },
  {
   "cell_type": "markdown",
   "id": "603ec986",
   "metadata": {},
   "source": [
    "### Shoes experiments"
   ]
  },
  {
   "cell_type": "markdown",
   "id": "0dda8108",
   "metadata": {},
   "source": [
    "Comparing to number of establishments"
   ]
  },
  {
   "cell_type": "code",
   "execution_count": null,
   "id": "722ba07b",
   "metadata": {},
   "outputs": [],
   "source": [
    "print('Comparing to 2018-2019 census data: Establishments')\n",
    "r, pvalue = pearsonr(shoe_buyers_pct_changes, census_shoes_est_pct_change_20182019.loc[sample_states])\n",
    "print('Pearson r=%0.4f (p-value=%0.4f)' % (r, pvalue))\n",
    "r, pvalue = spearmanr(shoe_buyers_pct_changes, census_books_est_pct_change_20182019.loc[sample_states])\n",
    "print('Spearman r=%0.4f (p-value=%0.4f)' % (r, pvalue))\n",
    "\n",
    "print('\\nComparing to 2019-2020 census data')\n",
    "r, pvalue = pearsonr(shoe_buyers_pct_changes, census_shoes_est_pct_change_20192020.loc[sample_states])\n",
    "print('Pearson r=%0.4f (p-value=%0.4f)' % (r, pvalue))\n",
    "r, pvalue = spearmanr(shoe_buyers_pct_changes, census_shoes_est_pct_change_20192020.loc[sample_states])\n",
    "print('Spearman r=%0.4f (p-value=%0.4f)' % (r, pvalue))"
   ]
  },
  {
   "cell_type": "markdown",
   "id": "acc52231",
   "metadata": {},
   "source": [
    "Compare to census 2018-2019 employment data specific to enterprise size (smaller businesses)"
   ]
  },
  {
   "cell_type": "code",
   "execution_count": 64,
   "id": "8d2400a2",
   "metadata": {},
   "outputs": [
    {
     "name": "stdout",
     "output_type": "stream",
     "text": [
      "Comparing to 2018-2019 census data: Employment: Enterprise size <500 employees\n",
      "Pearson r=-0.1774 (p-value=0.2437)\n"
     ]
    }
   ],
   "source": [
    "print('Comparing to 2018-2019 census data: Employment: Enterprise size <500 employees')\n",
    "r, pvalue = pearsonr(shoe_buyers_pct_changes, census_shoes_lt_500_emp_pct_change_20182019.loc[sample_states])\n",
    "print('Pearson r=%0.4f (p-value=%0.4f)' % (r, pvalue))"
   ]
  },
  {
   "cell_type": "code",
   "execution_count": 65,
   "id": "33cc2d9e",
   "metadata": {},
   "outputs": [
    {
     "name": "stdout",
     "output_type": "stream",
     "text": [
      "Comparing to 2018-2019 census data: Employment: Enterprise size <20 employees\n",
      "Pearson r=0.3099 (p-value=0.0383)\n"
     ]
    }
   ],
   "source": [
    "print('Comparing to 2018-2019 census data: Employment: Enterprise size <20 employees')\n",
    "r, pvalue = pearsonr(shoe_buyers_pct_changes, census_shoes_lt_20_emp_pct_change_20182019.loc[sample_states])\n",
    "print('Pearson r=%0.4f (p-value=%0.4f)' % (r, pvalue))"
   ]
  },
  {
   "cell_type": "markdown",
   "id": "c794fd2c",
   "metadata": {},
   "source": [
    "Use a smaller sample because there are fewer total buyers."
   ]
  },
  {
   "cell_type": "code",
   "execution_count": null,
   "id": "105fb5d8",
   "metadata": {},
   "outputs": [],
   "source": [
    "N_subsamples = 1000\n",
    "state_pct_changes = [] # compute the mean over N_subsamples\n",
    "for i in range(N_subsamples):\n",
    "    v = (i%500==0)\n",
    "    if v:\n",
    "        print('%s/%s' % (i+1, N_subsamples))\n",
    "    sampled_purchases = get_random_sample(frame=shoe_purchases, N=1000)\n",
    "    state_pct_changes += [get_pct_change_buyers(sampled_purchases, verbose=v)]\n",
    "shoe_buyers_pct_changes = pd.DataFrame(state_pct_changes).mean()"
   ]
  },
  {
   "cell_type": "code",
   "execution_count": null,
   "id": "9a0965f1",
   "metadata": {},
   "outputs": [],
   "source": [
    "print('Comparing to 2018-2019 census data: Employment')\n",
    "r, pvalue = pearsonr(shoe_buyers_pct_changes, census_shoes_emp_pct_change_20182019.loc[sample_states])\n",
    "print('Pearson r=%0.4f (p-value=%0.4f)' % (r, pvalue))"
   ]
  },
  {
   "cell_type": "markdown",
   "id": "5646671a",
   "metadata": {},
   "source": [
    "Stratify by state"
   ]
  },
  {
   "cell_type": "code",
   "execution_count": null,
   "id": "e75a727e",
   "metadata": {},
   "outputs": [],
   "source": [
    "N_subsamples = 1000\n",
    "state_pct_changes = [] # compute the mean over N_subsamples\n",
    "for i in range(N_subsamples):\n",
    "    v = (i%500==0)\n",
    "    if v:\n",
    "        print('%s/%s' % (i+1, N_subsamples))\n",
    "    sampled_purchases = get_random_stratified_sample(frame=shoe_purchases)\n",
    "    state_pct_changes += [get_pct_change_buyers(sampled_purchases, verbose=v)]\n",
    "shoe_buyers_pct_changes = pd.DataFrame(state_pct_changes).mean()"
   ]
  },
  {
   "cell_type": "code",
   "execution_count": null,
   "id": "b36820f6",
   "metadata": {},
   "outputs": [],
   "source": [
    "print('Comparing to 2018-2019 census data: Employment')\n",
    "r, pvalue = pearsonr(shoe_buyers_pct_changes, census_shoes_emp_pct_change_20182019.loc[sample_states])\n",
    "print('Pearson r=%0.4f (p-value=%0.4f)' % (r, pvalue))"
   ]
  },
  {
   "cell_type": "markdown",
   "id": "205cfc5b",
   "metadata": {},
   "source": [
    "Purchases"
   ]
  },
  {
   "cell_type": "code",
   "execution_count": null,
   "id": "bef40833",
   "metadata": {},
   "outputs": [],
   "source": [
    "N_subsamples = 1000\n",
    "state_pct_changes = [] # compute the mean over N_subsamples\n",
    "for i in range(N_subsamples):\n",
    "    v = (i%500==0)\n",
    "    if v:\n",
    "        print('%s/%s' % (i+1, N_subsamples))\n",
    "    sampled_purchases = get_random_sample(frame=shoe_purchases)\n",
    "    state_pct_changes += [get_pct_change_purchases(sampled_purchases, verbose=v)]\n",
    "shoe_purchases_pct_changes = pd.DataFrame(state_pct_changes).mean()"
   ]
  },
  {
   "cell_type": "code",
   "execution_count": null,
   "id": "0e57ad74",
   "metadata": {
    "scrolled": true
   },
   "outputs": [],
   "source": [
    "print('Comparing to 2018-2019 census data: Employment')\n",
    "r, pvalue = pearsonr(shoe_purchases_pct_changes, census_shoes_emp_pct_change_20182019.loc[sample_states])\n",
    "print('Pearson r=%0.4f (p-value=%0.4f)' % (r, pvalue))\n",
    "r, pvalue = spearmanr(shoe_purchases_pct_changes, census_shoes_emp_pct_change_20182019.loc[sample_states])\n",
    "print('Spearman r=%0.4f (p-value=%0.4f)' % (r, pvalue))\n",
    "\n",
    "print('\\nComparing to 2019-2020 census data')\n",
    "r, pvalue = pearsonr(shoe_purchases_pct_changes, census_shoes_emp_pct_change_20192020.loc[sample_states])\n",
    "print('Pearson r=%0.4f (p-value=%0.4f)' % (r, pvalue))\n",
    "r, pvalue = spearmanr(shoe_purchases_pct_changes, census_shoes_emp_pct_change_20192020.loc[sample_states])\n",
    "print('Spearman r=%0.4f (p-value=%0.4f)' % (r, pvalue))"
   ]
  },
  {
   "cell_type": "markdown",
   "id": "0ec91fb7",
   "metadata": {},
   "source": [
    "Using metric: Portion of purchasers increasing purchases"
   ]
  },
  {
   "cell_type": "code",
   "execution_count": 269,
   "id": "52c055c7",
   "metadata": {},
   "outputs": [
    {
     "name": "stdout",
     "output_type": "stream",
     "text": [
      "1/1000\n",
      "201/1000\n",
      "401/1000\n",
      "601/1000\n",
      "801/1000\n"
     ]
    }
   ],
   "source": [
    "N_subsamples = 1000\n",
    "state_changes = [] # compute the mean over N_subsamples\n",
    "for i in range(N_subsamples):\n",
    "    v = (i%200==0)\n",
    "    if v:\n",
    "        print('%s/%s' % (i+1, N_subsamples))\n",
    "    sampled_purchases = get_random_sample(frame=shoe_purchases)\n",
    "    state_changes += [get_portion_increases_by_purchaser(sampled_purchases)]\n",
    "shoes_portion_increases_by_purchaser = pd.DataFrame(state_changes).mean()"
   ]
  },
  {
   "cell_type": "code",
   "execution_count": 270,
   "id": "3c3a2ede",
   "metadata": {},
   "outputs": [
    {
     "name": "stdout",
     "output_type": "stream",
     "text": [
      "Comparing to 2018-2019 census data: Employment\n",
      "Pearson r=0.1912 (p-value=0.2084)\n"
     ]
    }
   ],
   "source": [
    "print('Comparing to 2018-2019 census data: Employment')\n",
    "r, pvalue = pearsonr(shoes_portion_increases_by_purchaser, census_shoes_emp_pct_change_20182019.loc[sample_states])\n",
    "print('Pearson r=%0.4f (p-value=%0.4f)' % (r, pvalue))"
   ]
  },
  {
   "cell_type": "markdown",
   "id": "811b2a4d",
   "metadata": {},
   "source": [
    "### Electronics experiments"
   ]
  },
  {
   "cell_type": "markdown",
   "id": "a94f9f27",
   "metadata": {},
   "source": [
    "Total purchases (vs distinct buyers)"
   ]
  },
  {
   "cell_type": "code",
   "execution_count": null,
   "id": "b618564c",
   "metadata": {},
   "outputs": [],
   "source": [
    "# Employment\n",
    "print('Comparing to 2019-2020 census data: Employment')\n",
    "r, pvalue = pearsonr(electronics_buyers_pct_changes, census_electronics_emp_pct_change_20192020.loc[sample_states])\n",
    "print('Pearson r=%0.4f (p-value=%0.4f)' % (r, pvalue))\n",
    "r, pvalue = spearmanr(electronics_buyers_pct_changes, census_electronics_emp_pct_change_20192020.loc[sample_states])\n",
    "print('Spearman r=%0.4f (p-value=%0.4f)' % (r, pvalue))"
   ]
  },
  {
   "cell_type": "code",
   "execution_count": null,
   "id": "db70927a",
   "metadata": {},
   "outputs": [],
   "source": [
    "print('Comparing to 2018-2019 census data: Establishments')\n",
    "r, pvalue = pearsonr(electronics_buyers_pct_changes, census_electronics_est_pct_change_20182019.loc[sample_states])\n",
    "print('Pearson r=%0.4f (p-value=%0.4f)' % (r, pvalue))\n",
    "r, pvalue = spearmanr(electronics_buyers_pct_changes, census_electronics_est_pct_change_20182019.loc[sample_states])\n",
    "print('Spearman r=%0.4f (p-value=%0.4f)' % (r, pvalue))\n",
    "\n",
    "print('\\nComparing to 2019-2020 census data: Establishments')\n",
    "r, pvalue = pearsonr(electronics_buyers_pct_changes, census_electronics_est_pct_change_20192020.loc[sample_states])\n",
    "print('Pearson r=%0.4f (p-value=%0.4f)' % (r, pvalue))\n",
    "r, pvalue = spearmanr(electronics_buyers_pct_changes, census_electronics_est_pct_change_20192020.loc[sample_states])\n",
    "print('Spearman r=%0.4f (p-value=%0.4f)' % (r, pvalue))"
   ]
  },
  {
   "cell_type": "markdown",
   "id": "f2bc3ca1",
   "metadata": {},
   "source": [
    "Using stratification"
   ]
  },
  {
   "cell_type": "code",
   "execution_count": null,
   "id": "4afc3ab5",
   "metadata": {},
   "outputs": [],
   "source": [
    "N_subsamples = 1000\n",
    "state_pct_changes = [] # compute the mean over N_subsamples\n",
    "for i in range(N_subsamples):\n",
    "    v = (i%500==0)\n",
    "    if v:\n",
    "        print('%s/%s' % (i+1, N_subsamples))\n",
    "    sampled_purchases = get_random_stratified_sample(frame=electronics_purchases)\n",
    "    state_pct_changes += [get_pct_change_buyers(sampled_purchases, verbose=v)]\n",
    "electronics_buyers_pct_changes = pd.DataFrame(state_pct_changes).mean()"
   ]
  },
  {
   "cell_type": "code",
   "execution_count": null,
   "id": "6a579871",
   "metadata": {},
   "outputs": [],
   "source": [
    "# Employment\n",
    "print('Comparing to 2018-2019 census data: Employment')\n",
    "r, pvalue = pearsonr(electronics_buyers_pct_changes, census_electronics_emp_pct_change_20182019.loc[sample_states])\n",
    "print('Pearson r=%0.4f (p-value=%0.4f)' % (r, pvalue))\n",
    "print('\\nComparing to 2019-2020 census data: Employment')\n",
    "r, pvalue = pearsonr(electronics_buyers_pct_changes, census_electronics_emp_pct_change_20192020.loc[sample_states])\n",
    "print('Pearson r=%0.4f (p-value=%0.4f)' % (r, pvalue))\n",
    "r, pvalue = spearmanr(electronics_buyers_pct_changes, census_electronics_emp_pct_change_20192020.loc[sample_states])\n",
    "print('Spearman r=%0.4f (p-value=%0.4f)' % (r, pvalue))\n",
    "# Establishments\n",
    "print('\\nComparing to 2018-2019 census data: Establishments')\n",
    "r, pvalue = pearsonr(electronics_buyers_pct_changes, census_electronics_est_pct_change_20182019.loc[sample_states])\n",
    "print('Pearson r=%0.4f (p-value=%0.4f)' % (r, pvalue))\n",
    "r, pvalue = spearmanr(electronics_buyers_pct_changes, census_electronics_est_pct_change_20182019.loc[sample_states])\n",
    "print('Spearman r=%0.4f (p-value=%0.4f)' % (r, pvalue))\n",
    "\n",
    "print('\\nComparing to 2019-2020 census data')\n",
    "r, pvalue = pearsonr(electronics_buyers_pct_changes, census_electronics_est_pct_change_20192020.loc[sample_states])\n",
    "print('Pearson r=%0.4f (p-value=%0.4f)' % (r, pvalue))\n",
    "r, pvalue = spearmanr(electronics_buyers_pct_changes, census_electronics_est_pct_change_20192020.loc[sample_states])\n",
    "print('Spearman r=%0.4f (p-value=%0.4f)' % (r, pvalue))"
   ]
  },
  {
   "cell_type": "code",
   "execution_count": null,
   "id": "2142b2a0",
   "metadata": {},
   "outputs": [],
   "source": [
    "N_subsamples = 1000\n",
    "state_pct_changes = [] # compute the mean over N_subsamples\n",
    "for i in range(N_subsamples):\n",
    "    v = (i%500==0)\n",
    "    if v:\n",
    "        print('%s/%s' % (i+1, N_subsamples))\n",
    "    sampled_purchases = get_random_sample(frame=electronics_purchases)\n",
    "    state_pct_changes += [get_pct_change_purchases(sampled_purchases, verbose=v)]\n",
    "electronics_purchases_pct_changes = pd.DataFrame(state_pct_changes).mean()"
   ]
  }
 ],
 "metadata": {
  "kernelspec": {
   "display_name": "venv-amazon-study",
   "language": "python",
   "name": "venv-amazon-study"
  },
  "language_info": {
   "codemirror_mode": {
    "name": "ipython",
    "version": 3
   },
   "file_extension": ".py",
   "mimetype": "text/x-python",
   "name": "python",
   "nbconvert_exporter": "python",
   "pygments_lexer": "ipython3",
   "version": "3.11.4"
  }
 },
 "nbformat": 4,
 "nbformat_minor": 5
}
