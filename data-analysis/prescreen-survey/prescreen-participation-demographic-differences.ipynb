{
 "cells": [
  {
   "cell_type": "markdown",
   "id": "5f48df17",
   "metadata": {},
   "source": [
    "# Prescreen participation analysis\n",
    "\n",
    "Purpose:\n",
    "1. Capture basic participation statistics.\n",
    "2. Peek at demographic distributions -- note we are not interested in these analyses because they only represent a subset of Prolific survey participants (main study participants came from other platforms)\n",
    "3. Check for participation bias for the main survey.\n",
    "\n",
    "\n",
    "## Prescreen check for bias in main analysis\n",
    "The last question of the prescreen asked participants whether they were interested in the main study, given that it would ask them to log into their Amazon account. Only participants who answered this question were invited to participate in the main study.\n",
    "We know this question presented a potential privacy concern for some participants.\n",
    "\n",
    "Question:\n",
    "Were there demographic differences in the response to this question that may have contributed to non-response bias in the main study?\n",
    "\n",
    "Analysis method:\n",
    "\n",
    "Variable `continue` defined as:\n",
    "- 1 if participant passes the last question correctly, indicating they are interested and eligible in main study\n",
    "- 0 otherwise\n",
    "\n",
    "Logistic regression:\n",
    "continue ~ age + gender + race\n",
    "\n",
    "Note: \n",
    "- This analysis is only possible for participants recruited via Prolific who supplied their demographic information to Prolific\n",
    "- The demographic variables available in this analysis are determined by what Prolific collected\n"
   ]
  },
  {
   "cell_type": "code",
   "execution_count": 1,
   "id": "72e16a8c",
   "metadata": {},
   "outputs": [],
   "source": [
    "from IPython.display import display\n",
    "import matplotlib.pyplot as plt\n",
    "import numpy as np\n",
    "import pandas as pd\n",
    "import statsmodels.formula.api as smf\n",
    "\n",
    "prescreen_fname = \"../../data/prescreen-survey/cleaned.csv\"\n",
    "data_df = pd.read_csv(prescreen_fname)"
   ]
  },
  {
   "cell_type": "code",
   "execution_count": 2,
   "id": "81aaf886",
   "metadata": {},
   "outputs": [
    {
     "data": {
      "text/html": [
       "<div>\n",
       "<style scoped>\n",
       "    .dataframe tbody tr th:only-of-type {\n",
       "        vertical-align: middle;\n",
       "    }\n",
       "\n",
       "    .dataframe tbody tr th {\n",
       "        vertical-align: top;\n",
       "    }\n",
       "\n",
       "    .dataframe thead th {\n",
       "        text-align: right;\n",
       "    }\n",
       "</style>\n",
       "<table border=\"1\" class=\"dataframe\">\n",
       "  <thead>\n",
       "    <tr style=\"text-align: right;\">\n",
       "      <th></th>\n",
       "      <th>PASS_PRESCREEN</th>\n",
       "      <th>FAILED_ATTN_CHECK</th>\n",
       "      <th>RecordedDate</th>\n",
       "      <th>Q-requirements-1</th>\n",
       "      <th>Q-requirements-2</th>\n",
       "      <th>Q-attn-check-1</th>\n",
       "      <th>Q-prolific-mturk</th>\n",
       "      <th>Q-mturk-account</th>\n",
       "      <th>Q-attn-check-2</th>\n",
       "      <th>Duration (in seconds)</th>\n",
       "      <th>...</th>\n",
       "      <th>version</th>\n",
       "      <th>Q-followup-study</th>\n",
       "      <th>connect</th>\n",
       "      <th>Age</th>\n",
       "      <th>Sex</th>\n",
       "      <th>Ethnicity simplified</th>\n",
       "      <th>Country of birth</th>\n",
       "      <th>Nationality</th>\n",
       "      <th>Student status</th>\n",
       "      <th>Employment status</th>\n",
       "    </tr>\n",
       "  </thead>\n",
       "  <tbody>\n",
       "    <tr>\n",
       "      <th>0</th>\n",
       "      <td>NaN</td>\n",
       "      <td>True</td>\n",
       "      <td>2022-11-01 14:49:05</td>\n",
       "      <td>Yes</td>\n",
       "      <td>Yes</td>\n",
       "      <td>Yes</td>\n",
       "      <td>NaN</td>\n",
       "      <td>NaN</td>\n",
       "      <td>NaN</td>\n",
       "      <td>19</td>\n",
       "      <td>...</td>\n",
       "      <td>v1</td>\n",
       "      <td>NaN</td>\n",
       "      <td>NaN</td>\n",
       "      <td>CONSENT_REVOKED</td>\n",
       "      <td>CONSENT_REVOKED</td>\n",
       "      <td>CONSENT_REVOKED</td>\n",
       "      <td>CONSENT_REVOKED</td>\n",
       "      <td>CONSENT_REVOKED</td>\n",
       "      <td>CONSENT_REVOKED</td>\n",
       "      <td>CONSENT_REVOKED</td>\n",
       "    </tr>\n",
       "    <tr>\n",
       "      <th>1</th>\n",
       "      <td>NaN</td>\n",
       "      <td>NaN</td>\n",
       "      <td>2022-11-01 14:50:03</td>\n",
       "      <td>Yes</td>\n",
       "      <td>No</td>\n",
       "      <td>NaN</td>\n",
       "      <td>NaN</td>\n",
       "      <td>NaN</td>\n",
       "      <td>NaN</td>\n",
       "      <td>10</td>\n",
       "      <td>...</td>\n",
       "      <td>v1</td>\n",
       "      <td>NaN</td>\n",
       "      <td>NaN</td>\n",
       "      <td>35</td>\n",
       "      <td>Male</td>\n",
       "      <td>White</td>\n",
       "      <td>United States</td>\n",
       "      <td>United States</td>\n",
       "      <td>Yes</td>\n",
       "      <td>DATA_EXPIRED</td>\n",
       "    </tr>\n",
       "    <tr>\n",
       "      <th>2</th>\n",
       "      <td>True</td>\n",
       "      <td>NaN</td>\n",
       "      <td>2022-11-01 14:51:21</td>\n",
       "      <td>Yes</td>\n",
       "      <td>Yes</td>\n",
       "      <td>No</td>\n",
       "      <td>No</td>\n",
       "      <td>NaN</td>\n",
       "      <td>No</td>\n",
       "      <td>28</td>\n",
       "      <td>...</td>\n",
       "      <td>v1</td>\n",
       "      <td>NaN</td>\n",
       "      <td>NaN</td>\n",
       "      <td>28</td>\n",
       "      <td>Male</td>\n",
       "      <td>Other</td>\n",
       "      <td>United States</td>\n",
       "      <td>United States</td>\n",
       "      <td>No</td>\n",
       "      <td>Full-Time</td>\n",
       "    </tr>\n",
       "    <tr>\n",
       "      <th>3</th>\n",
       "      <td>True</td>\n",
       "      <td>NaN</td>\n",
       "      <td>2022-11-01 14:56:22</td>\n",
       "      <td>Yes</td>\n",
       "      <td>Yes</td>\n",
       "      <td>No</td>\n",
       "      <td>No</td>\n",
       "      <td>NaN</td>\n",
       "      <td>No</td>\n",
       "      <td>40</td>\n",
       "      <td>...</td>\n",
       "      <td>v1</td>\n",
       "      <td>NaN</td>\n",
       "      <td>NaN</td>\n",
       "      <td>27</td>\n",
       "      <td>Male</td>\n",
       "      <td>White</td>\n",
       "      <td>United States</td>\n",
       "      <td>United States</td>\n",
       "      <td>DATA_EXPIRED</td>\n",
       "      <td>DATA_EXPIRED</td>\n",
       "    </tr>\n",
       "    <tr>\n",
       "      <th>4</th>\n",
       "      <td>True</td>\n",
       "      <td>NaN</td>\n",
       "      <td>2022-11-01 14:56:37</td>\n",
       "      <td>Yes</td>\n",
       "      <td>Yes</td>\n",
       "      <td>No</td>\n",
       "      <td>No</td>\n",
       "      <td>NaN</td>\n",
       "      <td>No</td>\n",
       "      <td>31</td>\n",
       "      <td>...</td>\n",
       "      <td>v1</td>\n",
       "      <td>NaN</td>\n",
       "      <td>NaN</td>\n",
       "      <td>35</td>\n",
       "      <td>Male</td>\n",
       "      <td>White</td>\n",
       "      <td>United States</td>\n",
       "      <td>United States</td>\n",
       "      <td>DATA_EXPIRED</td>\n",
       "      <td>DATA_EXPIRED</td>\n",
       "    </tr>\n",
       "  </tbody>\n",
       "</table>\n",
       "<p>5 rows × 21 columns</p>\n",
       "</div>"
      ],
      "text/plain": [
       "  PASS_PRESCREEN FAILED_ATTN_CHECK         RecordedDate Q-requirements-1   \n",
       "0            NaN              True  2022-11-01 14:49:05              Yes  \\\n",
       "1            NaN               NaN  2022-11-01 14:50:03              Yes   \n",
       "2           True               NaN  2022-11-01 14:51:21              Yes   \n",
       "3           True               NaN  2022-11-01 14:56:22              Yes   \n",
       "4           True               NaN  2022-11-01 14:56:37              Yes   \n",
       "\n",
       "  Q-requirements-2 Q-attn-check-1 Q-prolific-mturk Q-mturk-account   \n",
       "0              Yes            Yes              NaN             NaN  \\\n",
       "1               No            NaN              NaN             NaN   \n",
       "2              Yes             No               No             NaN   \n",
       "3              Yes             No               No             NaN   \n",
       "4              Yes             No               No             NaN   \n",
       "\n",
       "  Q-attn-check-2  Duration (in seconds)  ... version Q-followup-study connect   \n",
       "0            NaN                     19  ...      v1              NaN     NaN  \\\n",
       "1            NaN                     10  ...      v1              NaN     NaN   \n",
       "2             No                     28  ...      v1              NaN     NaN   \n",
       "3             No                     40  ...      v1              NaN     NaN   \n",
       "4             No                     31  ...      v1              NaN     NaN   \n",
       "\n",
       "               Age              Sex Ethnicity simplified Country of birth   \n",
       "0  CONSENT_REVOKED  CONSENT_REVOKED      CONSENT_REVOKED  CONSENT_REVOKED  \\\n",
       "1               35             Male                White    United States   \n",
       "2               28             Male                Other    United States   \n",
       "3               27             Male                White    United States   \n",
       "4               35             Male                White    United States   \n",
       "\n",
       "       Nationality   Student status Employment status  \n",
       "0  CONSENT_REVOKED  CONSENT_REVOKED   CONSENT_REVOKED  \n",
       "1    United States              Yes      DATA_EXPIRED  \n",
       "2    United States               No         Full-Time  \n",
       "3    United States     DATA_EXPIRED      DATA_EXPIRED  \n",
       "4    United States     DATA_EXPIRED      DATA_EXPIRED  \n",
       "\n",
       "[5 rows x 21 columns]"
      ]
     },
     "execution_count": 2,
     "metadata": {},
     "output_type": "execute_result"
    }
   ],
   "source": [
    "data_df.head()"
   ]
  },
  {
   "cell_type": "markdown",
   "id": "40fb43a5",
   "metadata": {},
   "source": [
    "## Basic participation statistics"
   ]
  },
  {
   "cell_type": "code",
   "execution_count": 3,
   "id": "435f7b31",
   "metadata": {},
   "outputs": [
    {
     "name": "stdout",
     "output_type": "stream",
     "text": [
      "21892 total participants\n",
      "14010 --> 0.640 = 14010/21892 pass prescreen\n"
     ]
    }
   ],
   "source": [
    "N = len(data_df)\n",
    "print('%s total participants' % N)\n",
    "\n",
    "N_pass_prescreen = data_df['PASS_PRESCREEN'].sum()\n",
    "rate_pass_prescreen = N_pass_prescreen/N\n",
    "print('%s --> %0.3f = %s/%s pass prescreen' % (N_pass_prescreen, rate_pass_prescreen, N_pass_prescreen, N))"
   ]
  },
  {
   "cell_type": "code",
   "execution_count": 4,
   "id": "3eee90e3",
   "metadata": {},
   "outputs": [
    {
     "name": "stdout",
     "output_type": "stream",
     "text": [
      "Number of participants by survey version\n"
     ]
    },
    {
     "data": {
      "text/plain": [
       "version\n",
       "v2               17052\n",
       "cloudresearch     4430\n",
       "v1                 410\n",
       "Name: count, dtype: int64"
      ]
     },
     "execution_count": 4,
     "metadata": {},
     "output_type": "execute_result"
    }
   ],
   "source": [
    "print('Number of participants by survey version')\n",
    "data_df['version'].value_counts()"
   ]
  },
  {
   "cell_type": "markdown",
   "id": "56c116a0",
   "metadata": {},
   "source": [
    "Distribution of duration"
   ]
  },
  {
   "cell_type": "code",
   "execution_count": 5,
   "id": "59954b01",
   "metadata": {},
   "outputs": [
    {
     "data": {
      "text/plain": [
       "count    21892.000000\n",
       "mean        94.690389\n",
       "std        640.213671\n",
       "min          5.000000\n",
       "25%         42.000000\n",
       "50%         66.000000\n",
       "75%        101.000000\n",
       "max      71767.000000\n",
       "Name: Duration (in seconds), dtype: float64"
      ]
     },
     "execution_count": 5,
     "metadata": {},
     "output_type": "execute_result"
    }
   ],
   "source": [
    "data_df['Duration (in seconds)'].describe()"
   ]
  },
  {
   "cell_type": "markdown",
   "id": "a0f2bc06",
   "metadata": {},
   "source": [
    "Passing/failing attention check"
   ]
  },
  {
   "cell_type": "code",
   "execution_count": 6,
   "id": "594e62e3",
   "metadata": {},
   "outputs": [
    {
     "name": "stdout",
     "output_type": "stream",
     "text": [
      "Attention check failure rate\n"
     ]
    },
    {
     "data": {
      "text/plain": [
       "0.062"
      ]
     },
     "execution_count": 6,
     "metadata": {},
     "output_type": "execute_result"
    }
   ],
   "source": [
    "print('Attention check failure rate')\n",
    "round(data_df['FAILED_ATTN_CHECK'].sum()/len(data_df['FAILED_ATTN_CHECK']), 3)"
   ]
  },
  {
   "cell_type": "markdown",
   "id": "612b0016",
   "metadata": {},
   "source": [
    "### Pass prescreen and opt out option\n",
    "\n",
    "We ask at the end of the survey:\n",
    "\n",
    "```\n",
    "This is a pre-screen for another study that requires you to sign into your active Amazon account. \n",
    "In order to qualify for the main study, please verify that you can sign into your Amazon account and get to the following page: https://www.amazon.com/b2b/reports \n",
    "\n",
    "Fill in the blank from what you see at the top of that page: “Your Account > Your Orders > ___”\n",
    "```\n",
    "\n",
    "Answers include an option to opt out.\n",
    "\n",
    "Of the participants who make it to this question (not filtered out beforehand):\n",
    "- 0.796 pass and are invited to the main survey\n",
    "- 0.102 opt out\n",
    "\n",
    "We are interested in those who opt out."
   ]
  },
  {
   "cell_type": "code",
   "execution_count": 7,
   "id": "479dc801",
   "metadata": {},
   "outputs": [
    {
     "data": {
      "text/html": [
       "<div>\n",
       "<style scoped>\n",
       "    .dataframe tbody tr th:only-of-type {\n",
       "        vertical-align: middle;\n",
       "    }\n",
       "\n",
       "    .dataframe tbody tr th {\n",
       "        vertical-align: top;\n",
       "    }\n",
       "\n",
       "    .dataframe thead th {\n",
       "        text-align: right;\n",
       "    }\n",
       "</style>\n",
       "<table border=\"1\" class=\"dataframe\">\n",
       "  <thead>\n",
       "    <tr style=\"text-align: right;\">\n",
       "      <th></th>\n",
       "      <th>count</th>\n",
       "      <th>portion</th>\n",
       "    </tr>\n",
       "    <tr>\n",
       "      <th>Q-followup-study</th>\n",
       "      <th></th>\n",
       "      <th></th>\n",
       "    </tr>\n",
       "  </thead>\n",
       "  <tbody>\n",
       "    <tr>\n",
       "      <th>The answer is \"Order History Reports\"</th>\n",
       "      <td>13646</td>\n",
       "      <td>0.796</td>\n",
       "    </tr>\n",
       "    <tr>\n",
       "      <th>I am not interested in participating</th>\n",
       "      <td>1747</td>\n",
       "      <td>0.102</td>\n",
       "    </tr>\n",
       "    <tr>\n",
       "      <th>The answer is \"Your Order History\"</th>\n",
       "      <td>1337</td>\n",
       "      <td>0.078</td>\n",
       "    </tr>\n",
       "    <tr>\n",
       "      <th>I cannot access the page (not eligible for follow up study)</th>\n",
       "      <td>227</td>\n",
       "      <td>0.013</td>\n",
       "    </tr>\n",
       "    <tr>\n",
       "      <th>The answer is \"Your Reports\"</th>\n",
       "      <td>123</td>\n",
       "      <td>0.007</td>\n",
       "    </tr>\n",
       "    <tr>\n",
       "      <th>The answer is \"Your Payments History Reports\"</th>\n",
       "      <td>62</td>\n",
       "      <td>0.004</td>\n",
       "    </tr>\n",
       "  </tbody>\n",
       "</table>\n",
       "</div>"
      ],
      "text/plain": [
       "                                                    count  portion\n",
       "Q-followup-study                                                  \n",
       "The answer is \"Order History Reports\"               13646    0.796\n",
       "I am not interested in participating                 1747    0.102\n",
       "The answer is \"Your Order History\"                   1337    0.078\n",
       "I cannot access the page (not eligible for foll...    227    0.013\n",
       "The answer is \"Your Reports\"                          123    0.007\n",
       "The answer is \"Your Payments History Reports\"          62    0.004"
      ]
     },
     "execution_count": 7,
     "metadata": {},
     "output_type": "execute_result"
    }
   ],
   "source": [
    "(data_df['Q-followup-study'].value_counts().to_frame()\n",
    " .assign(portion=lambda x: round(x['count']/data_df['Q-followup-study'].value_counts().sum(),3)))"
   ]
  },
  {
   "cell_type": "markdown",
   "id": "fd3ea5ce",
   "metadata": {},
   "source": [
    "## Demographics\n",
    "\n",
    "Note demographics are only available for a subset of Prolific participants."
   ]
  },
  {
   "cell_type": "markdown",
   "id": "181d636f",
   "metadata": {},
   "source": [
    "First peek at demographics we are not analyzing rigorously."
   ]
  },
  {
   "cell_type": "code",
   "execution_count": 8,
   "id": "ad1ffec4",
   "metadata": {},
   "outputs": [
    {
     "data": {
      "text/plain": [
       "Country of birth\n",
       "United States      15179\n",
       "CONSENT_REVOKED     1075\n",
       "DATA_EXPIRED         370\n",
       "China                 72\n",
       "Germany               50\n",
       "                   ...  \n",
       "Dominica               1\n",
       "Lithuania              1\n",
       "Cote d'Ivoire          1\n",
       "Morocco                1\n",
       "Qatar                  1\n",
       "Name: count, Length: 110, dtype: int64"
      ]
     },
     "execution_count": 8,
     "metadata": {},
     "output_type": "execute_result"
    }
   ],
   "source": [
    "data_df['Country of birth'].value_counts()"
   ]
  },
  {
   "cell_type": "code",
   "execution_count": 9,
   "id": "00e60dd9",
   "metadata": {},
   "outputs": [
    {
     "data": {
      "text/plain": [
       "Nationality\n",
       "United States      16343\n",
       "CONSENT_REVOKED     1075\n",
       "DATA_EXPIRED           1\n",
       "Name: count, dtype: int64"
      ]
     },
     "execution_count": 9,
     "metadata": {},
     "output_type": "execute_result"
    }
   ],
   "source": [
    "data_df['Nationality'].value_counts()"
   ]
  },
  {
   "cell_type": "code",
   "execution_count": 10,
   "id": "bcf8d4a8",
   "metadata": {},
   "outputs": [
    {
     "data": {
      "text/plain": [
       "Student status\n",
       "No                 9629\n",
       "DATA_EXPIRED       3758\n",
       "Yes                2957\n",
       "CONSENT_REVOKED    1075\n",
       "Name: count, dtype: int64"
      ]
     },
     "execution_count": 10,
     "metadata": {},
     "output_type": "execute_result"
    }
   ],
   "source": [
    "data_df['Student status'].value_counts()"
   ]
  },
  {
   "cell_type": "code",
   "execution_count": 11,
   "id": "264fcf76",
   "metadata": {},
   "outputs": [
    {
     "data": {
      "text/plain": [
       "Employment status\n",
       "DATA_EXPIRED                                                5673\n",
       "Full-Time                                                   5610\n",
       "Part-Time                                                   1933\n",
       "Unemployed (and job seeking)                                1299\n",
       "Not in paid work (e.g. homemaker', 'retired or disabled)    1120\n",
       "CONSENT_REVOKED                                             1075\n",
       "Other                                                        565\n",
       "Due to start a new job within the next month                 144\n",
       "Name: count, dtype: int64"
      ]
     },
     "execution_count": 11,
     "metadata": {},
     "output_type": "execute_result"
    }
   ],
   "source": [
    "data_df['Employment status'].value_counts()"
   ]
  },
  {
   "cell_type": "markdown",
   "id": "79cf20ae",
   "metadata": {},
   "source": [
    "## Analysis for Age, Sex, Race/Ethnicity"
   ]
  },
  {
   "cell_type": "markdown",
   "id": "beba03bc",
   "metadata": {},
   "source": [
    "### Setup with data transformations and explore\n",
    "\n",
    "#### Age:\n",
    "Make numeric or NaN\n",
    "\n",
    "Make any value less than 18 or more than 100 NaN (i.e. will be dropped)\n",
    "\n",
    "Transform to age groups matching main survey:\n",
    "- 18 - 24 years\n",
    "- 25 - 34 years\n",
    "- 35 - 44 years\n",
    "- 45 - 54 years\n",
    "- 55 - 64 years\n",
    "- 65 and older"
   ]
  },
  {
   "cell_type": "code",
   "execution_count": 12,
   "id": "60efea8e",
   "metadata": {},
   "outputs": [
    {
     "data": {
      "text/plain": [
       "Age\n",
       "CONSENT_REVOKED    1075\n",
       "22                  731\n",
       "21                  660\n",
       "24                  638\n",
       "23                  614\n",
       "                   ... \n",
       "1022                  1\n",
       "923                   1\n",
       "2                     1\n",
       "93                    1\n",
       "100                   1\n",
       "Name: count, Length: 79, dtype: int64"
      ]
     },
     "metadata": {},
     "output_type": "display_data"
    }
   ],
   "source": [
    "display(data_df['Age'].value_counts())"
   ]
  },
  {
   "cell_type": "code",
   "execution_count": 13,
   "id": "6447fe6b",
   "metadata": {},
   "outputs": [
    {
     "data": {
      "text/plain": [
       "count    16233.000000\n",
       "mean        35.319103\n",
       "std         12.778203\n",
       "min         18.000000\n",
       "25%         25.000000\n",
       "50%         32.000000\n",
       "75%         42.000000\n",
       "max        100.000000\n",
       "Name: Age, dtype: float64"
      ]
     },
     "execution_count": 13,
     "metadata": {},
     "output_type": "execute_result"
    }
   ],
   "source": [
    "# Transform age:\n",
    "# Make numeric or nan\n",
    "# Make any age less than 18 or more than 100 nan (i.e. will be dropped)\n",
    "data_df['Age'] = pd.to_numeric(data_df['Age'], errors='coerce')\n",
    "data_df['Age'] = data_df['Age'].apply(lambda a: a if (a <= 100 and a >= 18) else np.nan)\n",
    "data_df['Age'].describe()"
   ]
  },
  {
   "cell_type": "code",
   "execution_count": 14,
   "id": "f6dd555e",
   "metadata": {},
   "outputs": [
    {
     "name": "stdout",
     "output_type": "stream",
     "text": [
      "16233 Total participants with an age group\n"
     ]
    },
    {
     "data": {
      "text/html": [
       "<div>\n",
       "<style scoped>\n",
       "    .dataframe tbody tr th:only-of-type {\n",
       "        vertical-align: middle;\n",
       "    }\n",
       "\n",
       "    .dataframe tbody tr th {\n",
       "        vertical-align: top;\n",
       "    }\n",
       "\n",
       "    .dataframe thead th {\n",
       "        text-align: right;\n",
       "    }\n",
       "</style>\n",
       "<table border=\"1\" class=\"dataframe\">\n",
       "  <thead>\n",
       "    <tr style=\"text-align: right;\">\n",
       "      <th></th>\n",
       "      <th>count</th>\n",
       "      <th>portion</th>\n",
       "    </tr>\n",
       "    <tr>\n",
       "      <th>Age</th>\n",
       "      <th></th>\n",
       "      <th></th>\n",
       "    </tr>\n",
       "  </thead>\n",
       "  <tbody>\n",
       "    <tr>\n",
       "      <th>18 - 24 years</th>\n",
       "      <td>3606</td>\n",
       "      <td>0.222</td>\n",
       "    </tr>\n",
       "    <tr>\n",
       "      <th>25 - 34 years</th>\n",
       "      <td>5677</td>\n",
       "      <td>0.350</td>\n",
       "    </tr>\n",
       "    <tr>\n",
       "      <th>35 - 44 years</th>\n",
       "      <td>3439</td>\n",
       "      <td>0.212</td>\n",
       "    </tr>\n",
       "    <tr>\n",
       "      <th>45 - 54 years</th>\n",
       "      <td>1820</td>\n",
       "      <td>0.112</td>\n",
       "    </tr>\n",
       "    <tr>\n",
       "      <th>55 - 64 years</th>\n",
       "      <td>1164</td>\n",
       "      <td>0.072</td>\n",
       "    </tr>\n",
       "    <tr>\n",
       "      <th>65 and older</th>\n",
       "      <td>527</td>\n",
       "      <td>0.032</td>\n",
       "    </tr>\n",
       "  </tbody>\n",
       "</table>\n",
       "</div>"
      ],
      "text/plain": [
       "               count  portion\n",
       "Age                          \n",
       "18 - 24 years   3606    0.222\n",
       "25 - 34 years   5677    0.350\n",
       "35 - 44 years   3439    0.212\n",
       "45 - 54 years   1820    0.112\n",
       "55 - 64 years   1164    0.072\n",
       "65 and older     527    0.032"
      ]
     },
     "execution_count": 14,
     "metadata": {},
     "output_type": "execute_result"
    }
   ],
   "source": [
    "# Transform to age groups that match main survey questions\n",
    "def age_group(age):\n",
    "    if (18 <= age <= 24):\n",
    "        return \"18 - 24 years\"\n",
    "    if (25 <= age <= 34):\n",
    "        return \"25 - 34 years\"\n",
    "    if (35 <= age <= 44):\n",
    "        return \"35 - 44 years\"\n",
    "    if (45 <= age <= 54):\n",
    "        return \"45 - 54 years\"\n",
    "    if (55 <= age <= 64):\n",
    "        return \"55 - 64 years\"\n",
    "    if (65 <= age):\n",
    "        return \"65 and older\"\n",
    "    return np.nan\n",
    "\n",
    "data_df['Age'] = data_df['Age'].apply(age_group)\n",
    "print('%s Total participants with an age group' % data_df['Age'].value_counts().sum())\n",
    "(data_df['Age'].value_counts().sort_index().to_frame()\n",
    " .assign(portion=lambda x: round(x['count']/data_df['Age'].value_counts().sum(),3)))"
   ]
  },
  {
   "cell_type": "markdown",
   "id": "0cc1df42",
   "metadata": {},
   "source": [
    "#### Sex:\n",
    "\n",
    "Limit analysis to the Male/Female binary"
   ]
  },
  {
   "cell_type": "code",
   "execution_count": 15,
   "id": "cf367865",
   "metadata": {},
   "outputs": [
    {
     "data": {
      "text/plain": [
       "Sex\n",
       "Female               8774\n",
       "Male                 7484\n",
       "CONSENT_REVOKED      1075\n",
       "Prefer not to say      63\n",
       "DATA_EXPIRED           23\n",
       "Name: count, dtype: int64"
      ]
     },
     "execution_count": 15,
     "metadata": {},
     "output_type": "execute_result"
    }
   ],
   "source": [
    "data_df['Sex'].value_counts()"
   ]
  },
  {
   "cell_type": "code",
   "execution_count": 16,
   "id": "a1977e7f",
   "metadata": {},
   "outputs": [
    {
     "data": {
      "text/html": [
       "<div>\n",
       "<style scoped>\n",
       "    .dataframe tbody tr th:only-of-type {\n",
       "        vertical-align: middle;\n",
       "    }\n",
       "\n",
       "    .dataframe tbody tr th {\n",
       "        vertical-align: top;\n",
       "    }\n",
       "\n",
       "    .dataframe thead th {\n",
       "        text-align: right;\n",
       "    }\n",
       "</style>\n",
       "<table border=\"1\" class=\"dataframe\">\n",
       "  <thead>\n",
       "    <tr style=\"text-align: right;\">\n",
       "      <th></th>\n",
       "      <th>count</th>\n",
       "      <th>portion</th>\n",
       "    </tr>\n",
       "    <tr>\n",
       "      <th>Sex</th>\n",
       "      <th></th>\n",
       "      <th></th>\n",
       "    </tr>\n",
       "  </thead>\n",
       "  <tbody>\n",
       "    <tr>\n",
       "      <th>Female</th>\n",
       "      <td>8774</td>\n",
       "      <td>0.54</td>\n",
       "    </tr>\n",
       "    <tr>\n",
       "      <th>Male</th>\n",
       "      <td>7484</td>\n",
       "      <td>0.46</td>\n",
       "    </tr>\n",
       "  </tbody>\n",
       "</table>\n",
       "</div>"
      ],
      "text/plain": [
       "        count  portion\n",
       "Sex                   \n",
       "Female   8774     0.54\n",
       "Male     7484     0.46"
      ]
     },
     "execution_count": 16,
     "metadata": {},
     "output_type": "execute_result"
    }
   ],
   "source": [
    "# restrict to Male/Female binary\n",
    "data_df['Sex'] = data_df['Sex'].apply(lambda s: s if s in ['Female', 'Male'] else np.nan)\n",
    "(data_df['Sex'].value_counts().to_frame()\n",
    " .assign(portion=lambda x: round(x['count']/data_df['Sex'].value_counts().sum(),3)))"
   ]
  },
  {
   "cell_type": "markdown",
   "id": "efb21ff3",
   "metadata": {},
   "source": [
    "#### Ethnicity\n",
    "\n",
    "Prolific did not provide a race category, but did provide \"Ethnicity simplified\"\n",
    "\n",
    "Transform:\n",
    "- Drop 'CONSENT_REVOKED' and 'DATA_EXPIRED' answers by setting to np.nan\n",
    "- Collapse 'Other' and 'Mixed' to one category: 'Other or mixed' to better match main survey analysis"
   ]
  },
  {
   "cell_type": "code",
   "execution_count": 17,
   "id": "01c44152",
   "metadata": {},
   "outputs": [
    {
     "data": {
      "text/plain": [
       "Ethnicity simplified\n",
       "White              11726\n",
       "Asian               1355\n",
       "Black               1295\n",
       "Mixed               1130\n",
       "CONSENT_REVOKED     1075\n",
       "Other                648\n",
       "DATA_EXPIRED         190\n",
       "Name: count, dtype: int64"
      ]
     },
     "execution_count": 17,
     "metadata": {},
     "output_type": "execute_result"
    }
   ],
   "source": [
    "data_df['Ethnicity simplified'].value_counts()"
   ]
  },
  {
   "cell_type": "code",
   "execution_count": 18,
   "id": "2e5881ef",
   "metadata": {},
   "outputs": [
    {
     "data": {
      "text/html": [
       "<div>\n",
       "<style scoped>\n",
       "    .dataframe tbody tr th:only-of-type {\n",
       "        vertical-align: middle;\n",
       "    }\n",
       "\n",
       "    .dataframe tbody tr th {\n",
       "        vertical-align: top;\n",
       "    }\n",
       "\n",
       "    .dataframe thead th {\n",
       "        text-align: right;\n",
       "    }\n",
       "</style>\n",
       "<table border=\"1\" class=\"dataframe\">\n",
       "  <thead>\n",
       "    <tr style=\"text-align: right;\">\n",
       "      <th></th>\n",
       "      <th>count</th>\n",
       "      <th>portion</th>\n",
       "    </tr>\n",
       "    <tr>\n",
       "      <th>Race</th>\n",
       "      <th></th>\n",
       "      <th></th>\n",
       "    </tr>\n",
       "  </thead>\n",
       "  <tbody>\n",
       "    <tr>\n",
       "      <th>White</th>\n",
       "      <td>11726</td>\n",
       "      <td>0.726</td>\n",
       "    </tr>\n",
       "    <tr>\n",
       "      <th>Other or mixed</th>\n",
       "      <td>1778</td>\n",
       "      <td>0.110</td>\n",
       "    </tr>\n",
       "    <tr>\n",
       "      <th>Asian</th>\n",
       "      <td>1355</td>\n",
       "      <td>0.084</td>\n",
       "    </tr>\n",
       "    <tr>\n",
       "      <th>Black</th>\n",
       "      <td>1295</td>\n",
       "      <td>0.080</td>\n",
       "    </tr>\n",
       "  </tbody>\n",
       "</table>\n",
       "</div>"
      ],
      "text/plain": [
       "                count  portion\n",
       "Race                          \n",
       "White           11726    0.726\n",
       "Other or mixed   1778    0.110\n",
       "Asian            1355    0.084\n",
       "Black            1295    0.080"
      ]
     },
     "execution_count": 18,
     "metadata": {},
     "output_type": "execute_result"
    }
   ],
   "source": [
    "ethnicity_cats = ['White', 'Asian','Black', 'Mixed','Other']\n",
    "\n",
    "data_df['Ethnicity simplified'] = data_df['Ethnicity simplified'].apply(lambda r: r if r in ethnicity_cats else np.nan)\n",
    "data_df['Race'] = data_df['Ethnicity simplified'].apply(lambda r: 'Other or mixed' if r in ['Mixed','Other'] else r)\n",
    "(data_df['Race'].value_counts().to_frame()\n",
    " .assign(portion=lambda x: round(x['count']/data_df['Race'].value_counts().sum(),3)))"
   ]
  },
  {
   "cell_type": "markdown",
   "id": "f106da6e",
   "metadata": {},
   "source": [
    "### Regression\n",
    "\n",
    "Create dependent variable `opt_out` based on last question\n",
    "\n",
    "- 1 if answered not interested in participating\n",
    "- 0 otherwise\n",
    "\n",
    "Restrict analysis to participants with value for each of the cagetories used in the regression model.\n",
    "\n",
    "```\n",
    "opt_out ~ Age + Sex + Race\n",
    "```\n"
   ]
  },
  {
   "cell_type": "code",
   "execution_count": 30,
   "id": "0c4fd2c7",
   "metadata": {},
   "outputs": [],
   "source": [
    "# displaying / printing helpers\n",
    "def get_predictors_table(model):\n",
    "    return pd.DataFrame({\n",
    "        'B (log odds)': model.params.apply(round, args=([3])),\n",
    "        'Odds Ratio': np.exp(model.params).apply(round, args=([3])), \n",
    "        '95% CI for Odds Ratio': (\n",
    "            np.exp(model.conf_int())\n",
    "            .apply(lambda r: '[%0.3f, %0.3f]'%(r[0], r[1]), axis=1)\n",
    "        ),\n",
    "        'P-value': model.pvalues.apply(round, args=([3]))\n",
    "    }).rename_axis('Predictor')"
   ]
  },
  {
   "cell_type": "code",
   "execution_count": 19,
   "id": "61eadb58",
   "metadata": {},
   "outputs": [
    {
     "name": "stdout",
     "output_type": "stream",
     "text": [
      "1747.0 total opt outs\n"
     ]
    }
   ],
   "source": [
    "def get_opt_out(answer):\n",
    "    \"\"\"\n",
    "    Returns np.nan if not answered -- indicates participant already filtered out\n",
    "    Returns 1 if answer is to opt out; 0 otherwise\n",
    "    \"\"\"\n",
    "    if str(answer) == 'nan':\n",
    "        return np.nan\n",
    "    if answer == 'I am not interested in participating':\n",
    "        return 1\n",
    "    return 0\n",
    "\n",
    "data_df['opt_out'] = data_df['Q-followup-study'].apply(get_opt_out)\n",
    "print('%s total opt outs' % data_df['opt_out'].sum())"
   ]
  },
  {
   "cell_type": "code",
   "execution_count": 21,
   "id": "4d9222ed",
   "metadata": {},
   "outputs": [
    {
     "name": "stdout",
     "output_type": "stream",
     "text": [
      "13154 participants in model\n"
     ]
    },
    {
     "data": {
      "text/html": [
       "<div>\n",
       "<style scoped>\n",
       "    .dataframe tbody tr th:only-of-type {\n",
       "        vertical-align: middle;\n",
       "    }\n",
       "\n",
       "    .dataframe tbody tr th {\n",
       "        vertical-align: top;\n",
       "    }\n",
       "\n",
       "    .dataframe thead th {\n",
       "        text-align: right;\n",
       "    }\n",
       "</style>\n",
       "<table border=\"1\" class=\"dataframe\">\n",
       "  <thead>\n",
       "    <tr style=\"text-align: right;\">\n",
       "      <th></th>\n",
       "      <th>opt_out</th>\n",
       "      <th>Age</th>\n",
       "      <th>Sex</th>\n",
       "      <th>Race</th>\n",
       "    </tr>\n",
       "  </thead>\n",
       "  <tbody>\n",
       "    <tr>\n",
       "      <th>410</th>\n",
       "      <td>1.0</td>\n",
       "      <td>45 - 54 years</td>\n",
       "      <td>Male</td>\n",
       "      <td>White</td>\n",
       "    </tr>\n",
       "    <tr>\n",
       "      <th>411</th>\n",
       "      <td>0.0</td>\n",
       "      <td>25 - 34 years</td>\n",
       "      <td>Female</td>\n",
       "      <td>White</td>\n",
       "    </tr>\n",
       "    <tr>\n",
       "      <th>412</th>\n",
       "      <td>0.0</td>\n",
       "      <td>25 - 34 years</td>\n",
       "      <td>Male</td>\n",
       "      <td>Black</td>\n",
       "    </tr>\n",
       "    <tr>\n",
       "      <th>413</th>\n",
       "      <td>1.0</td>\n",
       "      <td>45 - 54 years</td>\n",
       "      <td>Male</td>\n",
       "      <td>White</td>\n",
       "    </tr>\n",
       "    <tr>\n",
       "      <th>414</th>\n",
       "      <td>0.0</td>\n",
       "      <td>55 - 64 years</td>\n",
       "      <td>Female</td>\n",
       "      <td>White</td>\n",
       "    </tr>\n",
       "  </tbody>\n",
       "</table>\n",
       "</div>"
      ],
      "text/plain": [
       "     opt_out            Age     Sex   Race\n",
       "410      1.0  45 - 54 years    Male  White\n",
       "411      0.0  25 - 34 years  Female  White\n",
       "412      0.0  25 - 34 years    Male  Black\n",
       "413      1.0  45 - 54 years    Male  White\n",
       "414      0.0  55 - 64 years  Female  White"
      ]
     },
     "execution_count": 21,
     "metadata": {},
     "output_type": "execute_result"
    }
   ],
   "source": [
    "model_df = data_df[['opt_out', 'Age', 'Sex', 'Race']].dropna()\n",
    "print('%s participants in model' % len(model_df))\n",
    "model_df.head()"
   ]
  },
  {
   "cell_type": "code",
   "execution_count": 33,
   "id": "5cc4a3cd",
   "metadata": {},
   "outputs": [
    {
     "name": "stdout",
     "output_type": "stream",
     "text": [
      "formula\n",
      "opt_out ~ C(Age, Treatment(reference='35 - 44 years')) + C(Sex, Treatment(reference='Male')) + C(Race, Treatment(reference='White'))\n",
      "Optimization terminated successfully.\n",
      "         Current function value: 0.325505\n",
      "         Iterations 6\n"
     ]
    },
    {
     "data": {
      "text/html": [
       "<table class=\"simpletable\">\n",
       "<tr>\n",
       "        <td>Model:</td>              <td>Logit</td>      <td>Pseudo R-squared:</td>    <td>0.004</td>  \n",
       "</tr>\n",
       "<tr>\n",
       "  <td>Dependent Variable:</td>      <td>opt_out</td>           <td>AIC:</td>         <td>8583.3983</td>\n",
       "</tr>\n",
       "<tr>\n",
       "         <td>Date:</td>        <td>2023-05-30 18:19</td>       <td>BIC:</td>         <td>8658.2431</td>\n",
       "</tr>\n",
       "<tr>\n",
       "   <td>No. Observations:</td>        <td>13154</td>       <td>Log-Likelihood:</td>    <td>-4281.7</td> \n",
       "</tr>\n",
       "<tr>\n",
       "       <td>Df Model:</td>              <td>9</td>            <td>LL-Null:</td>        <td>-4299.4</td> \n",
       "</tr>\n",
       "<tr>\n",
       "     <td>Df Residuals:</td>          <td>13144</td>        <td>LLR p-value:</td>    <td>5.1240e-05</td>\n",
       "</tr>\n",
       "<tr>\n",
       "      <td>Converged:</td>           <td>1.0000</td>           <td>Scale:</td>         <td>1.0000</td>  \n",
       "</tr>\n",
       "<tr>\n",
       "    <td>No. Iterations:</td>        <td>6.0000</td>              <td></td>               <td></td>     \n",
       "</tr>\n",
       "</table>\n",
       "<table class=\"simpletable\">\n",
       "<tr>\n",
       "                                <td></td>                                 <th>Coef.</th>  <th>Std.Err.</th>     <th>z</th>     <th>P>|z|</th> <th>[0.025</th>  <th>0.975]</th> \n",
       "</tr>\n",
       "<tr>\n",
       "  <th>Intercept</th>                                                     <td>-2.1528</td>  <td>0.0686</td>  <td>-31.3805</td> <td>0.0000</td> <td>-2.2872</td> <td>-2.0183</td>\n",
       "</tr>\n",
       "<tr>\n",
       "  <th>C(Age, Treatment(reference='35 - 44 years'))[T.18 - 24 years]</th> <td>-0.1072</td>  <td>0.0954</td>   <td>-1.1234</td> <td>0.2613</td> <td>-0.2941</td> <td>0.0798</td> \n",
       "</tr>\n",
       "<tr>\n",
       "  <th>C(Age, Treatment(reference='35 - 44 years'))[T.25 - 34 years]</th> <td>-0.0736</td>  <td>0.0791</td>   <td>-0.9306</td> <td>0.3521</td> <td>-0.2287</td> <td>0.0814</td> \n",
       "</tr>\n",
       "<tr>\n",
       "  <th>C(Age, Treatment(reference='35 - 44 years'))[T.45 - 54 years]</th> <td>0.1835</td>   <td>0.1000</td>   <td>1.8356</td>  <td>0.0664</td> <td>-0.0124</td> <td>0.3795</td> \n",
       "</tr>\n",
       "<tr>\n",
       "  <th>C(Age, Treatment(reference='35 - 44 years'))[T.55 - 64 years]</th> <td>0.2334</td>   <td>0.1149</td>   <td>2.0318</td>  <td>0.0422</td> <td>0.0083</td>  <td>0.4585</td> \n",
       "</tr>\n",
       "<tr>\n",
       "  <th>C(Age, Treatment(reference='35 - 44 years'))[T.65 and older]</th>  <td>0.5391</td>   <td>0.1436</td>   <td>3.7548</td>  <td>0.0002</td> <td>0.2577</td>  <td>0.8205</td> \n",
       "</tr>\n",
       "<tr>\n",
       "  <th>C(Sex, Treatment(reference='Male'))[T.Female]</th>                 <td>-0.0630</td>  <td>0.0587</td>   <td>-1.0746</td> <td>0.2825</td> <td>-0.1780</td> <td>0.0519</td> \n",
       "</tr>\n",
       "<tr>\n",
       "  <th>C(Race, Treatment(reference='White'))[T.Asian]</th>                <td>-0.1414</td>  <td>0.1168</td>   <td>-1.2107</td> <td>0.2260</td> <td>-0.3704</td> <td>0.0875</td> \n",
       "</tr>\n",
       "<tr>\n",
       "  <th>C(Race, Treatment(reference='White'))[T.Black]</th>                <td>-0.0568</td>  <td>0.1155</td>   <td>-0.4917</td> <td>0.6230</td> <td>-0.2832</td> <td>0.1696</td> \n",
       "</tr>\n",
       "<tr>\n",
       "  <th>C(Race, Treatment(reference='White'))[T.Other or mixed]</th>       <td>-0.0796</td>  <td>0.1011</td>   <td>-0.7869</td> <td>0.4313</td> <td>-0.2778</td> <td>0.1186</td> \n",
       "</tr>\n",
       "</table>"
      ],
      "text/plain": [
       "<class 'statsmodels.iolib.summary2.Summary'>\n",
       "\"\"\"\n",
       "                                                Results: Logit\n",
       "==============================================================================================================\n",
       "Model:                             Logit                           Pseudo R-squared:                0.004     \n",
       "Dependent Variable:                opt_out                         AIC:                             8583.3983 \n",
       "Date:                              2023-05-30 18:19                BIC:                             8658.2431 \n",
       "No. Observations:                  13154                           Log-Likelihood:                  -4281.7   \n",
       "Df Model:                          9                               LL-Null:                         -4299.4   \n",
       "Df Residuals:                      13144                           LLR p-value:                     5.1240e-05\n",
       "Converged:                         1.0000                          Scale:                           1.0000    \n",
       "No. Iterations:                    6.0000                                                                     \n",
       "--------------------------------------------------------------------------------------------------------------\n",
       "                                                               Coef.  Std.Err.    z     P>|z|   [0.025  0.975]\n",
       "--------------------------------------------------------------------------------------------------------------\n",
       "Intercept                                                     -2.1528   0.0686 -31.3805 0.0000 -2.2872 -2.0183\n",
       "C(Age, Treatment(reference='35 - 44 years'))[T.18 - 24 years] -0.1072   0.0954  -1.1234 0.2613 -0.2941  0.0798\n",
       "C(Age, Treatment(reference='35 - 44 years'))[T.25 - 34 years] -0.0736   0.0791  -0.9306 0.3521 -0.2287  0.0814\n",
       "C(Age, Treatment(reference='35 - 44 years'))[T.45 - 54 years]  0.1835   0.1000   1.8356 0.0664 -0.0124  0.3795\n",
       "C(Age, Treatment(reference='35 - 44 years'))[T.55 - 64 years]  0.2334   0.1149   2.0318 0.0422  0.0083  0.4585\n",
       "C(Age, Treatment(reference='35 - 44 years'))[T.65 and older]   0.5391   0.1436   3.7548 0.0002  0.2577  0.8205\n",
       "C(Sex, Treatment(reference='Male'))[T.Female]                 -0.0630   0.0587  -1.0746 0.2825 -0.1780  0.0519\n",
       "C(Race, Treatment(reference='White'))[T.Asian]                -0.1414   0.1168  -1.2107 0.2260 -0.3704  0.0875\n",
       "C(Race, Treatment(reference='White'))[T.Black]                -0.0568   0.1155  -0.4917 0.6230 -0.2832  0.1696\n",
       "C(Race, Treatment(reference='White'))[T.Other or mixed]       -0.0796   0.1011  -0.7869 0.4313 -0.2778  0.1186\n",
       "==============================================================================================================\n",
       "\n",
       "\"\"\""
      ]
     },
     "metadata": {},
     "output_type": "display_data"
    },
    {
     "data": {
      "text/html": [
       "<div>\n",
       "<style scoped>\n",
       "    .dataframe tbody tr th:only-of-type {\n",
       "        vertical-align: middle;\n",
       "    }\n",
       "\n",
       "    .dataframe tbody tr th {\n",
       "        vertical-align: top;\n",
       "    }\n",
       "\n",
       "    .dataframe thead th {\n",
       "        text-align: right;\n",
       "    }\n",
       "</style>\n",
       "<table border=\"1\" class=\"dataframe\">\n",
       "  <thead>\n",
       "    <tr style=\"text-align: right;\">\n",
       "      <th></th>\n",
       "      <th>B (log odds)</th>\n",
       "      <th>Odds Ratio</th>\n",
       "      <th>95% CI for Odds Ratio</th>\n",
       "      <th>P-value</th>\n",
       "    </tr>\n",
       "    <tr>\n",
       "      <th>Predictor</th>\n",
       "      <th></th>\n",
       "      <th></th>\n",
       "      <th></th>\n",
       "      <th></th>\n",
       "    </tr>\n",
       "  </thead>\n",
       "  <tbody>\n",
       "    <tr>\n",
       "      <th>Intercept</th>\n",
       "      <td>-2.153</td>\n",
       "      <td>0.116</td>\n",
       "      <td>[0.102, 0.133]</td>\n",
       "      <td>0.000</td>\n",
       "    </tr>\n",
       "    <tr>\n",
       "      <th>C(Age, Treatment(reference='35 - 44 years'))[T.18 - 24 years]</th>\n",
       "      <td>-0.107</td>\n",
       "      <td>0.898</td>\n",
       "      <td>[0.745, 1.083]</td>\n",
       "      <td>0.261</td>\n",
       "    </tr>\n",
       "    <tr>\n",
       "      <th>C(Age, Treatment(reference='35 - 44 years'))[T.25 - 34 years]</th>\n",
       "      <td>-0.074</td>\n",
       "      <td>0.929</td>\n",
       "      <td>[0.796, 1.085]</td>\n",
       "      <td>0.352</td>\n",
       "    </tr>\n",
       "    <tr>\n",
       "      <th>C(Age, Treatment(reference='35 - 44 years'))[T.45 - 54 years]</th>\n",
       "      <td>0.184</td>\n",
       "      <td>1.201</td>\n",
       "      <td>[0.988, 1.462]</td>\n",
       "      <td>0.066</td>\n",
       "    </tr>\n",
       "    <tr>\n",
       "      <th>C(Age, Treatment(reference='35 - 44 years'))[T.55 - 64 years]</th>\n",
       "      <td>0.233</td>\n",
       "      <td>1.263</td>\n",
       "      <td>[1.008, 1.582]</td>\n",
       "      <td>0.042</td>\n",
       "    </tr>\n",
       "    <tr>\n",
       "      <th>C(Age, Treatment(reference='35 - 44 years'))[T.65 and older]</th>\n",
       "      <td>0.539</td>\n",
       "      <td>1.714</td>\n",
       "      <td>[1.294, 2.272]</td>\n",
       "      <td>0.000</td>\n",
       "    </tr>\n",
       "    <tr>\n",
       "      <th>C(Sex, Treatment(reference='Male'))[T.Female]</th>\n",
       "      <td>-0.063</td>\n",
       "      <td>0.939</td>\n",
       "      <td>[0.837, 1.053]</td>\n",
       "      <td>0.283</td>\n",
       "    </tr>\n",
       "    <tr>\n",
       "      <th>C(Race, Treatment(reference='White'))[T.Asian]</th>\n",
       "      <td>-0.141</td>\n",
       "      <td>0.868</td>\n",
       "      <td>[0.690, 1.091]</td>\n",
       "      <td>0.226</td>\n",
       "    </tr>\n",
       "    <tr>\n",
       "      <th>C(Race, Treatment(reference='White'))[T.Black]</th>\n",
       "      <td>-0.057</td>\n",
       "      <td>0.945</td>\n",
       "      <td>[0.753, 1.185]</td>\n",
       "      <td>0.623</td>\n",
       "    </tr>\n",
       "    <tr>\n",
       "      <th>C(Race, Treatment(reference='White'))[T.Other or mixed]</th>\n",
       "      <td>-0.080</td>\n",
       "      <td>0.924</td>\n",
       "      <td>[0.757, 1.126]</td>\n",
       "      <td>0.431</td>\n",
       "    </tr>\n",
       "  </tbody>\n",
       "</table>\n",
       "</div>"
      ],
      "text/plain": [
       "                                                    B (log odds)  Odds Ratio   \n",
       "Predictor                                                                      \n",
       "Intercept                                                 -2.153       0.116  \\\n",
       "C(Age, Treatment(reference='35 - 44 years'))[T....        -0.107       0.898   \n",
       "C(Age, Treatment(reference='35 - 44 years'))[T....        -0.074       0.929   \n",
       "C(Age, Treatment(reference='35 - 44 years'))[T....         0.184       1.201   \n",
       "C(Age, Treatment(reference='35 - 44 years'))[T....         0.233       1.263   \n",
       "C(Age, Treatment(reference='35 - 44 years'))[T....         0.539       1.714   \n",
       "C(Sex, Treatment(reference='Male'))[T.Female]             -0.063       0.939   \n",
       "C(Race, Treatment(reference='White'))[T.Asian]            -0.141       0.868   \n",
       "C(Race, Treatment(reference='White'))[T.Black]            -0.057       0.945   \n",
       "C(Race, Treatment(reference='White'))[T.Other o...        -0.080       0.924   \n",
       "\n",
       "                                                   95% CI for Odds Ratio   \n",
       "Predictor                                                                  \n",
       "Intercept                                                 [0.102, 0.133]  \\\n",
       "C(Age, Treatment(reference='35 - 44 years'))[T....        [0.745, 1.083]   \n",
       "C(Age, Treatment(reference='35 - 44 years'))[T....        [0.796, 1.085]   \n",
       "C(Age, Treatment(reference='35 - 44 years'))[T....        [0.988, 1.462]   \n",
       "C(Age, Treatment(reference='35 - 44 years'))[T....        [1.008, 1.582]   \n",
       "C(Age, Treatment(reference='35 - 44 years'))[T....        [1.294, 2.272]   \n",
       "C(Sex, Treatment(reference='Male'))[T.Female]             [0.837, 1.053]   \n",
       "C(Race, Treatment(reference='White'))[T.Asian]            [0.690, 1.091]   \n",
       "C(Race, Treatment(reference='White'))[T.Black]            [0.753, 1.185]   \n",
       "C(Race, Treatment(reference='White'))[T.Other o...        [0.757, 1.126]   \n",
       "\n",
       "                                                    P-value  \n",
       "Predictor                                                    \n",
       "Intercept                                             0.000  \n",
       "C(Age, Treatment(reference='35 - 44 years'))[T....    0.261  \n",
       "C(Age, Treatment(reference='35 - 44 years'))[T....    0.352  \n",
       "C(Age, Treatment(reference='35 - 44 years'))[T....    0.066  \n",
       "C(Age, Treatment(reference='35 - 44 years'))[T....    0.042  \n",
       "C(Age, Treatment(reference='35 - 44 years'))[T....    0.000  \n",
       "C(Sex, Treatment(reference='Male'))[T.Female]         0.283  \n",
       "C(Race, Treatment(reference='White'))[T.Asian]        0.226  \n",
       "C(Race, Treatment(reference='White'))[T.Black]        0.623  \n",
       "C(Race, Treatment(reference='White'))[T.Other o...    0.431  "
      ]
     },
     "metadata": {},
     "output_type": "display_data"
    }
   ],
   "source": [
    "formula = \"opt_out ~ C(Age, Treatment(reference='35 - 44 years')) + C(Sex, Treatment(reference='Male')) + C(Race, Treatment(reference='White'))\"\n",
    "print('formula')\n",
    "print(formula)\n",
    "model = smf.logit(formula=formula, data=model_df).fit()\n",
    "display(model.summary2())\n",
    "display(get_predictors_table(model))"
   ]
  }
 ],
 "metadata": {
  "kernelspec": {
   "display_name": "venv-amazon-study",
   "language": "python",
   "name": "venv-amazon-study"
  },
  "language_info": {
   "codemirror_mode": {
    "name": "ipython",
    "version": 3
   },
   "file_extension": ".py",
   "mimetype": "text/x-python",
   "name": "python",
   "nbconvert_exporter": "python",
   "pygments_lexer": "ipython3",
   "version": "3.11.2"
  }
 },
 "nbformat": 4,
 "nbformat_minor": 5
}
